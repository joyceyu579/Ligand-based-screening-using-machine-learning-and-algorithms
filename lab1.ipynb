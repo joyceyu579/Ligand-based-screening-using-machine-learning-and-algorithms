{
 "cells": [
  {
   "cell_type": "markdown",
   "metadata": {},
   "source": [
    "# Lab 1: A Ligand-based Virtual Screening Pipeline"
   ]
  },
  {
   "cell_type": "markdown",
   "metadata": {},
   "source": [
    "Review the lab material and go through the entire notebook. \n",
    "The lab contains 5 exercises for you to solve. The entire lab is worth 2.5% of your final grade and each exercise is worth 0.4% of your final grade. Going through the full notebook is worth 0.5% of your final grade.\n",
    "Any extra credit or bonus exercises are worth an additional 0.4%.\n",
    "\n",
    "Labs are due within 48 hours and can be submitted by email to the course instructor and TA."
   ]
  },
  {
   "cell_type": "markdown",
   "metadata": {},
   "source": [
    "## Motivation of Virtual Screening\n",
    "\n",
    "Virtual screening (VS) is a computational framework to predict and prioritize compounds as drug candidates by simulating their interactions with a target receptor or predicting other properties relevant to drug discovery, thereby reducing the number of compounds that need to be experimentally tested.\n",
    "\n",
    "Virtual screening is much faster and cheaper than experimental screening; we can test a magnitude of $10^9$ to $10^{12}$ compounds per day (equivalent to at least ~3 years of experimental screening per day of virtual screening). \n",
    "\n",
    "Simulation of molecular dynamics or molecular docking are examples of VS approaches based on first principles of physical processes, such as intermolecular force fields, to discern how the compound or ligand might move around in physical space or reorient its structure to bind with the target."
   ]
  },
  {
   "cell_type": "markdown",
   "metadata": {},
   "source": [
    "## Loading a Virtual Screening Library"
   ]
  },
  {
   "cell_type": "markdown",
   "metadata": {},
   "source": [
    "Run the following code blocks to set up the data for the lab. These will take some time to run so read on in the interim!\n",
    "\n",
    "We start by setting up installs according to the `requirements.txt` file and importing required modules."
   ]
  },
  {
   "cell_type": "code",
   "execution_count": 1,
   "metadata": {},
   "outputs": [],
   "source": [
    "!pip install -r requirements.txt --quiet"
   ]
  },
  {
   "cell_type": "code",
   "execution_count": 2,
   "metadata": {},
   "outputs": [],
   "source": [
    "import subprocess\n",
    "import time\n",
    "\n",
    "import numpy as np\n",
    "import pandas as pd\n",
    "\n",
    "from rdkit import Chem\n",
    "from rdkit.Chem import (\n",
    "    AllChem,\n",
    "    Descriptors,\n",
    "    MolFromSmiles,\n",
    "    PandasTools,\n",
    ")\n",
    "\n",
    "import matplotlib as mpl\n",
    "import matplotlib.pyplot as plt\n",
    "import seaborn as sns"
   ]
  },
  {
   "cell_type": "code",
   "execution_count": 3,
   "metadata": {},
   "outputs": [],
   "source": [
    "np.random.seed(42)\n",
    "\n",
    "colors = [\"#A20025\", \"#6C8EBF\"]\n",
    "sns.set_palette(sns.color_palette(colors))"
   ]
  },
  {
   "cell_type": "code",
   "execution_count": 4,
   "metadata": {},
   "outputs": [],
   "source": [
    "from rdkit.Chem import Draw\n",
    "d2d = Draw.MolDraw2DSVG(-1, -1)\n",
    "dopts = d2d.drawOptions()\n",
    "dopts.useBWAtomPalette()\n",
    "dopts.setHighlightColour((.635,.0,.145,.4))\n",
    "dopts.baseFontSize = 1.0\n",
    "dopts.additionalAtomLabelPadding = 0.15\n",
    "dopts.dotsPerAngstrom = 100"
   ]
  },
  {
   "cell_type": "code",
   "execution_count": 5,
   "metadata": {},
   "outputs": [
    {
     "name": "stderr",
     "output_type": "stream",
     "text": [
      "[20:58:09] Warning: ambiguous stereochemistry - linear bond arrangement - at atom 8 ignored\n",
      "[20:58:58] Warning: ambiguous stereochemistry - opposing bonds have opposite wedging - at atom 2 ignored.\n",
      "[20:59:08] Explicit valence for atom # 9 N, 4, is greater than permitted\n",
      "[20:59:08] ERROR: Could not sanitize molecule ending on line 6498564\n",
      "[20:59:08] ERROR: Explicit valence for atom # 9 N, 4, is greater than permitted\n",
      "[20:59:26] Explicit valence for atom # 9 N, 4, is greater than permitted\n",
      "[20:59:26] ERROR: Could not sanitize molecule ending on line 8305274\n",
      "[20:59:26] ERROR: Explicit valence for atom # 9 N, 4, is greater than permitted\n",
      "[20:59:26] Explicit valence for atom # 10 N, 4, is greater than permitted\n",
      "[20:59:26] ERROR: Could not sanitize molecule ending on line 8315499\n",
      "[20:59:26] ERROR: Explicit valence for atom # 10 N, 4, is greater than permitted\n",
      "[20:59:36] Warning: ambiguous stereochemistry - opposing bonds have opposite wedging - at atom 3 ignored.\n",
      "[20:59:36] Warning: ambiguous stereochemistry - opposing bonds have opposite wedging - at atom 2 ignored.\n",
      "[20:59:49] Warning: ambiguous stereochemistry - opposing bonds have opposite wedging - at atom 4 ignored.\n",
      "[20:59:49] Warning: ambiguous stereochemistry - opposing bonds have opposite wedging - at atom 4 ignored.\n",
      "[21:00:56] Warning: ambiguous stereochemistry - opposing bonds have opposite wedging - at atom 5 ignored.\n",
      "[21:00:56] Warning: ambiguous stereochemistry - opposing bonds have opposite wedging - at atom 4 ignored.\n",
      "[21:01:27] Explicit valence for atom # 2 N, 4, is greater than permitted\n",
      "[21:01:27] ERROR: Could not sanitize molecule ending on line 20625298\n",
      "[21:01:27] ERROR: Explicit valence for atom # 2 N, 4, is greater than permitted\n"
     ]
    }
   ],
   "source": [
    "from rdkit.Chem import PandasTools\n",
    "\n",
    "specs = PandasTools.LoadSDF(\n",
    "  \"data/Specs.sdf.gz\", smilesName='smiles', molColName=None\n",
    ")[[\"PUBCHEM_SUBSTANCE_ID\", \"smiles\"]]\n",
    "\n",
    "# Note: This may take some time\n",
    "PandasTools.AddMoleculeColumnToFrame(specs, 'smiles', 'mol')"
   ]
  },
  {
   "cell_type": "code",
   "execution_count": 6,
   "metadata": {},
   "outputs": [
    {
     "data": {
      "text/plain": [
       "(212670, 3)"
      ]
     },
     "execution_count": 6,
     "metadata": {},
     "output_type": "execute_result"
    }
   ],
   "source": [
    "specs.shape"
   ]
  },
  {
   "cell_type": "code",
   "execution_count": 7,
   "metadata": {},
   "outputs": [
    {
     "data": {
      "text/html": [
       "<div>\n",
       "<style scoped>\n",
       "    .dataframe tbody tr th:only-of-type {\n",
       "        vertical-align: middle;\n",
       "    }\n",
       "\n",
       "    .dataframe tbody tr th {\n",
       "        vertical-align: top;\n",
       "    }\n",
       "\n",
       "    .dataframe thead th {\n",
       "        text-align: right;\n",
       "    }\n",
       "</style>\n",
       "<table border=\"1\" class=\"dataframe\">\n",
       "  <thead>\n",
       "    <tr style=\"text-align: right;\">\n",
       "      <th></th>\n",
       "      <th>PUBCHEM_SUBSTANCE_ID</th>\n",
       "      <th>smiles</th>\n",
       "      <th>mol</th>\n",
       "    </tr>\n",
       "  </thead>\n",
       "  <tbody>\n",
       "    <tr>\n",
       "      <th>0</th>\n",
       "      <td>469753576</td>\n",
       "      <td>COc1ccc(N2C(=O)CC2(C(=O)Nc2c(C)cccc2C)c2ccc(C)...</td>\n",
       "      <td style=\"text-align: center;\"><div style=\"width: 200px; height: 200px\" data-content=\"rdkit/molecule\"><img src=\"data:image/png;base64,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\" alt=\"Mol\"/></div></td>\n",
       "    </tr>\n",
       "    <tr>\n",
       "      <th>1</th>\n",
       "      <td>469753575</td>\n",
       "      <td>CCOC(=O)c1ccc(NC2SC(=O)N(Cc3ccc(C(=O)OC)cc3)C2...</td>\n",
       "      <td style=\"text-align: center;\"><div style=\"width: 200px; height: 200px\" data-content=\"rdkit/molecule\"><img src=\"data:image/png;base64,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\" alt=\"Mol\"/></div></td>\n",
       "    </tr>\n",
       "    <tr>\n",
       "      <th>2</th>\n",
       "      <td>469753574</td>\n",
       "      <td>Cc1cc(Br)cc([N+](=O)[O-])c1N</td>\n",
       "      <td style=\"text-align: center;\"><div style=\"width: 200px; height: 200px\" data-content=\"rdkit/molecule\"><img src=\"data:image/png;base64,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\" alt=\"Mol\"/></div></td>\n",
       "    </tr>\n",
       "    <tr>\n",
       "      <th>3</th>\n",
       "      <td>469753573</td>\n",
       "      <td>Oc1ccc(CN2CCN(c3ccccn3)CC2)c2cccnc12</td>\n",
       "      <td style=\"text-align: center;\"><div style=\"width: 200px; height: 200px\" data-content=\"rdkit/molecule\"><img src=\"data:image/png;base64,iVBORw0KGgoAAAANSUhEUgAAAMgAAADICAIAAAAiOjnJAAAABmJLR0QA/wD/AP+gvaeTAAAXfElEQVR4nO2dfVzNZ//AP9+epJKnqDzM82wYWkztRKJGqbthbB7yMKOZWzEmz4ctW9sdy5gNMS3bqG5y0uLuJi09kJPWAz0IN4pRya1DD6fzuf+4+p0l1Omc79XP6vN++cOrvudzXfHu+70+1/W5rq+AiEAQYqP3/90BomVCYhFcILEILpBYBBdILIILJBbBBRKL4AKJRXCBxCK4QGIRXCCxCC6QWAQXSCyCCyQWwQUSi+ACiUVwgcQiuEBiEVwgsQgukFgEF0gsggskFsEFEovgAolFcIHEIrhAYhFcILEILpBYBBdILIILJBbBBRKL4AKJRXCBxCK4QGIRXCCxCC6QWAQXSCyCCyQWwQUSi+ACiUVwgcQiuEBiEVwgsQgukFgEF0gsggskFsEFEovgAolFcIHEIrhAYhFcILEILpBYBBdILIILJBbBBRKL4AKJRXCBxCK4QGIRXCCxCC6QWAQXSCyCCyQWwQUSi+ACidXquXgR1qyBTz+FwkIAgODg2q9fvgxJSVpHJbFaN5cvw4YN4OsL77wDM2eCQgGHD9d+Kz8f5HKtAxuI0z/iL8o//wm+vmBlBVZWMHEiJCRATQ3ExwMAZGeDmZnWgUms1s2jR2BqWvt3ExN4/BhUKrhxAwDg3j1dxKJHYetGIoGYGAAARIiLg5EjwdAQvLzAywvGjtUlMN2xWiuIUF0NkyaBXA7z50NlJcyYAT16QI8etReYmUHHjlqHFxBRnI4Sfy1WrgS5HI4dA3NzHuHpUdgq+eIL2LoVkpMhI4NTC3THan2EhMD8+SAI8MsvMH06p0ZojNXKOHYMPvgAECEoiJ9VQI/C1kVcHLz3HiiV4O8PPj5cmyKxWgtyuXxtQABWVoKPD6xbx709JF545s+fb25ubmVltWjRopCQkKysrKZGyM3N7dKlCwDsXrkSa2p4dLIeNHh/0Tl48OCcOXPq/TdZWVmNGDHC1tbWwcFBIpG0bdu2gQhFRUUSieT69evOzs7R0dFGRkacuwxAWeELTnR09OTJk6urq5ctW+bh4ZGZmZmYmHjmzJl79+6przEwMHj55ZeZYba2toMHD64boaysbOzYsb///vuoUaNOnTplql7A4QyJ9eKSkpLi7OysUCjWrl27ZcuWQ4cOHT9+3M7Ozt7evkuXLufOnTt79qxcLj9//nx1dbX6U9bW1ra2tuxmZmNj4+npmZiYOHjw4N9++61Tp07N1nkS6wUlKyvL0dGxtLR07ty5P/zwgyAIXl5eBw8eZN81MTGxsbFh9rz++uvXr19PTk5OTk5OSUkpLS1VB9HX16+pqendu/fZs2e7d+/enP0nsV5Erl27JpFIbt++7enpGRERYWBgAAA5OTnx8fHMntzc3LrX9+vXz97e3s7O7s033zQzM0tOTpbL5YmJiZmZmSqVKiIiwtPTs7l/hmZIEIgmcffu3YEDBwKAk5PT48ePn3lNcXFxVFTUunXrnJyczJ4sbjE1NR07duz69esRcdGiRQCwcePG5v0JEBF1FUuhUKxfv97Ozi48PPzWrVui9Kk18+DBg9dffx0Ahg0bdv/+fU0+olQqs7KyQkJCFi1aNGjQIEEQAGD48OGIePLkSQAYOnQo514/A53EUqlUbm5udX9drK2t3d3dAwICEhISnvfbRjyPR48ejRkzBgD69+9/584d7YLcvXtXJpNFRkYiYlVVVceOHQGgoKBA1J42jk5iffzxxwBgZGQ0fvz4iRMndujQoa5kxsbGEolkxYoVERERhYWFYvW4paJUKqdOnQoA3bt3v3btmlhhZ86cCQBbt24VK6CGaC+Wv78/syomJkahULAvFhQUhISE+Pj42Nra6unp0c1MQ1Qq1YIFCwCgQ4cO6enpIkYOCwsDgNGjR4sYUxO0FGv37t0AoKend/jwYT8/P1tb2z/++KPeNffv34+JiZFKpRMmTGjfvn29m9nQoUOnTJlSVVWl84/QEvjkk08AwMTE5OzZs+JGfvjwobGxsZ6e3u3bt8WN3DDaiHX06FGWAH/zzTdbt24FAENDw9jY2IY/9cybmbu7u1bdblF8+eWX7N/w119/5RF/0qRJABAcHMwj+PNoslinT59u06YNAGzZsiU0NFRPT08QhB9++KFJQUpLS2fNmgUAgwYNamoHWhiBgYGCIAiCcODAAU5N7N27t/l/h5smVmpqart27QBgyZIlUVFR7L6lxcBQLpffvHmTDfabP2F5ccjIyGCzAzt27ODXyh9//KGvr9+mTZv//ve//FqpRxPEys/Pt7S0BICZM2cmJiay5cwNGzY0tcklS5YwHd977z0A2LZtW1MjtBh27twJAO3atUPEzMzMvXv3cmrIwcEBAMLCwjjFfxpNxbp161bv3r0BwMXFRS6Xs9kRb29vLZpU5ymHDh0CAEdHRy2CtAzKyspMTEwEQcjNzTU1NRUE4ebNmzwaCgwMBIBZs2bxCP5MNBKruLh40KBBAGBnZ5eZmWltbQ0Ab7/9tlKp1KJJdZ5y5coVY2NjfX39u3fvahGnZTBlyhQA2Llz59tvvw0A3333HY9Wrl27BgDt27evrKzkEf9pGhdLoVBIJBIAGDJkSG5u7ssvvwwA48aNq6io0LpVlqfs3bvX1dUVAPbt26d1qL86P/74I3sOHDhwAAAmTJjAqaHXXnsNAE6ePMkpfj0aEauqqmrixIkA0KdPn9zcXBsbGwAYOXKkjsNAdZ7C5sM8PDx0iaYh2dnZubm5zdBQk7h//76RkZGhoWFBQYGBgYGhoWFpaSmPhjZu3AgAixcv5hH8aRoSq6am5t133wWALl26pKens2WsAQMGaL2MpUadp1y5cqV5EpYFCxawHNba2nratGlBQUEJCQkvyPSss7MzAISGhjo5OQHATz/9xKOVtLQ0AOjWrZtKpeIRvx4NiTV69Gj2YL5w4QIbCnTv3v369euiNKzOU9hzNiIiQpSwz+Tzzz8HAH19/Xrl3u3atRs/fvyGDRuio6NLSkr4daBhduzYAQBTp07dvn07AEyfPp1TQ3369AGAlJQUTvHr0pBYbB0mICDg1KlT+vr6nTt3vnTpklgNszxl5syZX331FQDMnj1brMj1CAkJEQSBrT6xCpPdu3d7eXmpK0zU9O3b18vLKygo6MKFCzXNspWFcevWLUEQTExM8vLyBEEwMzPjtJbq7e3NRjKHDx++ceMGjybUNCTWyJEjAWDXrl2IGB4eLq7p6jzl0qVLbPGVR8Jy7Ngx9gTcvn3709+9ffv20aNHV61aNXr06HobXczNzV1cXDZu3BgcHNwMq2zsn1omk7FirOPHj4vehEKhsLGx6VjnABlWFiCVSmNjY0VXuSGxWJ7y1ltvidukmqFDh7I8ZciQIQDQ6GpjU4mLizM2NgaAzz77rNGLq6ur697M6kpmYWHBe3mAlYq8//77n376KQB88MEH4savqqpiCbi1tfWKFStcXV07PnlE0ZAhb9jb4/LlGB6O9eo15XJkA+CiItR8dN2QWCUlJc2Tp6xfv54tE4kY/OLFso4dLQBg6dKlWny8qKjoyJEjK1euZMMy3iu42dnZANC5c+f09HQA6Nq1q3ZzhM9EpVLNnTuXJWE5OTmlpaXffvvtxYsX8/Ly1GUBY8f6AKD6T8+eOH06fv01yuXo4oK+voiIBw7gL79o2mgj0w3jxo1rhjwlNTWVZQZiJSz5+WhpiW+8UejltVDH0VKzreCyOvf4+Hg2U5iQkCBW5GXLlrGH+4ULFxAxKiqK3aVMTU0lEomPj09YWFh+/p2TJ3HTJpw4ETt0+NOwSZPQwwOXLsVz50QVi+Up06ZN0/Fnex4sT0lOTn7ppZcA4Pz587rHLCzE3r0RAJ2dUYdJ3FqabQV31apVALB8+fKVK1cCwIoVK0QJu2nTJgAwMjL617/+xb6SkpLi5eXVv3//uo9CExOTV16pnjMHd+3CtDTMyMB9+3DBAgwORg8PLCnBCRNw/37xxLp58ybXPMXX1xcAVq9evXTpUgBYu3atjgHLynDYMATAUaPw4UNR+lg7MxIeHi5OuOeQlJQEAGwPIPuL7jG/++47Ns/yzM6z6vg1a9Y4OjqOGuVa91FoZobjxuG6dVhcjGz2ev9+dHAQTyxEtLW15ZSnIGJcXJyRkdHixYtPnTrFEn5dquMVCnRwQAAcPBhFnJZqnhXcmpoatgiblpZmZWUFABkZGboEPHLkiL6+viAImhRNKJWYlYUhIbhoEQ4ahIKAAKivjw8f1oqlUqGjo6hiffbZZzzyFIZSqSwrK0PE33//3czMjO0Br1sdr/mKZFUVurrWDjz/8x8xO9lsK7hsnkkqlS5evNjJyencuXNahzp16hSrxwwICNDi43fuYGQksoImNtny+DEePoyaD/waFyszM1P0PKUe165d69atGwD07NnT/MmzVtu2bevg4ODvn3P0KDY8nXTrFvbrh127Io/1wOZZwY2JiQGAYcOG6Rjn/PnzbBerdhnxM/nySwTAuXM1vV6jshnR85S6PL3xt151vCAIHTuWsGe/tTW6u2NAACYkYEUFRkaik1PteU/TpuHt2yjqDpc/2bo1cuTI4z4+OucCDVJZWcmqsubMmRMSEqLdknleXl7Xrl0BYPbs2SIuC+blIQB27ozV1Rpdr5FY4uYpdWl0429JSUlMzOkNG9DZGdu1w7oDTBMT3L4d33oLWQmTq6vovfuTtDQEwG7dkOsC7v79+wVBqDt1aW5u7uzsLJVKZTKZJhujb9682atXLzY/Uq2hAhrzyisIgKdPa3SxRmKJmKfUpbKy0sXFBTTe+FtvgNm+PR46hAcO4KRJeOcOX7EQsU8fBEB+C7gymYytPvn6+n711VeTJ09mQ3g1BgYGNjY2H330UWhoaH5+/tMR7t279+qrrwKAvb19eXm56D1cswYB0MdHo4s1EqumpkaUPKUu1dX4979vA4AePXpoVzHx8CGGhWFICKan48KF3MXy9UUAXL2aS/AzZ86w1adNmzbV/XphYaFMJvPz85NIJGwwrqZ9+/bqm1lZWZlCobC3tweA1157jdNKyblzCIAvvaTRbVvTmveFCxcCwObNm3Xq2v+hUuH8+aivr5wwYWV2drbWcZhYiPjxx+jkJErXnktcHALggAHiR87IyGCPv4ar8BQKRXx8fEBAgKenJ9vVUvdmZmFhAQD9+vXjt2SuUmGPHgiAcnnjF2sqVnR0NADY2NggYk1NjZ2d3YIFC/bt25edna3FCPGTT2oHSTru+718GTMzEREfPEA+xeJ/olSihQUC4OXLYoa9cuUKexpMnjy5SXl3YWFhWFiYj4+PRCIxMjLq1KmTqalpTk4OIt64cYNTDeNHHyEAbt7c+OhNU7EqKirYRMDVq1ezsrLq/rp06NDB1dV18+bNp08XP3jQeKhvvkEANDREsfb9lpTgq6+ihQVymw+pZd48BMDPPxctYGFhIVvUGj9+vC57CMrLy9noKiYmZvbs2YIgcJoZiYsrGjJk4bBhNo1e2YR9hX/7298AwNHRMT8/Pzk5edu2bdOnT++hflkUgLW1EgD79kUvL9y9G7OynnHwc2goCgIKAoq773fgQATAM2fEjPk0x47hsGEo1s6PsrKy4cOHA8Abb7zxUOflJ6lUCgDe3t5ca9vV5yLl5eU1fGUTxFqzZo3aISsrK3WNWF5eXlhY2OrVW+zs0MjoiRmBTp3wxIk/I8hkaGCAAPj119r9XM/Fzw8BcNkykcPW4+pV9PGpHbpu2aJTqEePHrHK7wEDBjx9nooWsHobS0vLCxcuAM/adnY2QmBgYMOXNW2L/dq1az08PNg4UY2hoaGHxwofH/z5Z7xyBS9cwKAg9PKqzc9TU2vvWxUVeOgQtmmDPA4uTE5GAOzVi+88U1oa9u+P7JwKXZJQpVI5efJkXTLiZ9K3b18ASEpK4lrbHh4eDgAODg4NX6blMUb1Ro5jxvysvktZWaG7O0qlGBuLubkokSA7l+D77/HoURSvaP4J1AnLxYtc4jPS0nD9enR1xeJidHXFoiLMzGzyex5UKtX8+fMBwMLCQsQ9BIi4fPlyAFi1apW6ZkTE4Go0PBdJhMNtHz58GB9f7O+P7u7YufMTj0I3N/TwwHfewcLCWrH48eGHCIBSKccm0tJw40Y8fx4XL0ZXV/zHP2orTCQS9PNDmQyLixsPsmLFCgAwMTFJSkoSt3vx8fFstjkuLo49ZMWNr8bd3R0A9uzZ08A14p+anJODBw6gtzcOHYr+/ujhgdnZOHs2d7FOnEAA1HkBtyGYWIi4ZAkOGYJBQdir1xO/SIKAgwahn9/14ODgrKysp4tX1ccgnqg79hQJpVLJXpiTkZHBhiuXRZ0a+fe//81kCg4OBgA3N7cGLuZ+HDer5vHzwxkz+IpVWYmOjtESiVdBwVXRg1dU4JYteOlSbTJbUoJeXrXfun0bZTKUStHZGdu2RQB0dDzGRp/t2rWTSCR+fn4ymay4uHjPnj3qjWii95Dx/vvvA4C/v/+8efMA4HPxpkbYCVaCIMTGxgYGBurp6VlaWjZwfTOJVV6OvXrxFQsRZ8yYARwOclUq8Z13EAAb3ftYWYkpKfj991Hvvvtuz54966Y4rEwDuB37wZDJZAAwcuTIyMhINpEhSlj1CVazZs06c+YM2yo3ceLEBj7CXSz13HpmZv19RaJz+PBhABgzZoyIMVUqXLQIAbB9+yZnBkVFRTKZTCqVOjs7t2nTRk9Pj/emjIqKCnZfycvLE+tcJPUJVpMmTUpLS9PwBKsW9WYKHge5siX9tm2bUDz5TMrLy5vneFl2pveOHTvYqQjffvutLtG0PsGqRYmFiOyFBmJtA9y5s3b1KTpalHjNQWhoKFsjCgkJAQAXFxetQykUijfffBO0OsGqpYm1Z88eEOlcpJ9+qhIE1NPD0FDdgzUf7FwkAwODq1evGhoaar3fWMcTrFqaWGJtA4yKirK2thk48FGzv9JBBFj55I8//jh+/HgAOHjwYFMj6H6CVUsTCxFtbGwMDQ1NTU212OrDSEhIYImPVPoFp05yhZ2ZO2XKFHZA0sqVK5sagc3dm5ubp6amaneCVQsU68iRI4aGhnVTfRMTkzFjxvj5+UVGRja64qsuu9Pu6N4XAfW5SIWFhVq8lofVRxgbG8fFxbGJsc6dOze1HrMFioWIlZWVGRkZ9d60Vqe8589D/eptFSwoKNDx6N4XBLZfzc3N7cqVK0364K5duwBAX18/IiKCbaIxMTFJTExsagdaplj1ePDgQWxsrFQqdXd3r3d8T92DMeRyOUt8nJycdCm7exFgZ+gz1NXxsbGx6tdpPZOoqCg2kbt///4vvviCla7ExMRo0YFW9+rempqarKyspKSklJSU5OTk/Pz8eheMGDHi9OnT7AUcf11UKpW3t3deXl5OTs7du3fVXzcwMBg+fDh7z6+9vT0rsFFTXl4+ZcoUFxcXS0vLefPmCYLw888/s1F8U2l1YtWjuLiYvWX5t99+S0pKGj58+IkTJ9hSbouhqKgoMTGRvfI+NTW1qqpK/S0rK6sRI0awl5ZLJJK2bdsqlcpff/116tSpSqUyKCiIjeK1oLWL1dpQKBSpqanqG3ZxcbH6W4aGhjY2NiqVKj09XalUbtq0iZU7aweJ1ap53s3M09OTLWNrDYlF1FJeXn7+/PnAwEA3N7cPP/yQbcvWGhKL4IJe45cQRNMhsQgukFgEF0gsggskFsEFEovgAolFcIHEIrhAYhFcILEILpBYBBdILIILJBbBBRKL4AKJRXCBxCK4QGIRXCCxCC6QWAQXSCyCCyQWwQUSi+ACiUVwgcQiuEBiEVwgsQgukFgEF0gsggskFsEFEovgAolFcIHEIrhAYhFcILEILpBYBBdILIILJBbBBRKL4AKJRXCBxCK4QGIRXCCxCC6QWAQXSCyCCyQWwQUSi+ACiUVwgcQiuEBiEVwgsQgukFgEF0gsggskFsEFEovgAolFcIHEIrhAYhFcILEILpBYBBdILIILJBbBBRKL4ML/ALlj+ulIXbiPAAAB1XpUWHRyZGtpdFBLTCByZGtpdCAyMDIzLjA5LjIAAHice79v7T0GIOBnQAAJIJYG4gZGDoYMIM3MyMjmoAFisLA5gAWYGZEYUBmGBCDNxMTOoADiw7gIYbAyZnwGoTPYHaB60Mwiwgy4VqhSbgZGBUamDCYm5gRmlgwmFlYGVjYGNnYGdg4GDk4GTi4FLu4MJm6eBB7eDCZevgQ+/gwmTgEGAUEGFqEEIeEMJmGRBBHRDCZRsQQx8QwmccYEQTYGcaEEfq4EERagBWyM4kIszExs7BycAoJsbNw8vHz8XGzCIqJi4kLiWowMDIzwsM1avMyh/p+bA4gTpd3m4OLFAGYnLdZzENIVBbNb0m7br/84xx7ELinjcmB4HLgPxF7OM9n+ypLl+0Hsj+kL95Xsqwaz9x9w3h9k/dQOxG5azHfgroYbWO+iyf4HxANWgvVWLZ52YE52324QW5h16YHF87eB1ey+d/mAbeoDMPtM2JcDk36qgtnGX58e6EnyAJvfJb39wINvvWB2wQWjAyJND8FsG6tV+68vZj0AYh/VzHD4wswBFq8pa3LgNPgNZqsEbHS4VCUEVmN64qKDfu90sPictMMODOy1YDd/7pni8OWMENheMQCfjHsuik4tGAAAAk56VFh0TU9MIHJka2l0IDIwMjMuMDkuMgAAeJx9VduOGjEMfecr8gNE8d15XGBVVdWC1NL+Q9/3/1U7CJKVos4QK5Oc8dg+x+FQ8vp5+fH3s7wuvBwOpbT//Hrv5Q+11g4fJSfl9P7t+7Wc72+n58r59vt6/1WQC1q8E/dX7Nv99vFcgXIrUrEZsxeq0Do6lVbbuOabWM6FK3S0jgVjm4V2OAocVkM3TBxRc9MNjgMH1YCbakwQFXCHk+EPlNhbObaIlLv6BqjDIbB75H2ESq0b7IBWrumIQJA1Z92JTDZID5exb8qqsVyZbe+yJxAjCTdKoFmkBRsgtPw4VWQiHx+PAqn3HRTSKVcLamRAo+bEuxpBknOUCqKuParAqMa2QyY9R62KrVMiTaJObYdMgo5WlUR6Fkc5yrQNVB5IcAWHUTBHE95BNdOXkAdCBB0shd6Cpx3UHjW1iNMG1BTC8Q46eArGsfeG+VJzB9wxCskURfomMuQkBAS7/LENwTfTrpTeuyK3bWckUVKFoUVHpAzcbcsTJk9aRSQpz+ydet8iKQqlUZ2MNPaRbV8m5BGmMmJLR2LEvMvn/Xr50vePk+B0u17mSZA3zoaP46PQ7GvOMds3b5ldCjF09iLEsNlxEMNnW0GMPpsHcqw9AsPA0gqcBnBRPKcBWpTNaYAXBXMakEWp+RgyXAT5+JYtuoNhfJEXZ4J9ERGnwVUsnAZhEQWnQVzI5zRIC8mcBnlhk8ex/VrIwkYAr/DijByIGU0c8TzygJXqldh8fv49xPzwDwG/MpSLLvFyAAABJ3pUWHRTTUlMRVMgcmRraXQgMjAyMy4wOS4yAAB4nB1RuY0DMQxs5UIvoCX4P3C4ua8I5VeBiz9SmTTiPBz9btp7v54PP8/ntaUv+0+u5+Fr85w38c/3ZcAYakuAsDjXW4GKoxYDopqsN0NwBjcggtkTBEGKsQiYnc4EuWiuG1tMy88MaSavm0Cwmv3uRyFj9RmrFAk7YLi6LwTVCGrmzS2bIQ1FKDo1JMAqUsPsDJ7VmEJ08KPWQUVdxsSAzHOyKftxcHDG0kbCOkojAS42lq45qoNQOp0FIjlMj1IwE80G3QydYFFSMUg4xWTt7bg6V5eVOVVIu4XZKJmQ0PSJ4eXDKudWNjAllCFx5mR0MDOvY5U6d0Lvv+g6Nbq9EXHtNI1YiOq6vv9knWKJvKbIUQAAAABJRU5ErkJggg==\" alt=\"Mol\"/></div></td>\n",
       "    </tr>\n",
       "    <tr>\n",
       "      <th>4</th>\n",
       "      <td>469753572</td>\n",
       "      <td>Cc1cccnc1C(N)=O</td>\n",
       "      <td style=\"text-align: center;\"><div style=\"width: 200px; height: 200px\" data-content=\"rdkit/molecule\"><img src=\"data:image/png;base64,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\" alt=\"Mol\"/></div></td>\n",
       "    </tr>\n",
       "    <tr>\n",
       "      <th>...</th>\n",
       "      <td>...</td>\n",
       "      <td>...</td>\n",
       "      <td>...</td>\n",
       "    </tr>\n",
       "    <tr>\n",
       "      <th>212669</th>\n",
       "      <td>16953994</td>\n",
       "      <td>CSC1=C(c2ccc(C)cc2)/C(=N/C(C)(C)C)C1</td>\n",
       "      <td style=\"text-align: center;\"><div style=\"width: 200px; height: 200px\" data-content=\"rdkit/molecule\"><img src=\"data:image/png;base64,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\" alt=\"Mol\"/></div></td>\n",
       "    </tr>\n",
       "    <tr>\n",
       "      <th>212670</th>\n",
       "      <td>16953993</td>\n",
       "      <td>C/N=C1\\CC(SC)=C1c1ccc(C)cc1</td>\n",
       "      <td style=\"text-align: center;\"><div style=\"width: 200px; height: 200px\" data-content=\"rdkit/molecule\"><img src=\"data:image/png;base64,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\" alt=\"Mol\"/></div></td>\n",
       "    </tr>\n",
       "    <tr>\n",
       "      <th>212671</th>\n",
       "      <td>16953992</td>\n",
       "      <td>C/N=C1\\CC(SC)=C1c1ccc(OC)cc1</td>\n",
       "      <td style=\"text-align: center;\"><div style=\"width: 200px; height: 200px\" data-content=\"rdkit/molecule\"><img src=\"data:image/png;base64,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\" alt=\"Mol\"/></div></td>\n",
       "    </tr>\n",
       "    <tr>\n",
       "      <th>212672</th>\n",
       "      <td>16953991</td>\n",
       "      <td>CSC1=C(c2ccccc2)/C(=N/C(C)(C)C)C1</td>\n",
       "      <td style=\"text-align: center;\"><div style=\"width: 200px; height: 200px\" data-content=\"rdkit/molecule\"><img src=\"data:image/png;base64,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\" alt=\"Mol\"/></div></td>\n",
       "    </tr>\n",
       "    <tr>\n",
       "      <th>212673</th>\n",
       "      <td>16953990</td>\n",
       "      <td>CSC1=C(c2ccc(C)s2)/C(=N/C(C)(C)C)C1</td>\n",
       "      <td style=\"text-align: center;\"><div style=\"width: 200px; height: 200px\" data-content=\"rdkit/molecule\"><img src=\"data:image/png;base64,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\" alt=\"Mol\"/></div></td>\n",
       "    </tr>\n",
       "  </tbody>\n",
       "</table>\n",
       "<p>212670 rows × 3 columns</p>\n",
       "</div>"
      ],
      "text/plain": [
       "       PUBCHEM_SUBSTANCE_ID  \\\n",
       "0                 469753576   \n",
       "1                 469753575   \n",
       "2                 469753574   \n",
       "3                 469753573   \n",
       "4                 469753572   \n",
       "...                     ...   \n",
       "212669             16953994   \n",
       "212670             16953993   \n",
       "212671             16953992   \n",
       "212672             16953991   \n",
       "212673             16953990   \n",
       "\n",
       "                                                   smiles  \\\n",
       "0       COc1ccc(N2C(=O)CC2(C(=O)Nc2c(C)cccc2C)c2ccc(C)...   \n",
       "1       CCOC(=O)c1ccc(NC2SC(=O)N(Cc3ccc(C(=O)OC)cc3)C2...   \n",
       "2                            Cc1cc(Br)cc([N+](=O)[O-])c1N   \n",
       "3                    Oc1ccc(CN2CCN(c3ccccn3)CC2)c2cccnc12   \n",
       "4                                         Cc1cccnc1C(N)=O   \n",
       "...                                                   ...   \n",
       "212669               CSC1=C(c2ccc(C)cc2)/C(=N/C(C)(C)C)C1   \n",
       "212670                        C/N=C1\\CC(SC)=C1c1ccc(C)cc1   \n",
       "212671                       C/N=C1\\CC(SC)=C1c1ccc(OC)cc1   \n",
       "212672                  CSC1=C(c2ccccc2)/C(=N/C(C)(C)C)C1   \n",
       "212673                CSC1=C(c2ccc(C)s2)/C(=N/C(C)(C)C)C1   \n",
       "\n",
       "                                                  mol  \n",
       "0       <rdkit.Chem.rdchem.Mol object at 0x34d89fed0>  \n",
       "1       <rdkit.Chem.rdchem.Mol object at 0x34d89ff40>  \n",
       "2       <rdkit.Chem.rdchem.Mol object at 0x34d89fe60>  \n",
       "3       <rdkit.Chem.rdchem.Mol object at 0x34d89fdf0>  \n",
       "4       <rdkit.Chem.rdchem.Mol object at 0x34d89fd80>  \n",
       "...                                               ...  \n",
       "212669  <rdkit.Chem.rdchem.Mol object at 0x333614c10>  \n",
       "212670  <rdkit.Chem.rdchem.Mol object at 0x333614ac0>  \n",
       "212671  <rdkit.Chem.rdchem.Mol object at 0x3336149e0>  \n",
       "212672  <rdkit.Chem.rdchem.Mol object at 0x333614970>  \n",
       "212673  <rdkit.Chem.rdchem.Mol object at 0x333614890>  \n",
       "\n",
       "[212670 rows x 3 columns]"
      ]
     },
     "execution_count": 7,
     "metadata": {},
     "output_type": "execute_result"
    }
   ],
   "source": [
    "specs"
   ]
  },
  {
   "cell_type": "markdown",
   "metadata": {},
   "source": [
    "## Virtual Screening Taxonomy\n",
    "\n",
    "Virtual screening pipelines are often hierarchical, proceeding with a broad, large number of compounds through simpler, less restrictive, and computationally cheaper processes to whittle down the quantity of compounds for more complex processes. The simplest filters include compound filters for drug-likeness and known structural alerts. Since lead optimization results in an increase in molecular complexity, filters that assess lead-likeliness or desired ADMET properties may also be applied to discourage compounds that would necessitate too many changes during lead optimization.\n",
    "\n",
    "After use of chemical compound filters, virtual screening methods are broadly categorized depending on the information we have available about the target and its 3D structure. If we have the target’s 3D structure available, we can perform structure-based methods such as protein-ligand docking. By “3D structures,” we mean that previous experiments (using techniques such as X-ray crystallography or nuclear magnetic resonance spectroscopy) have determined the target’s structure.\n",
    "\n",
    "If a defined target structure is unavailable, either from a database such as PDB or from our own experiments, then we can still take advantage of ligand-based methods. If we have just one active compound, we can perform a similarity search: screen the active compound against a library of other compounds to identify which compounds are like the active compound. Intuitively, compounds with similar structures or properties to a known active compound have a higher chance of being active. If we have several known, active compounds, then we can also conduct a ligand-based pharmacophore search (in addition to a similarity search). In pharmacophore searching, we take our list of active compounds, generate possible configurations of their 3D shape, and try to align these possible configurations to find common structural features shared by the different active compounds. We can score structural features with high commonality and conduct a search for which of our unknown compounds have high-scoring features.\n",
    "\n",
    "If we have many known, active compounds as well as known, inactive compounds, then we can enter the realm of machine learning (ML) methods. In ligand-based machine learning, our goal is to train a model that can identify a correlation between the structural features of the compounds in our dataset and how they relate to the compound’s activity. If our model can discriminate between known active and inactive compounds, we hope it’s performance will generalize to new compounds that weren’t in the training dataset. <mark>Machine learning models for predicting compound activity are sometimes referred to as quantitative structure-activity relationship (QSAR) models (though not all QSAR models are ML models)</mark>. Quantitative structure-property relationship (QSPR) is the more general term that refers to quantifying the relationship between structure and any molecular property.\n",
    "\n",
    "It is also common to use multiple virtual screening methods, one after the other, of increasing complexity. This approach is referred to as <mark>hierarchical virtual screening</mark> . Each step filters out more structures of no further interest, until at the end of the process a series of candidate structures remain. For example, we can use rule-based compound filters to rapidly screen out the most egregious candidates, followed by ligand-based virtual screening as a more nuanced detector of active compounds. Remaining compounds can then be subject to more rigorous and intensive structure-based methods, e.g., protein-ligand docking or molecular dynamics simulations, with one or more targets of interest."
   ]
  },
  {
   "cell_type": "markdown",
   "metadata": {},
   "source": [
    "![UN01](./figures/L01_UN01_Flynn.svg)"
   ]
  },
  {
   "cell_type": "markdown",
   "metadata": {},
   "source": [
    "We've begun discussing data structures and algorithms to represent molecules, which are also handy for comparing molecules to each other (e.g., similarity) and sorting those molecules based on their similarity to a query structure. Assuming we have one active query compound, let's extend our knowledge to screen the query compound against a library of other compounds to identify which compounds are like the query."
   ]
  },
  {
   "cell_type": "markdown",
   "metadata": {},
   "source": [
    "## Scenario: Hit Identification of Antimalarial Compounds"
   ]
  },
  {
   "cell_type": "markdown",
   "metadata": {},
   "source": [
    "We’ll show how to use <mark>ligand-based virtual screening to evaluate compounds for antimalarial potential based on the similarity of their structures to known antimalarial compounds</mark>. Malaria is a life-threatening parasitic disease that affects millions of people worldwide, primarily in tropical and subtropical regions. It is a major global health problem, causing a significant number of deaths, particularly among young children and pregnant women. Developing effective antimalarial drugs can directly contribute to reducing malaria’s global health burden and negative economic impact. \n",
    "Antimalarial drug research often focuses on various protein targets within Plasmodium falciparum, which is the most common vector of malaria. These protein targets are critical to its survival, replication, and invasion of host cells. An ominous threat to controlling malaria is P. falciparum’s ability to adapt and develop resistance to antimalarial drugs. Drugs that were once effective in treating malaria can become ineffective over time, and new therapeutics are repeatedly necessary.\n",
    "\n",
    "We will initiate a virtual screening campaign to identify antimalarial drug candidates, evoking recent successes for inspiration. <mark>We will begin with a sizable quantity of novel molecules and filter out substances that lack drug-like qualities or have detrimental properties, such as toxicity risk. To initiate the screen, we will start with a diverse range of >212K small molecules </mark>made available by PubChem from the <mark>SPECS repository</mark>, casting a wide net over chemical space. A key feature of SPECS is commercial availability – desirable compounds for downstream experiments are synthesizable and conveniently available for purchase. There are many other commercial vendors offering millions of compounds that meet a variety of characteristics and are purchasable, e.g., ChemBridge, eMolecules, Enamine, Life Chemicals, and Maybridge. \n",
    "\n",
    "We will then use a complementary resource, the <mark>Malaria Box compounds, containing 400 known actives against P. falciparum</mark>. To identify promising hit compounds, we will conduct a similarity search to <mark>cross-reference our diverse chemical library against the Malaria Box</mark>. In later chapters, we will consider how to optimize and develop discovered hits into potential antimalarial drugs."
   ]
  },
  {
   "cell_type": "markdown",
   "metadata": {},
   "source": [
    "## Strategy: Similarity Seaching & Sorting"
   ]
  },
  {
   "cell_type": "markdown",
   "metadata": {},
   "source": [
    "Similar compounds have similar properties. If we have at least one compound that has a known activity or property of interest, we can use it as a reference point to search for similar compounds that might produce a similar effect. Naively, we could calculate similarity between the reference compound and each compound in our library, order the library compounds by highest similarity, and retain the most similar compounds for experimental validation. \n",
    "\n",
    "However, there are three key factors that add complexity to our naïve similarity searching strategy.\n",
    "1. Representation: How do we represent molecules as meaningful features to a computer? There are different ways we can represent a molecule in terms of features that describe its properties or structure.\n",
    "2. Similarity Metric: How do we compare similarity between two compounds? There are different metrics that quantify similarity between molecules as a proxy for similar biological function.\n",
    "3. Search Strategy: If there is one reference, we may only care about the most similar molecule(s). But if there are multiple references, how should we prioritize a molecule based on its aggregate similarity to all available reference compounds? What if we want a search strategy that can accommodate new molecules that we might consider later? Furthermore, molecules can be similar in different ways. How do we factor this into our search? Which features are meaningful for similarity comparison?\n",
    "\n",
    "Each factor has multiple available options with advantages or disadvantages, and they are linked together. In general, our similarity metric measures the extent of shared features between molecule pairs. Choice of feature representation affects results of using different similarity metrics and search strategies. As an example, the following figure exemplifies the nuances in structure-property relationships that make similarity searching a challenging task."
   ]
  },
  {
   "cell_type": "markdown",
   "metadata": {},
   "source": [
    "![UN02](./figures/L01_UN02_Flynn.svg)"
   ]
  },
  {
   "cell_type": "markdown",
   "metadata": {},
   "source": [
    "### Structure Data Files (SDFs)"
   ]
  },
  {
   "cell_type": "markdown",
   "metadata": {},
   "source": [
    "We loaded the Specs data set by ingesting it as a <mark>Structure Data File (SDF)</mark> into a Pandas DataFrame. No need to have familiarity with Pandas, it is just a tool we can use to store the molecules in our dataset.\n",
    "\n",
    "SDFs are one way we can store multiple molecular structures (both 2D and 3D) along with associated property information. SDFs are derived from the concept of a <mark>connection table</mark>. The simplest connection table defines enough information to generate a molecule as a graph, where nodes are atoms and edges are bonds. This only requires an atom table and a bond table.\n",
    "\n",
    "An atom table indexes each atom. A bond table designates the two atoms involved in each bond and the type of bond. Bond orders of 1, 2, and 3 correspond to single bonds, double bonds, and triple bonds, respectively. Hydrogens may be implicitly or explicitly defined. The former is not an issue as algorithms exist that can determine the number of hydrogens. Also note that connection tables are not unique – we could derive a different, but equivalent connection table by swapping the indices of two atoms and their bonds.\n",
    "To express meaningful chemical information cohesively and explicitly, SDFs extend connection tables to incorporate 2D or 3D spatial information and information associated with individual atoms or bonds and the entire structure. The most common SDF format is based on the <mark>MOL file format</mark> developed by Molecular Design Limited (MDL), of which the V2000 and V3000 formats are often used.\n",
    "\n",
    "Information for each SDF entry is compartmentalized into blocks. The bottom-half of the following figure shows an example entry for benzoic acid. The header block’s two lines describe the molecule’s name or formula (C7H6O2), the program used to make it (ChemDraw), the date and time it was made (August 15th, 2023), and if 2D or 3D coordinates are given. The count block tells us there are 9 atoms, 9 bonds, no chirality, and that the file format is V2000. The atom block contains X, Y, Z coordinates of each atom and the atom symbol. The additional columns may encode property information, but a separate properties block is usually used instead. The bonds block designates two atoms by their index (first and second columns) and their bond order (third column) and stereochemistry (fourth column)."
   ]
  },
  {
   "cell_type": "markdown",
   "metadata": {},
   "source": [
    "![UN03](./figures/L01_UN03_Flynn.svg)"
   ]
  },
  {
   "cell_type": "markdown",
   "metadata": {},
   "source": [
    "Let's inspect one of the molecules and its type."
   ]
  },
  {
   "cell_type": "code",
   "execution_count": 8,
   "metadata": {},
   "outputs": [
    {
     "data": {
      "image/png": "[encoded data removed]",
      "text/plain": [
       "<rdkit.Chem.rdchem.Mol at 0x3335da1f0>"
      ]
     },
     "execution_count": 8,
     "metadata": {},
     "output_type": "execute_result"
    }
   ],
   "source": [
    "mol = MolFromSmiles(specs.smiles[0])\n",
    "mol"
   ]
  },
  {
   "cell_type": "code",
   "execution_count": 9,
   "metadata": {},
   "outputs": [
    {
     "data": {
      "image/svg+xml": [
       "<svg xmlns=\"http://www.w3.org/2000/svg\" xmlns:rdkit=\"http://www.rdkit.org/xml\" xmlns:xlink=\"http://www.w3.org/1999/xlink\" version=\"1.1\" baseProfile=\"full\" xml:space=\"preserve\" width=\"200px\" height=\"200px\" viewBox=\"0 0 200 200\">\n",
       "<!-- END OF HEADER -->\n",
       "<rect style=\"opacity:1.0;fill:#FFFFFF;stroke:none\" width=\"200.0\" height=\"200.0\" x=\"0.0\" y=\"0.0\"> </rect>\n",
       "<path class=\"bond-0 atom-0 atom-1\" d=\"M 190.0,124.1 L 187.4,112.5\" style=\"fill:none;fill-rule:evenodd;stroke:#000000;stroke-width:2.0px;stroke-linecap:butt;stroke-linejoin:miter;stroke-opacity:1\"/>\n",
       "<path class=\"bond-1 atom-1 atom-2\" d=\"M 179.0,103.1 L 167.3,99.4\" style=\"fill:none;fill-rule:evenodd;stroke:#000000;stroke-width:2.0px;stroke-linecap:butt;stroke-linejoin:miter;stroke-opacity:1\"/>\n",
       "<path class=\"bond-2 atom-2 atom-3\" d=\"M 167.3,99.4 L 153.1,112.5\" style=\"fill:none;fill-rule:evenodd;stroke:#000000;stroke-width:2.0px;stroke-linecap:butt;stroke-linejoin:miter;stroke-opacity:1\"/>\n",
       "<path class=\"bond-2 atom-2 atom-3\" d=\"M 164.1,98.4 L 152.4,109.2\" style=\"fill:none;fill-rule:evenodd;stroke:#000000;stroke-width:2.0px;stroke-linecap:butt;stroke-linejoin:miter;stroke-opacity:1\"/>\n",
       "<path class=\"bond-3 atom-3 atom-4\" d=\"M 153.1,112.5 L 134.7,106.7\" style=\"fill:none;fill-rule:evenodd;stroke:#000000;stroke-width:2.0px;stroke-linecap:butt;stroke-linejoin:miter;stroke-opacity:1\"/>\n",
       "<path class=\"bond-4 atom-4 atom-5\" d=\"M 134.7,106.7 L 130.4,87.9\" style=\"fill:none;fill-rule:evenodd;stroke:#000000;stroke-width:2.0px;stroke-linecap:butt;stroke-linejoin:miter;stroke-opacity:1\"/>\n",
       "<path class=\"bond-4 atom-4 atom-5\" d=\"M 137.1,104.5 L 133.6,88.9\" style=\"fill:none;fill-rule:evenodd;stroke:#000000;stroke-width:2.0px;stroke-linecap:butt;stroke-linejoin:miter;stroke-opacity:1\"/>\n",
       "<path class=\"bond-5 atom-5 atom-6\" d=\"M 130.4,87.9 L 118.0,84.0\" style=\"fill:none;fill-rule:evenodd;stroke:#000000;stroke-width:2.0px;stroke-linecap:butt;stroke-linejoin:miter;stroke-opacity:1\"/>\n",
       "<path class=\"bond-6 atom-6 atom-7\" d=\"M 108.3,74.9 L 103.0,64.9\" style=\"fill:none;fill-rule:evenodd;stroke:#000000;stroke-width:2.0px;stroke-linecap:butt;stroke-linejoin:miter;stroke-opacity:1\"/>\n",
       "<path class=\"bond-7 atom-7 atom-8\" d=\"M 104.0,66.8 L 107.9,54.2\" style=\"fill:none;fill-rule:evenodd;stroke:#000000;stroke-width:2.0px;stroke-linecap:butt;stroke-linejoin:miter;stroke-opacity:1\"/>\n",
       "<path class=\"bond-7 atom-7 atom-8\" d=\"M 101.2,65.9 L 105.1,53.4\" style=\"fill:none;fill-rule:evenodd;stroke:#000000;stroke-width:2.0px;stroke-linecap:butt;stroke-linejoin:miter;stroke-opacity:1\"/>\n",
       "<path class=\"bond-8 atom-7 atom-9\" d=\"M 103.0,64.9 L 85.9,73.9\" style=\"fill:none;fill-rule:evenodd;stroke:#000000;stroke-width:2.0px;stroke-linecap:butt;stroke-linejoin:miter;stroke-opacity:1\"/>\n",
       "<path class=\"bond-9 atom-9 atom-10\" d=\"M 85.9,73.9 L 94.9,91.0\" style=\"fill:none;fill-rule:evenodd;stroke:#000000;stroke-width:2.0px;stroke-linecap:butt;stroke-linejoin:miter;stroke-opacity:1\"/>\n",
       "<path class=\"bond-10 atom-10 atom-11\" d=\"M 94.9,91.0 L 77.7,100.0\" style=\"fill:none;fill-rule:evenodd;stroke:#000000;stroke-width:2.0px;stroke-linecap:butt;stroke-linejoin:miter;stroke-opacity:1\"/>\n",
       "<path class=\"bond-11 atom-11 atom-12\" d=\"M 76.3,99.1 L 75.8,112.0\" style=\"fill:none;fill-rule:evenodd;stroke:#000000;stroke-width:2.0px;stroke-linecap:butt;stroke-linejoin:miter;stroke-opacity:1\"/>\n",
       "<path class=\"bond-11 atom-11 atom-12\" d=\"M 79.2,99.2 L 78.7,112.2\" style=\"fill:none;fill-rule:evenodd;stroke:#000000;stroke-width:2.0px;stroke-linecap:butt;stroke-linejoin:miter;stroke-opacity:1\"/>\n",
       "<path class=\"bond-12 atom-11 atom-13\" d=\"M 77.7,100.0 L 67.4,93.4\" style=\"fill:none;fill-rule:evenodd;stroke:#000000;stroke-width:2.0px;stroke-linecap:butt;stroke-linejoin:miter;stroke-opacity:1\"/>\n",
       "<path class=\"bond-13 atom-13 atom-14\" d=\"M 55.4,92.8 L 44.3,98.6\" style=\"fill:none;fill-rule:evenodd;stroke:#000000;stroke-width:2.0px;stroke-linecap:butt;stroke-linejoin:miter;stroke-opacity:1\"/>\n",
       "<path class=\"bond-14 atom-14 atom-15\" d=\"M 44.3,98.6 L 27.9,88.2\" style=\"fill:none;fill-rule:evenodd;stroke:#000000;stroke-width:2.0px;stroke-linecap:butt;stroke-linejoin:miter;stroke-opacity:1\"/>\n",
       "<path class=\"bond-14 atom-14 atom-15\" d=\"M 41.3,100.1 L 27.8,91.6\" style=\"fill:none;fill-rule:evenodd;stroke:#000000;stroke-width:2.0px;stroke-linecap:butt;stroke-linejoin:miter;stroke-opacity:1\"/>\n",
       "<path class=\"bond-15 atom-15 atom-16\" d=\"M 27.9,88.2 L 28.8,68.9\" style=\"fill:none;fill-rule:evenodd;stroke:#000000;stroke-width:2.0px;stroke-linecap:butt;stroke-linejoin:miter;stroke-opacity:1\"/>\n",
       "<path class=\"bond-16 atom-15 atom-17\" d=\"M 27.9,88.2 L 10.8,97.2\" style=\"fill:none;fill-rule:evenodd;stroke:#000000;stroke-width:2.0px;stroke-linecap:butt;stroke-linejoin:miter;stroke-opacity:1\"/>\n",
       "<path class=\"bond-17 atom-17 atom-18\" d=\"M 10.8,97.2 L 10.0,116.5\" style=\"fill:none;fill-rule:evenodd;stroke:#000000;stroke-width:2.0px;stroke-linecap:butt;stroke-linejoin:miter;stroke-opacity:1\"/>\n",
       "<path class=\"bond-17 atom-17 atom-18\" d=\"M 13.6,99.0 L 13.0,114.9\" style=\"fill:none;fill-rule:evenodd;stroke:#000000;stroke-width:2.0px;stroke-linecap:butt;stroke-linejoin:miter;stroke-opacity:1\"/>\n",
       "<path class=\"bond-18 atom-18 atom-19\" d=\"M 10.0,116.5 L 26.3,126.8\" style=\"fill:none;fill-rule:evenodd;stroke:#000000;stroke-width:2.0px;stroke-linecap:butt;stroke-linejoin:miter;stroke-opacity:1\"/>\n",
       "<path class=\"bond-19 atom-19 atom-20\" d=\"M 26.3,126.8 L 43.5,117.9\" style=\"fill:none;fill-rule:evenodd;stroke:#000000;stroke-width:2.0px;stroke-linecap:butt;stroke-linejoin:miter;stroke-opacity:1\"/>\n",
       "<path class=\"bond-19 atom-19 atom-20\" d=\"M 26.5,123.5 L 40.6,116.1\" style=\"fill:none;fill-rule:evenodd;stroke:#000000;stroke-width:2.0px;stroke-linecap:butt;stroke-linejoin:miter;stroke-opacity:1\"/>\n",
       "<path class=\"bond-20 atom-20 atom-21\" d=\"M 43.5,117.9 L 59.8,128.3\" style=\"fill:none;fill-rule:evenodd;stroke:#000000;stroke-width:2.0px;stroke-linecap:butt;stroke-linejoin:miter;stroke-opacity:1\"/>\n",
       "<path class=\"bond-21 atom-10 atom-22\" d=\"M 94.9,91.0 L 103.8,108.2\" style=\"fill:none;fill-rule:evenodd;stroke:#000000;stroke-width:2.0px;stroke-linecap:butt;stroke-linejoin:miter;stroke-opacity:1\"/>\n",
       "<path class=\"bond-22 atom-22 atom-23\" d=\"M 103.8,108.2 L 122.9,111.0\" style=\"fill:none;fill-rule:evenodd;stroke:#000000;stroke-width:2.0px;stroke-linecap:butt;stroke-linejoin:miter;stroke-opacity:1\"/>\n",
       "<path class=\"bond-22 atom-22 atom-23\" d=\"M 105.5,111.3 L 120.4,113.5\" style=\"fill:none;fill-rule:evenodd;stroke:#000000;stroke-width:2.0px;stroke-linecap:butt;stroke-linejoin:miter;stroke-opacity:1\"/>\n",
       "<path class=\"bond-23 atom-23 atom-24\" d=\"M 122.9,111.0 L 126.2,130.0\" style=\"fill:none;fill-rule:evenodd;stroke:#000000;stroke-width:2.0px;stroke-linecap:butt;stroke-linejoin:miter;stroke-opacity:1\"/>\n",
       "<path class=\"bond-24 atom-24 atom-25\" d=\"M 126.2,130.0 L 109.0,139.0\" style=\"fill:none;fill-rule:evenodd;stroke:#000000;stroke-width:2.0px;stroke-linecap:butt;stroke-linejoin:miter;stroke-opacity:1\"/>\n",
       "<path class=\"bond-24 atom-24 atom-25\" d=\"M 123.0,128.5 L 109.6,135.5\" style=\"fill:none;fill-rule:evenodd;stroke:#000000;stroke-width:2.0px;stroke-linecap:butt;stroke-linejoin:miter;stroke-opacity:1\"/>\n",
       "<path class=\"bond-25 atom-25 atom-26\" d=\"M 109.0,139.0 L 106.2,158.1\" style=\"fill:none;fill-rule:evenodd;stroke:#000000;stroke-width:2.0px;stroke-linecap:butt;stroke-linejoin:miter;stroke-opacity:1\"/>\n",
       "<path class=\"bond-26 atom-25 atom-27\" d=\"M 109.0,139.0 L 102.0,132.1\" style=\"fill:none;fill-rule:evenodd;stroke:#000000;stroke-width:2.0px;stroke-linecap:butt;stroke-linejoin:miter;stroke-opacity:1\"/>\n",
       "<path class=\"bond-27 atom-5 atom-28\" d=\"M 130.4,87.9 L 144.7,74.8\" style=\"fill:none;fill-rule:evenodd;stroke:#000000;stroke-width:2.0px;stroke-linecap:butt;stroke-linejoin:miter;stroke-opacity:1\"/>\n",
       "<path class=\"bond-28 atom-28 atom-29\" d=\"M 144.7,74.8 L 163.1,80.5\" style=\"fill:none;fill-rule:evenodd;stroke:#000000;stroke-width:2.0px;stroke-linecap:butt;stroke-linejoin:miter;stroke-opacity:1\"/>\n",
       "<path class=\"bond-28 atom-28 atom-29\" d=\"M 145.4,78.0 L 160.7,82.8\" style=\"fill:none;fill-rule:evenodd;stroke:#000000;stroke-width:2.0px;stroke-linecap:butt;stroke-linejoin:miter;stroke-opacity:1\"/>\n",
       "<path class=\"bond-29 atom-29 atom-2\" d=\"M 163.1,80.5 L 167.3,99.4\" style=\"fill:none;fill-rule:evenodd;stroke:#000000;stroke-width:2.0px;stroke-linecap:butt;stroke-linejoin:miter;stroke-opacity:1\"/>\n",
       "<path class=\"bond-30 atom-10 atom-6\" d=\"M 94.9,91.0 L 106.0,85.2\" style=\"fill:none;fill-rule:evenodd;stroke:#000000;stroke-width:2.0px;stroke-linecap:butt;stroke-linejoin:miter;stroke-opacity:1\"/>\n",
       "<path class=\"bond-31 atom-20 atom-14\" d=\"M 43.5,117.9 L 44.3,98.6\" style=\"fill:none;fill-rule:evenodd;stroke:#000000;stroke-width:2.0px;stroke-linecap:butt;stroke-linejoin:miter;stroke-opacity:1\"/>\n",
       "<path class=\"bond-32 atom-27 atom-22\" d=\"M 98.8,118.3 L 103.8,108.2\" style=\"fill:none;fill-rule:evenodd;stroke:#000000;stroke-width:2.0px;stroke-linecap:butt;stroke-linejoin:miter;stroke-opacity:1\"/>\n",
       "<path d=\"M 153.8,111.8 L 153.1,112.5 L 152.2,112.2\" style=\"fill:none;stroke:#000000;stroke-width:2.0px;stroke-linecap:butt;stroke-linejoin:miter;stroke-opacity:1;\"/>\n",
       "<path d=\"M 135.6,107.0 L 134.7,106.7 L 134.4,105.8\" style=\"fill:none;stroke:#000000;stroke-width:2.0px;stroke-linecap:butt;stroke-linejoin:miter;stroke-opacity:1;\"/>\n",
       "<path d=\"M 103.3,65.4 L 103.0,64.9 L 102.2,65.4\" style=\"fill:none;stroke:#000000;stroke-width:2.0px;stroke-linecap:butt;stroke-linejoin:miter;stroke-opacity:1;\"/>\n",
       "<path d=\"M 86.8,73.4 L 85.9,73.9 L 86.4,74.7\" style=\"fill:none;stroke:#000000;stroke-width:2.0px;stroke-linecap:butt;stroke-linejoin:miter;stroke-opacity:1;\"/>\n",
       "<path d=\"M 78.6,99.5 L 77.7,100.0 L 77.2,99.7\" style=\"fill:none;stroke:#000000;stroke-width:2.0px;stroke-linecap:butt;stroke-linejoin:miter;stroke-opacity:1;\"/>\n",
       "<path d=\"M 11.7,96.7 L 10.8,97.2 L 10.8,98.1\" style=\"fill:none;stroke:#000000;stroke-width:2.0px;stroke-linecap:butt;stroke-linejoin:miter;stroke-opacity:1;\"/>\n",
       "<path d=\"M 10.0,115.5 L 10.0,116.5 L 10.8,117.0\" style=\"fill:none;stroke:#000000;stroke-width:2.0px;stroke-linecap:butt;stroke-linejoin:miter;stroke-opacity:1;\"/>\n",
       "<path d=\"M 25.5,126.3 L 26.3,126.8 L 27.2,126.4\" style=\"fill:none;stroke:#000000;stroke-width:2.0px;stroke-linecap:butt;stroke-linejoin:miter;stroke-opacity:1;\"/>\n",
       "<path d=\"M 122.0,110.8 L 122.9,111.0 L 123.1,111.9\" style=\"fill:none;stroke:#000000;stroke-width:2.0px;stroke-linecap:butt;stroke-linejoin:miter;stroke-opacity:1;\"/>\n",
       "<path d=\"M 126.0,129.1 L 126.2,130.0 L 125.3,130.5\" style=\"fill:none;stroke:#000000;stroke-width:2.0px;stroke-linecap:butt;stroke-linejoin:miter;stroke-opacity:1;\"/>\n",
       "<path d=\"M 144.0,75.4 L 144.7,74.8 L 145.6,75.1\" style=\"fill:none;stroke:#000000;stroke-width:2.0px;stroke-linecap:butt;stroke-linejoin:miter;stroke-opacity:1;\"/>\n",
       "<path d=\"M 162.2,80.3 L 163.1,80.5 L 163.3,81.5\" style=\"fill:none;stroke:#000000;stroke-width:2.0px;stroke-linecap:butt;stroke-linejoin:miter;stroke-opacity:1;\"/>\n",
       "<path class=\"atom-1\" d=\"M 181.6 105.2 Q 181.6 103.0, 182.7 101.8 Q 183.8 100.6, 185.8 100.6 Q 187.8 100.6, 188.9 101.8 Q 190.0 103.0, 190.0 105.2 Q 190.0 107.4, 188.9 108.7 Q 187.8 110.0, 185.8 110.0 Q 183.8 110.0, 182.7 108.7 Q 181.6 107.5, 181.6 105.2 M 185.8 108.9 Q 187.2 108.9, 187.9 108.0 Q 188.7 107.1, 188.7 105.2 Q 188.7 103.4, 187.9 102.5 Q 187.2 101.6, 185.8 101.6 Q 184.4 101.6, 183.6 102.5 Q 182.9 103.4, 182.9 105.2 Q 182.9 107.1, 183.6 108.0 Q 184.4 108.9, 185.8 108.9 \" fill=\"#000000\"/>\n",
       "<path class=\"atom-6\" d=\"M 110.0 77.5 L 113.0 82.3 Q 113.3 82.8, 113.7 83.7 Q 114.2 84.5, 114.2 84.6 L 114.2 77.5 L 115.5 77.5 L 115.5 86.6 L 114.2 86.6 L 111.0 81.3 Q 110.6 80.7, 110.2 80.0 Q 109.8 79.3, 109.7 79.1 L 109.7 86.6 L 108.5 86.6 L 108.5 77.5 L 110.0 77.5 \" fill=\"#000000\"/>\n",
       "<path class=\"atom-8\" d=\"M 104.6 46.5 Q 104.6 44.3, 105.7 43.1 Q 106.8 41.9, 108.8 41.9 Q 110.8 41.9, 111.9 43.1 Q 113.0 44.3, 113.0 46.5 Q 113.0 48.7, 111.9 50.0 Q 110.8 51.2, 108.8 51.2 Q 106.8 51.2, 105.7 50.0 Q 104.6 48.7, 104.6 46.5 M 108.8 50.2 Q 110.2 50.2, 111.0 49.3 Q 111.7 48.3, 111.7 46.5 Q 111.7 44.7, 111.0 43.8 Q 110.2 42.9, 108.8 42.9 Q 107.4 42.9, 106.7 43.8 Q 105.9 44.7, 105.9 46.5 Q 105.9 48.4, 106.7 49.3 Q 107.4 50.2, 108.8 50.2 \" fill=\"#000000\"/>\n",
       "<path class=\"atom-12\" d=\"M 72.7 119.3 Q 72.7 117.1, 73.8 115.9 Q 74.9 114.7, 76.9 114.7 Q 78.9 114.7, 80.0 115.9 Q 81.1 117.1, 81.1 119.3 Q 81.1 121.5, 80.0 122.8 Q 78.9 124.1, 76.9 124.1 Q 74.9 124.1, 73.8 122.8 Q 72.7 121.6, 72.7 119.3 M 76.9 123.0 Q 78.3 123.0, 79.1 122.1 Q 79.8 121.2, 79.8 119.3 Q 79.8 117.5, 79.1 116.6 Q 78.3 115.7, 76.9 115.7 Q 75.5 115.7, 74.8 116.6 Q 74.0 117.5, 74.0 119.3 Q 74.0 121.2, 74.8 122.1 Q 75.5 123.0, 76.9 123.0 \" fill=\"#000000\"/>\n",
       "<path class=\"atom-13\" d=\"M 59.4 85.1 L 62.4 89.9 Q 62.7 90.4, 63.1 91.2 Q 63.6 92.1, 63.7 92.1 L 63.7 85.1 L 64.9 85.1 L 64.9 94.2 L 63.6 94.2 L 60.4 88.9 Q 60.0 88.3, 59.6 87.6 Q 59.2 86.9, 59.1 86.6 L 59.1 94.2 L 57.9 94.2 L 57.9 85.1 L 59.4 85.1 \" fill=\"#000000\"/>\n",
       "<path class=\"atom-13\" d=\"M 57.8 75.0 L 59.1 75.0 L 59.1 78.9 L 63.7 78.9 L 63.7 75.0 L 65.0 75.0 L 65.0 84.1 L 63.7 84.1 L 63.7 79.9 L 59.1 79.9 L 59.1 84.1 L 57.8 84.1 L 57.8 75.0 \" fill=\"#000000\"/>\n",
       "<path class=\"atom-27\" d=\"M 91.0 125.5 Q 91.0 123.3, 92.1 122.1 Q 93.2 120.9, 95.2 120.9 Q 97.2 120.9, 98.3 122.1 Q 99.4 123.3, 99.4 125.5 Q 99.4 127.7, 98.3 129.0 Q 97.2 130.2, 95.2 130.2 Q 93.2 130.2, 92.1 129.0 Q 91.0 127.7, 91.0 125.5 M 95.2 129.2 Q 96.6 129.2, 97.4 128.3 Q 98.1 127.3, 98.1 125.5 Q 98.1 123.7, 97.4 122.8 Q 96.6 121.9, 95.2 121.9 Q 93.8 121.9, 93.1 122.8 Q 92.3 123.7, 92.3 125.5 Q 92.3 127.3, 93.1 128.3 Q 93.8 129.2, 95.2 129.2 \" fill=\"#000000\"/>\n",
       "</svg>"
      ],
      "text/plain": [
       "<IPython.core.display.SVG object>"
      ]
     },
     "execution_count": 9,
     "metadata": {},
     "output_type": "execute_result"
    }
   ],
   "source": [
    "# The following prints out a cleaner version of the above\n",
    "img = Draw.MolsToGridImage(\n",
    "  mols=[mol], molsPerRow=1, useSVG=True, drawOptions=dopts,\n",
    ")\n",
    "img"
   ]
  },
  {
   "cell_type": "code",
   "execution_count": 10,
   "metadata": {},
   "outputs": [
    {
     "data": {
      "text/plain": [
       "rdkit.Chem.rdchem.Mol"
      ]
     },
     "execution_count": 10,
     "metadata": {},
     "output_type": "execute_result"
    }
   ],
   "source": [
    "type(mol)"
   ]
  },
  {
   "cell_type": "markdown",
   "metadata": {},
   "source": [
    "### Molecule Sanitization\n",
    "\n",
    "As the Pandas DataFrame was being processed, you likely noticed a few errors with the form “ERROR: Could not sanitize molecule ending on line 6498564” followed by an explanation of why the SMILES produced the error. These errors are related to sanitization, a preprocessing step that validates whether the SMILES are chemically reasonable before converting it into a Mol. \n",
    "\n",
    "<mark>Sanitization enforces data quality and reliability to avoid incorrect conclusions, wasted resources, and flawed research outcomes. What constitutes a molecule as valid or not depends on the use case. </mark>In virtual screening, we may remove compounds with highly reactive motifs that may manifest as off-target effects or we may remove compounds with bad elements in the context of medicinal chemistry, e.g., compounds with a metal atom. \n",
    "\n",
    "At a minimum, we wouldn’t want to retain compounds that aren’t chemically sensible or break fundamental constraints such as valence rules. For most data sets we work with in part one, we will assume compounds are chemically valid if they pass RDKit’s default validation and sanitization. Optionally, RDKit sanitization can be disabled, e.g., mol = Chem.MolFromSmiles(smiles, sanitize=False).\n"
   ]
  },
  {
   "cell_type": "markdown",
   "metadata": {},
   "source": [
    "### Structuring the Pipeline\n",
    "\n",
    "Process:\n",
    "- Apply compound filters (new topic!)\n",
    "  - Compute molecular descriptors\n",
    "  - Property-based Filters\n",
    "  - Structure-based Filters\n",
    "- Fingerprinting our Library\n",
    "- Similarity Searching\n",
    "- Sorting (Ranking)\n",
    "\n",
    "## Molecular Descriptors\n",
    "\n",
    "We want to explore and filter out molecules based on quantifiable properties. We currently have the SMILES column available as a feature. But SMILES are a text string, not a number. The SMILES need to be processed in a way that allows a filter to evaluate it or a model to learn from it. Molecules are complex and how we process them affects a model’s ability to learn from them. There has been a lot of research on how to quantify or featurize molecules, and we will review popular approaches. First, we will compute molecular descriptors that can be used for compound filtering. Later in this chapter, we will compute fingerprint descriptors that can be used for similarity searching.\n",
    "\n",
    "Molecular descriptors are useful for interpreting a molecule’s properties and for encoding a molecule’s chemical information, so that we can develop a model to predict the properties of other molecules. There are thousands of descriptors that quantify different molecular features and that can be calculated using many different software tools. There are additional, experimentally derived descriptors that can also be accessed, such as databases of empirical molecular constants. Naturally, there is no shortage of documentation on descriptors, including the handbook on molecular descriptors. <mark>The below table summarizes the taxonomy of molecular descriptors.</mark> RDKit can compute 211 descriptors; let’s dive-in and calculate descriptors on our dataset.\n"
   ]
  },
  {
   "cell_type": "markdown",
   "metadata": {},
   "source": [
    "![UN04](./figures/L01_UN04_Flynn.png)"
   ]
  },
  {
   "cell_type": "markdown",
   "metadata": {},
   "source": [
    "RDKit's `Descriptors` library provides implementations for 211 descriptors. We print out the first 3, which provides both the name of the descriptor and its function call."
   ]
  },
  {
   "cell_type": "code",
   "execution_count": 11,
   "metadata": {},
   "outputs": [
    {
     "name": "stdout",
     "output_type": "stream",
     "text": [
      "211\n",
      "[('MaxAbsEStateIndex', <function MaxAbsEStateIndex at 0x17f4f47c0>), ('MaxEStateIndex', <function MaxEStateIndex at 0x17f4f4680>), ('MinAbsEStateIndex', <function MinAbsEStateIndex at 0x17f4f4860>)]\n"
     ]
    }
   ],
   "source": [
    "from rdkit.Chem import Descriptors\n",
    "print(len(Descriptors._descList))\n",
    "print(Descriptors._descList[:3])"
   ]
  },
  {
   "cell_type": "markdown",
   "metadata": {},
   "source": [
    "The following code block shows how we can use RDKit to compute <mark>4 descriptors</mark> that describe each <mark>molecule’s molecular weight, number of hydrogen bond acceptors (HBAs), number of hydrogen bond donors (HBDs), and logP</mark>. \n",
    "\n",
    "These descriptors will be useful to define a filter that removes compounds that are not \"drug-like? What does it mean to be \"drug-like\"? Well, given a large library of compounds, we might want some simple rules to characterize them as either drug-like or not drug-like. We could then use our rules for defining drug likeness to filter out compounds that are not drug-like, leaving us to focus on a smaller set of drug-like compounds.\n",
    "There are multiple <mark>guidelines for classifying compounds by their drug-likeness.</mark> Perhaps the most common and simple among them is <mark>Lipinski’s Rules or Rule of Five</mark>, which states that a compound is not drug-like if it violates more than one of the following criteria:\n",
    "\n",
    "1.\tMolecular weight less than 500 daltons\n",
    "2.\tLipophilicity (calculated logP) of less than 5\n",
    "3.\tNo more than 10 hydrogen bond acceptors\n",
    "4.\tNo more than 5 hydrogen bond donors\n",
    "\n",
    "<mark>Note that all the rules specify quantity limits that are multiples of five, hence Lipinski’s Rule of Five.</mark> Though beneficial for their simplicity, these rules make a crude prediction of a compound’s potential as an <mark>oral drug</mark> based on properties that affect its bioavailability. Depending on date of analysis, approximately 16% to 20% of orally administered drugs on the market violate this guideline \n"
   ]
  },
  {
   "cell_type": "code",
   "execution_count": 12,
   "metadata": {},
   "outputs": [],
   "source": [
    "RDKIT_DESCRIPTORS = { desc : func for desc, func in Descriptors._descList }\n",
    "RO5_PROPS = ['ExactMolWt', 'NumHAcceptors', 'NumHDonors', 'MolLogP']\n",
    "\n",
    "def compute_descriptors(mol, func, missing_val=None):\n",
    "  try:\n",
    "    return func(mol)\n",
    "  except:\n",
    "    return missing_val\n",
    "\n",
    "for desc in RO5_PROPS:\n",
    "  specs[desc] = specs[\"mol\"].apply(\n",
    "    lambda x: compute_descriptors(x, RDKIT_DESCRIPTORS[desc])\n",
    "  )\n",
    "\n",
    "specs = specs.dropna(subset=RO5_PROPS)"
   ]
  },
  {
   "cell_type": "markdown",
   "metadata": {},
   "source": [
    "We can use the `head()` and `describe()` functions to explore what the top 5 rows of the data set look like and to summarize basic statistics of the data set's numerical properties, respectively."
   ]
  },
  {
   "cell_type": "code",
   "execution_count": 13,
   "metadata": {},
   "outputs": [
    {
     "data": {
      "text/html": [
       "<div>\n",
       "<style scoped>\n",
       "    .dataframe tbody tr th:only-of-type {\n",
       "        vertical-align: middle;\n",
       "    }\n",
       "\n",
       "    .dataframe tbody tr th {\n",
       "        vertical-align: top;\n",
       "    }\n",
       "\n",
       "    .dataframe thead th {\n",
       "        text-align: right;\n",
       "    }\n",
       "</style>\n",
       "<table border=\"1\" class=\"dataframe\">\n",
       "  <thead>\n",
       "    <tr style=\"text-align: right;\">\n",
       "      <th></th>\n",
       "      <th>PUBCHEM_SUBSTANCE_ID</th>\n",
       "      <th>smiles</th>\n",
       "      <th>mol</th>\n",
       "      <th>ExactMolWt</th>\n",
       "      <th>NumHAcceptors</th>\n",
       "      <th>NumHDonors</th>\n",
       "      <th>MolLogP</th>\n",
       "    </tr>\n",
       "  </thead>\n",
       "  <tbody>\n",
       "    <tr>\n",
       "      <th>0</th>\n",
       "      <td>469753576</td>\n",
       "      <td>COc1ccc(N2C(=O)CC2(C(=O)Nc2c(C)cccc2C)c2ccc(C)...</td>\n",
       "      <td>&lt;rdkit.Chem.rdchem.Mol object at 0x34d89fed0&gt;</td>\n",
       "      <td>404.173607</td>\n",
       "      <td>4</td>\n",
       "      <td>1</td>\n",
       "      <td>4.48436</td>\n",
       "    </tr>\n",
       "    <tr>\n",
       "      <th>1</th>\n",
       "      <td>469753575</td>\n",
       "      <td>CCOC(=O)c1ccc(NC2SC(=O)N(Cc3ccc(C(=O)OC)cc3)C2...</td>\n",
       "      <td>&lt;rdkit.Chem.rdchem.Mol object at 0x34d89ff40&gt;</td>\n",
       "      <td>428.104207</td>\n",
       "      <td>8</td>\n",
       "      <td>1</td>\n",
       "      <td>3.28350</td>\n",
       "    </tr>\n",
       "    <tr>\n",
       "      <th>2</th>\n",
       "      <td>469753574</td>\n",
       "      <td>Cc1cc(Br)cc([N+](=O)[O-])c1N</td>\n",
       "      <td>&lt;rdkit.Chem.rdchem.Mol object at 0x34d89fe60&gt;</td>\n",
       "      <td>229.969090</td>\n",
       "      <td>3</td>\n",
       "      <td>1</td>\n",
       "      <td>2.24792</td>\n",
       "    </tr>\n",
       "    <tr>\n",
       "      <th>3</th>\n",
       "      <td>469753573</td>\n",
       "      <td>Oc1ccc(CN2CCN(c3ccccn3)CC2)c2cccnc12</td>\n",
       "      <td>&lt;rdkit.Chem.rdchem.Mol object at 0x34d89fdf0&gt;</td>\n",
       "      <td>320.163711</td>\n",
       "      <td>5</td>\n",
       "      <td>1</td>\n",
       "      <td>2.65760</td>\n",
       "    </tr>\n",
       "    <tr>\n",
       "      <th>4</th>\n",
       "      <td>469753572</td>\n",
       "      <td>Cc1cccnc1C(N)=O</td>\n",
       "      <td>&lt;rdkit.Chem.rdchem.Mol object at 0x34d89fd80&gt;</td>\n",
       "      <td>136.063663</td>\n",
       "      <td>2</td>\n",
       "      <td>1</td>\n",
       "      <td>0.48892</td>\n",
       "    </tr>\n",
       "  </tbody>\n",
       "</table>\n",
       "</div>"
      ],
      "text/plain": [
       "  PUBCHEM_SUBSTANCE_ID                                             smiles  \\\n",
       "0            469753576  COc1ccc(N2C(=O)CC2(C(=O)Nc2c(C)cccc2C)c2ccc(C)...   \n",
       "1            469753575  CCOC(=O)c1ccc(NC2SC(=O)N(Cc3ccc(C(=O)OC)cc3)C2...   \n",
       "2            469753574                       Cc1cc(Br)cc([N+](=O)[O-])c1N   \n",
       "3            469753573               Oc1ccc(CN2CCN(c3ccccn3)CC2)c2cccnc12   \n",
       "4            469753572                                    Cc1cccnc1C(N)=O   \n",
       "\n",
       "                                             mol  ExactMolWt  NumHAcceptors  \\\n",
       "0  <rdkit.Chem.rdchem.Mol object at 0x34d89fed0>  404.173607              4   \n",
       "1  <rdkit.Chem.rdchem.Mol object at 0x34d89ff40>  428.104207              8   \n",
       "2  <rdkit.Chem.rdchem.Mol object at 0x34d89fe60>  229.969090              3   \n",
       "3  <rdkit.Chem.rdchem.Mol object at 0x34d89fdf0>  320.163711              5   \n",
       "4  <rdkit.Chem.rdchem.Mol object at 0x34d89fd80>  136.063663              2   \n",
       "\n",
       "   NumHDonors  MolLogP  \n",
       "0           1  4.48436  \n",
       "1           1  3.28350  \n",
       "2           1  2.24792  \n",
       "3           1  2.65760  \n",
       "4           1  0.48892  "
      ]
     },
     "execution_count": 13,
     "metadata": {},
     "output_type": "execute_result"
    }
   ],
   "source": [
    "specs.head()"
   ]
  },
  {
   "cell_type": "code",
   "execution_count": 14,
   "metadata": {},
   "outputs": [
    {
     "data": {
      "text/html": [
       "<div>\n",
       "<style scoped>\n",
       "    .dataframe tbody tr th:only-of-type {\n",
       "        vertical-align: middle;\n",
       "    }\n",
       "\n",
       "    .dataframe tbody tr th {\n",
       "        vertical-align: top;\n",
       "    }\n",
       "\n",
       "    .dataframe thead th {\n",
       "        text-align: right;\n",
       "    }\n",
       "</style>\n",
       "<table border=\"1\" class=\"dataframe\">\n",
       "  <thead>\n",
       "    <tr style=\"text-align: right;\">\n",
       "      <th></th>\n",
       "      <th>ExactMolWt</th>\n",
       "      <th>NumHAcceptors</th>\n",
       "      <th>NumHDonors</th>\n",
       "      <th>MolLogP</th>\n",
       "    </tr>\n",
       "  </thead>\n",
       "  <tbody>\n",
       "    <tr>\n",
       "      <th>count</th>\n",
       "      <td>212670.000000</td>\n",
       "      <td>212670.000000</td>\n",
       "      <td>212670.000000</td>\n",
       "      <td>212670.000000</td>\n",
       "    </tr>\n",
       "    <tr>\n",
       "      <th>mean</th>\n",
       "      <td>371.738321</td>\n",
       "      <td>4.512531</td>\n",
       "      <td>0.990046</td>\n",
       "      <td>3.917192</td>\n",
       "    </tr>\n",
       "    <tr>\n",
       "      <th>std</th>\n",
       "      <td>93.585321</td>\n",
       "      <td>1.905391</td>\n",
       "      <td>0.796672</td>\n",
       "      <td>1.587613</td>\n",
       "    </tr>\n",
       "    <tr>\n",
       "      <th>min</th>\n",
       "      <td>68.025421</td>\n",
       "      <td>0.000000</td>\n",
       "      <td>0.000000</td>\n",
       "      <td>-4.195200</td>\n",
       "    </tr>\n",
       "    <tr>\n",
       "      <th>25%</th>\n",
       "      <td>306.136828</td>\n",
       "      <td>3.000000</td>\n",
       "      <td>0.000000</td>\n",
       "      <td>2.885940</td>\n",
       "    </tr>\n",
       "    <tr>\n",
       "      <th>50%</th>\n",
       "      <td>369.020203</td>\n",
       "      <td>4.000000</td>\n",
       "      <td>1.000000</td>\n",
       "      <td>3.855710</td>\n",
       "    </tr>\n",
       "    <tr>\n",
       "      <th>75%</th>\n",
       "      <td>432.133005</td>\n",
       "      <td>6.000000</td>\n",
       "      <td>1.000000</td>\n",
       "      <td>4.923815</td>\n",
       "    </tr>\n",
       "    <tr>\n",
       "      <th>max</th>\n",
       "      <td>1161.548016</td>\n",
       "      <td>21.000000</td>\n",
       "      <td>8.000000</td>\n",
       "      <td>15.329400</td>\n",
       "    </tr>\n",
       "  </tbody>\n",
       "</table>\n",
       "</div>"
      ],
      "text/plain": [
       "          ExactMolWt  NumHAcceptors     NumHDonors        MolLogP\n",
       "count  212670.000000  212670.000000  212670.000000  212670.000000\n",
       "mean      371.738321       4.512531       0.990046       3.917192\n",
       "std        93.585321       1.905391       0.796672       1.587613\n",
       "min        68.025421       0.000000       0.000000      -4.195200\n",
       "25%       306.136828       3.000000       0.000000       2.885940\n",
       "50%       369.020203       4.000000       1.000000       3.855710\n",
       "75%       432.133005       6.000000       1.000000       4.923815\n",
       "max      1161.548016      21.000000       8.000000      15.329400"
      ]
     },
     "execution_count": 14,
     "metadata": {},
     "output_type": "execute_result"
    }
   ],
   "source": [
    "specs.describe()"
   ]
  },
  {
   "cell_type": "markdown",
   "metadata": {},
   "source": [
    "## Compound Filters\n",
    "\n",
    "Filtering out compounds is a low-cost, scalable maneuver to cut the fat from a large screening library and save downstream effort and resources. We can think of compound filters across two dimensions: property-based filters that consider the values of the descriptors we calculated in the previous section and substructure-based filters that consider the type and frequency of the substructures that we can decompose our molecules into. \n",
    "\n",
    "### Property-based Filters\n",
    "\n",
    "A convenient property-based filter is Lipinski’s Rule of Five (Ro5) as a starting point for evaluating drug-likeness. Assessing a compound’s adherence to Ro5’s four simple criteria measures prospect of oral bioavailability. Molecules that violate Ro5 criteria are likely to constitute poor solubility and permeability characteristics that hinder the effectiveness of oral drugs. "
   ]
  },
  {
   "cell_type": "code",
   "execution_count": 15,
   "metadata": {},
   "outputs": [],
   "source": [
    "def lipinski_filter(row):\n",
    "    \"\"\"\n",
    "    Apply Lipinski's Rule of Five to filter molecules.\n",
    "    Returns True if the molecule violates no more than one rule.\n",
    "    \"\"\"\n",
    "    violations = 0\n",
    "    # Check each rule\n",
    "    if row[3] > 500: violations += 1\n",
    "    if row[6] > 5: violations += 1\n",
    "    if row[5] > 5: violations += 1\n",
    "    if row[4] > 10: violations += 1\n",
    "\n",
    "    # Return True if no more than one rule is violated\n",
    "    return violations <= 1"
   ]
  },
  {
   "cell_type": "code",
   "execution_count": 17,
   "metadata": {},
   "outputs": [],
   "source": [
    "specs[\"ro5_compliant\"] = specs.apply(lipinski_filter, axis=1)\n",
    "specs_ro5_compliant = specs[specs[\"ro5_compliant\"]]\n",
    "specs_ro5_violated = specs[~specs[\"ro5_compliant\"]]\n"
   ]
  },
  {
   "cell_type": "markdown",
   "metadata": {},
   "source": [
    "After applying the R05 filter, we've reduced the compound library from 212,670 compounds to 199,481 \"drug-like\" compounds."
   ]
  },
  {
   "cell_type": "code",
   "execution_count": 18,
   "metadata": {},
   "outputs": [
    {
     "name": "stdout",
     "output_type": "stream",
     "text": [
      "Compound library size pre-RO5 filter: 212670\n",
      "Compound library size post-RO5 filter: 199481\n"
     ]
    }
   ],
   "source": [
    "print(f\"Compound library size pre-RO5 filter: {len(specs)}\")\n",
    "print(f\"Compound library size post-RO5 filter: {len(specs_ro5_compliant)}\")"
   ]
  },
  {
   "cell_type": "markdown",
   "metadata": {},
   "source": [
    "Notice also that the distribution of the descriptors has changed. For example, high molecular weight compounds have been filtered out."
   ]
  },
  {
   "cell_type": "code",
   "execution_count": 19,
   "metadata": {},
   "outputs": [
    {
     "data": {
      "text/html": [
       "<div>\n",
       "<style scoped>\n",
       "    .dataframe tbody tr th:only-of-type {\n",
       "        vertical-align: middle;\n",
       "    }\n",
       "\n",
       "    .dataframe tbody tr th {\n",
       "        vertical-align: top;\n",
       "    }\n",
       "\n",
       "    .dataframe thead th {\n",
       "        text-align: right;\n",
       "    }\n",
       "</style>\n",
       "<table border=\"1\" class=\"dataframe\">\n",
       "  <thead>\n",
       "    <tr style=\"text-align: right;\">\n",
       "      <th></th>\n",
       "      <th>ExactMolWt</th>\n",
       "      <th>NumHAcceptors</th>\n",
       "      <th>NumHDonors</th>\n",
       "      <th>MolLogP</th>\n",
       "    </tr>\n",
       "  </thead>\n",
       "  <tbody>\n",
       "    <tr>\n",
       "      <th>count</th>\n",
       "      <td>199481.000000</td>\n",
       "      <td>199481.000000</td>\n",
       "      <td>199481.000000</td>\n",
       "      <td>199481.000000</td>\n",
       "    </tr>\n",
       "    <tr>\n",
       "      <th>mean</th>\n",
       "      <td>359.359352</td>\n",
       "      <td>4.398524</td>\n",
       "      <td>0.994050</td>\n",
       "      <td>3.745281</td>\n",
       "    </tr>\n",
       "    <tr>\n",
       "      <th>std</th>\n",
       "      <td>81.695399</td>\n",
       "      <td>1.827768</td>\n",
       "      <td>0.795352</td>\n",
       "      <td>1.448762</td>\n",
       "    </tr>\n",
       "    <tr>\n",
       "      <th>min</th>\n",
       "      <td>68.025421</td>\n",
       "      <td>0.000000</td>\n",
       "      <td>0.000000</td>\n",
       "      <td>-3.679400</td>\n",
       "    </tr>\n",
       "    <tr>\n",
       "      <th>25%</th>\n",
       "      <td>302.036128</td>\n",
       "      <td>3.000000</td>\n",
       "      <td>0.000000</td>\n",
       "      <td>2.818100</td>\n",
       "    </tr>\n",
       "    <tr>\n",
       "      <th>50%</th>\n",
       "      <td>361.142641</td>\n",
       "      <td>4.000000</td>\n",
       "      <td>1.000000</td>\n",
       "      <td>3.744100</td>\n",
       "    </tr>\n",
       "    <tr>\n",
       "      <th>75%</th>\n",
       "      <td>419.067284</td>\n",
       "      <td>6.000000</td>\n",
       "      <td>1.000000</td>\n",
       "      <td>4.697100</td>\n",
       "    </tr>\n",
       "    <tr>\n",
       "      <th>max</th>\n",
       "      <td>758.331564</td>\n",
       "      <td>18.000000</td>\n",
       "      <td>8.000000</td>\n",
       "      <td>10.683600</td>\n",
       "    </tr>\n",
       "  </tbody>\n",
       "</table>\n",
       "</div>"
      ],
      "text/plain": [
       "          ExactMolWt  NumHAcceptors     NumHDonors        MolLogP\n",
       "count  199481.000000  199481.000000  199481.000000  199481.000000\n",
       "mean      359.359352       4.398524       0.994050       3.745281\n",
       "std        81.695399       1.827768       0.795352       1.448762\n",
       "min        68.025421       0.000000       0.000000      -3.679400\n",
       "25%       302.036128       3.000000       0.000000       2.818100\n",
       "50%       361.142641       4.000000       1.000000       3.744100\n",
       "75%       419.067284       6.000000       1.000000       4.697100\n",
       "max       758.331564      18.000000       8.000000      10.683600"
      ]
     },
     "execution_count": 19,
     "metadata": {},
     "output_type": "execute_result"
    }
   ],
   "source": [
    "specs_ro5_compliant.describe()"
   ]
  },
  {
   "cell_type": "markdown",
   "metadata": {},
   "source": [
    "![UN05](./figures/L01_UN05_Flynn.png)"
   ]
  },
  {
   "cell_type": "markdown",
   "metadata": {},
   "source": [
    "The other 3 descriptors are within closer numerical ranges to each other, so we visualize their changes in one lollipop plot comparing the average values for number of HBAs, logP, and number of HBDs."
   ]
  },
  {
   "cell_type": "code",
   "execution_count": 20,
   "metadata": {},
   "outputs": [],
   "source": [
    "ro5_avgs_df = pd.DataFrame(data = {\n",
    "    'property' : ['NumHAcceptors', 'NumHDonors', 'MolLogP'],\n",
    "    'RO5 Compliant Mols' : [specs_ro5_compliant['NumHAcceptors'].mean(), specs_ro5_compliant['NumHDonors'].mean(), specs_ro5_compliant['MolLogP'].mean()],\n",
    "    'RO5 Violated Mols' : [specs_ro5_violated['NumHAcceptors'].mean(), specs_ro5_violated['NumHDonors'].mean(), specs_ro5_violated['MolLogP'].mean()]\n",
    "})"
   ]
  },
  {
   "cell_type": "code",
   "execution_count": 21,
   "metadata": {},
   "outputs": [],
   "source": [
    "ro5_avgs_df['rel_change'] = (ro5_avgs_df['RO5 Compliant Mols'] - ro5_avgs_df['RO5 Violated Mols']) / ro5_avgs_df['RO5 Violated Mols']\n",
    "ordered_df = ro5_avgs_df.sort_values(by='RO5 Compliant Mols')\n",
    "my_range = range(1, len(ordered_df.index) + 1)"
   ]
  },
  {
   "cell_type": "markdown",
   "metadata": {},
   "source": [
    "![UN06](./figures/L01_UN06_Flynn.png)"
   ]
  },
  {
   "cell_type": "markdown",
   "metadata": {},
   "source": [
    "### Structure-based Filters\n",
    "\n",
    "Substructure-based filters are another tool for early elimination of compounds that are unlikely to meet desired criteria. Displeasing substructures interfere with experimental assays or have undesirable properties (e.g., are toxic).\n",
    "\n",
    "#### Pan Assay Interference Compounds (PAINS)\n",
    "\n",
    "Promiscuous bioactive compounds, or PAINS compounds, appear active in many high-throughput screening experiments against a broad, diverse range of targets. PAINS are often false positive hits and mislead results in biological assays, producing artifacts in the data. These “frequent hitters” exhibit a propensity to <mark>bind to multiple targets due to nonspecific binding or interference with the specific assay technology readouts</mark>. PAINS filters are composed of substructures that are associated with PAINS. Conveniently, RDKit maintains pre-defined PAINS filters we can easily use to filter our compound library.\n",
    "\n",
    "#### Structural Alerts for Toxicity \n",
    "\n",
    "Broadly, structural alerts refer to any filter based on a molecule’s structural composition. In this context, we will assemble a set of structural alerts that have a <mark>known association with toxic endpoints. For example, thiophene, epoxides, and acid anhydrides are common structural alerts used to identify risk of hepatotoxicity, mutagenicity, or skin sensitization</mark>, respectively. If a compound contains several structural alerts greater than a user-defined threshold, it is filtered out.\n",
    "\n",
    "Cross-referencing compounds to a list of structural alerts is a widely used, simple method for identifying problematic compounds. However, structural alerts have limited prognostic utility – <mark>they are not sufficient to declare a molecule as toxic and they can misclassify toxic molecules as safe. Since structural alerts are determined retrospectively, they have limited predictive power for new or understudied substructures.</mark> \n",
    "\n",
    "![UN07](./figures/L01_UN07_Flynn.svg)\n",
    "\n",
    "<mark>In addition to PAINS filters, we’ll also use BRENK filters, which were constructed to remove undesirable substructures that pose toxicity risks within the context of drug discovery for neglected diseases </mark>"
   ]
  },
  {
   "cell_type": "code",
   "execution_count": 22,
   "metadata": {},
   "outputs": [],
   "source": [
    "from rdkit.Chem import FilterCatalog\n",
    "filter_params = FilterCatalog.FilterCatalogParams()\n",
    "filter_params.AddCatalog(filter_params.FilterCatalogs.PAINS)\n",
    "filter_params.AddCatalog(filter_params.FilterCatalogs.BRENK)\n",
    "catalog = FilterCatalog.FilterCatalog(filter_params)"
   ]
  },
  {
   "cell_type": "code",
   "execution_count": 23,
   "metadata": {},
   "outputs": [
    {
     "name": "stderr",
     "output_type": "stream",
     "text": [
      "/var/folders/s8/ghqk1l4n7n9_w17t7hx21g2m0000gn/T/ipykernel_4189/2468989558.py:1: SettingWithCopyWarning: \n",
      "A value is trying to be set on a copy of a slice from a DataFrame.\n",
      "Try using .loc[row_indexer,col_indexer] = value instead\n",
      "\n",
      "See the caveats in the documentation: https://pandas.pydata.org/pandas-docs/stable/user_guide/indexing.html#returning-a-view-versus-a-copy\n",
      "  specs_ro5_compliant[\"PAINS_BRENK_compliant\"] = specs_ro5_compliant['mol'].apply(catalog.HasMatch)\n"
     ]
    }
   ],
   "source": [
    "specs_ro5_compliant[\"PAINS_BRENK_compliant\"] = specs_ro5_compliant['mol'].apply(catalog.HasMatch)"
   ]
  },
  {
   "cell_type": "code",
   "execution_count": 24,
   "metadata": {},
   "outputs": [],
   "source": [
    "specs_ro5_pains_brenk_compliant = specs_ro5_compliant[specs_ro5_compliant[\"PAINS_BRENK_compliant\"]]"
   ]
  },
  {
   "cell_type": "markdown",
   "metadata": {},
   "source": [
    "After successive application of the RO5, PAINS, and BRENK filters, we're down to 93,915 compounds. That is less than half of our starting compound library size!"
   ]
  },
  {
   "cell_type": "code",
   "execution_count": 25,
   "metadata": {},
   "outputs": [
    {
     "name": "stdout",
     "output_type": "stream",
     "text": [
      "SPECS compounds compliant with RO5, PAINS, and BRENK: 93915\n"
     ]
    }
   ],
   "source": [
    "print(f\"SPECS compounds compliant with RO5, PAINS, and BRENK: {specs_ro5_compliant['PAINS_BRENK_compliant'].sum()}\")"
   ]
  },
  {
   "cell_type": "markdown",
   "metadata": {},
   "source": [
    "### Exercise 1: Compound Filters\n",
    "\n",
    "In the code walkthrough, we used BRENK and PAINS filters from the RDKit catalog. Pick another filter from the RDKit catalog and apply it to the compound library (`specs_ro5_compliant`) instead of the BRENK and PAINS filters. What type of structures or properties does the filter you chose assess? How many compounds remain after applying the filter? Was it a more liberal or conservative filter than the ones we used?"
   ]
  },
  {
   "cell_type": "markdown",
   "metadata": {},
   "source": [
    "### Student Solution to Exercise 1\n",
    "\n",
    "The ZINC's compliancy filters are not explcitily stated, but they seem to have 3 different set of filters: Basic, annotated, and secondary.\n",
    "Basic filters may contain structural criterias we've used earlier.\n",
    "Annotated filters are rules defined by ZINC to classify molecules as biologically active.\n",
    "Secondary filters will filter out unwanted fragments ZINC has identified to be \"yuck rules\", or more fragments that are potentially problematic.\n",
    "\n",
    "There are 2501 compounds that remain after applying the ZINC filter. This # of hits is much smaller, telling me that ZINC filter is a more conservative filter in this case."
   ]
  },
  {
   "cell_type": "code",
   "execution_count": 26,
   "metadata": {},
   "outputs": [
    {
     "name": "stderr",
     "output_type": "stream",
     "text": [
      "/var/folders/s8/ghqk1l4n7n9_w17t7hx21g2m0000gn/T/ipykernel_4189/921514757.py:10: SettingWithCopyWarning: \n",
      "A value is trying to be set on a copy of a slice from a DataFrame.\n",
      "Try using .loc[row_indexer,col_indexer] = value instead\n",
      "\n",
      "See the caveats in the documentation: https://pandas.pydata.org/pandas-docs/stable/user_guide/indexing.html#returning-a-view-versus-a-copy\n",
      "  specs_ro5_compliant[\"ZINC_compliant\"] = specs_ro5_compliant['mol'].apply(catalog2.HasMatch)\n"
     ]
    },
    {
     "name": "stdout",
     "output_type": "stream",
     "text": [
      "SPECS compounds compliant with RO5, PAINS, BRENK, and ZINC: 2501\n"
     ]
    },
    {
     "data": {
      "text/plain": [
       "'\\nThe ZINC\\'s compliancy filters are not explcitily stated, but they seem to have 3 different set of filters: Basic, annotated, and secondary.\\nBasic filters may contain structural criterias we\\'ve used earlier.\\nAnnotated filters are rules defined by ZINC to classify molecules as biologically active.\\nSecondary filters will filter out unwanted fragments ZINC has identified to be \"yuck rules\", or more fragments that are potentially problematic.\\n\\nThere are 2501 compounds that remain after applying the ZINC filter. This # of hits is much smaller, telling me that ZINC filter is a more conservative filter in this case.\\n'"
      ]
     },
     "execution_count": 26,
     "metadata": {},
     "output_type": "execute_result"
    }
   ],
   "source": [
    "# TODO: Student to provide solution below\n",
    "\n",
    "#from rdkit.Chem import FilterCatalog\n",
    "filter_params2 = FilterCatalog.FilterCatalogParams()\n",
    "#filter_params.AddCatalog(filter_params.FilterCatalogs.PAINS)\n",
    "#filter_params.AddCatalog(filter_params.FilterCatalogs.BRENK)\n",
    "filter_params2.AddCatalog(filter_params2.FilterCatalogs.ZINC)\n",
    "catalog2 = FilterCatalog.FilterCatalog(filter_params2)\n",
    "\n",
    "specs_ro5_compliant[\"ZINC_compliant\"] = specs_ro5_compliant['mol'].apply(catalog2.HasMatch)\n",
    "specs_ro5_pains_brenk_ZINC_compliant = specs_ro5_compliant[specs_ro5_compliant[\"ZINC_compliant\"]]\n",
    "print(f\"SPECS compounds compliant with RO5, PAINS, BRENK, and ZINC: {specs_ro5_compliant['ZINC_compliant'].sum()}\")\n",
    "\n",
    "#https://blaster.docking.org/filtering/ \n",
    "'''\n",
    "The ZINC's compliancy filters are not explcitily stated, but they seem to have 3 different set of filters: Basic, annotated, and secondary.\n",
    "Basic filters may contain structural criterias we've used earlier.\n",
    "Annotated filters are rules defined by ZINC to classify molecules as biologically active.\n",
    "Secondary filters will filter out unwanted fragments ZINC has identified to be \"yuck rules\", or more fragments that are potentially problematic.\n",
    "\n",
    "There are 2501 compounds that remain after applying the ZINC filter. This # of hits is much smaller, telling me that ZINC filter is a more conservative filter in this case.\n",
    "'''\n"
   ]
  },
  {
   "cell_type": "code",
   "execution_count": 27,
   "metadata": {},
   "outputs": [
    {
     "name": "stdout",
     "output_type": "stream",
     "text": [
      "SPECS compounds compliant with RO5, PAINS, BRENK, and ZINC: 2501\n",
      "SPECS compounds compliant with RO5, PAINS, and BRENK: 93915\n"
     ]
    },
    {
     "data": {
      "text/html": [
       "<div>\n",
       "<style scoped>\n",
       "    .dataframe tbody tr th:only-of-type {\n",
       "        vertical-align: middle;\n",
       "    }\n",
       "\n",
       "    .dataframe tbody tr th {\n",
       "        vertical-align: top;\n",
       "    }\n",
       "\n",
       "    .dataframe thead th {\n",
       "        text-align: right;\n",
       "    }\n",
       "</style>\n",
       "<table border=\"1\" class=\"dataframe\">\n",
       "  <thead>\n",
       "    <tr style=\"text-align: right;\">\n",
       "      <th></th>\n",
       "      <th>PUBCHEM_SUBSTANCE_ID</th>\n",
       "      <th>smiles</th>\n",
       "      <th>mol</th>\n",
       "      <th>ExactMolWt</th>\n",
       "      <th>NumHAcceptors</th>\n",
       "      <th>NumHDonors</th>\n",
       "      <th>MolLogP</th>\n",
       "      <th>ro5_compliant</th>\n",
       "      <th>PAINS_BRENK_compliant</th>\n",
       "      <th>ZINC_compliant</th>\n",
       "    </tr>\n",
       "  </thead>\n",
       "  <tbody>\n",
       "    <tr>\n",
       "      <th>0</th>\n",
       "      <td>469753576</td>\n",
       "      <td>COc1ccc(N2C(=O)CC2(C(=O)Nc2c(C)cccc2C)c2ccc(C)...</td>\n",
       "      <td>&lt;rdkit.Chem.rdchem.Mol object at 0x339853e60&gt;</td>\n",
       "      <td>404.173607</td>\n",
       "      <td>4</td>\n",
       "      <td>1</td>\n",
       "      <td>4.48436</td>\n",
       "      <td>True</td>\n",
       "      <td>False</td>\n",
       "      <td>False</td>\n",
       "    </tr>\n",
       "    <tr>\n",
       "      <th>1</th>\n",
       "      <td>469753575</td>\n",
       "      <td>CCOC(=O)c1ccc(NC2SC(=O)N(Cc3ccc(C(=O)OC)cc3)C2...</td>\n",
       "      <td>&lt;rdkit.Chem.rdchem.Mol object at 0x339853f40&gt;</td>\n",
       "      <td>428.104207</td>\n",
       "      <td>8</td>\n",
       "      <td>1</td>\n",
       "      <td>3.28350</td>\n",
       "      <td>True</td>\n",
       "      <td>True</td>\n",
       "      <td>False</td>\n",
       "    </tr>\n",
       "    <tr>\n",
       "      <th>2</th>\n",
       "      <td>469753574</td>\n",
       "      <td>Cc1cc(Br)cc([N+](=O)[O-])c1N</td>\n",
       "      <td>&lt;rdkit.Chem.rdchem.Mol object at 0x339853df0&gt;</td>\n",
       "      <td>229.969090</td>\n",
       "      <td>3</td>\n",
       "      <td>1</td>\n",
       "      <td>2.24792</td>\n",
       "      <td>True</td>\n",
       "      <td>True</td>\n",
       "      <td>False</td>\n",
       "    </tr>\n",
       "    <tr>\n",
       "      <th>3</th>\n",
       "      <td>469753573</td>\n",
       "      <td>Oc1ccc(CN2CCN(c3ccccn3)CC2)c2cccnc12</td>\n",
       "      <td>&lt;rdkit.Chem.rdchem.Mol object at 0x339853d10&gt;</td>\n",
       "      <td>320.163711</td>\n",
       "      <td>5</td>\n",
       "      <td>1</td>\n",
       "      <td>2.65760</td>\n",
       "      <td>True</td>\n",
       "      <td>False</td>\n",
       "      <td>False</td>\n",
       "    </tr>\n",
       "    <tr>\n",
       "      <th>4</th>\n",
       "      <td>469753572</td>\n",
       "      <td>Cc1cccnc1C(N)=O</td>\n",
       "      <td>&lt;rdkit.Chem.rdchem.Mol object at 0x339853ca0&gt;</td>\n",
       "      <td>136.063663</td>\n",
       "      <td>2</td>\n",
       "      <td>1</td>\n",
       "      <td>0.48892</td>\n",
       "      <td>True</td>\n",
       "      <td>False</td>\n",
       "      <td>False</td>\n",
       "    </tr>\n",
       "    <tr>\n",
       "      <th>...</th>\n",
       "      <td>...</td>\n",
       "      <td>...</td>\n",
       "      <td>...</td>\n",
       "      <td>...</td>\n",
       "      <td>...</td>\n",
       "      <td>...</td>\n",
       "      <td>...</td>\n",
       "      <td>...</td>\n",
       "      <td>...</td>\n",
       "      <td>...</td>\n",
       "    </tr>\n",
       "    <tr>\n",
       "      <th>212669</th>\n",
       "      <td>16953994</td>\n",
       "      <td>CSC1=C(c2ccc(C)cc2)/C(=N/C(C)(C)C)C1</td>\n",
       "      <td>&lt;rdkit.Chem.rdchem.Mol object at 0x31753ba70&gt;</td>\n",
       "      <td>259.139471</td>\n",
       "      <td>2</td>\n",
       "      <td>0</td>\n",
       "      <td>4.71232</td>\n",
       "      <td>True</td>\n",
       "      <td>True</td>\n",
       "      <td>False</td>\n",
       "    </tr>\n",
       "    <tr>\n",
       "      <th>212670</th>\n",
       "      <td>16953993</td>\n",
       "      <td>C/N=C1\\CC(SC)=C1c1ccc(C)cc1</td>\n",
       "      <td>&lt;rdkit.Chem.rdchem.Mol object at 0x31753b760&gt;</td>\n",
       "      <td>217.092520</td>\n",
       "      <td>2</td>\n",
       "      <td>0</td>\n",
       "      <td>3.54362</td>\n",
       "      <td>True</td>\n",
       "      <td>True</td>\n",
       "      <td>False</td>\n",
       "    </tr>\n",
       "    <tr>\n",
       "      <th>212671</th>\n",
       "      <td>16953992</td>\n",
       "      <td>C/N=C1\\CC(SC)=C1c1ccc(OC)cc1</td>\n",
       "      <td>&lt;rdkit.Chem.rdchem.Mol object at 0x31753af80&gt;</td>\n",
       "      <td>233.087435</td>\n",
       "      <td>3</td>\n",
       "      <td>0</td>\n",
       "      <td>3.24380</td>\n",
       "      <td>True</td>\n",
       "      <td>True</td>\n",
       "      <td>False</td>\n",
       "    </tr>\n",
       "    <tr>\n",
       "      <th>212672</th>\n",
       "      <td>16953991</td>\n",
       "      <td>CSC1=C(c2ccccc2)/C(=N/C(C)(C)C)C1</td>\n",
       "      <td>&lt;rdkit.Chem.rdchem.Mol object at 0x31753adc0&gt;</td>\n",
       "      <td>245.123821</td>\n",
       "      <td>2</td>\n",
       "      <td>0</td>\n",
       "      <td>4.40390</td>\n",
       "      <td>True</td>\n",
       "      <td>True</td>\n",
       "      <td>False</td>\n",
       "    </tr>\n",
       "    <tr>\n",
       "      <th>212673</th>\n",
       "      <td>16953990</td>\n",
       "      <td>CSC1=C(c2ccc(C)s2)/C(=N/C(C)(C)C)C1</td>\n",
       "      <td>&lt;rdkit.Chem.rdchem.Mol object at 0x31753ab90&gt;</td>\n",
       "      <td>265.095892</td>\n",
       "      <td>3</td>\n",
       "      <td>0</td>\n",
       "      <td>4.77382</td>\n",
       "      <td>True</td>\n",
       "      <td>True</td>\n",
       "      <td>False</td>\n",
       "    </tr>\n",
       "  </tbody>\n",
       "</table>\n",
       "<p>199481 rows × 10 columns</p>\n",
       "</div>"
      ],
      "text/plain": [
       "       PUBCHEM_SUBSTANCE_ID  \\\n",
       "0                 469753576   \n",
       "1                 469753575   \n",
       "2                 469753574   \n",
       "3                 469753573   \n",
       "4                 469753572   \n",
       "...                     ...   \n",
       "212669             16953994   \n",
       "212670             16953993   \n",
       "212671             16953992   \n",
       "212672             16953991   \n",
       "212673             16953990   \n",
       "\n",
       "                                                   smiles  \\\n",
       "0       COc1ccc(N2C(=O)CC2(C(=O)Nc2c(C)cccc2C)c2ccc(C)...   \n",
       "1       CCOC(=O)c1ccc(NC2SC(=O)N(Cc3ccc(C(=O)OC)cc3)C2...   \n",
       "2                            Cc1cc(Br)cc([N+](=O)[O-])c1N   \n",
       "3                    Oc1ccc(CN2CCN(c3ccccn3)CC2)c2cccnc12   \n",
       "4                                         Cc1cccnc1C(N)=O   \n",
       "...                                                   ...   \n",
       "212669               CSC1=C(c2ccc(C)cc2)/C(=N/C(C)(C)C)C1   \n",
       "212670                        C/N=C1\\CC(SC)=C1c1ccc(C)cc1   \n",
       "212671                       C/N=C1\\CC(SC)=C1c1ccc(OC)cc1   \n",
       "212672                  CSC1=C(c2ccccc2)/C(=N/C(C)(C)C)C1   \n",
       "212673                CSC1=C(c2ccc(C)s2)/C(=N/C(C)(C)C)C1   \n",
       "\n",
       "                                                  mol  ExactMolWt  \\\n",
       "0       <rdkit.Chem.rdchem.Mol object at 0x339853e60>  404.173607   \n",
       "1       <rdkit.Chem.rdchem.Mol object at 0x339853f40>  428.104207   \n",
       "2       <rdkit.Chem.rdchem.Mol object at 0x339853df0>  229.969090   \n",
       "3       <rdkit.Chem.rdchem.Mol object at 0x339853d10>  320.163711   \n",
       "4       <rdkit.Chem.rdchem.Mol object at 0x339853ca0>  136.063663   \n",
       "...                                               ...         ...   \n",
       "212669  <rdkit.Chem.rdchem.Mol object at 0x31753ba70>  259.139471   \n",
       "212670  <rdkit.Chem.rdchem.Mol object at 0x31753b760>  217.092520   \n",
       "212671  <rdkit.Chem.rdchem.Mol object at 0x31753af80>  233.087435   \n",
       "212672  <rdkit.Chem.rdchem.Mol object at 0x31753adc0>  245.123821   \n",
       "212673  <rdkit.Chem.rdchem.Mol object at 0x31753ab90>  265.095892   \n",
       "\n",
       "        NumHAcceptors  NumHDonors  MolLogP  ro5_compliant  \\\n",
       "0                   4           1  4.48436           True   \n",
       "1                   8           1  3.28350           True   \n",
       "2                   3           1  2.24792           True   \n",
       "3                   5           1  2.65760           True   \n",
       "4                   2           1  0.48892           True   \n",
       "...               ...         ...      ...            ...   \n",
       "212669              2           0  4.71232           True   \n",
       "212670              2           0  3.54362           True   \n",
       "212671              3           0  3.24380           True   \n",
       "212672              2           0  4.40390           True   \n",
       "212673              3           0  4.77382           True   \n",
       "\n",
       "        PAINS_BRENK_compliant  ZINC_compliant  \n",
       "0                       False           False  \n",
       "1                        True           False  \n",
       "2                        True           False  \n",
       "3                       False           False  \n",
       "4                       False           False  \n",
       "...                       ...             ...  \n",
       "212669                   True           False  \n",
       "212670                   True           False  \n",
       "212671                   True           False  \n",
       "212672                   True           False  \n",
       "212673                   True           False  \n",
       "\n",
       "[199481 rows x 10 columns]"
      ]
     },
     "execution_count": 27,
     "metadata": {},
     "output_type": "execute_result"
    }
   ],
   "source": [
    "print(f\"SPECS compounds compliant with RO5, PAINS, BRENK, and ZINC: {specs_ro5_compliant['ZINC_compliant'].sum()}\")\n",
    "print(f\"SPECS compounds compliant with RO5, PAINS, and BRENK: {specs_ro5_compliant['PAINS_BRENK_compliant'].sum()}\")\n",
    "specs_ro5_compliant"
   ]
  },
  {
   "cell_type": "markdown",
   "metadata": {},
   "source": [
    "#### Rapid Elimination of Swill (REOS)\n",
    "\n",
    "<mark>REOS quickly filters out low quality compounds, i.e., “swill”, that are unlikely to be viable drug candidates. REOS improves screening efficiency by avoiding pursuit of unproductive compounds with high likelihood of causing assay artifacts or false positives.</mark> RDKit does not have a pre-defined filter for the for REOS, as REOS is more of a concept than a specific ruleset. For example, PAINS is a specific ruleset that embodies REOS’ goal. But that does not block us from defining and using a custom substructure filter with RDKit’s HasSubstructMatch() function.\n",
    "\n",
    "As an example, let’s load a set of publicly available structure alerts that define the <mark>Glaxo Wellcome hard filters</mark>. This filter is conveniently encoded as SMARTS. SMARTS are an extension of SMILES that represent specific substructural patterns. We will use SMARTS to search for substructures that might be within each molecule in our library, like regular expressions adapted to chemical compounds. We recommend Daylight’s reference page for a more information: https://www.daylight.com/dayhtml/doc/theory/theory.smarts.html"
   ]
  },
  {
   "cell_type": "code",
   "execution_count": 28,
   "metadata": {},
   "outputs": [
    {
     "name": "stdout",
     "output_type": "stream",
     "text": [
      "Number of Glaxo Wellcome structural alerts: 55\n"
     ]
    }
   ],
   "source": [
    "from rdkit.Chem import Draw, MolFromSmarts\n",
    "glaxo_alerts = pd.read_csv(\"data/glaxo_structural_alerts.csv\")\n",
    "glaxo_alerts[\"ROMol\"] = glaxo_alerts.smarts.apply(MolFromSmarts)\n",
    "print(f\"Number of Glaxo Wellcome structural alerts: {len(glaxo_alerts)}\")"
   ]
  },
  {
   "cell_type": "markdown",
   "metadata": {},
   "source": [
    "We visualize examples of 6 substructures within the set of Glaxo Wellcome hard filters. Compounds in our library that have these substructures will be filtered out."
   ]
  },
  {
   "cell_type": "code",
   "execution_count": 29,
   "metadata": {},
   "outputs": [
    {
     "data": {
      "image/svg+xml": [
       "<svg xmlns=\"http://www.w3.org/2000/svg\" xmlns:rdkit=\"http://www.rdkit.org/xml\" xmlns:xlink=\"http://www.w3.org/1999/xlink\" version=\"1.1\" baseProfile=\"full\" xml:space=\"preserve\" width=\"600px\" height=\"400px\" viewBox=\"0 0 600 400\">\n",
       "<!-- END OF HEADER -->\n",
       "<rect style=\"opacity:1.0;fill:#FFFFFF;stroke:none\" width=\"600.0\" height=\"400.0\" x=\"0.0\" y=\"0.0\"> </rect>\n",
       "<path class=\"bond-0 atom-0 atom-1\" d=\"M 53.8,90.6 L 69.6,99.7\" style=\"fill:none;fill-rule:evenodd;stroke:#000000;stroke-width:2.0px;stroke-linecap:butt;stroke-linejoin:miter;stroke-opacity:1\"/>\n",
       "<path class=\"bond-0 atom-0 atom-1\" d=\"M 56.1,86.6 L 69.6,94.4\" style=\"fill:none;fill-rule:evenodd;stroke:#000000;stroke-width:2.0px;stroke-linecap:butt;stroke-linejoin:miter;stroke-opacity:1\"/>\n",
       "<path class=\"bond-1 atom-1 atom-2\" d=\"M 69.6,99.7 L 78.1,94.8\" style=\"fill:none;fill-rule:evenodd;stroke:#7F7F7F;stroke-width:2.0px;stroke-linecap:butt;stroke-linejoin:miter;stroke-opacity:1\"/>\n",
       "<path class=\"bond-1 atom-1 atom-2\" d=\"M 78.1,94.8 L 86.6,89.9\" style=\"fill:none;fill-rule:evenodd;stroke:#7F7F7F;stroke-width:2.0px;stroke-linecap:butt;stroke-linejoin:miter;stroke-opacity:1\"/>\n",
       "<path class=\"bond-1 atom-1 atom-2\" d=\"M 77.0,90.2 L 84.3,85.9\" style=\"fill:none;fill-rule:evenodd;stroke:#7F7F7F;stroke-width:2.0px;stroke-linecap:butt;stroke-linejoin:miter;stroke-opacity:1;stroke-dasharray:1,1.33333\"/>\n",
       "<path class=\"bond-2 atom-2 atom-3\" d=\"M 106.9,87.9 L 114.4,92.2\" style=\"fill:none;fill-rule:evenodd;stroke:#000000;stroke-width:2.0px;stroke-linecap:butt;stroke-linejoin:miter;stroke-opacity:1\"/>\n",
       "<path class=\"bond-2 atom-2 atom-3\" d=\"M 104.6,91.9 L 112.1,96.2\" style=\"fill:none;fill-rule:evenodd;stroke:#000000;stroke-width:2.0px;stroke-linecap:butt;stroke-linejoin:miter;stroke-opacity:1\"/>\n",
       "<path class=\"bond-3 atom-3 atom-4\" d=\"M 142.5,91.0 L 150.5,86.4\" style=\"fill:none;fill-rule:evenodd;stroke:#000000;stroke-width:2.0px;stroke-linecap:butt;stroke-linejoin:miter;stroke-opacity:1\"/>\n",
       "<path class=\"bond-3 atom-3 atom-4\" d=\"M 140.2,87.0 L 148.2,82.4\" style=\"fill:none;fill-rule:evenodd;stroke:#000000;stroke-width:2.0px;stroke-linecap:butt;stroke-linejoin:miter;stroke-opacity:1\"/>\n",
       "<path d=\"M 69.2,99.5 L 69.6,99.7 L 69.9,99.6\" style=\"fill:none;stroke:#000000;stroke-width:2.0px;stroke-linecap:butt;stroke-linejoin:miter;stroke-opacity:1;\"/>\n",
       "<path class=\"atom-0\" d=\"M 37.6 82.4 Q 37.6 78.9, 39.3 77.0 Q 41.0 75.1, 44.2 75.1 Q 47.4 75.1, 49.1 77.0 Q 50.9 78.9, 50.9 82.4 Q 50.9 85.9, 49.1 87.9 Q 47.4 89.9, 44.2 89.9 Q 41.0 89.9, 39.3 87.9 Q 37.6 86.0, 37.6 82.4 M 44.2 88.3 Q 46.4 88.3, 47.6 86.8 Q 48.8 85.3, 48.8 82.4 Q 48.8 79.6, 47.6 78.1 Q 46.4 76.7, 44.2 76.7 Q 42.0 76.7, 40.8 78.1 Q 39.6 79.6, 39.6 82.4 Q 39.6 85.3, 40.8 86.8 Q 42.0 88.3, 44.2 88.3 \" fill=\"#000000\"/>\n",
       "<path class=\"atom-2\" d=\"M 93.0 77.1 L 97.8 84.8 Q 98.2 85.6, 99.0 86.9 Q 99.7 88.3, 99.8 88.4 L 99.8 77.1 L 101.7 77.1 L 101.7 91.6 L 99.7 91.6 L 94.6 83.2 Q 94.0 82.2, 93.4 81.1 Q 92.8 80.0, 92.6 79.6 L 92.6 91.6 L 90.7 91.6 L 90.7 77.1 L 93.0 77.1 \" fill=\"#000000\"/>\n",
       "<path class=\"atom-3\" d=\"M 119.6 92.5 L 124.3 100.1 Q 124.8 100.9, 125.6 102.3 Q 126.3 103.6, 126.4 103.7 L 126.4 92.5 L 128.3 92.5 L 128.3 106.9 L 126.3 106.9 L 121.2 98.6 Q 120.6 97.6, 120.0 96.5 Q 119.4 95.3, 119.2 95.0 L 119.2 106.9 L 117.3 106.9 L 117.3 92.5 L 119.6 92.5 \" fill=\"#000000\"/>\n",
       "<path class=\"atom-3\" d=\"M 131.0 95.1 L 133.6 95.1 L 133.6 92.4 L 134.7 92.4 L 134.7 95.1 L 137.3 95.1 L 137.3 96.0 L 134.7 96.0 L 134.7 98.7 L 133.6 98.7 L 133.6 96.0 L 131.0 96.0 L 131.0 95.1 \" fill=\"#000000\"/>\n",
       "<path class=\"atom-4\" d=\"M 146.2 77.1 L 150.9 84.8 Q 151.4 85.6, 152.1 86.9 Q 152.9 88.3, 152.9 88.4 L 152.9 77.1 L 154.9 77.1 L 154.9 91.6 L 152.9 91.6 L 147.8 83.2 Q 147.2 82.2, 146.5 81.1 Q 145.9 80.0, 145.7 79.6 L 145.7 91.6 L 143.9 91.6 L 143.9 77.1 L 146.2 77.1 \" fill=\"#000000\"/>\n",
       "<path class=\"atom-4\" d=\"M 157.5 79.5 L 162.4 79.5 L 162.4 80.6 L 157.5 80.6 L 157.5 79.5 \" fill=\"#000000\"/>\n",
       "<path class=\"legend\" d=\"M 61.8 184.1 Q 61.8 181.3, 63.1 179.8 Q 64.5 178.4, 67.0 178.4 Q 69.3 178.4, 70.5 180.0 L 69.5 180.9 Q 68.6 179.7, 67.0 179.7 Q 65.3 179.7, 64.3 180.8 Q 63.4 182.0, 63.4 184.1 Q 63.4 186.4, 64.4 187.5 Q 65.3 188.7, 67.1 188.7 Q 68.4 188.7, 69.8 187.9 L 70.3 189.1 Q 69.7 189.5, 68.8 189.7 Q 67.9 190.0, 66.9 190.0 Q 64.5 190.0, 63.1 188.4 Q 61.8 186.9, 61.8 184.1 \" fill=\"#000000\"/>\n",
       "<path class=\"legend\" d=\"M 71.8 187.6 Q 71.8 186.3, 72.9 185.6 Q 73.9 184.8, 75.9 184.8 L 77.1 184.8 L 77.1 184.5 Q 77.1 183.5, 76.6 183.1 Q 76.2 182.6, 75.2 182.6 Q 74.6 182.6, 74.0 182.8 Q 73.5 182.9, 72.7 183.2 L 72.3 182.2 Q 73.8 181.4, 75.2 181.4 Q 77.0 181.4, 77.8 182.2 Q 78.6 182.9, 78.6 184.5 L 78.6 189.8 L 77.4 189.8 Q 77.4 189.7, 77.4 189.5 Q 77.3 189.2, 77.2 188.8 Q 76.1 190.0, 74.5 190.0 Q 73.3 190.0, 72.6 189.3 Q 71.8 188.7, 71.8 187.6 M 73.3 187.6 Q 73.3 188.2, 73.7 188.5 Q 74.1 188.8, 74.8 188.8 Q 75.4 188.8, 76.1 188.5 Q 76.7 188.2, 77.1 187.7 L 77.1 186.0 L 76.0 186.0 Q 74.6 186.0, 74.0 186.4 Q 73.3 186.8, 73.3 187.6 \" fill=\"#000000\"/>\n",
       "<path class=\"legend\" d=\"M 81.7 181.6 L 81.8 182.7 Q 82.7 181.4, 84.1 181.4 Q 84.6 181.4, 85.2 181.6 L 84.9 182.9 Q 84.2 182.8, 83.9 182.8 Q 83.2 182.8, 82.7 183.1 Q 82.3 183.3, 81.9 183.9 L 81.9 189.8 L 80.4 189.8 L 80.4 181.6 L 81.7 181.6 \" fill=\"#000000\"/>\n",
       "<path class=\"legend\" d=\"M 89.9 181.4 Q 91.6 181.4, 92.5 182.5 Q 93.5 183.6, 93.5 185.6 Q 93.5 187.6, 92.4 188.8 Q 91.2 189.9, 89.3 189.9 Q 88.0 189.9, 86.8 189.5 L 86.0 189.3 L 86.0 177.7 L 87.5 177.7 L 87.5 182.5 Q 88.4 181.4, 89.9 181.4 M 89.2 188.8 Q 90.5 188.8, 91.2 187.9 Q 92.0 187.1, 92.0 185.6 Q 92.0 184.1, 91.4 183.4 Q 90.8 182.6, 89.8 182.6 Q 88.9 182.6, 88.4 183.1 Q 87.8 183.5, 87.5 184.3 L 87.5 188.5 Q 88.4 188.8, 89.2 188.8 \" fill=\"#000000\"/>\n",
       "<path class=\"legend\" d=\"M 94.9 187.6 Q 94.9 186.3, 95.9 185.6 Q 97.0 184.8, 98.9 184.8 L 100.1 184.8 L 100.1 184.5 Q 100.1 183.5, 99.7 183.1 Q 99.3 182.6, 98.2 182.6 Q 97.6 182.6, 97.1 182.8 Q 96.6 182.9, 95.8 183.2 L 95.3 182.2 Q 96.8 181.4, 98.3 181.4 Q 100.0 181.4, 100.8 182.2 Q 101.6 182.9, 101.6 184.5 L 101.6 189.8 L 100.5 189.8 Q 100.4 189.7, 100.4 189.5 Q 100.3 189.2, 100.2 188.8 Q 99.1 190.0, 97.6 190.0 Q 96.3 190.0, 95.6 189.3 Q 94.9 188.7, 94.9 187.6 M 96.4 187.6 Q 96.4 188.2, 96.7 188.5 Q 97.1 188.8, 97.8 188.8 Q 98.5 188.8, 99.1 188.5 Q 99.7 188.2, 100.1 187.7 L 100.1 186.0 L 99.0 186.0 Q 97.7 186.0, 97.0 186.4 Q 96.4 186.8, 96.4 187.6 \" fill=\"#000000\"/>\n",
       "<path class=\"legend\" d=\"M 105.3 188.6 L 109.8 188.6 L 109.8 189.8 L 103.5 189.8 L 103.5 188.8 L 107.8 182.8 L 103.7 182.8 L 103.7 181.6 L 109.6 181.6 L 109.6 182.5 L 105.3 188.6 \" fill=\"#000000\"/>\n",
       "<path class=\"legend\" d=\"M 111.0 178.5 L 112.5 178.5 L 112.5 179.9 L 111.0 179.9 L 111.0 178.5 M 111.0 181.6 L 112.5 181.6 L 112.5 189.8 L 111.0 189.8 L 111.0 181.6 \" fill=\"#000000\"/>\n",
       "<path class=\"legend\" d=\"M 121.9 177.7 L 121.9 189.8 L 120.7 189.8 L 120.5 188.8 Q 119.6 189.9, 118.1 189.9 Q 116.4 189.9, 115.4 188.9 Q 114.5 187.8, 114.5 185.8 Q 114.5 183.8, 115.6 182.6 Q 116.7 181.4, 118.7 181.4 Q 119.5 181.4, 120.4 181.7 L 120.4 177.7 L 121.9 177.7 M 118.2 188.8 Q 119.0 188.8, 119.6 188.3 Q 120.2 187.8, 120.4 187.0 L 120.4 182.9 Q 119.6 182.6, 118.7 182.6 Q 117.4 182.6, 116.7 183.5 Q 116.0 184.3, 116.0 185.8 Q 116.0 187.2, 116.6 188.0 Q 117.1 188.8, 118.2 188.8 \" fill=\"#000000\"/>\n",
       "<path class=\"legend\" d=\"M 123.8 185.7 Q 123.8 183.7, 124.9 182.6 Q 125.9 181.4, 127.7 181.4 Q 129.5 181.4, 130.3 182.5 Q 131.1 183.6, 131.1 185.6 L 131.1 185.9 L 125.4 185.9 Q 125.4 187.3, 126.0 188.0 Q 126.7 188.8, 127.8 188.8 Q 128.5 188.8, 129.1 188.6 Q 129.7 188.4, 130.4 188.1 L 130.8 189.2 Q 130.0 189.6, 129.3 189.8 Q 128.5 189.9, 127.8 189.9 Q 125.9 189.9, 124.9 188.8 Q 123.8 187.7, 123.8 185.7 M 127.7 182.6 Q 126.8 182.6, 126.2 183.2 Q 125.6 183.7, 125.4 184.8 L 129.5 184.8 Q 129.4 183.7, 129.0 183.2 Q 128.5 182.6, 127.7 182.6 \" fill=\"#000000\"/>\n",
       "<path class=\"legend\" d=\"M 132.8 188.1 Q 133.5 188.4, 134.1 188.6 Q 134.6 188.7, 135.1 188.7 Q 135.9 188.7, 136.3 188.4 Q 136.7 188.1, 136.7 187.5 Q 136.7 187.1, 136.5 186.9 Q 136.3 186.7, 136.0 186.6 Q 135.7 186.4, 135.0 186.2 Q 134.9 186.2, 134.2 185.9 Q 133.4 185.7, 133.0 185.1 Q 132.6 184.6, 132.6 183.8 Q 132.6 182.8, 133.4 182.1 Q 134.2 181.4, 135.7 181.4 Q 136.3 181.4, 136.8 181.6 Q 137.4 181.7, 138.0 182.0 L 137.6 183.2 Q 137.1 182.9, 136.6 182.8 Q 136.2 182.7, 135.7 182.7 Q 134.9 182.7, 134.5 183.0 Q 134.1 183.3, 134.1 183.8 Q 134.1 184.2, 134.4 184.4 Q 134.7 184.6, 135.4 184.9 Q 135.6 184.9, 135.7 185.0 L 136.1 185.1 Q 136.8 185.4, 137.2 185.6 Q 137.6 185.8, 137.9 186.3 Q 138.2 186.7, 138.2 187.5 Q 138.2 188.7, 137.3 189.3 Q 136.5 190.0, 135.2 190.0 Q 134.4 190.0, 133.7 189.8 Q 133.0 189.6, 132.4 189.3 L 132.8 188.1 \" fill=\"#000000\"/>\n",
       "<path class=\"bond-0 atom-0 atom-1\" d=\"M 235.5,64.6 L 245.5,64.6\" style=\"fill:none;fill-rule:evenodd;stroke:#7F7F7F;stroke-width:2.0px;stroke-linecap:butt;stroke-linejoin:miter;stroke-opacity:1\"/>\n",
       "<path class=\"bond-0 atom-0 atom-1\" d=\"M 245.5,62.3 L 255.5,62.3\" style=\"fill:none;fill-rule:evenodd;stroke:#7F7F7F;stroke-width:2.0px;stroke-linecap:butt;stroke-linejoin:miter;stroke-opacity:1\"/>\n",
       "<path class=\"bond-0 atom-0 atom-1\" d=\"M 245.5,66.9 L 255.5,66.9\" style=\"fill:none;fill-rule:evenodd;stroke:#7F7F7F;stroke-width:2.0px;stroke-linecap:butt;stroke-linejoin:miter;stroke-opacity:1;stroke-dasharray:1,1.33333\"/>\n",
       "<path class=\"bond-1 atom-1 atom-2\" d=\"M 272.9,76.2 L 274.0,78.1\" style=\"fill:none;fill-rule:evenodd;stroke:#7F7F7F;stroke-width:2.0px;stroke-linecap:butt;stroke-linejoin:miter;stroke-opacity:1\"/>\n",
       "<path class=\"bond-1 atom-1 atom-2\" d=\"M 275.9,76.9 L 277.0,78.7\" style=\"fill:none;fill-rule:evenodd;stroke:#7F7F7F;stroke-width:2.0px;stroke-linecap:butt;stroke-linejoin:miter;stroke-opacity:1\"/>\n",
       "<path class=\"bond-1 atom-1 atom-2\" d=\"M 272.0,79.2 L 273.0,81.0\" style=\"fill:none;fill-rule:evenodd;stroke:#7F7F7F;stroke-width:2.0px;stroke-linecap:butt;stroke-linejoin:miter;stroke-opacity:1;stroke-dasharray:0.5,0.666667\"/>\n",
       "<path class=\"bond-2 atom-2 atom-3\" d=\"M 272.8,101.7 L 270.8,105.2\" style=\"fill:none;fill-rule:evenodd;stroke:#000000;stroke-width:2.0px;stroke-linecap:butt;stroke-linejoin:miter;stroke-opacity:1\"/>\n",
       "<path class=\"bond-2 atom-2 atom-3\" d=\"M 276.8,104.0 L 274.8,107.5\" style=\"fill:none;fill-rule:evenodd;stroke:#000000;stroke-width:2.0px;stroke-linecap:butt;stroke-linejoin:miter;stroke-opacity:1\"/>\n",
       "<path class=\"bond-3 atom-2 atom-4\" d=\"M 290.3,91.2 L 295.9,91.2\" style=\"fill:none;fill-rule:evenodd;stroke:#7F7F7F;stroke-width:2.0px;stroke-linecap:butt;stroke-linejoin:miter;stroke-opacity:1\"/>\n",
       "<path class=\"bond-3 atom-2 atom-4\" d=\"M 295.9,88.9 L 301.5,88.9\" style=\"fill:none;fill-rule:evenodd;stroke:#7F7F7F;stroke-width:2.0px;stroke-linecap:butt;stroke-linejoin:miter;stroke-opacity:1\"/>\n",
       "<path class=\"bond-3 atom-2 atom-4\" d=\"M 295.9,93.5 L 301.5,93.5\" style=\"fill:none;fill-rule:evenodd;stroke:#7F7F7F;stroke-width:2.0px;stroke-linecap:butt;stroke-linejoin:miter;stroke-opacity:1;stroke-dasharray:0.5,0.666667\"/>\n",
       "<path class=\"bond-4 atom-4 atom-5\" d=\"M 318.8,79.8 L 320.0,77.6\" style=\"fill:none;fill-rule:evenodd;stroke:#7F7F7F;stroke-width:2.0px;stroke-linecap:butt;stroke-linejoin:miter;stroke-opacity:1\"/>\n",
       "<path class=\"bond-4 atom-4 atom-5\" d=\"M 322.0,78.8 L 323.3,76.6\" style=\"fill:none;fill-rule:evenodd;stroke:#7F7F7F;stroke-width:2.0px;stroke-linecap:butt;stroke-linejoin:miter;stroke-opacity:1\"/>\n",
       "<path class=\"bond-4 atom-4 atom-5\" d=\"M 318.1,76.5 L 319.3,74.3\" style=\"fill:none;fill-rule:evenodd;stroke:#7F7F7F;stroke-width:2.0px;stroke-linecap:butt;stroke-linejoin:miter;stroke-opacity:1;stroke-dasharray:0.5,0.666667\"/>\n",
       "<path class=\"atom-1\" d=\"M 259.5 64.7 Q 259.5 61.2, 261.3 59.2 Q 263.0 57.3, 266.2 57.3 Q 269.4 57.3, 271.1 59.2 Q 272.8 61.2, 272.8 64.7 Q 272.8 68.2, 271.1 70.2 Q 269.4 72.2, 266.2 72.2 Q 263.0 72.2, 261.3 70.2 Q 259.5 68.2, 259.5 64.7 M 266.2 70.5 Q 268.4 70.5, 269.6 69.1 Q 270.8 67.6, 270.8 64.7 Q 270.8 61.8, 269.6 60.4 Q 268.4 58.9, 266.2 58.9 Q 264.0 58.9, 262.8 60.4 Q 261.6 61.8, 261.6 64.7 Q 261.6 67.6, 262.8 69.1 Q 264.0 70.5, 266.2 70.5 \" fill=\"#000000\"/>\n",
       "<path class=\"atom-2\" d=\"M 277.4 96.2 Q 277.6 96.2, 278.3 96.5 Q 279.0 96.8, 279.7 97.0 Q 280.4 97.1, 281.2 97.1 Q 282.6 97.1, 283.3 96.5 Q 284.1 95.8, 284.1 94.6 Q 284.1 93.8, 283.7 93.4 Q 283.3 92.9, 282.7 92.6 Q 282.1 92.3, 281.1 92.0 Q 279.8 91.6, 279.0 91.3 Q 278.3 90.9, 277.7 90.1 Q 277.2 89.3, 277.2 88.0 Q 277.2 86.2, 278.4 85.1 Q 279.7 84.0, 282.1 84.0 Q 283.8 84.0, 285.7 84.8 L 285.2 86.3 Q 283.5 85.6, 282.2 85.6 Q 280.8 85.6, 280.0 86.2 Q 279.2 86.8, 279.2 87.8 Q 279.2 88.6, 279.6 89.0 Q 280.0 89.5, 280.6 89.8 Q 281.2 90.0, 282.2 90.3 Q 283.5 90.8, 284.3 91.2 Q 285.0 91.6, 285.6 92.4 Q 286.2 93.2, 286.2 94.6 Q 286.2 96.6, 284.8 97.7 Q 283.5 98.8, 281.3 98.8 Q 280.0 98.8, 279.0 98.5 Q 278.0 98.2, 276.9 97.8 L 277.4 96.2 \" fill=\"#000000\"/>\n",
       "<path class=\"atom-3\" d=\"M 259.5 117.8 Q 259.5 114.3, 261.3 112.4 Q 263.0 110.4, 266.2 110.4 Q 269.4 110.4, 271.1 112.4 Q 272.8 114.3, 272.8 117.8 Q 272.8 121.3, 271.1 123.3 Q 269.4 125.3, 266.2 125.3 Q 263.0 125.3, 261.3 123.3 Q 259.5 121.3, 259.5 117.8 M 266.2 123.7 Q 268.4 123.7, 269.6 122.2 Q 270.8 120.7, 270.8 117.8 Q 270.8 115.0, 269.6 113.5 Q 268.4 112.1, 266.2 112.1 Q 264.0 112.1, 262.8 113.5 Q 261.6 114.9, 261.6 117.8 Q 261.6 120.7, 262.8 122.2 Q 264.0 123.7, 266.2 123.7 \" fill=\"#000000\"/>\n",
       "<path class=\"atom-4\" d=\"M 305.6 91.2 Q 305.6 87.7, 307.3 85.8 Q 309.0 83.9, 312.2 83.9 Q 315.4 83.9, 317.1 85.8 Q 318.9 87.7, 318.9 91.2 Q 318.9 94.7, 317.1 96.7 Q 315.4 98.7, 312.2 98.7 Q 309.0 98.7, 307.3 96.7 Q 305.6 94.8, 305.6 91.2 M 312.2 97.1 Q 314.4 97.1, 315.6 95.6 Q 316.8 94.1, 316.8 91.2 Q 316.8 88.4, 315.6 86.9 Q 314.4 85.5, 312.2 85.5 Q 310.0 85.5, 308.8 86.9 Q 307.6 88.4, 307.6 91.2 Q 307.6 94.2, 308.8 95.6 Q 310.0 97.1, 312.2 97.1 \" fill=\"#000000\"/>\n",
       "<path class=\"atom-5\" d=\"M 325.4 56.7 L 329.7 56.7 L 329.7 58.2 L 327.1 58.2 L 327.1 75.0 L 329.7 75.0 L 329.7 76.5 L 325.4 76.5 L 325.4 56.7 \" fill=\"#000000\"/>\n",
       "<path class=\"atom-5\" d=\"M 330.8 65.3 Q 330.8 61.7, 332.5 59.8 Q 334.2 57.9, 337.4 57.9 Q 340.4 57.9, 342.0 60.0 L 340.6 61.1 Q 339.5 59.6, 337.4 59.6 Q 335.2 59.6, 334.0 61.0 Q 332.9 62.5, 332.9 65.3 Q 332.9 68.1, 334.1 69.6 Q 335.3 71.1, 337.6 71.1 Q 339.2 71.1, 341.1 70.1 L 341.6 71.6 Q 340.9 72.1, 339.7 72.4 Q 338.6 72.7, 337.3 72.7 Q 334.2 72.7, 332.5 70.8 Q 330.8 68.9, 330.8 65.3 \" fill=\"#000000\"/>\n",
       "<path class=\"atom-5\" d=\"M 343.5 70.5 L 345.5 70.5 L 345.5 72.1 L 345.1 74.9 L 344.4 74.9 L 344.4 72.5 L 343.5 72.5 L 343.5 70.5 \" fill=\"#000000\"/>\n",
       "<path class=\"atom-5\" d=\"M 347.5 65.3 Q 347.5 61.7, 349.2 59.8 Q 350.9 57.9, 354.1 57.9 Q 357.1 57.9, 358.7 60.0 L 357.3 61.1 Q 356.1 59.6, 354.1 59.6 Q 351.9 59.6, 350.7 61.0 Q 349.6 62.5, 349.6 65.3 Q 349.6 68.1, 350.8 69.6 Q 352.0 71.1, 354.3 71.1 Q 355.9 71.1, 357.8 70.1 L 358.3 71.6 Q 357.6 72.1, 356.4 72.4 Q 355.3 72.7, 354.0 72.7 Q 350.9 72.7, 349.2 70.8 Q 347.5 68.9, 347.5 65.3 \" fill=\"#000000\"/>\n",
       "<path class=\"atom-5\" d=\"M 364.5 56.7 L 364.5 76.5 L 360.1 76.5 L 360.1 75.0 L 362.8 75.0 L 362.8 58.2 L 360.1 58.2 L 360.1 56.7 L 364.5 56.7 \" fill=\"#000000\"/>\n",
       "<path class=\"legend\" d=\"M 245.4 184.3 Q 245.5 184.4, 246.1 184.6 Q 246.6 184.8, 247.2 185.0 Q 247.8 185.1, 248.3 185.1 Q 249.4 185.1, 250.0 184.6 Q 250.7 184.0, 250.7 183.1 Q 250.7 182.5, 250.3 182.1 Q 250.0 181.7, 249.6 181.5 Q 249.1 181.3, 248.3 181.1 Q 247.3 180.8, 246.7 180.5 Q 246.1 180.2, 245.6 179.6 Q 245.2 179.0, 245.2 178.0 Q 245.2 176.5, 246.2 175.7 Q 247.2 174.8, 249.1 174.8 Q 250.4 174.8, 251.9 175.4 L 251.5 176.6 Q 250.2 176.1, 249.1 176.1 Q 248.0 176.1, 247.4 176.5 Q 246.8 177.0, 246.8 177.8 Q 246.8 178.4, 247.1 178.8 Q 247.4 179.1, 247.9 179.3 Q 248.4 179.5, 249.1 179.8 Q 250.2 180.1, 250.8 180.4 Q 251.4 180.7, 251.8 181.4 Q 252.2 182.0, 252.2 183.1 Q 252.2 184.7, 251.2 185.6 Q 250.2 186.4, 248.4 186.4 Q 247.4 186.4, 246.6 186.2 Q 245.9 186.0, 245.0 185.6 L 245.4 184.3 \" fill=\"#000000\"/>\n",
       "<path class=\"legend\" d=\"M 260.6 177.9 L 260.6 186.1 L 259.3 186.1 L 259.2 184.9 Q 258.1 186.2, 256.4 186.2 Q 255.0 186.2, 254.3 185.5 Q 253.6 184.7, 253.6 183.3 L 253.6 177.9 L 255.1 177.9 L 255.1 183.2 Q 255.1 184.2, 255.4 184.6 Q 255.8 185.0, 256.7 185.0 Q 257.4 185.0, 258.0 184.7 Q 258.7 184.4, 259.1 183.7 L 259.1 177.9 L 260.6 177.9 \" fill=\"#000000\"/>\n",
       "<path class=\"legend\" d=\"M 262.5 173.9 L 263.9 173.9 L 263.9 186.1 L 262.5 186.1 L 262.5 173.9 \" fill=\"#000000\"/>\n",
       "<path class=\"legend\" d=\"M 269.7 177.7 Q 271.4 177.7, 272.4 178.8 Q 273.3 179.8, 273.3 181.8 Q 273.3 183.9, 272.2 185.1 Q 271.1 186.2, 269.1 186.2 Q 268.2 186.2, 267.4 186.0 L 267.4 190.0 L 265.9 190.0 L 265.9 177.9 L 267.1 177.9 L 267.3 178.8 Q 267.7 178.3, 268.3 178.0 Q 269.0 177.7, 269.7 177.7 M 269.1 185.0 Q 270.3 185.0, 271.1 184.2 Q 271.8 183.3, 271.8 181.8 Q 271.8 180.4, 271.2 179.7 Q 270.6 178.9, 269.6 178.9 Q 268.8 178.9, 268.2 179.3 Q 267.6 179.8, 267.4 180.5 L 267.4 184.8 Q 268.2 185.0, 269.1 185.0 \" fill=\"#000000\"/>\n",
       "<path class=\"legend\" d=\"M 278.9 177.7 Q 280.2 177.7, 280.9 178.5 Q 281.6 179.2, 281.6 180.6 L 281.6 186.1 L 280.1 186.1 L 280.1 180.8 Q 280.1 179.8, 279.7 179.3 Q 279.4 178.9, 278.5 178.9 Q 277.8 178.9, 277.1 179.2 Q 276.5 179.6, 276.1 180.2 L 276.1 186.1 L 274.6 186.1 L 274.6 173.9 L 276.1 173.9 L 276.1 178.9 Q 277.2 177.7, 278.9 177.7 \" fill=\"#000000\"/>\n",
       "<path class=\"legend\" d=\"M 283.4 183.9 Q 283.4 182.5, 284.5 181.8 Q 285.5 181.1, 287.5 181.1 L 288.7 181.1 L 288.7 180.8 Q 288.7 179.8, 288.2 179.3 Q 287.8 178.9, 286.8 178.9 Q 286.2 178.9, 285.6 179.0 Q 285.1 179.1, 284.3 179.5 L 283.9 178.4 Q 285.4 177.7, 286.8 177.7 Q 288.6 177.7, 289.4 178.5 Q 290.2 179.2, 290.2 180.8 L 290.2 186.1 L 289.0 186.1 Q 289.0 186.0, 289.0 185.8 Q 288.9 185.5, 288.8 185.1 Q 287.7 186.3, 286.1 186.3 Q 284.9 186.3, 284.2 185.6 Q 283.4 185.0, 283.4 183.9 M 284.9 183.8 Q 284.9 184.4, 285.3 184.8 Q 285.7 185.1, 286.4 185.1 Q 287.0 185.1, 287.7 184.8 Q 288.3 184.5, 288.7 184.0 L 288.7 182.2 L 287.6 182.2 Q 286.2 182.2, 285.6 182.6 Q 284.9 183.0, 284.9 183.8 \" fill=\"#000000\"/>\n",
       "<path class=\"legend\" d=\"M 292.0 179.0 L 292.0 177.9 L 293.6 177.9 L 293.8 175.5 L 294.9 175.5 L 294.9 177.9 L 297.4 177.9 L 297.4 179.0 L 294.9 179.0 L 294.9 183.6 Q 294.9 185.0, 296.1 185.0 Q 296.6 185.0, 297.3 184.8 L 297.6 185.8 Q 296.7 186.2, 295.9 186.2 Q 294.8 186.2, 294.1 185.5 Q 293.4 184.9, 293.4 183.6 L 293.4 179.0 L 292.0 179.0 \" fill=\"#000000\"/>\n",
       "<path class=\"legend\" d=\"M 298.5 182.0 Q 298.5 179.9, 299.6 178.8 Q 300.6 177.7, 302.4 177.7 Q 304.2 177.7, 305.0 178.8 Q 305.8 179.9, 305.8 181.9 L 305.8 182.2 L 300.1 182.2 Q 300.1 183.6, 300.7 184.3 Q 301.4 185.0, 302.5 185.0 Q 303.2 185.0, 303.8 184.9 Q 304.4 184.7, 305.1 184.4 L 305.5 185.4 Q 304.7 185.8, 304.0 186.0 Q 303.2 186.2, 302.5 186.2 Q 300.6 186.2, 299.6 185.1 Q 298.5 184.0, 298.5 182.0 M 302.4 178.9 Q 301.5 178.9, 300.9 179.4 Q 300.3 180.0, 300.1 181.0 L 304.2 181.0 Q 304.1 179.9, 303.7 179.4 Q 303.2 178.9, 302.4 178.9 \" fill=\"#000000\"/>\n",
       "<path class=\"legend\" d=\"\" fill=\"#000000\"/>\n",
       "<path class=\"legend\" d=\"M 312.9 182.0 Q 312.9 179.9, 313.9 178.8 Q 314.9 177.7, 316.8 177.7 Q 318.6 177.7, 319.4 178.8 Q 320.2 179.9, 320.2 181.9 L 320.2 182.2 L 314.5 182.2 Q 314.5 183.6, 315.1 184.3 Q 315.7 185.0, 316.9 185.0 Q 317.5 185.0, 318.1 184.9 Q 318.7 184.7, 319.4 184.4 L 319.9 185.4 Q 319.1 185.8, 318.3 186.0 Q 317.6 186.2, 316.8 186.2 Q 315.0 186.2, 313.9 185.1 Q 312.9 184.0, 312.9 182.0 M 316.8 178.9 Q 315.8 178.9, 315.3 179.4 Q 314.7 180.0, 314.5 181.0 L 318.6 181.0 Q 318.5 179.9, 318.1 179.4 Q 317.6 178.9, 316.8 178.9 \" fill=\"#000000\"/>\n",
       "<path class=\"legend\" d=\"M 321.8 184.4 Q 322.6 184.7, 323.1 184.8 Q 323.6 185.0, 324.2 185.0 Q 324.9 185.0, 325.3 184.7 Q 325.7 184.4, 325.7 183.8 Q 325.7 183.4, 325.5 183.2 Q 325.3 182.9, 325.0 182.8 Q 324.7 182.7, 324.0 182.5 Q 323.9 182.4, 323.2 182.2 Q 322.4 181.9, 322.0 181.4 Q 321.7 180.8, 321.7 180.0 Q 321.7 179.1, 322.4 178.4 Q 323.2 177.7, 324.7 177.7 Q 325.3 177.7, 325.8 177.9 Q 326.4 178.0, 327.0 178.2 L 326.6 179.4 Q 326.1 179.2, 325.6 179.1 Q 325.2 179.0, 324.7 179.0 Q 323.9 179.0, 323.5 179.3 Q 323.2 179.6, 323.2 180.0 Q 323.2 180.5, 323.5 180.7 Q 323.8 180.9, 324.4 181.2 Q 324.6 181.2, 324.8 181.3 L 325.1 181.4 Q 325.8 181.6, 326.2 181.9 Q 326.6 182.1, 326.9 182.5 Q 327.2 183.0, 327.2 183.7 Q 327.2 184.9, 326.4 185.6 Q 325.5 186.2, 324.2 186.2 Q 323.4 186.2, 322.7 186.1 Q 322.1 185.9, 321.4 185.6 L 321.8 184.4 \" fill=\"#000000\"/>\n",
       "<path class=\"legend\" d=\"M 328.6 179.0 L 328.6 177.9 L 330.2 177.9 L 330.5 175.5 L 331.6 175.5 L 331.6 177.9 L 334.1 177.9 L 334.1 179.0 L 331.6 179.0 L 331.6 183.6 Q 331.6 185.0, 332.8 185.0 Q 333.3 185.0, 334.0 184.8 L 334.2 185.8 Q 333.3 186.2, 332.5 186.2 Q 331.4 186.2, 330.7 185.5 Q 330.1 184.9, 330.1 183.6 L 330.1 179.0 L 328.6 179.0 \" fill=\"#000000\"/>\n",
       "<path class=\"legend\" d=\"M 335.2 182.0 Q 335.2 179.9, 336.2 178.8 Q 337.2 177.7, 339.0 177.7 Q 340.9 177.7, 341.7 178.8 Q 342.5 179.9, 342.5 181.9 L 342.5 182.2 L 336.7 182.2 Q 336.8 183.6, 337.4 184.3 Q 338.0 185.0, 339.2 185.0 Q 339.8 185.0, 340.4 184.9 Q 341.0 184.7, 341.7 184.4 L 342.2 185.4 Q 341.3 185.8, 340.6 186.0 Q 339.9 186.2, 339.1 186.2 Q 337.2 186.2, 336.2 185.1 Q 335.2 184.0, 335.2 182.0 M 339.0 178.9 Q 338.1 178.9, 337.5 179.4 Q 337.0 180.0, 336.8 181.0 L 340.9 181.0 Q 340.8 179.9, 340.3 179.4 Q 339.9 178.9, 339.0 178.9 \" fill=\"#000000\"/>\n",
       "<path class=\"legend\" d=\"M 344.9 177.9 L 345.0 179.0 Q 345.9 177.7, 347.3 177.7 Q 347.8 177.7, 348.4 177.9 L 348.1 179.2 Q 347.4 179.1, 347.1 179.1 Q 346.4 179.1, 345.9 179.3 Q 345.5 179.6, 345.2 180.2 L 345.2 186.1 L 343.7 186.1 L 343.7 177.9 L 344.9 177.9 \" fill=\"#000000\"/>\n",
       "<path class=\"legend\" d=\"M 349.7 184.4 Q 350.4 184.7, 350.9 184.8 Q 351.4 185.0, 352.0 185.0 Q 352.7 185.0, 353.1 184.7 Q 353.5 184.4, 353.5 183.8 Q 353.5 183.4, 353.3 183.2 Q 353.1 182.9, 352.8 182.8 Q 352.6 182.7, 351.8 182.5 Q 351.7 182.4, 351.0 182.2 Q 350.2 181.9, 349.8 181.4 Q 349.5 180.8, 349.5 180.0 Q 349.5 179.1, 350.2 178.4 Q 351.0 177.7, 352.5 177.7 Q 353.1 177.7, 353.7 177.9 Q 354.2 178.0, 354.8 178.2 L 354.4 179.4 Q 353.9 179.2, 353.4 179.1 Q 353.0 179.0, 352.5 179.0 Q 351.7 179.0, 351.4 179.3 Q 351.0 179.6, 351.0 180.0 Q 351.0 180.5, 351.3 180.7 Q 351.6 180.9, 352.2 181.2 Q 352.4 181.2, 352.6 181.3 L 353.0 181.4 Q 353.6 181.6, 354.0 181.9 Q 354.4 182.1, 354.7 182.5 Q 355.0 183.0, 355.0 183.7 Q 355.0 184.9, 354.2 185.6 Q 353.3 186.2, 352.0 186.2 Q 351.2 186.2, 350.5 186.1 Q 349.9 185.9, 349.2 185.6 L 349.7 184.4 \" fill=\"#000000\"/>\n",
       "<path class=\"bond-0 atom-0 atom-1\" d=\"M 552.7,91.2 L 544.8,86.6\" style=\"fill:none;fill-rule:evenodd;stroke:#7F7F7F;stroke-width:2.0px;stroke-linecap:butt;stroke-linejoin:miter;stroke-opacity:1\"/>\n",
       "<path class=\"bond-0 atom-0 atom-1\" d=\"M 543.6,88.6 L 535.7,84.0\" style=\"fill:none;fill-rule:evenodd;stroke:#7F7F7F;stroke-width:2.0px;stroke-linecap:butt;stroke-linejoin:miter;stroke-opacity:1\"/>\n",
       "<path class=\"bond-0 atom-0 atom-1\" d=\"M 545.9,84.6 L 538.0,80.0\" style=\"fill:none;fill-rule:evenodd;stroke:#7F7F7F;stroke-width:2.0px;stroke-linecap:butt;stroke-linejoin:miter;stroke-opacity:1;stroke-dasharray:1,1.33333\"/>\n",
       "<path class=\"bond-1 atom-1 atom-2\" d=\"M 515.4,82.0 L 511.9,84.1\" style=\"fill:none;fill-rule:evenodd;stroke:#7F7F7F;stroke-width:2.0px;stroke-linecap:butt;stroke-linejoin:miter;stroke-opacity:1\"/>\n",
       "<path class=\"bond-1 atom-1 atom-2\" d=\"M 513.0,86.1 L 509.4,88.1\" style=\"fill:none;fill-rule:evenodd;stroke:#7F7F7F;stroke-width:2.0px;stroke-linecap:butt;stroke-linejoin:miter;stroke-opacity:1\"/>\n",
       "<path class=\"bond-1 atom-1 atom-2\" d=\"M 510.7,82.1 L 507.1,84.2\" style=\"fill:none;fill-rule:evenodd;stroke:#7F7F7F;stroke-width:2.0px;stroke-linecap:butt;stroke-linejoin:miter;stroke-opacity:1;stroke-dasharray:0.5,0.666667\"/>\n",
       "<path class=\"bond-2 atom-2 atom-3\" d=\"M 504.3,104.0 L 506.3,107.5\" style=\"fill:none;fill-rule:evenodd;stroke:#000000;stroke-width:2.0px;stroke-linecap:butt;stroke-linejoin:miter;stroke-opacity:1\"/>\n",
       "<path class=\"bond-2 atom-2 atom-3\" d=\"M 508.3,101.7 L 510.3,105.2\" style=\"fill:none;fill-rule:evenodd;stroke:#000000;stroke-width:2.0px;stroke-linecap:butt;stroke-linejoin:miter;stroke-opacity:1\"/>\n",
       "<path class=\"bond-3 atom-2 atom-4\" d=\"M 489.7,94.2 L 482.6,98.3\" style=\"fill:none;fill-rule:evenodd;stroke:#000000;stroke-width:2.0px;stroke-linecap:butt;stroke-linejoin:miter;stroke-opacity:1\"/>\n",
       "<path class=\"bond-3 atom-2 atom-4\" d=\"M 492.0,98.2 L 484.9,102.3\" style=\"fill:none;fill-rule:evenodd;stroke:#000000;stroke-width:2.0px;stroke-linecap:butt;stroke-linejoin:miter;stroke-opacity:1\"/>\n",
       "<path class=\"bond-4 atom-2 atom-5\" d=\"M 493.0,79.9 L 491.8,77.7\" style=\"fill:none;fill-rule:evenodd;stroke:#7F7F7F;stroke-width:2.0px;stroke-linecap:butt;stroke-linejoin:miter;stroke-opacity:1\"/>\n",
       "<path class=\"bond-4 atom-2 atom-5\" d=\"M 493.8,76.5 L 492.5,74.3\" style=\"fill:none;fill-rule:evenodd;stroke:#7F7F7F;stroke-width:2.0px;stroke-linecap:butt;stroke-linejoin:miter;stroke-opacity:1\"/>\n",
       "<path class=\"bond-4 atom-2 atom-5\" d=\"M 489.8,78.8 L 488.5,76.6\" style=\"fill:none;fill-rule:evenodd;stroke:#7F7F7F;stroke-width:2.0px;stroke-linecap:butt;stroke-linejoin:miter;stroke-opacity:1;stroke-dasharray:0.5,0.666667\"/>\n",
       "<path class=\"atom-1\" d=\"M 519.5 75.9 Q 519.5 72.4, 521.2 70.5 Q 522.9 68.5, 526.1 68.5 Q 529.4 68.5, 531.1 70.5 Q 532.8 72.4, 532.8 75.9 Q 532.8 79.4, 531.1 81.4 Q 529.3 83.4, 526.1 83.4 Q 523.0 83.4, 521.2 81.4 Q 519.5 79.4, 519.5 75.9 M 526.1 81.8 Q 528.4 81.8, 529.5 80.3 Q 530.7 78.8, 530.7 75.9 Q 530.7 73.0, 529.5 71.6 Q 528.4 70.2, 526.1 70.2 Q 523.9 70.2, 522.7 71.6 Q 521.5 73.0, 521.5 75.9 Q 521.5 78.8, 522.7 80.3 Q 523.9 81.8, 526.1 81.8 \" fill=\"#000000\"/>\n",
       "<path class=\"atom-2\" d=\"M 495.5 96.2 Q 495.6 96.2, 496.3 96.5 Q 497.0 96.8, 497.7 97.0 Q 498.5 97.1, 499.2 97.1 Q 500.6 97.1, 501.4 96.5 Q 502.2 95.8, 502.2 94.6 Q 502.2 93.8, 501.8 93.4 Q 501.4 92.9, 500.8 92.6 Q 500.2 92.3, 499.1 92.0 Q 497.9 91.6, 497.1 91.3 Q 496.3 90.9, 495.8 90.1 Q 495.2 89.3, 495.2 88.0 Q 495.2 86.2, 496.5 85.1 Q 497.7 84.0, 500.2 84.0 Q 501.8 84.0, 503.7 84.8 L 503.3 86.3 Q 501.5 85.6, 500.2 85.6 Q 498.8 85.6, 498.0 86.2 Q 497.3 86.8, 497.3 87.8 Q 497.3 88.6, 497.7 89.0 Q 498.1 89.5, 498.6 89.8 Q 499.2 90.0, 500.2 90.3 Q 501.5 90.8, 502.3 91.2 Q 503.1 91.6, 503.6 92.4 Q 504.2 93.2, 504.2 94.6 Q 504.2 96.6, 502.9 97.7 Q 501.5 98.8, 499.3 98.8 Q 498.0 98.8, 497.0 98.5 Q 496.1 98.2, 494.9 97.8 L 495.5 96.2 \" fill=\"#000000\"/>\n",
       "<path class=\"atom-3\" d=\"M 508.3 117.8 Q 508.3 114.3, 510.0 112.4 Q 511.7 110.4, 514.9 110.4 Q 518.1 110.4, 519.8 112.4 Q 521.6 114.3, 521.6 117.8 Q 521.6 121.3, 519.8 123.3 Q 518.1 125.3, 514.9 125.3 Q 511.7 125.3, 510.0 123.3 Q 508.3 121.3, 508.3 117.8 M 514.9 123.7 Q 517.1 123.7, 518.3 122.2 Q 519.5 120.7, 519.5 117.8 Q 519.5 115.0, 518.3 113.5 Q 517.1 112.1, 514.9 112.1 Q 512.7 112.1, 511.5 113.5 Q 510.3 114.9, 510.3 117.8 Q 510.3 120.7, 511.5 122.2 Q 512.7 123.7, 514.9 123.7 \" fill=\"#000000\"/>\n",
       "<path class=\"atom-4\" d=\"M 466.3 106.6 Q 466.3 103.1, 468.1 101.1 Q 469.8 99.2, 473.0 99.2 Q 476.2 99.2, 477.9 101.1 Q 479.6 103.1, 479.6 106.6 Q 479.6 110.1, 477.9 112.1 Q 476.2 114.1, 473.0 114.1 Q 469.8 114.1, 468.1 112.1 Q 466.3 110.1, 466.3 106.6 M 473.0 112.4 Q 475.2 112.4, 476.4 111.0 Q 477.6 109.5, 477.6 106.6 Q 477.6 103.7, 476.4 102.3 Q 475.2 100.8, 473.0 100.8 Q 470.8 100.8, 469.6 102.3 Q 468.4 103.7, 468.4 106.6 Q 468.4 109.5, 469.6 111.0 Q 470.8 112.4, 473.0 112.4 \" fill=\"#000000\"/>\n",
       "<path class=\"atom-5\" d=\"M 447.3 56.7 L 451.6 56.7 L 451.6 58.2 L 449.0 58.2 L 449.0 75.0 L 451.6 75.0 L 451.6 76.5 L 447.3 76.5 L 447.3 56.7 \" fill=\"#000000\"/>\n",
       "<path class=\"atom-5\" d=\"M 452.7 65.3 Q 452.7 61.7, 454.4 59.8 Q 456.1 57.9, 459.3 57.9 Q 462.3 57.9, 463.9 60.0 L 462.5 61.1 Q 461.4 59.6, 459.3 59.6 Q 457.1 59.6, 455.9 61.0 Q 454.8 62.5, 454.8 65.3 Q 454.8 68.1, 456.0 69.6 Q 457.2 71.1, 459.5 71.1 Q 461.1 71.1, 463.0 70.1 L 463.6 71.6 Q 462.8 72.1, 461.7 72.4 Q 460.5 72.7, 459.2 72.7 Q 456.1 72.7, 454.4 70.8 Q 452.7 68.9, 452.7 65.3 \" fill=\"#000000\"/>\n",
       "<path class=\"atom-5\" d=\"M 465.4 70.5 L 467.4 70.5 L 467.4 72.1 L 467.0 74.9 L 466.3 74.9 L 466.3 72.5 L 465.4 72.5 L 465.4 70.5 \" fill=\"#000000\"/>\n",
       "<path class=\"atom-5\" d=\"M 469.4 65.3 Q 469.4 61.7, 471.1 59.8 Q 472.8 57.9, 476.0 57.9 Q 479.0 57.9, 480.6 60.0 L 479.2 61.1 Q 478.1 59.6, 476.0 59.6 Q 473.8 59.6, 472.6 61.0 Q 471.5 62.5, 471.5 65.3 Q 471.5 68.1, 472.7 69.6 Q 473.9 71.1, 476.2 71.1 Q 477.8 71.1, 479.7 70.1 L 480.2 71.6 Q 479.5 72.1, 478.3 72.4 Q 477.2 72.7, 475.9 72.7 Q 472.8 72.7, 471.1 70.8 Q 469.4 68.9, 469.4 65.3 \" fill=\"#000000\"/>\n",
       "<path class=\"atom-5\" d=\"M 486.4 56.7 L 486.4 76.5 L 482.0 76.5 L 482.0 75.0 L 484.7 75.0 L 484.7 58.2 L 482.0 58.2 L 482.0 56.7 L 486.4 56.7 \" fill=\"#000000\"/>\n",
       "<path class=\"legend\" d=\"M 457.2 184.3 Q 457.4 184.4, 457.9 184.6 Q 458.4 184.8, 459.0 185.0 Q 459.6 185.1, 460.2 185.1 Q 461.2 185.1, 461.8 184.6 Q 462.5 184.0, 462.5 183.1 Q 462.5 182.5, 462.2 182.1 Q 461.8 181.7, 461.4 181.5 Q 460.9 181.3, 460.1 181.1 Q 459.1 180.8, 458.5 180.5 Q 457.9 180.2, 457.4 179.6 Q 457.0 179.0, 457.0 178.0 Q 457.0 176.5, 458.0 175.7 Q 459.0 174.8, 460.9 174.8 Q 462.2 174.8, 463.7 175.4 L 463.3 176.6 Q 462.0 176.1, 460.9 176.1 Q 459.8 176.1, 459.2 176.5 Q 458.6 177.0, 458.6 177.8 Q 458.6 178.4, 458.9 178.8 Q 459.3 179.1, 459.7 179.3 Q 460.2 179.5, 460.9 179.8 Q 462.0 180.1, 462.6 180.4 Q 463.2 180.7, 463.6 181.4 Q 464.1 182.0, 464.1 183.1 Q 464.1 184.7, 463.0 185.6 Q 462.0 186.4, 460.2 186.4 Q 459.2 186.4, 458.4 186.2 Q 457.7 186.0, 456.8 185.6 L 457.2 184.3 \" fill=\"#000000\"/>\n",
       "<path class=\"legend\" d=\"M 472.4 177.9 L 472.4 186.1 L 471.2 186.1 L 471.0 184.9 Q 470.0 186.2, 468.2 186.2 Q 466.9 186.2, 466.2 185.5 Q 465.4 184.7, 465.4 183.3 L 465.4 177.9 L 467.0 177.9 L 467.0 183.2 Q 467.0 184.2, 467.3 184.6 Q 467.7 185.0, 468.5 185.0 Q 469.3 185.0, 469.9 184.7 Q 470.5 184.4, 470.9 183.7 L 470.9 177.9 L 472.4 177.9 \" fill=\"#000000\"/>\n",
       "<path class=\"legend\" d=\"M 474.4 173.9 L 475.9 173.9 L 475.9 186.1 L 474.4 186.1 L 474.4 173.9 \" fill=\"#000000\"/>\n",
       "<path class=\"legend\" d=\"M 481.7 177.7 Q 483.4 177.7, 484.4 178.8 Q 485.3 179.8, 485.3 181.8 Q 485.3 183.9, 484.2 185.1 Q 483.1 186.2, 481.1 186.2 Q 480.2 186.2, 479.4 186.0 L 479.4 190.0 L 477.9 190.0 L 477.9 177.9 L 479.1 177.9 L 479.3 178.8 Q 479.7 178.3, 480.3 178.0 Q 481.0 177.7, 481.7 177.7 M 481.1 185.0 Q 482.3 185.0, 483.1 184.2 Q 483.8 183.3, 483.8 181.8 Q 483.8 180.4, 483.2 179.7 Q 482.6 178.9, 481.6 178.9 Q 480.8 178.9, 480.2 179.3 Q 479.6 179.8, 479.4 180.5 L 479.4 184.8 Q 480.2 185.0, 481.1 185.0 \" fill=\"#000000\"/>\n",
       "<path class=\"legend\" d=\"M 491.0 177.7 Q 492.3 177.7, 493.0 178.5 Q 493.7 179.2, 493.7 180.6 L 493.7 186.1 L 492.2 186.1 L 492.2 180.8 Q 492.2 179.8, 491.8 179.3 Q 491.4 178.9, 490.6 178.9 Q 489.8 178.9, 489.2 179.2 Q 488.6 179.6, 488.2 180.2 L 488.2 186.1 L 486.7 186.1 L 486.7 173.9 L 488.2 173.9 L 488.2 178.9 Q 489.3 177.7, 491.0 177.7 \" fill=\"#000000\"/>\n",
       "<path class=\"legend\" d=\"M 495.5 182.0 Q 495.5 180.0, 496.6 178.8 Q 497.6 177.7, 499.4 177.7 Q 501.3 177.7, 502.3 178.8 Q 503.4 180.0, 503.4 182.0 Q 503.4 184.0, 502.3 185.1 Q 501.3 186.2, 499.4 186.2 Q 497.6 186.2, 496.6 185.1 Q 495.5 184.0, 495.5 182.0 M 497.1 182.0 Q 497.1 183.5, 497.7 184.2 Q 498.3 185.0, 499.4 185.0 Q 500.6 185.0, 501.2 184.2 Q 501.8 183.5, 501.8 182.0 Q 501.8 180.4, 501.2 179.7 Q 500.6 178.9, 499.4 178.9 Q 498.3 178.9, 497.7 179.7 Q 497.1 180.4, 497.1 182.0 \" fill=\"#000000\"/>\n",
       "<path class=\"legend\" d=\"M 509.0 177.7 Q 510.3 177.7, 511.0 178.5 Q 511.7 179.2, 511.7 180.6 L 511.7 186.1 L 510.2 186.1 L 510.2 180.8 Q 510.2 179.8, 509.8 179.3 Q 509.5 178.9, 508.6 178.9 Q 507.9 178.9, 507.3 179.2 Q 506.6 179.6, 506.2 180.2 L 506.2 186.1 L 504.7 186.1 L 504.7 177.9 L 506.0 177.9 L 506.1 179.0 Q 507.2 177.7, 509.0 177.7 \" fill=\"#000000\"/>\n",
       "<path class=\"legend\" d=\"M 513.6 183.9 Q 513.6 182.5, 514.6 181.8 Q 515.7 181.1, 517.6 181.1 L 518.9 181.1 L 518.9 180.8 Q 518.9 179.8, 518.4 179.3 Q 518.0 178.9, 517.0 178.9 Q 516.3 178.9, 515.8 179.0 Q 515.3 179.1, 514.5 179.5 L 514.1 178.4 Q 515.6 177.7, 517.0 177.7 Q 518.8 177.7, 519.6 178.5 Q 520.4 179.2, 520.4 180.8 L 520.4 186.1 L 519.2 186.1 Q 519.2 186.0, 519.1 185.8 Q 519.1 185.5, 519.0 185.1 Q 517.8 186.3, 516.3 186.3 Q 515.1 186.3, 514.3 185.6 Q 513.6 185.0, 513.6 183.9 M 515.1 183.8 Q 515.1 184.4, 515.5 184.8 Q 515.9 185.1, 516.6 185.1 Q 517.2 185.1, 517.8 184.8 Q 518.4 184.5, 518.9 184.0 L 518.9 182.2 L 517.7 182.2 Q 516.4 182.2, 515.8 182.6 Q 515.1 183.0, 515.1 183.8 \" fill=\"#000000\"/>\n",
       "<path class=\"legend\" d=\"M 522.2 179.0 L 522.2 177.9 L 523.8 177.9 L 524.1 175.5 L 525.2 175.5 L 525.2 177.9 L 527.7 177.9 L 527.7 179.0 L 525.2 179.0 L 525.2 183.6 Q 525.2 185.0, 526.4 185.0 Q 526.9 185.0, 527.6 184.8 L 527.8 185.8 Q 526.9 186.2, 526.1 186.2 Q 525.0 186.2, 524.3 185.5 Q 523.7 184.9, 523.7 183.6 L 523.7 179.0 L 522.2 179.0 \" fill=\"#000000\"/>\n",
       "<path class=\"legend\" d=\"M 528.9 182.0 Q 528.9 179.9, 529.9 178.8 Q 530.9 177.7, 532.7 177.7 Q 534.5 177.7, 535.3 178.8 Q 536.1 179.9, 536.1 181.9 L 536.1 182.2 L 530.4 182.2 Q 530.4 183.6, 531.0 184.3 Q 531.7 185.0, 532.8 185.0 Q 533.5 185.0, 534.1 184.9 Q 534.7 184.7, 535.4 184.4 L 535.8 185.4 Q 535.0 185.8, 534.3 186.0 Q 533.5 186.2, 532.8 186.2 Q 530.9 186.2, 529.9 185.1 Q 528.9 184.0, 528.9 182.0 M 532.7 178.9 Q 531.8 178.9, 531.2 179.4 Q 530.6 180.0, 530.5 181.0 L 534.6 181.0 Q 534.4 179.9, 534.0 179.4 Q 533.5 178.9, 532.7 178.9 \" fill=\"#000000\"/>\n",
       "<path class=\"legend\" d=\"M 537.8 184.4 Q 538.6 184.7, 539.1 184.8 Q 539.6 185.0, 540.2 185.0 Q 540.9 185.0, 541.3 184.7 Q 541.7 184.4, 541.7 183.8 Q 541.7 183.4, 541.5 183.2 Q 541.3 182.9, 541.0 182.8 Q 540.7 182.7, 540.0 182.5 Q 539.9 182.4, 539.2 182.2 Q 538.4 181.9, 538.0 181.4 Q 537.7 180.8, 537.7 180.0 Q 537.7 179.1, 538.4 178.4 Q 539.2 177.7, 540.7 177.7 Q 541.3 177.7, 541.8 177.9 Q 542.4 178.0, 543.0 178.2 L 542.6 179.4 Q 542.1 179.2, 541.6 179.1 Q 541.2 179.0, 540.7 179.0 Q 539.9 179.0, 539.5 179.3 Q 539.2 179.6, 539.2 180.0 Q 539.2 180.5, 539.5 180.7 Q 539.8 180.9, 540.4 181.2 Q 540.6 181.2, 540.8 181.3 L 541.1 181.4 Q 541.8 181.6, 542.2 181.9 Q 542.6 182.1, 542.9 182.5 Q 543.2 183.0, 543.2 183.7 Q 543.2 184.9, 542.4 185.6 Q 541.5 186.2, 540.2 186.2 Q 539.4 186.2, 538.7 186.1 Q 538.1 185.9, 537.4 185.6 L 537.8 184.4 \" fill=\"#000000\"/>\n",
       "<path class=\"bond-0 atom-0 atom-1\" d=\"M 126.6,301.3 L 142.4,292.2\" style=\"fill:none;fill-rule:evenodd;stroke:#000000;stroke-width:2.0px;stroke-linecap:butt;stroke-linejoin:miter;stroke-opacity:1\"/>\n",
       "<path class=\"bond-0 atom-0 atom-1\" d=\"M 126.6,296.0 L 140.1,288.2\" style=\"fill:none;fill-rule:evenodd;stroke:#000000;stroke-width:2.0px;stroke-linecap:butt;stroke-linejoin:miter;stroke-opacity:1\"/>\n",
       "<path class=\"bond-1 atom-0 atom-2\" d=\"M 126.6,301.3 L 118.7,296.8\" style=\"fill:none;fill-rule:evenodd;stroke:#7F7F7F;stroke-width:2.0px;stroke-linecap:butt;stroke-linejoin:miter;stroke-opacity:1\"/>\n",
       "<path class=\"bond-1 atom-0 atom-2\" d=\"M 118.7,296.8 L 110.7,292.2\" style=\"fill:none;fill-rule:evenodd;stroke:#7F7F7F;stroke-width:2.0px;stroke-linecap:butt;stroke-linejoin:miter;stroke-opacity:1\"/>\n",
       "<path class=\"bond-1 atom-0 atom-2\" d=\"M 119.8,292.1 L 113.0,288.2\" style=\"fill:none;fill-rule:evenodd;stroke:#7F7F7F;stroke-width:2.0px;stroke-linecap:butt;stroke-linejoin:miter;stroke-opacity:1;stroke-dasharray:1,1.33333\"/>\n",
       "<path class=\"bond-2 atom-2 atom-3\" d=\"M 89.3,292.2 L 81.3,296.8\" style=\"fill:none;fill-rule:evenodd;stroke:#7F7F7F;stroke-width:2.0px;stroke-linecap:butt;stroke-linejoin:miter;stroke-opacity:1\"/>\n",
       "<path class=\"bond-2 atom-2 atom-3\" d=\"M 81.3,296.8 L 73.4,301.3\" style=\"fill:none;fill-rule:evenodd;stroke:#7F7F7F;stroke-width:2.0px;stroke-linecap:butt;stroke-linejoin:miter;stroke-opacity:1\"/>\n",
       "<path class=\"bond-2 atom-2 atom-3\" d=\"M 83.7,300.7 L 75.7,305.3\" style=\"fill:none;fill-rule:evenodd;stroke:#7F7F7F;stroke-width:2.0px;stroke-linecap:butt;stroke-linejoin:miter;stroke-opacity:1;stroke-dasharray:1,1.33333\"/>\n",
       "<path class=\"bond-3 atom-3 atom-4\" d=\"M 73.4,301.3 L 57.6,292.2\" style=\"fill:none;fill-rule:evenodd;stroke:#000000;stroke-width:2.0px;stroke-linecap:butt;stroke-linejoin:miter;stroke-opacity:1\"/>\n",
       "<path class=\"bond-3 atom-3 atom-4\" d=\"M 73.4,296.0 L 59.9,288.2\" style=\"fill:none;fill-rule:evenodd;stroke:#000000;stroke-width:2.0px;stroke-linecap:butt;stroke-linejoin:miter;stroke-opacity:1\"/>\n",
       "<path d=\"M 127.0,301.1 L 126.6,301.3 L 126.4,301.2\" style=\"fill:none;stroke:#000000;stroke-width:2.0px;stroke-linecap:butt;stroke-linejoin:miter;stroke-opacity:1;\"/>\n",
       "<path d=\"M 73.6,301.2 L 73.4,301.3 L 73.0,301.1\" style=\"fill:none;stroke:#7F7F7F;stroke-width:2.0px;stroke-linecap:butt;stroke-linejoin:miter;stroke-opacity:1;\"/>\n",
       "<path class=\"atom-1\" d=\"M 145.3 284.0 Q 145.3 280.6, 147.1 278.6 Q 148.8 276.7, 152.0 276.7 Q 155.2 276.7, 156.9 278.6 Q 158.6 280.6, 158.6 284.0 Q 158.6 287.6, 156.9 289.6 Q 155.2 291.5, 152.0 291.5 Q 148.8 291.5, 147.1 289.6 Q 145.3 287.6, 145.3 284.0 M 152.0 289.9 Q 154.2 289.9, 155.4 288.4 Q 156.6 286.9, 156.6 284.0 Q 156.6 281.2, 155.4 279.8 Q 154.2 278.3, 152.0 278.3 Q 149.8 278.3, 148.6 279.7 Q 147.4 281.2, 147.4 284.0 Q 147.4 287.0, 148.6 288.4 Q 149.8 289.9, 152.0 289.9 \" fill=\"#000000\"/>\n",
       "<path class=\"atom-2\" d=\"M 93.4 286.0 Q 93.4 282.6, 95.1 280.6 Q 96.8 278.7, 100.0 278.7 Q 103.2 278.7, 104.9 280.6 Q 106.6 282.6, 106.6 286.0 Q 106.6 289.6, 104.9 291.6 Q 103.2 293.5, 100.0 293.5 Q 96.8 293.5, 95.1 291.6 Q 93.4 289.6, 93.4 286.0 M 100.0 291.9 Q 102.2 291.9, 103.4 290.4 Q 104.6 288.9, 104.6 286.0 Q 104.6 283.2, 103.4 281.8 Q 102.2 280.3, 100.0 280.3 Q 97.8 280.3, 96.6 281.7 Q 95.4 283.2, 95.4 286.0 Q 95.4 289.0, 96.6 290.4 Q 97.8 291.9, 100.0 291.9 \" fill=\"#000000\"/>\n",
       "<path class=\"atom-4\" d=\"M 41.4 284.0 Q 41.4 280.6, 43.1 278.6 Q 44.8 276.7, 48.0 276.7 Q 51.2 276.7, 52.9 278.6 Q 54.7 280.6, 54.7 284.0 Q 54.7 287.6, 52.9 289.6 Q 51.2 291.5, 48.0 291.5 Q 44.8 291.5, 43.1 289.6 Q 41.4 287.6, 41.4 284.0 M 48.0 289.9 Q 50.2 289.9, 51.4 288.4 Q 52.6 286.9, 52.6 284.0 Q 52.6 281.2, 51.4 279.8 Q 50.2 278.3, 48.0 278.3 Q 45.8 278.3, 44.6 279.7 Q 43.4 281.2, 43.4 284.0 Q 43.4 287.0, 44.6 288.4 Q 45.8 289.9, 48.0 289.9 \" fill=\"#000000\"/>\n",
       "<path class=\"legend\" d=\"M 51.5 386.1 L 50.3 382.7 L 45.8 382.7 L 44.6 386.1 L 43.1 386.1 L 47.0 374.7 L 48.9 374.7 L 52.9 386.1 L 51.5 386.1 M 46.2 381.5 L 49.8 381.5 L 48.0 376.3 L 46.2 381.5 \" fill=\"#000000\"/>\n",
       "<path class=\"legend\" d=\"M 53.7 381.9 Q 53.7 380.0, 54.7 378.8 Q 55.7 377.7, 57.7 377.7 Q 59.5 377.7, 60.5 379.1 L 59.5 379.8 Q 59.1 379.3, 58.7 379.1 Q 58.2 378.9, 57.7 378.9 Q 56.5 378.9, 55.9 379.7 Q 55.3 380.4, 55.3 381.9 Q 55.3 383.5, 55.9 384.2 Q 56.6 385.0, 57.8 385.0 Q 58.4 385.0, 58.9 384.9 Q 59.4 384.7, 59.9 384.4 L 60.3 385.5 Q 59.2 386.2, 57.6 386.2 Q 55.7 386.2, 54.7 385.0 Q 53.7 383.9, 53.7 381.9 \" fill=\"#000000\"/>\n",
       "<path class=\"legend\" d=\"M 61.5 374.7 L 62.9 374.7 L 62.9 376.1 L 61.5 376.1 L 61.5 374.7 M 61.5 377.8 L 62.9 377.8 L 62.9 386.1 L 61.5 386.1 L 61.5 377.8 \" fill=\"#000000\"/>\n",
       "<path class=\"legend\" d=\"M 72.4 373.9 L 72.4 386.0 L 71.2 386.0 L 71.0 385.0 Q 70.0 386.2, 68.5 386.2 Q 66.8 386.2, 65.9 385.1 Q 64.9 384.1, 64.9 382.1 Q 64.9 380.0, 66.0 378.9 Q 67.2 377.7, 69.1 377.7 Q 70.0 377.7, 70.9 377.9 L 70.9 373.9 L 72.4 373.9 M 68.6 385.0 Q 69.5 385.0, 70.0 384.6 Q 70.7 384.1, 70.9 383.3 L 70.9 379.1 Q 70.1 378.9, 69.2 378.9 Q 67.9 378.9, 67.2 379.7 Q 66.4 380.6, 66.4 382.1 Q 66.4 383.5, 67.0 384.3 Q 67.6 385.0, 68.6 385.0 \" fill=\"#000000\"/>\n",
       "<path class=\"legend\" d=\"\" fill=\"#000000\"/>\n",
       "<path class=\"legend\" d=\"M 80.2 383.8 Q 80.2 382.5, 81.2 381.8 Q 82.3 381.1, 84.2 381.1 L 85.4 381.1 L 85.4 380.8 Q 85.4 379.7, 85.0 379.3 Q 84.6 378.9, 83.6 378.9 Q 82.9 378.9, 82.4 379.0 Q 81.9 379.1, 81.1 379.5 L 80.6 378.4 Q 82.1 377.7, 83.6 377.7 Q 85.3 377.7, 86.1 378.4 Q 86.9 379.2, 86.9 380.8 L 86.9 386.1 L 85.8 386.1 Q 85.8 386.0, 85.7 385.8 Q 85.7 385.5, 85.6 385.1 Q 84.4 386.3, 82.9 386.3 Q 81.6 386.3, 80.9 385.6 Q 80.2 384.9, 80.2 383.8 M 81.7 383.8 Q 81.7 384.4, 82.1 384.8 Q 82.4 385.1, 83.2 385.1 Q 83.8 385.1, 84.4 384.8 Q 85.0 384.5, 85.4 384.0 L 85.4 382.2 L 84.3 382.2 Q 83.0 382.2, 82.3 382.6 Q 81.7 383.0, 81.7 383.8 \" fill=\"#000000\"/>\n",
       "<path class=\"legend\" d=\"M 93.1 377.7 Q 94.4 377.7, 95.1 378.4 Q 95.8 379.2, 95.8 380.6 L 95.8 386.1 L 94.3 386.1 L 94.3 380.7 Q 94.3 379.8, 93.9 379.3 Q 93.5 378.9, 92.7 378.9 Q 91.9 378.9, 91.3 379.2 Q 90.7 379.6, 90.3 380.2 L 90.3 386.1 L 88.8 386.1 L 88.8 377.8 L 90.0 377.8 L 90.2 379.0 Q 91.3 377.7, 93.1 377.7 \" fill=\"#000000\"/>\n",
       "<path class=\"legend\" d=\"M 101.9 377.7 Q 103.2 377.7, 103.9 378.4 Q 104.6 379.2, 104.6 380.6 L 104.6 386.1 L 103.1 386.1 L 103.1 380.7 Q 103.1 379.8, 102.7 379.3 Q 102.3 378.9, 101.5 378.9 Q 100.7 378.9, 100.1 379.2 Q 99.5 379.6, 99.1 380.2 L 99.1 386.1 L 97.6 386.1 L 97.6 373.9 L 99.1 373.9 L 99.1 378.9 Q 100.2 377.7, 101.9 377.7 \" fill=\"#000000\"/>\n",
       "<path class=\"legend\" d=\"M 112.7 377.8 L 114.2 377.8 L 109.9 390.0 L 108.6 390.0 L 109.9 386.1 L 109.3 386.1 L 106.4 377.8 L 107.9 377.8 L 110.4 384.8 L 112.7 377.8 \" fill=\"#000000\"/>\n",
       "<path class=\"legend\" d=\"M 122.4 373.9 L 122.4 386.0 L 121.2 386.0 L 121.0 385.0 Q 120.1 386.2, 118.5 386.2 Q 116.8 386.2, 115.9 385.1 Q 114.9 384.1, 114.9 382.1 Q 114.9 380.0, 116.1 378.9 Q 117.2 377.7, 119.2 377.7 Q 120.0 377.7, 120.9 377.9 L 120.9 373.9 L 122.4 373.9 M 118.6 385.0 Q 119.5 385.0, 120.1 384.6 Q 120.7 384.1, 120.9 383.3 L 120.9 379.1 Q 120.1 378.9, 119.2 378.9 Q 117.9 378.9, 117.2 379.7 Q 116.5 380.6, 116.5 382.1 Q 116.5 383.5, 117.0 384.3 Q 117.6 385.0, 118.6 385.0 \" fill=\"#000000\"/>\n",
       "<path class=\"legend\" d=\"M 125.5 377.8 L 125.7 379.0 Q 126.5 377.7, 127.9 377.7 Q 128.4 377.7, 129.0 377.9 L 128.8 379.2 Q 128.1 379.0, 127.7 379.0 Q 127.0 379.0, 126.6 379.3 Q 126.1 379.6, 125.8 380.2 L 125.8 386.1 L 124.3 386.1 L 124.3 377.8 L 125.5 377.8 \" fill=\"#000000\"/>\n",
       "<path class=\"legend\" d=\"M 129.8 374.7 L 131.3 374.7 L 131.3 376.1 L 129.8 376.1 L 129.8 374.7 M 129.8 377.8 L 131.3 377.8 L 131.3 386.1 L 129.8 386.1 L 129.8 377.8 \" fill=\"#000000\"/>\n",
       "<path class=\"legend\" d=\"M 140.7 373.9 L 140.7 386.0 L 139.5 386.0 L 139.3 385.0 Q 138.4 386.2, 136.9 386.2 Q 135.2 386.2, 134.2 385.1 Q 133.3 384.1, 133.3 382.1 Q 133.3 380.0, 134.4 378.9 Q 135.5 377.7, 137.5 377.7 Q 138.3 377.7, 139.2 377.9 L 139.2 373.9 L 140.7 373.9 M 137.0 385.0 Q 137.8 385.0, 138.4 384.6 Q 139.0 384.1, 139.2 383.3 L 139.2 379.1 Q 138.4 378.9, 137.5 378.9 Q 136.2 378.9, 135.5 379.7 Q 134.8 380.6, 134.8 382.1 Q 134.8 383.5, 135.4 384.3 Q 135.9 385.0, 137.0 385.0 \" fill=\"#000000\"/>\n",
       "<path class=\"legend\" d=\"M 142.6 381.9 Q 142.6 379.9, 143.6 378.8 Q 144.6 377.7, 146.5 377.7 Q 148.3 377.7, 149.1 378.8 Q 149.9 379.9, 149.9 381.9 L 149.9 382.1 L 144.1 382.1 Q 144.2 383.5, 144.8 384.3 Q 145.4 385.0, 146.6 385.0 Q 147.2 385.0, 147.8 384.9 Q 148.4 384.7, 149.1 384.4 L 149.6 385.4 Q 148.7 385.8, 148.0 386.0 Q 147.3 386.2, 146.5 386.2 Q 144.6 386.2, 143.6 385.1 Q 142.6 384.0, 142.6 381.9 M 146.5 378.9 Q 145.5 378.9, 144.9 379.4 Q 144.4 380.0, 144.2 381.0 L 148.3 381.0 Q 148.2 379.9, 147.7 379.4 Q 147.3 378.9, 146.5 378.9 \" fill=\"#000000\"/>\n",
       "<path class=\"legend\" d=\"M 151.5 384.4 Q 152.3 384.7, 152.8 384.8 Q 153.3 385.0, 153.9 385.0 Q 154.6 385.0, 155.0 384.7 Q 155.4 384.4, 155.4 383.8 Q 155.4 383.4, 155.2 383.2 Q 155.0 382.9, 154.7 382.8 Q 154.4 382.7, 153.7 382.5 Q 153.6 382.4, 152.9 382.2 Q 152.1 381.9, 151.7 381.4 Q 151.3 380.8, 151.3 380.0 Q 151.3 379.0, 152.1 378.4 Q 152.9 377.7, 154.4 377.7 Q 155.0 377.7, 155.5 377.8 Q 156.1 378.0, 156.7 378.2 L 156.3 379.4 Q 155.8 379.2, 155.3 379.1 Q 154.9 378.9, 154.4 378.9 Q 153.6 378.9, 153.2 379.2 Q 152.9 379.5, 152.9 380.0 Q 152.9 380.5, 153.2 380.7 Q 153.5 380.9, 154.1 381.1 Q 154.3 381.2, 154.5 381.2 L 154.8 381.4 Q 155.5 381.6, 155.9 381.8 Q 156.3 382.1, 156.6 382.5 Q 156.9 383.0, 156.9 383.7 Q 156.9 384.9, 156.1 385.6 Q 155.2 386.2, 153.9 386.2 Q 153.1 386.2, 152.4 386.0 Q 151.7 385.9, 151.1 385.6 L 151.5 384.4 \" fill=\"#000000\"/>\n",
       "<path class=\"bond-0 atom-0 atom-1\" d=\"M 295.4,290.9 L 300.0,290.9\" style=\"fill:none;fill-rule:evenodd;stroke:#7F7F7F;stroke-width:2.0px;stroke-linecap:butt;stroke-linejoin:miter;stroke-opacity:1\"/>\n",
       "<path class=\"bond-0 atom-0 atom-1\" d=\"M 300.0,288.6 L 304.6,288.6\" style=\"fill:none;fill-rule:evenodd;stroke:#7F7F7F;stroke-width:2.0px;stroke-linecap:butt;stroke-linejoin:miter;stroke-opacity:1\"/>\n",
       "<path class=\"bond-0 atom-0 atom-1\" d=\"M 300.0,293.2 L 304.6,293.2\" style=\"fill:none;fill-rule:evenodd;stroke:#7F7F7F;stroke-width:2.0px;stroke-linecap:butt;stroke-linejoin:miter;stroke-opacity:1;stroke-dasharray:0.5,0.666667\"/>\n",
       "<path class=\"atom-0\" d=\"M 278.0 290.9 Q 278.0 287.5, 279.7 285.5 Q 281.4 283.6, 284.7 283.6 Q 287.9 283.6, 289.6 285.5 Q 291.3 287.5, 291.3 290.9 Q 291.3 294.4, 289.6 296.5 Q 287.8 298.4, 284.7 298.4 Q 281.5 298.4, 279.7 296.5 Q 278.0 294.5, 278.0 290.9 M 284.7 296.8 Q 286.9 296.8, 288.1 295.3 Q 289.3 293.8, 289.3 290.9 Q 289.3 288.1, 288.1 286.7 Q 286.9 285.2, 284.7 285.2 Q 282.4 285.2, 281.2 286.6 Q 280.1 288.1, 280.1 290.9 Q 280.1 293.9, 281.2 295.3 Q 282.4 296.8, 284.7 296.8 \" fill=\"#000000\"/>\n",
       "<path class=\"atom-1\" d=\"M 308.7 290.9 Q 308.7 287.5, 310.4 285.5 Q 312.1 283.6, 315.3 283.6 Q 318.6 283.6, 320.3 285.5 Q 322.0 287.5, 322.0 290.9 Q 322.0 294.4, 320.3 296.5 Q 318.5 298.4, 315.3 298.4 Q 312.2 298.4, 310.4 296.5 Q 308.7 294.5, 308.7 290.9 M 315.3 296.8 Q 317.6 296.8, 318.7 295.3 Q 319.9 293.8, 319.9 290.9 Q 319.9 288.1, 318.7 286.7 Q 317.6 285.2, 315.3 285.2 Q 313.1 285.2, 311.9 286.6 Q 310.7 288.1, 310.7 290.9 Q 310.7 293.9, 311.9 295.3 Q 313.1 296.8, 315.3 296.8 \" fill=\"#000000\"/>\n",
       "<path class=\"legend\" d=\"M 269.5 378.5 Q 271.5 378.5, 272.4 379.4 Q 273.4 380.3, 273.4 381.9 Q 273.4 383.4, 272.4 384.3 Q 271.4 385.2, 269.5 385.2 L 267.7 385.2 L 267.7 389.9 L 266.2 389.9 L 266.2 378.5 L 269.5 378.5 M 269.5 383.9 Q 270.6 383.9, 271.2 383.4 Q 271.8 382.9, 271.8 381.9 Q 271.8 380.8, 271.2 380.3 Q 270.6 379.8, 269.5 379.8 L 267.7 379.8 L 267.7 383.9 L 269.5 383.9 \" fill=\"#000000\"/>\n",
       "<path class=\"legend\" d=\"M 274.8 385.7 Q 274.8 383.7, 275.8 382.6 Q 276.8 381.5, 278.6 381.5 Q 280.5 381.5, 281.3 382.6 Q 282.1 383.6, 282.1 385.7 L 282.1 385.9 L 276.3 385.9 Q 276.4 387.3, 277.0 388.1 Q 277.6 388.8, 278.8 388.8 Q 279.4 388.8, 280.0 388.7 Q 280.6 388.5, 281.3 388.2 L 281.8 389.2 Q 280.9 389.6, 280.2 389.8 Q 279.5 390.0, 278.7 390.0 Q 276.8 390.0, 275.8 388.9 Q 274.8 387.7, 274.8 385.7 M 278.6 382.7 Q 277.7 382.7, 277.1 383.2 Q 276.6 383.8, 276.4 384.8 L 280.5 384.8 Q 280.4 383.7, 279.9 383.2 Q 279.5 382.7, 278.6 382.7 \" fill=\"#000000\"/>\n",
       "<path class=\"legend\" d=\"M 284.5 381.6 L 284.7 382.8 Q 285.6 381.5, 287.0 381.5 Q 287.4 381.5, 288.0 381.6 L 287.8 383.0 Q 287.1 382.8, 286.7 382.8 Q 286.0 382.8, 285.6 383.1 Q 285.2 383.4, 284.8 384.0 L 284.8 389.9 L 283.3 389.9 L 283.3 381.6 L 284.5 381.6 \" fill=\"#000000\"/>\n",
       "<path class=\"legend\" d=\"M 288.9 385.7 Q 288.9 383.7, 289.9 382.6 Q 290.9 381.5, 292.8 381.5 Q 294.7 381.5, 295.7 382.6 Q 296.7 383.7, 296.7 385.7 Q 296.7 387.7, 295.7 388.9 Q 294.7 390.0, 292.8 390.0 Q 290.9 390.0, 289.9 388.9 Q 288.9 387.7, 288.9 385.7 M 290.4 385.7 Q 290.4 387.2, 291.0 388.0 Q 291.7 388.8, 292.8 388.8 Q 293.9 388.8, 294.6 388.0 Q 295.2 387.2, 295.2 385.7 Q 295.2 384.2, 294.6 383.5 Q 293.9 382.7, 292.8 382.7 Q 291.7 382.7, 291.0 383.5 Q 290.4 384.2, 290.4 385.7 \" fill=\"#000000\"/>\n",
       "<path class=\"legend\" d=\"M 301.1 385.6 L 298.3 381.6 L 300.0 381.6 L 302.0 384.4 L 304.0 381.6 L 305.6 381.6 L 302.8 385.6 L 305.8 389.9 L 304.1 389.9 L 301.9 386.8 L 299.7 389.9 L 298.1 389.9 L 301.1 385.6 \" fill=\"#000000\"/>\n",
       "<path class=\"legend\" d=\"M 306.6 378.5 L 308.1 378.5 L 308.1 379.9 L 306.6 379.9 L 306.6 378.5 M 306.6 381.6 L 308.1 381.6 L 308.1 389.9 L 306.6 389.9 L 306.6 381.6 \" fill=\"#000000\"/>\n",
       "<path class=\"legend\" d=\"M 317.6 377.7 L 317.6 389.8 L 316.4 389.8 L 316.1 388.8 Q 315.2 390.0, 313.7 390.0 Q 312.0 390.0, 311.0 388.9 Q 310.1 387.9, 310.1 385.9 Q 310.1 383.8, 311.2 382.7 Q 312.4 381.5, 314.3 381.5 Q 315.2 381.5, 316.1 381.7 L 316.1 377.7 L 317.6 377.7 M 313.8 388.8 Q 314.6 388.8, 315.2 388.4 Q 315.8 387.9, 316.1 387.1 L 316.1 382.9 Q 315.2 382.7, 314.3 382.7 Q 313.1 382.7, 312.4 383.5 Q 311.6 384.4, 311.6 385.9 Q 311.6 387.3, 312.2 388.0 Q 312.8 388.8, 313.8 388.8 \" fill=\"#000000\"/>\n",
       "<path class=\"legend\" d=\"M 319.5 385.7 Q 319.5 383.7, 320.5 382.6 Q 321.5 381.5, 323.3 381.5 Q 325.1 381.5, 325.9 382.6 Q 326.8 383.6, 326.8 385.7 L 326.8 385.9 L 321.0 385.9 Q 321.0 387.3, 321.7 388.1 Q 322.3 388.8, 323.5 388.8 Q 324.1 388.8, 324.7 388.7 Q 325.3 388.5, 326.0 388.2 L 326.4 389.2 Q 325.6 389.6, 324.9 389.8 Q 324.2 390.0, 323.4 390.0 Q 321.5 390.0, 320.5 388.9 Q 319.5 387.7, 319.5 385.7 M 323.3 382.7 Q 322.4 382.7, 321.8 383.2 Q 321.3 383.8, 321.1 384.8 L 325.2 384.8 Q 325.1 383.7, 324.6 383.2 Q 324.2 382.7, 323.3 382.7 \" fill=\"#000000\"/>\n",
       "<path class=\"legend\" d=\"M 328.5 388.2 Q 329.2 388.5, 329.7 388.6 Q 330.2 388.8, 330.8 388.8 Q 331.5 388.8, 331.9 388.4 Q 332.3 388.1, 332.3 387.6 Q 332.3 387.2, 332.1 387.0 Q 331.9 386.7, 331.6 386.6 Q 331.4 386.5, 330.6 386.3 Q 330.5 386.2, 329.8 386.0 Q 329.1 385.7, 328.7 385.2 Q 328.3 384.6, 328.3 383.8 Q 328.3 382.8, 329.0 382.2 Q 329.8 381.5, 331.3 381.5 Q 331.9 381.5, 332.5 381.6 Q 333.0 381.8, 333.6 382.0 L 333.2 383.2 Q 332.7 383.0, 332.2 382.9 Q 331.8 382.7, 331.3 382.7 Q 330.5 382.7, 330.2 383.0 Q 329.8 383.3, 329.8 383.8 Q 329.8 384.3, 330.1 384.5 Q 330.4 384.7, 331.1 384.9 Q 331.2 385.0, 331.4 385.0 L 331.8 385.2 Q 332.4 385.4, 332.8 385.6 Q 333.2 385.9, 333.5 386.3 Q 333.8 386.8, 333.8 387.5 Q 333.8 388.7, 333.0 389.4 Q 332.1 390.0, 330.8 390.0 Q 330.0 390.0, 329.3 389.8 Q 328.7 389.7, 328.0 389.4 L 328.5 388.2 \" fill=\"#000000\"/>\n",
       "<path class=\"bond-0 atom-0 atom-1\" d=\"M 445.6,286.1 L 426.8,291.4\" style=\"fill:none;fill-rule:evenodd;stroke:#000000;stroke-width:2.0px;stroke-linecap:butt;stroke-linejoin:miter;stroke-opacity:1\"/>\n",
       "<path class=\"bond-0 atom-0 atom-1\" d=\"M 444.3,291.3 L 428.0,295.8\" style=\"fill:none;fill-rule:evenodd;stroke:#000000;stroke-width:2.0px;stroke-linecap:butt;stroke-linejoin:miter;stroke-opacity:1\"/>\n",
       "<path class=\"bond-1 atom-0 atom-2\" d=\"M 445.6,286.1 L 451.2,291.6\" style=\"fill:none;fill-rule:evenodd;stroke:#7F7F7F;stroke-width:2.0px;stroke-linecap:butt;stroke-linejoin:miter;stroke-opacity:1\"/>\n",
       "<path class=\"bond-1 atom-0 atom-2\" d=\"M 451.2,291.6 L 456.8,297.1\" style=\"fill:none;fill-rule:evenodd;stroke:#7F7F7F;stroke-width:2.0px;stroke-linecap:butt;stroke-linejoin:miter;stroke-opacity:1\"/>\n",
       "<path class=\"bond-1 atom-0 atom-2\" d=\"M 448.9,295.8 L 453.6,300.4\" style=\"fill:none;fill-rule:evenodd;stroke:#7F7F7F;stroke-width:2.0px;stroke-linecap:butt;stroke-linejoin:miter;stroke-opacity:1;stroke-dasharray:0.5,0.666667\"/>\n",
       "<path class=\"bond-2 atom-2 atom-3\" d=\"M 478.2,304.6 L 487.7,301.9\" style=\"fill:none;fill-rule:evenodd;stroke:#7F7F7F;stroke-width:2.0px;stroke-linecap:butt;stroke-linejoin:miter;stroke-opacity:1\"/>\n",
       "<path class=\"bond-2 atom-2 atom-3\" d=\"M 487.7,301.9 L 497.1,299.3\" style=\"fill:none;fill-rule:evenodd;stroke:#7F7F7F;stroke-width:2.0px;stroke-linecap:butt;stroke-linejoin:miter;stroke-opacity:1\"/>\n",
       "<path class=\"bond-2 atom-2 atom-3\" d=\"M 485.1,297.8 L 493.3,295.6\" style=\"fill:none;fill-rule:evenodd;stroke:#7F7F7F;stroke-width:2.0px;stroke-linecap:butt;stroke-linejoin:miter;stroke-opacity:1;stroke-dasharray:1,1.33333\"/>\n",
       "<path class=\"bond-3 atom-3 atom-4\" d=\"M 497.1,299.3 L 500.9,284.4\" style=\"fill:none;fill-rule:evenodd;stroke:#7F7F7F;stroke-width:2.0px;stroke-linecap:butt;stroke-linejoin:miter;stroke-opacity:1\"/>\n",
       "<path class=\"bond-3 atom-3 atom-4\" d=\"M 500.9,284.4 L 504.7,269.6\" style=\"fill:none;fill-rule:evenodd;stroke:#7F7F7F;stroke-width:2.0px;stroke-linecap:butt;stroke-linejoin:miter;stroke-opacity:1\"/>\n",
       "<path class=\"bond-3 atom-3 atom-4\" d=\"M 505.3,285.6 L 508.5,273.3\" style=\"fill:none;fill-rule:evenodd;stroke:#7F7F7F;stroke-width:2.0px;stroke-linecap:butt;stroke-linejoin:miter;stroke-opacity:1;stroke-dasharray:1,1.33333\"/>\n",
       "<path class=\"bond-4 atom-4 atom-5\" d=\"M 504.7,269.6 L 497.9,262.9\" style=\"fill:none;fill-rule:evenodd;stroke:#7F7F7F;stroke-width:2.0px;stroke-linecap:butt;stroke-linejoin:miter;stroke-opacity:1\"/>\n",
       "<path class=\"bond-4 atom-4 atom-5\" d=\"M 500.0,261.7 L 492.7,254.7\" style=\"fill:none;fill-rule:evenodd;stroke:#7F7F7F;stroke-width:2.0px;stroke-linecap:butt;stroke-linejoin:miter;stroke-opacity:1\"/>\n",
       "<path class=\"bond-4 atom-4 atom-5\" d=\"M 496.7,265.0 L 489.5,258.0\" style=\"fill:none;fill-rule:evenodd;stroke:#7F7F7F;stroke-width:2.0px;stroke-linecap:butt;stroke-linejoin:miter;stroke-opacity:1;stroke-dasharray:1,1.33333\"/>\n",
       "<path class=\"bond-5 atom-4 atom-6\" d=\"M 504.7,269.6 L 519.4,265.4\" style=\"fill:none;fill-rule:evenodd;stroke:#7F7F7F;stroke-width:2.0px;stroke-linecap:butt;stroke-linejoin:miter;stroke-opacity:1\"/>\n",
       "<path class=\"bond-5 atom-4 atom-6\" d=\"M 519.4,265.4 L 534.2,261.3\" style=\"fill:none;fill-rule:evenodd;stroke:#7F7F7F;stroke-width:2.0px;stroke-linecap:butt;stroke-linejoin:miter;stroke-opacity:1\"/>\n",
       "<path class=\"bond-5 atom-4 atom-6\" d=\"M 520.7,269.8 L 532.9,266.4\" style=\"fill:none;fill-rule:evenodd;stroke:#7F7F7F;stroke-width:2.0px;stroke-linecap:butt;stroke-linejoin:miter;stroke-opacity:1;stroke-dasharray:1,1.33333\"/>\n",
       "<path class=\"bond-6 atom-6 atom-7\" d=\"M 534.2,261.3 L 536.6,252.1\" style=\"fill:none;fill-rule:evenodd;stroke:#7F7F7F;stroke-width:2.0px;stroke-linecap:butt;stroke-linejoin:miter;stroke-opacity:1\"/>\n",
       "<path class=\"bond-6 atom-6 atom-7\" d=\"M 538.6,253.3 L 541.1,243.4\" style=\"fill:none;fill-rule:evenodd;stroke:#7F7F7F;stroke-width:2.0px;stroke-linecap:butt;stroke-linejoin:miter;stroke-opacity:1\"/>\n",
       "<path class=\"bond-6 atom-6 atom-7\" d=\"M 534.2,252.1 L 536.7,242.3\" style=\"fill:none;fill-rule:evenodd;stroke:#7F7F7F;stroke-width:2.0px;stroke-linecap:butt;stroke-linejoin:miter;stroke-opacity:1;stroke-dasharray:1,1.33333\"/>\n",
       "<path class=\"bond-7 atom-6 atom-8\" d=\"M 534.2,261.3 L 545.2,272.0\" style=\"fill:none;fill-rule:evenodd;stroke:#7F7F7F;stroke-width:2.0px;stroke-linecap:butt;stroke-linejoin:miter;stroke-opacity:1\"/>\n",
       "<path class=\"bond-7 atom-6 atom-8\" d=\"M 545.2,272.0 L 556.1,282.7\" style=\"fill:none;fill-rule:evenodd;stroke:#7F7F7F;stroke-width:2.0px;stroke-linecap:butt;stroke-linejoin:miter;stroke-opacity:1\"/>\n",
       "<path class=\"bond-7 atom-6 atom-8\" d=\"M 542.0,275.3 L 551.0,284.2\" style=\"fill:none;fill-rule:evenodd;stroke:#7F7F7F;stroke-width:2.0px;stroke-linecap:butt;stroke-linejoin:miter;stroke-opacity:1;stroke-dasharray:1,1.33333\"/>\n",
       "<path class=\"bond-8 atom-8 atom-9\" d=\"M 556.1,282.7 L 566.7,279.8\" style=\"fill:none;fill-rule:evenodd;stroke:#7F7F7F;stroke-width:2.0px;stroke-linecap:butt;stroke-linejoin:miter;stroke-opacity:1\"/>\n",
       "<path class=\"bond-8 atom-8 atom-9\" d=\"M 566.7,282.1 L 577.9,279.0\" style=\"fill:none;fill-rule:evenodd;stroke:#7F7F7F;stroke-width:2.0px;stroke-linecap:butt;stroke-linejoin:miter;stroke-opacity:1\"/>\n",
       "<path class=\"bond-8 atom-8 atom-9\" d=\"M 565.5,277.7 L 576.7,274.6\" style=\"fill:none;fill-rule:evenodd;stroke:#7F7F7F;stroke-width:2.0px;stroke-linecap:butt;stroke-linejoin:miter;stroke-opacity:1;stroke-dasharray:1,1.33333\"/>\n",
       "<path class=\"bond-9 atom-8 atom-10\" d=\"M 556.1,282.7 L 552.3,297.6\" style=\"fill:none;fill-rule:evenodd;stroke:#7F7F7F;stroke-width:2.0px;stroke-linecap:butt;stroke-linejoin:miter;stroke-opacity:1\"/>\n",
       "<path class=\"bond-9 atom-8 atom-10\" d=\"M 552.3,297.6 L 548.5,312.4\" style=\"fill:none;fill-rule:evenodd;stroke:#7F7F7F;stroke-width:2.0px;stroke-linecap:butt;stroke-linejoin:miter;stroke-opacity:1\"/>\n",
       "<path class=\"bond-9 atom-8 atom-10\" d=\"M 547.9,296.4 L 544.7,308.7\" style=\"fill:none;fill-rule:evenodd;stroke:#7F7F7F;stroke-width:2.0px;stroke-linecap:butt;stroke-linejoin:miter;stroke-opacity:1;stroke-dasharray:1,1.33333\"/>\n",
       "<path class=\"bond-10 atom-10 atom-11\" d=\"M 548.5,312.4 L 555.3,319.1\" style=\"fill:none;fill-rule:evenodd;stroke:#7F7F7F;stroke-width:2.0px;stroke-linecap:butt;stroke-linejoin:miter;stroke-opacity:1\"/>\n",
       "<path class=\"bond-10 atom-10 atom-11\" d=\"M 553.2,320.3 L 560.5,327.3\" style=\"fill:none;fill-rule:evenodd;stroke:#7F7F7F;stroke-width:2.0px;stroke-linecap:butt;stroke-linejoin:miter;stroke-opacity:1\"/>\n",
       "<path class=\"bond-10 atom-10 atom-11\" d=\"M 556.5,317.0 L 563.7,324.0\" style=\"fill:none;fill-rule:evenodd;stroke:#7F7F7F;stroke-width:2.0px;stroke-linecap:butt;stroke-linejoin:miter;stroke-opacity:1;stroke-dasharray:1,1.33333\"/>\n",
       "<path class=\"bond-11 atom-10 atom-12\" d=\"M 548.5,312.4 L 533.8,316.6\" style=\"fill:none;fill-rule:evenodd;stroke:#7F7F7F;stroke-width:2.0px;stroke-linecap:butt;stroke-linejoin:miter;stroke-opacity:1\"/>\n",
       "<path class=\"bond-11 atom-10 atom-12\" d=\"M 533.8,316.6 L 519.0,320.7\" style=\"fill:none;fill-rule:evenodd;stroke:#7F7F7F;stroke-width:2.0px;stroke-linecap:butt;stroke-linejoin:miter;stroke-opacity:1\"/>\n",
       "<path class=\"bond-11 atom-10 atom-12\" d=\"M 532.5,312.2 L 520.3,315.6\" style=\"fill:none;fill-rule:evenodd;stroke:#7F7F7F;stroke-width:2.0px;stroke-linecap:butt;stroke-linejoin:miter;stroke-opacity:1;stroke-dasharray:1,1.33333\"/>\n",
       "<path class=\"bond-12 atom-12 atom-13\" d=\"M 519.0,320.7 L 516.7,329.9\" style=\"fill:none;fill-rule:evenodd;stroke:#7F7F7F;stroke-width:2.0px;stroke-linecap:butt;stroke-linejoin:miter;stroke-opacity:1\"/>\n",
       "<path class=\"bond-12 atom-12 atom-13\" d=\"M 514.6,328.7 L 512.1,338.6\" style=\"fill:none;fill-rule:evenodd;stroke:#7F7F7F;stroke-width:2.0px;stroke-linecap:butt;stroke-linejoin:miter;stroke-opacity:1\"/>\n",
       "<path class=\"bond-12 atom-12 atom-13\" d=\"M 519.0,329.9 L 516.5,339.7\" style=\"fill:none;fill-rule:evenodd;stroke:#7F7F7F;stroke-width:2.0px;stroke-linecap:butt;stroke-linejoin:miter;stroke-opacity:1;stroke-dasharray:1,1.33333\"/>\n",
       "<path class=\"bond-13 atom-12 atom-3\" d=\"M 519.0,320.7 L 508.0,310.0\" style=\"fill:none;fill-rule:evenodd;stroke:#7F7F7F;stroke-width:2.0px;stroke-linecap:butt;stroke-linejoin:miter;stroke-opacity:1\"/>\n",
       "<path class=\"bond-13 atom-12 atom-3\" d=\"M 508.0,310.0 L 497.1,299.3\" style=\"fill:none;fill-rule:evenodd;stroke:#7F7F7F;stroke-width:2.0px;stroke-linecap:butt;stroke-linejoin:miter;stroke-opacity:1\"/>\n",
       "<path class=\"bond-13 atom-12 atom-3\" d=\"M 511.2,306.7 L 502.2,297.8\" style=\"fill:none;fill-rule:evenodd;stroke:#7F7F7F;stroke-width:2.0px;stroke-linecap:butt;stroke-linejoin:miter;stroke-opacity:1;stroke-dasharray:1,1.33333\"/>\n",
       "<path d=\"M 445.1,286.2 L 445.6,286.1 L 445.7,286.3\" style=\"fill:none;stroke:#000000;stroke-width:2.0px;stroke-linecap:butt;stroke-linejoin:miter;stroke-opacity:1;\"/>\n",
       "<path class=\"atom-1\" d=\"M 410.0 296.7 Q 410.0 293.2, 411.7 291.2 Q 413.4 289.3, 416.6 289.3 Q 419.9 289.3, 421.6 291.2 Q 423.3 293.2, 423.3 296.7 Q 423.3 300.2, 421.6 302.2 Q 419.8 304.2, 416.6 304.2 Q 413.5 304.2, 411.7 302.2 Q 410.0 300.2, 410.0 296.7 M 416.6 302.5 Q 418.9 302.5, 420.0 301.1 Q 421.3 299.6, 421.3 296.7 Q 421.3 293.8, 420.0 292.4 Q 418.9 290.9, 416.6 290.9 Q 414.4 290.9, 413.2 292.4 Q 412.0 293.8, 412.0 296.7 Q 412.0 299.6, 413.2 301.1 Q 414.4 302.5, 416.6 302.5 \" fill=\"#000000\"/>\n",
       "<path class=\"atom-2\" d=\"M 460.9 307.6 Q 460.9 304.1, 462.6 302.2 Q 464.3 300.2, 467.5 300.2 Q 470.7 300.2, 472.4 302.2 Q 474.2 304.1, 474.2 307.6 Q 474.2 311.1, 472.4 313.1 Q 470.7 315.1, 467.5 315.1 Q 464.3 315.1, 462.6 313.1 Q 460.9 311.1, 460.9 307.6 M 467.5 313.5 Q 469.7 313.5, 470.9 312.0 Q 472.1 310.5, 472.1 307.6 Q 472.1 304.8, 470.9 303.3 Q 469.7 301.9, 467.5 301.9 Q 465.3 301.9, 464.1 303.3 Q 462.9 304.7, 462.9 307.6 Q 462.9 310.5, 464.1 312.0 Q 465.3 313.5, 467.5 313.5 \" fill=\"#000000\"/>\n",
       "<path class=\"atom-5\" d=\"M 478.4 240.9 L 487.0 240.9 L 487.0 242.5 L 480.4 242.5 L 480.4 246.9 L 486.3 246.9 L 486.3 248.6 L 480.4 248.6 L 480.4 255.3 L 478.4 255.3 L 478.4 240.9 \" fill=\"#000000\"/>\n",
       "<path class=\"atom-7\" d=\"M 537.5 224.3 L 546.1 224.3 L 546.1 226.0 L 539.4 226.0 L 539.4 230.4 L 545.4 230.4 L 545.4 232.0 L 539.4 232.0 L 539.4 238.8 L 537.5 238.8 L 537.5 224.3 \" fill=\"#000000\"/>\n",
       "<path class=\"atom-9\" d=\"M 581.4 267.2 L 590.0 267.2 L 590.0 268.9 L 583.3 268.9 L 583.3 273.3 L 589.3 273.3 L 589.3 274.9 L 583.3 274.9 L 583.3 281.7 L 581.4 281.7 L 581.4 267.2 \" fill=\"#000000\"/>\n",
       "<path class=\"atom-11\" d=\"M 566.2 326.7 L 574.8 326.7 L 574.8 328.3 L 568.1 328.3 L 568.1 332.7 L 574.1 332.7 L 574.1 334.4 L 568.1 334.4 L 568.1 341.1 L 566.2 341.1 L 566.2 326.7 \" fill=\"#000000\"/>\n",
       "<path class=\"atom-13\" d=\"M 507.1 343.2 L 515.7 343.2 L 515.7 344.9 L 509.0 344.9 L 509.0 349.3 L 515.0 349.3 L 515.0 350.9 L 509.0 350.9 L 509.0 357.7 L 507.1 357.7 L 507.1 343.2 \" fill=\"#000000\"/>\n",
       "<path class=\"legend\" d=\"M 414.1 374.7 Q 416.0 374.7, 417.0 375.6 Q 418.0 376.5, 418.0 378.1 Q 418.0 379.6, 417.0 380.5 Q 416.0 381.4, 414.1 381.4 L 412.3 381.4 L 412.3 386.1 L 410.8 386.1 L 410.8 374.7 L 414.1 374.7 M 414.1 380.1 Q 415.2 380.1, 415.8 379.6 Q 416.4 379.1, 416.4 378.1 Q 416.4 377.1, 415.8 376.5 Q 415.2 376.0, 414.1 376.0 L 412.3 376.0 L 412.3 380.1 L 414.1 380.1 \" fill=\"#000000\"/>\n",
       "<path class=\"legend\" d=\"M 419.3 381.9 Q 419.3 379.9, 420.4 378.8 Q 421.4 377.7, 423.2 377.7 Q 425.0 377.7, 425.8 378.8 Q 426.6 379.9, 426.6 381.9 L 426.6 382.1 L 420.9 382.1 Q 420.9 383.5, 421.5 384.3 Q 422.2 385.0, 423.3 385.0 Q 424.0 385.0, 424.6 384.9 Q 425.2 384.7, 425.9 384.4 L 426.3 385.4 Q 425.5 385.8, 424.8 386.0 Q 424.0 386.2, 423.3 386.2 Q 421.4 386.2, 420.4 385.1 Q 419.3 384.0, 419.3 381.9 M 423.2 378.9 Q 422.3 378.9, 421.7 379.4 Q 421.1 380.0, 420.9 381.0 L 425.0 381.0 Q 424.9 379.9, 424.5 379.4 Q 424.0 378.9, 423.2 378.9 \" fill=\"#000000\"/>\n",
       "<path class=\"legend\" d=\"M 432.1 377.7 Q 433.4 377.7, 434.1 378.4 Q 434.8 379.2, 434.8 380.6 L 434.8 386.1 L 433.3 386.1 L 433.3 380.7 Q 433.3 379.8, 432.9 379.3 Q 432.6 378.9, 431.7 378.9 Q 431.0 378.9, 430.4 379.2 Q 429.7 379.6, 429.3 380.2 L 429.3 386.1 L 427.8 386.1 L 427.8 377.8 L 429.1 377.8 L 429.2 379.0 Q 430.3 377.7, 432.1 377.7 \" fill=\"#000000\"/>\n",
       "<path class=\"legend\" d=\"M 436.7 379.0 L 436.7 377.8 L 438.2 377.8 L 438.5 375.4 L 439.6 375.4 L 439.6 377.8 L 442.1 377.8 L 442.1 379.0 L 439.6 379.0 L 439.6 383.5 Q 439.6 385.0, 440.8 385.0 Q 441.3 385.0, 442.0 384.7 L 442.2 385.8 Q 441.4 386.2, 440.5 386.2 Q 439.5 386.2, 438.8 385.5 Q 438.1 384.9, 438.1 383.6 L 438.1 379.0 L 436.7 379.0 \" fill=\"#000000\"/>\n",
       "<path class=\"legend\" d=\"M 443.2 383.8 Q 443.2 382.5, 444.3 381.8 Q 445.3 381.1, 447.3 381.1 L 448.5 381.1 L 448.5 380.8 Q 448.5 379.7, 448.1 379.3 Q 447.7 378.9, 446.6 378.9 Q 446.0 378.9, 445.5 379.0 Q 444.9 379.1, 444.1 379.5 L 443.7 378.4 Q 445.2 377.7, 446.7 377.7 Q 448.4 377.7, 449.2 378.4 Q 450.0 379.2, 450.0 380.8 L 450.0 386.1 L 448.8 386.1 Q 448.8 386.0, 448.8 385.8 Q 448.7 385.5, 448.6 385.1 Q 447.5 386.3, 445.9 386.3 Q 444.7 386.3, 444.0 385.6 Q 443.2 384.9, 443.2 383.8 M 444.7 383.8 Q 444.7 384.4, 445.1 384.8 Q 445.5 385.1, 446.2 385.1 Q 446.9 385.1, 447.5 384.8 Q 448.1 384.5, 448.5 384.0 L 448.5 382.2 L 447.4 382.2 Q 446.1 382.2, 445.4 382.6 Q 444.7 383.0, 444.7 383.8 \" fill=\"#000000\"/>\n",
       "<path class=\"legend\" d=\"M 451.8 379.0 L 451.8 377.8 L 453.3 377.8 L 453.3 376.6 Q 453.3 375.2, 454.0 374.6 Q 454.7 373.9, 455.9 373.9 Q 456.5 373.9, 456.9 374.0 Q 457.4 374.1, 457.9 374.3 L 457.4 375.4 Q 456.7 375.1, 456.0 375.1 Q 455.4 375.1, 455.1 375.5 Q 454.8 375.8, 454.8 376.5 L 454.8 377.8 L 457.3 377.8 L 457.3 379.0 L 454.8 379.0 L 454.8 388.6 L 453.3 388.6 L 453.3 379.0 L 451.8 379.0 \" fill=\"#000000\"/>\n",
       "<path class=\"legend\" d=\"M 458.0 373.9 L 459.5 373.9 L 459.5 386.1 L 458.0 386.1 L 458.0 373.9 \" fill=\"#000000\"/>\n",
       "<path class=\"legend\" d=\"M 468.5 377.8 L 468.5 386.1 L 467.2 386.1 L 467.1 384.9 Q 466.0 386.2, 464.3 386.2 Q 462.9 386.2, 462.2 385.5 Q 461.5 384.7, 461.5 383.3 L 461.5 377.8 L 463.0 377.8 L 463.0 383.2 Q 463.0 384.1, 463.4 384.6 Q 463.7 385.0, 464.6 385.0 Q 465.3 385.0, 466.0 384.7 Q 466.6 384.3, 467.0 383.7 L 467.0 377.8 L 468.5 377.8 \" fill=\"#000000\"/>\n",
       "<path class=\"legend\" d=\"M 470.4 381.9 Q 470.4 379.9, 471.4 378.8 Q 472.4 377.7, 474.3 377.7 Q 476.2 377.7, 477.2 378.8 Q 478.2 379.9, 478.2 381.9 Q 478.2 383.9, 477.2 385.1 Q 476.2 386.2, 474.3 386.2 Q 472.4 386.2, 471.4 385.1 Q 470.4 383.9, 470.4 381.9 M 471.9 381.9 Q 471.9 383.4, 472.5 384.2 Q 473.2 385.0, 474.3 385.0 Q 475.4 385.0, 476.0 384.2 Q 476.7 383.4, 476.7 381.9 Q 476.7 380.4, 476.0 379.7 Q 475.4 378.9, 474.3 378.9 Q 473.2 378.9, 472.5 379.7 Q 471.9 380.4, 471.9 381.9 \" fill=\"#000000\"/>\n",
       "<path class=\"legend\" d=\"M 480.7 377.8 L 480.9 379.0 Q 481.8 377.7, 483.2 377.7 Q 483.6 377.7, 484.2 377.9 L 484.0 379.2 Q 483.3 379.0, 482.9 379.0 Q 482.3 379.0, 481.8 379.3 Q 481.4 379.6, 481.0 380.2 L 481.0 386.1 L 479.5 386.1 L 479.5 377.8 L 480.7 377.8 \" fill=\"#000000\"/>\n",
       "<path class=\"legend\" d=\"M 485.1 381.9 Q 485.1 379.9, 486.1 378.8 Q 487.1 377.7, 489.0 377.7 Q 490.9 377.7, 491.9 378.8 Q 492.9 379.9, 492.9 381.9 Q 492.9 383.9, 491.9 385.1 Q 490.9 386.2, 489.0 386.2 Q 487.1 386.2, 486.1 385.1 Q 485.1 383.9, 485.1 381.9 M 486.6 381.9 Q 486.6 383.4, 487.2 384.2 Q 487.9 385.0, 489.0 385.0 Q 490.1 385.0, 490.7 384.2 Q 491.4 383.4, 491.4 381.9 Q 491.4 380.4, 490.7 379.7 Q 490.1 378.9, 489.0 378.9 Q 487.9 378.9, 487.2 379.7 Q 486.6 380.4, 486.6 381.9 \" fill=\"#000000\"/>\n",
       "<path class=\"legend\" d=\"M 498.1 377.7 Q 499.8 377.7, 500.7 378.8 Q 501.7 379.8, 501.7 381.8 Q 501.7 383.9, 500.5 385.0 Q 499.4 386.2, 497.4 386.2 Q 496.5 386.2, 495.7 386.0 L 495.7 390.0 L 494.2 390.0 L 494.2 377.8 L 495.4 377.8 L 495.6 378.8 Q 496.1 378.3, 496.7 378.0 Q 497.3 377.7, 498.1 377.7 M 497.4 385.0 Q 498.7 385.0, 499.4 384.2 Q 500.1 383.3, 500.1 381.8 Q 500.1 380.4, 499.6 379.6 Q 499.0 378.9, 498.0 378.9 Q 497.1 378.9, 496.5 379.3 Q 496.0 379.7, 495.7 380.5 L 495.7 384.8 Q 496.5 385.0, 497.4 385.0 \" fill=\"#000000\"/>\n",
       "<path class=\"legend\" d=\"M 507.3 377.7 Q 508.6 377.7, 509.3 378.4 Q 510.0 379.2, 510.0 380.6 L 510.0 386.1 L 508.5 386.1 L 508.5 380.7 Q 508.5 379.8, 508.1 379.3 Q 507.7 378.9, 506.9 378.9 Q 506.1 378.9, 505.5 379.2 Q 504.9 379.6, 504.5 380.2 L 504.5 386.1 L 503.0 386.1 L 503.0 373.9 L 504.5 373.9 L 504.5 378.9 Q 505.6 377.7, 507.3 377.7 \" fill=\"#000000\"/>\n",
       "<path class=\"legend\" d=\"M 511.8 381.9 Q 511.8 379.9, 512.8 378.8 Q 513.8 377.7, 515.7 377.7 Q 517.5 377.7, 518.3 378.8 Q 519.1 379.9, 519.1 381.9 L 519.1 382.1 L 513.3 382.1 Q 513.4 383.5, 514.0 384.3 Q 514.6 385.0, 515.8 385.0 Q 516.4 385.0, 517.0 384.9 Q 517.6 384.7, 518.3 384.4 L 518.8 385.4 Q 517.9 385.8, 517.2 386.0 Q 516.5 386.2, 515.7 386.2 Q 513.9 386.2, 512.8 385.1 Q 511.8 384.0, 511.8 381.9 M 515.7 378.9 Q 514.7 378.9, 514.1 379.4 Q 513.6 380.0, 513.4 381.0 L 517.5 381.0 Q 517.4 379.9, 516.9 379.4 Q 516.5 378.9, 515.7 378.9 \" fill=\"#000000\"/>\n",
       "<path class=\"legend\" d=\"M 524.6 377.7 Q 525.9 377.7, 526.6 378.4 Q 527.3 379.2, 527.3 380.6 L 527.3 386.1 L 525.8 386.1 L 525.8 380.7 Q 525.8 379.8, 525.4 379.3 Q 525.0 378.9, 524.2 378.9 Q 523.4 378.9, 522.8 379.2 Q 522.2 379.6, 521.8 380.2 L 521.8 386.1 L 520.3 386.1 L 520.3 377.8 L 521.5 377.8 L 521.7 379.0 Q 522.8 377.7, 524.6 377.7 \" fill=\"#000000\"/>\n",
       "<path class=\"legend\" d=\"M 535.4 377.8 L 536.9 377.8 L 532.7 390.0 L 531.3 390.0 L 532.6 386.1 L 532.0 386.1 L 529.1 377.8 L 530.7 377.8 L 533.1 384.8 L 535.4 377.8 \" fill=\"#000000\"/>\n",
       "<path class=\"legend\" d=\"M 537.7 373.9 L 539.1 373.9 L 539.1 386.1 L 537.7 386.1 L 537.7 373.9 \" fill=\"#000000\"/>\n",
       "<path class=\"legend\" d=\"\" fill=\"#000000\"/>\n",
       "<path class=\"legend\" d=\"M 547.0 381.9 Q 547.0 379.9, 548.0 378.8 Q 549.0 377.7, 550.9 377.7 Q 552.7 377.7, 553.5 378.8 Q 554.3 379.9, 554.3 381.9 L 554.3 382.1 L 548.6 382.1 Q 548.6 383.5, 549.2 384.3 Q 549.8 385.0, 551.0 385.0 Q 551.7 385.0, 552.2 384.9 Q 552.8 384.7, 553.6 384.4 L 554.0 385.4 Q 553.2 385.8, 552.4 386.0 Q 551.7 386.2, 550.9 386.2 Q 549.1 386.2, 548.1 385.1 Q 547.0 384.0, 547.0 381.9 M 550.9 378.9 Q 549.9 378.9, 549.4 379.4 Q 548.8 380.0, 548.6 381.0 L 552.7 381.0 Q 552.6 379.9, 552.2 379.4 Q 551.7 378.9, 550.9 378.9 \" fill=\"#000000\"/>\n",
       "<path class=\"legend\" d=\"M 556.0 384.4 Q 556.7 384.7, 557.2 384.8 Q 557.7 385.0, 558.3 385.0 Q 559.0 385.0, 559.4 384.7 Q 559.8 384.4, 559.8 383.8 Q 559.8 383.4, 559.6 383.2 Q 559.4 382.9, 559.1 382.8 Q 558.9 382.7, 558.2 382.5 Q 558.0 382.4, 557.3 382.2 Q 556.6 381.9, 556.2 381.4 Q 555.8 380.8, 555.8 380.0 Q 555.8 379.0, 556.6 378.4 Q 557.3 377.7, 558.8 377.7 Q 559.4 377.7, 560.0 377.8 Q 560.5 378.0, 561.1 378.2 L 560.7 379.4 Q 560.2 379.2, 559.8 379.1 Q 559.3 378.9, 558.8 378.9 Q 558.1 378.9, 557.7 379.2 Q 557.3 379.5, 557.3 380.0 Q 557.3 380.5, 557.6 380.7 Q 557.9 380.9, 558.6 381.1 Q 558.7 381.2, 558.9 381.2 L 559.3 381.4 Q 559.9 381.6, 560.3 381.8 Q 560.8 382.1, 561.1 382.5 Q 561.3 383.0, 561.3 383.7 Q 561.3 384.9, 560.5 385.6 Q 559.7 386.2, 558.3 386.2 Q 557.5 386.2, 556.9 386.0 Q 556.2 385.9, 555.5 385.6 L 556.0 384.4 \" fill=\"#000000\"/>\n",
       "<path class=\"legend\" d=\"M 562.8 379.0 L 562.8 377.8 L 564.4 377.8 L 564.6 375.4 L 565.7 375.4 L 565.7 377.8 L 568.2 377.8 L 568.2 379.0 L 565.7 379.0 L 565.7 383.5 Q 565.7 385.0, 566.9 385.0 Q 567.4 385.0, 568.1 384.7 L 568.4 385.8 Q 567.5 386.2, 566.7 386.2 Q 565.6 386.2, 564.9 385.5 Q 564.2 384.9, 564.2 383.6 L 564.2 379.0 L 562.8 379.0 \" fill=\"#000000\"/>\n",
       "<path class=\"legend\" d=\"M 569.4 381.9 Q 569.4 379.9, 570.4 378.8 Q 571.4 377.7, 573.2 377.7 Q 575.0 377.7, 575.8 378.8 Q 576.6 379.9, 576.6 381.9 L 576.6 382.1 L 570.9 382.1 Q 570.9 383.5, 571.6 384.3 Q 572.2 385.0, 573.3 385.0 Q 574.0 385.0, 574.6 384.9 Q 575.2 384.7, 575.9 384.4 L 576.3 385.4 Q 575.5 385.8, 574.8 386.0 Q 574.0 386.2, 573.3 386.2 Q 571.4 386.2, 570.4 385.1 Q 569.4 384.0, 569.4 381.9 M 573.2 378.9 Q 572.3 378.9, 571.7 379.4 Q 571.1 380.0, 571.0 381.0 L 575.1 381.0 Q 574.9 379.9, 574.5 379.4 Q 574.1 378.9, 573.2 378.9 \" fill=\"#000000\"/>\n",
       "<path class=\"legend\" d=\"M 579.1 377.8 L 579.2 379.0 Q 580.1 377.7, 581.5 377.7 Q 582.0 377.7, 582.6 377.9 L 582.3 379.2 Q 581.6 379.0, 581.3 379.0 Q 580.6 379.0, 580.1 379.3 Q 579.7 379.6, 579.4 380.2 L 579.4 386.1 L 577.9 386.1 L 577.9 377.8 L 579.1 377.8 \" fill=\"#000000\"/>\n",
       "<path class=\"legend\" d=\"M 583.9 384.4 Q 584.6 384.7, 585.1 384.8 Q 585.6 385.0, 586.2 385.0 Q 586.9 385.0, 587.3 384.7 Q 587.7 384.4, 587.7 383.8 Q 587.7 383.4, 587.5 383.2 Q 587.3 382.9, 587.0 382.8 Q 586.8 382.7, 586.0 382.5 Q 585.9 382.4, 585.2 382.2 Q 584.5 381.9, 584.1 381.4 Q 583.7 380.8, 583.7 380.0 Q 583.7 379.0, 584.4 378.4 Q 585.2 377.7, 586.7 377.7 Q 587.3 377.7, 587.9 377.8 Q 588.4 378.0, 589.0 378.2 L 588.6 379.4 Q 588.1 379.2, 587.6 379.1 Q 587.2 378.9, 586.7 378.9 Q 586.0 378.9, 585.6 379.2 Q 585.2 379.5, 585.2 380.0 Q 585.2 380.5, 585.5 380.7 Q 585.8 380.9, 586.5 381.1 Q 586.6 381.2, 586.8 381.2 L 587.2 381.4 Q 587.8 381.6, 588.2 381.8 Q 588.7 382.1, 588.9 382.5 Q 589.2 383.0, 589.2 383.7 Q 589.2 384.9, 588.4 385.6 Q 587.6 386.2, 586.2 386.2 Q 585.4 386.2, 584.8 386.0 Q 584.1 385.9, 583.4 385.6 L 583.9 384.4 \" fill=\"#000000\"/>\n",
       "</svg>"
      ],
      "text/plain": [
       "<IPython.core.display.SVG object>"
      ]
     },
     "execution_count": 29,
     "metadata": {},
     "output_type": "execute_result"
    }
   ],
   "source": [
    "img = Draw.MolsToGridImage(\n",
    "  mols=glaxo_alerts[\"ROMol\"].iloc[2:8].tolist(), molsPerRow=3, legends=glaxo_alerts[\"description\"].iloc[2:8].tolist(), useSVG=True, drawOptions=dopts,\n",
    ")\n",
    "img"
   ]
  },
  {
   "cell_type": "markdown",
   "metadata": {},
   "source": [
    "Applying the Glaxo Wellcome hard filter sifts out another chunk of molecules, leaving us with 61,372 compounds."
   ]
  },
  {
   "cell_type": "code",
   "execution_count": 30,
   "metadata": {},
   "outputs": [
    {
     "name": "stdout",
     "output_type": "stream",
     "text": [
      "Compound library size after filtering: 78711\n"
     ]
    },
    {
     "name": "stderr",
     "output_type": "stream",
     "text": [
      "/var/folders/s8/ghqk1l4n7n9_w17t7hx21g2m0000gn/T/ipykernel_4189/1774589771.py:14: SettingWithCopyWarning: \n",
      "A value is trying to be set on a copy of a slice from a DataFrame.\n",
      "Try using .loc[row_indexer,col_indexer] = value instead\n",
      "\n",
      "See the caveats in the documentation: https://pandas.pydata.org/pandas-docs/stable/user_guide/indexing.html#returning-a-view-versus-a-copy\n",
      "  specs_ro5_pains_brenk_compliant[\"GLAXO_compliant\"] = ~specs_ro5_pains_brenk_compliant['mol'].apply(glaxo_filter, alerts=glaxo_alerts)\n"
     ]
    },
    {
     "data": {
      "text/plain": [
       "acylhydrazide                                10529\n",
       "Reactive alkyl halides                        1067\n",
       "Thiols                                        1048\n",
       "Aliphatic methylene chains 7 or more long      962\n",
       "Cytochalasin derivatives                       575\n",
       "Name: description, dtype: int64"
      ]
     },
     "execution_count": 30,
     "metadata": {},
     "output_type": "execute_result"
    }
   ],
   "source": [
    "glaxo_sa_matches = []\n",
    "def glaxo_filter(mol, alerts):\n",
    "  match_ = False\n",
    "  for _, alert in alerts.iterrows():\n",
    "    if mol.HasSubstructMatch(alert.ROMol):\n",
    "      glaxo_sa_matches.append({\n",
    "        \"mol\": mol,\n",
    "        \"alert\": alert.ROMol,\n",
    "        \"description\": alert.description,\n",
    "      })\n",
    "      match_ = True\n",
    "  return match_\n",
    "\n",
    "specs_ro5_pains_brenk_compliant[\"GLAXO_compliant\"] = ~specs_ro5_pains_brenk_compliant['mol'].apply(glaxo_filter, alerts=glaxo_alerts)\n",
    "specs_filtered = specs_ro5_pains_brenk_compliant[specs_ro5_pains_brenk_compliant[\"GLAXO_compliant\"]]\n",
    "glaxo_sa_matches = pd.DataFrame(glaxo_sa_matches)\n",
    "print(f\"Compound library size after filtering: {specs_ro5_pains_brenk_compliant['GLAXO_compliant'].sum()}\")\n",
    "glaxo_sa_matches[\"description\"].value_counts()[:5]"
   ]
  },
  {
   "cell_type": "markdown",
   "metadata": {},
   "source": [
    "We show a few examples of compound matches to the Glaxo Wellcome filter, with the match substructures highlighted in light red."
   ]
  },
  {
   "cell_type": "code",
   "execution_count": 31,
   "metadata": {},
   "outputs": [],
   "source": [
    "d2d_hl = Draw.MolDraw2DSVG(-1, -1)\n",
    "dopts_hl = d2d_hl.drawOptions()\n",
    "dopts_hl.useBWAtomPalette()\n",
    "dopts_hl.setHighlightColour((.635,.0,.145,.5))\n",
    "dopts_hl.baseFontSize = 1.0\n",
    "dopts_hl.additionalAtomLabelPadding = 0.15"
   ]
  },
  {
   "cell_type": "code",
   "execution_count": 32,
   "metadata": {},
   "outputs": [],
   "source": [
    "highlights = [mol.GetSubstructMatch(alert) for mol, alert in zip(glaxo_sa_matches.mol, glaxo_sa_matches.alert)]"
   ]
  },
  {
   "cell_type": "code",
   "execution_count": 33,
   "metadata": {},
   "outputs": [
    {
     "data": {
      "image/svg+xml": [
       "<svg xmlns=\"http://www.w3.org/2000/svg\" xmlns:rdkit=\"http://www.rdkit.org/xml\" xmlns:xlink=\"http://www.w3.org/1999/xlink\" version=\"1.1\" baseProfile=\"full\" xml:space=\"preserve\" width=\"600px\" height=\"400px\" viewBox=\"0 0 600 400\">\n",
       "<!-- END OF HEADER -->\n",
       "<rect style=\"opacity:1.0;fill:#FFFFFF;stroke:none\" width=\"600.0\" height=\"400.0\" x=\"0.0\" y=\"0.0\"> </rect>\n",
       "<path class=\"bond-0 atom-0 atom-1\" d=\"M 42.4,86.4 L 55.6,95.9 L 55.2,100.1 L 40.3,89.4 Z\" style=\"fill:#A100247F;fill-rule:evenodd;fill-opacity:0.5;stroke:#A100247F;stroke-width:0.0px;stroke-linecap:butt;stroke-linejoin:miter;stroke-opacity:0.5;\"/>\n",
       "<path class=\"bond-1 atom-1 atom-2\" d=\"M 69.4,89.7 L 72.8,92.2 L 55.2,100.1 L 55.6,95.9 Z\" style=\"fill:#A100247F;fill-rule:evenodd;fill-opacity:0.5;stroke:#A100247F;stroke-width:0.0px;stroke-linecap:butt;stroke-linejoin:miter;stroke-opacity:0.5;\"/>\n",
       "<path class=\"bond-2 atom-2 atom-3\" d=\"M 71.0,73.6 L 74.7,73.9 L 72.8,92.2 L 69.4,89.7 Z\" style=\"fill:#A100247F;fill-rule:evenodd;fill-opacity:0.5;stroke:#A100247F;stroke-width:0.0px;stroke-linecap:butt;stroke-linejoin:miter;stroke-opacity:0.5;\"/>\n",
       "<ellipse cx=\"41.4\" cy=\"87.9\" rx=\"3.5\" ry=\"3.5\" class=\"atom-0\" style=\"fill:#A100247F;fill-rule:evenodd;stroke:#A100247F;stroke-width:1.0px;stroke-linecap:butt;stroke-linejoin:miter;stroke-opacity:1\"/>\n",
       "<ellipse cx=\"55.4\" cy=\"98.1\" rx=\"3.7\" ry=\"5.9\" class=\"atom-1\" style=\"fill:#A100247F;fill-rule:evenodd;stroke:#A100247F;stroke-width:1.0px;stroke-linecap:butt;stroke-linejoin:miter;stroke-opacity:1\"/>\n",
       "<ellipse cx=\"71.1\" cy=\"90.9\" rx=\"3.5\" ry=\"3.5\" class=\"atom-2\" style=\"fill:#A100247F;fill-rule:evenodd;stroke:#A100247F;stroke-width:1.0px;stroke-linecap:butt;stroke-linejoin:miter;stroke-opacity:1\"/>\n",
       "<ellipse cx=\"72.8\" cy=\"73.9\" rx=\"3.7\" ry=\"5.9\" class=\"atom-3\" style=\"fill:#A100247F;fill-rule:evenodd;stroke:#A100247F;stroke-width:1.0px;stroke-linecap:butt;stroke-linejoin:miter;stroke-opacity:1\"/>\n",
       "<path class=\"bond-0 atom-0 atom-1\" d=\"M 41.4,87.9 L 50.5,94.5\" style=\"fill:none;fill-rule:evenodd;stroke:#000000;stroke-width:2.0px;stroke-linecap:butt;stroke-linejoin:miter;stroke-opacity:1\"/>\n",
       "<path class=\"bond-1 atom-1 atom-2\" d=\"M 60.3,95.8 L 71.1,90.9\" style=\"fill:none;fill-rule:evenodd;stroke:#000000;stroke-width:2.0px;stroke-linecap:butt;stroke-linejoin:miter;stroke-opacity:1\"/>\n",
       "<path class=\"bond-2 atom-2 atom-3\" d=\"M 72.3,91.8 L 73.5,80.5\" style=\"fill:none;fill-rule:evenodd;stroke:#000000;stroke-width:2.0px;stroke-linecap:butt;stroke-linejoin:miter;stroke-opacity:1\"/>\n",
       "<path class=\"bond-2 atom-2 atom-3\" d=\"M 69.7,91.5 L 70.9,80.2\" style=\"fill:none;fill-rule:evenodd;stroke:#000000;stroke-width:2.0px;stroke-linecap:butt;stroke-linejoin:miter;stroke-opacity:1\"/>\n",
       "<path class=\"bond-3 atom-2 atom-4\" d=\"M 71.1,90.9 L 79.7,97.1\" style=\"fill:none;fill-rule:evenodd;stroke:#000000;stroke-width:2.0px;stroke-linecap:butt;stroke-linejoin:miter;stroke-opacity:1\"/>\n",
       "<path class=\"bond-4 atom-4 atom-5\" d=\"M 90.5,98.6 L 95.5,96.3\" style=\"fill:none;fill-rule:evenodd;stroke:#000000;stroke-width:2.0px;stroke-linecap:butt;stroke-linejoin:miter;stroke-opacity:1\"/>\n",
       "<path class=\"bond-5 atom-5 atom-6\" d=\"M 106.3,97.8 L 114.9,104.0\" style=\"fill:none;fill-rule:evenodd;stroke:#000000;stroke-width:2.0px;stroke-linecap:butt;stroke-linejoin:miter;stroke-opacity:1\"/>\n",
       "<path class=\"bond-5 atom-5 atom-6\" d=\"M 104.7,99.9 L 113.4,106.1\" style=\"fill:none;fill-rule:evenodd;stroke:#000000;stroke-width:2.0px;stroke-linecap:butt;stroke-linejoin:miter;stroke-opacity:1\"/>\n",
       "<path class=\"bond-6 atom-6 atom-7\" d=\"M 114.9,104.0 L 130.6,96.9\" style=\"fill:none;fill-rule:evenodd;stroke:#000000;stroke-width:2.0px;stroke-linecap:butt;stroke-linejoin:miter;stroke-opacity:1\"/>\n",
       "<path class=\"bond-7 atom-7 atom-8\" d=\"M 130.6,96.9 L 132.3,79.7\" style=\"fill:none;fill-rule:evenodd;stroke:#000000;stroke-width:2.0px;stroke-linecap:butt;stroke-linejoin:miter;stroke-opacity:1\"/>\n",
       "<path class=\"bond-7 atom-7 atom-8\" d=\"M 133.3,95.7 L 134.8,81.5\" style=\"fill:none;fill-rule:evenodd;stroke:#000000;stroke-width:2.0px;stroke-linecap:butt;stroke-linejoin:miter;stroke-opacity:1\"/>\n",
       "<path class=\"bond-8 atom-8 atom-9\" d=\"M 132.3,79.7 L 148.1,72.6\" style=\"fill:none;fill-rule:evenodd;stroke:#000000;stroke-width:2.0px;stroke-linecap:butt;stroke-linejoin:miter;stroke-opacity:1\"/>\n",
       "<path class=\"bond-9 atom-9 atom-10\" d=\"M 148.1,72.6 L 162.1,82.7\" style=\"fill:none;fill-rule:evenodd;stroke:#000000;stroke-width:2.0px;stroke-linecap:butt;stroke-linejoin:miter;stroke-opacity:1\"/>\n",
       "<path class=\"bond-9 atom-9 atom-10\" d=\"M 147.8,75.6 L 159.4,83.9\" style=\"fill:none;fill-rule:evenodd;stroke:#000000;stroke-width:2.0px;stroke-linecap:butt;stroke-linejoin:miter;stroke-opacity:1\"/>\n",
       "<path class=\"bond-10 atom-10 atom-11\" d=\"M 162.1,82.7 L 160.4,99.9\" style=\"fill:none;fill-rule:evenodd;stroke:#000000;stroke-width:2.0px;stroke-linecap:butt;stroke-linejoin:miter;stroke-opacity:1\"/>\n",
       "<path class=\"bond-11 atom-11 atom-12\" d=\"M 160.4,99.9 L 150.0,104.5\" style=\"fill:none;fill-rule:evenodd;stroke:#000000;stroke-width:2.0px;stroke-linecap:butt;stroke-linejoin:miter;stroke-opacity:1\"/>\n",
       "<path class=\"bond-11 atom-11 atom-12\" d=\"M 158.0,98.1 L 149.0,102.2\" style=\"fill:none;fill-rule:evenodd;stroke:#000000;stroke-width:2.0px;stroke-linecap:butt;stroke-linejoin:miter;stroke-opacity:1\"/>\n",
       "<path class=\"bond-12 atom-12 atom-7\" d=\"M 139.3,103.1 L 130.6,96.9\" style=\"fill:none;fill-rule:evenodd;stroke:#000000;stroke-width:2.0px;stroke-linecap:butt;stroke-linejoin:miter;stroke-opacity:1\"/>\n",
       "<path d=\"M 70.6,91.2 L 71.1,90.9 L 71.5,91.2\" style=\"fill:none;stroke:#000000;stroke-width:2.0px;stroke-linecap:butt;stroke-linejoin:miter;stroke-opacity:1;\"/>\n",
       "<path d=\"M 114.5,103.7 L 114.9,104.0 L 115.7,103.6\" style=\"fill:none;stroke:#000000;stroke-width:2.0px;stroke-linecap:butt;stroke-linejoin:miter;stroke-opacity:1;\"/>\n",
       "<path d=\"M 132.3,80.6 L 132.3,79.7 L 133.1,79.4\" style=\"fill:none;stroke:#000000;stroke-width:2.0px;stroke-linecap:butt;stroke-linejoin:miter;stroke-opacity:1;\"/>\n",
       "<path d=\"M 147.3,73.0 L 148.1,72.6 L 148.8,73.1\" style=\"fill:none;stroke:#000000;stroke-width:2.0px;stroke-linecap:butt;stroke-linejoin:miter;stroke-opacity:1;\"/>\n",
       "<path d=\"M 161.4,82.2 L 162.1,82.7 L 162.0,83.6\" style=\"fill:none;stroke:#000000;stroke-width:2.0px;stroke-linecap:butt;stroke-linejoin:miter;stroke-opacity:1;\"/>\n",
       "<path d=\"M 160.5,99.0 L 160.4,99.9 L 159.9,100.1\" style=\"fill:none;stroke:#000000;stroke-width:2.0px;stroke-linecap:butt;stroke-linejoin:miter;stroke-opacity:1;\"/>\n",
       "<path class=\"atom-1\" d=\"M 53.1 100.8 Q 53.2 100.9, 53.5 101.0 Q 53.9 101.2, 54.3 101.3 Q 54.8 101.4, 55.2 101.4 Q 55.9 101.4, 56.4 101.0 Q 56.8 100.6, 56.8 100.0 Q 56.8 99.5, 56.6 99.2 Q 56.4 99.0, 56.0 98.8 Q 55.7 98.7, 55.1 98.5 Q 54.4 98.3, 54.0 98.1 Q 53.5 97.9, 53.2 97.4 Q 52.9 97.0, 52.9 96.3 Q 52.9 95.2, 53.6 94.6 Q 54.3 94.0, 55.7 94.0 Q 56.6 94.0, 57.7 94.4 L 57.5 95.3 Q 56.5 94.9, 55.7 94.9 Q 54.9 94.9, 54.5 95.2 Q 54.1 95.5, 54.1 96.1 Q 54.1 96.5, 54.3 96.8 Q 54.5 97.1, 54.8 97.2 Q 55.2 97.4, 55.7 97.6 Q 56.5 97.8, 56.9 98.0 Q 57.3 98.2, 57.7 98.7 Q 58.0 99.2, 58.0 100.0 Q 58.0 101.1, 57.2 101.7 Q 56.5 102.3, 55.2 102.3 Q 54.5 102.3, 53.9 102.1 Q 53.4 102.0, 52.8 101.7 L 53.1 100.8 \" fill=\"#000000\"/>\n",
       "<path class=\"atom-3\" d=\"M 70.5 76.5 Q 70.6 76.6, 71.0 76.7 Q 71.4 76.9, 71.8 77.0 Q 72.2 77.1, 72.6 77.1 Q 73.4 77.1, 73.9 76.7 Q 74.3 76.3, 74.3 75.7 Q 74.3 75.2, 74.1 75.0 Q 73.9 74.7, 73.5 74.5 Q 73.2 74.4, 72.6 74.2 Q 71.9 74.0, 71.4 73.8 Q 71.0 73.6, 70.7 73.1 Q 70.4 72.7, 70.4 72.0 Q 70.4 70.9, 71.1 70.3 Q 71.8 69.7, 73.2 69.7 Q 74.1 69.7, 75.2 70.1 L 74.9 71.0 Q 73.9 70.6, 73.2 70.6 Q 72.4 70.6, 72.0 70.9 Q 71.5 71.3, 71.5 71.8 Q 71.5 72.3, 71.8 72.5 Q 72.0 72.8, 72.3 73.0 Q 72.6 73.1, 73.2 73.3 Q 73.9 73.5, 74.4 73.7 Q 74.8 74.0, 75.1 74.4 Q 75.4 74.9, 75.4 75.7 Q 75.4 76.8, 74.7 77.4 Q 73.9 78.0, 72.7 78.0 Q 72.0 78.0, 71.4 77.9 Q 70.9 77.7, 70.2 77.5 L 70.5 76.5 \" fill=\"#000000\"/>\n",
       "<path class=\"atom-4\" d=\"M 83.3 96.9 L 86.0 101.2 Q 86.3 101.7, 86.7 102.4 Q 87.1 103.2, 87.1 103.3 L 87.1 96.9 L 88.2 96.9 L 88.2 105.1 L 87.1 105.1 L 84.2 100.4 Q 83.9 99.8, 83.5 99.2 Q 83.2 98.5, 83.1 98.3 L 83.1 105.1 L 82.0 105.1 L 82.0 96.9 L 83.3 96.9 \" fill=\"#000000\"/>\n",
       "<path class=\"atom-4\" d=\"M 81.9 105.9 L 83.0 105.9 L 83.0 109.4 L 87.2 109.4 L 87.2 105.9 L 88.3 105.9 L 88.3 114.0 L 87.2 114.0 L 87.2 110.3 L 83.0 110.3 L 83.0 114.0 L 81.9 114.0 L 81.9 105.9 \" fill=\"#000000\"/>\n",
       "<path class=\"atom-5\" d=\"M 99.1 89.8 L 101.7 94.2 Q 102.0 94.6, 102.4 95.3 Q 102.9 96.1, 102.9 96.2 L 102.9 89.8 L 104.0 89.8 L 104.0 98.0 L 102.8 98.0 L 100.0 93.3 Q 99.6 92.7, 99.3 92.1 Q 98.9 91.4, 98.8 91.3 L 98.8 98.0 L 97.8 98.0 L 97.8 89.8 L 99.1 89.8 \" fill=\"#000000\"/>\n",
       "<path class=\"atom-12\" d=\"M 142.8 102.9 L 145.5 107.2 Q 145.8 107.6, 146.2 108.4 Q 146.6 109.2, 146.6 109.2 L 146.6 102.9 L 147.7 102.9 L 147.7 111.1 L 146.6 111.1 L 143.7 106.3 Q 143.4 105.8, 143.1 105.1 Q 142.7 104.5, 142.6 104.3 L 142.6 111.1 L 141.5 111.1 L 141.5 102.9 L 142.8 102.9 \" fill=\"#000000\"/>\n",
       "<path class=\"legend\" d=\"M 67.2 179.8 L 63.7 179.8 L 63.7 178.5 L 72.0 178.5 L 72.0 179.8 L 68.7 179.8 L 68.7 189.9 L 67.2 189.9 L 67.2 179.8 \" fill=\"#000000\"/>\n",
       "<path class=\"legend\" d=\"M 76.9 181.5 Q 78.2 181.5, 78.9 182.2 Q 79.6 183.0, 79.6 184.4 L 79.6 189.9 L 78.1 189.9 L 78.1 184.5 Q 78.1 183.6, 77.7 183.1 Q 77.4 182.7, 76.5 182.7 Q 75.8 182.7, 75.1 183.0 Q 74.5 183.4, 74.1 184.0 L 74.1 189.9 L 72.6 189.9 L 72.6 177.7 L 74.1 177.7 L 74.1 182.7 Q 75.2 181.5, 76.9 181.5 \" fill=\"#000000\"/>\n",
       "<path class=\"legend\" d=\"M 81.5 178.5 L 82.9 178.5 L 82.9 179.9 L 81.5 179.9 L 81.5 178.5 M 81.5 181.6 L 82.9 181.6 L 82.9 189.9 L 81.5 189.9 L 81.5 181.6 \" fill=\"#000000\"/>\n",
       "<path class=\"legend\" d=\"M 84.9 185.7 Q 84.9 183.7, 85.9 182.6 Q 86.9 181.5, 88.8 181.5 Q 90.7 181.5, 91.7 182.6 Q 92.7 183.7, 92.7 185.7 Q 92.7 187.7, 91.7 188.9 Q 90.7 190.0, 88.8 190.0 Q 86.9 190.0, 85.9 188.9 Q 84.9 187.7, 84.9 185.7 M 86.5 185.7 Q 86.5 187.2, 87.1 188.0 Q 87.7 188.8, 88.8 188.8 Q 90.0 188.8, 90.6 188.0 Q 91.2 187.2, 91.2 185.7 Q 91.2 184.2, 90.6 183.5 Q 90.0 182.7, 88.8 182.7 Q 87.7 182.7, 87.1 183.5 Q 86.5 184.2, 86.5 185.7 \" fill=\"#000000\"/>\n",
       "<path class=\"legend\" d=\"M 94.1 185.7 Q 94.1 183.7, 95.1 182.6 Q 96.1 181.5, 97.9 181.5 Q 99.7 181.5, 100.5 182.6 Q 101.4 183.6, 101.4 185.7 L 101.4 185.9 L 95.6 185.9 Q 95.6 187.3, 96.3 188.1 Q 96.9 188.8, 98.1 188.8 Q 98.7 188.8, 99.3 188.7 Q 99.9 188.5, 100.6 188.2 L 101.0 189.2 Q 100.2 189.6, 99.5 189.8 Q 98.7 190.0, 98.0 190.0 Q 96.1 190.0, 95.1 188.9 Q 94.1 187.7, 94.1 185.7 M 97.9 182.7 Q 97.0 182.7, 96.4 183.2 Q 95.8 183.8, 95.7 184.8 L 99.8 184.8 Q 99.7 183.7, 99.2 183.2 Q 98.8 182.7, 97.9 182.7 \" fill=\"#000000\"/>\n",
       "<path class=\"legend\" d=\"M 103.0 188.2 Q 103.8 188.5, 104.3 188.6 Q 104.8 188.8, 105.4 188.8 Q 106.1 188.8, 106.5 188.4 Q 106.9 188.1, 106.9 187.6 Q 106.9 187.2, 106.7 187.0 Q 106.5 186.7, 106.2 186.6 Q 105.9 186.5, 105.2 186.3 Q 105.1 186.2, 104.4 186.0 Q 103.6 185.7, 103.2 185.2 Q 102.8 184.6, 102.8 183.8 Q 102.8 182.8, 103.6 182.2 Q 104.4 181.5, 105.9 181.5 Q 106.5 181.5, 107.0 181.6 Q 107.6 181.8, 108.2 182.0 L 107.8 183.2 Q 107.3 183.0, 106.8 182.9 Q 106.4 182.7, 105.9 182.7 Q 105.1 182.7, 104.7 183.0 Q 104.3 183.3, 104.3 183.8 Q 104.3 184.3, 104.6 184.5 Q 105.0 184.7, 105.6 184.9 Q 105.8 185.0, 105.9 185.0 L 106.3 185.2 Q 107.0 185.4, 107.4 185.6 Q 107.8 185.9, 108.1 186.3 Q 108.4 186.8, 108.4 187.5 Q 108.4 188.7, 107.5 189.4 Q 106.7 190.0, 105.4 190.0 Q 104.6 190.0, 103.9 189.8 Q 103.2 189.7, 102.6 189.4 L 103.0 188.2 \" fill=\"#000000\"/>\n",
       "<path class=\"legend\" d=\"M 109.9 182.8 L 109.9 181.6 L 111.4 181.6 L 111.7 179.2 L 112.8 179.2 L 112.8 181.6 L 115.3 181.6 L 115.3 182.8 L 112.8 182.8 L 112.8 187.3 Q 112.8 188.8, 114.0 188.8 Q 114.5 188.8, 115.2 188.5 L 115.4 189.6 Q 114.6 190.0, 113.7 190.0 Q 112.7 190.0, 112.0 189.3 Q 111.3 188.7, 111.3 187.4 L 111.3 182.8 L 109.9 182.8 \" fill=\"#000000\"/>\n",
       "<path class=\"legend\" d=\"M 116.4 185.7 Q 116.4 183.7, 117.5 182.6 Q 118.5 181.5, 120.3 181.5 Q 122.1 181.5, 122.9 182.6 Q 123.7 183.6, 123.7 185.7 L 123.7 185.9 L 118.0 185.9 Q 118.0 187.3, 118.6 188.1 Q 119.3 188.8, 120.4 188.8 Q 121.1 188.8, 121.7 188.7 Q 122.3 188.5, 123.0 188.2 L 123.4 189.2 Q 122.6 189.6, 121.9 189.8 Q 121.1 190.0, 120.4 190.0 Q 118.5 190.0, 117.5 188.9 Q 116.4 187.7, 116.4 185.7 M 120.3 182.7 Q 119.4 182.7, 118.8 183.2 Q 118.2 183.8, 118.0 184.8 L 122.1 184.8 Q 122.0 183.7, 121.6 183.2 Q 121.1 182.7, 120.3 182.7 \" fill=\"#000000\"/>\n",
       "<path class=\"legend\" d=\"M 126.2 181.6 L 126.3 182.8 Q 127.2 181.5, 128.6 181.5 Q 129.1 181.5, 129.7 181.6 L 129.4 183.0 Q 128.7 182.8, 128.4 182.8 Q 127.7 182.8, 127.2 183.1 Q 126.8 183.4, 126.5 184.0 L 126.5 189.9 L 124.9 189.9 L 124.9 181.6 L 126.2 181.6 \" fill=\"#000000\"/>\n",
       "<path class=\"legend\" d=\"M 131.0 188.2 Q 131.7 188.5, 132.2 188.6 Q 132.7 188.8, 133.3 188.8 Q 134.0 188.8, 134.4 188.4 Q 134.8 188.1, 134.8 187.6 Q 134.8 187.2, 134.6 187.0 Q 134.4 186.7, 134.1 186.6 Q 133.9 186.5, 133.2 186.3 Q 133.0 186.2, 132.3 186.0 Q 131.6 185.7, 131.2 185.2 Q 130.8 184.6, 130.8 183.8 Q 130.8 182.8, 131.6 182.2 Q 132.3 181.5, 133.8 181.5 Q 134.4 181.5, 135.0 181.6 Q 135.5 181.8, 136.2 182.0 L 135.8 183.2 Q 135.2 183.0, 134.8 182.9 Q 134.3 182.7, 133.8 182.7 Q 133.1 182.7, 132.7 183.0 Q 132.3 183.3, 132.3 183.8 Q 132.3 184.3, 132.6 184.5 Q 132.9 184.7, 133.6 184.9 Q 133.8 185.0, 133.9 185.0 L 134.3 185.2 Q 135.0 185.4, 135.4 185.6 Q 135.8 185.9, 136.1 186.3 Q 136.3 186.8, 136.3 187.5 Q 136.3 188.7, 135.5 189.4 Q 134.7 190.0, 133.3 190.0 Q 132.5 190.0, 131.9 189.8 Q 131.2 189.7, 130.5 189.4 L 131.0 188.2 \" fill=\"#000000\"/>\n",
       "<path class=\"bond-7 atom-7 atom-8\" d=\"M 278.6,71.6 L 282.3,71.9 L 280.5,90.5 L 276.8,90.2 Z\" style=\"fill:#A100247F;fill-rule:evenodd;fill-opacity:0.5;stroke:#A100247F;stroke-width:0.0px;stroke-linecap:butt;stroke-linejoin:miter;stroke-opacity:0.5;\"/>\n",
       "<ellipse cx=\"280.4\" cy=\"71.8\" rx=\"3.7\" ry=\"5.9\" class=\"atom-7\" style=\"fill:#A100247F;fill-rule:evenodd;stroke:#A100247F;stroke-width:1.0px;stroke-linecap:butt;stroke-linejoin:miter;stroke-opacity:1\"/>\n",
       "<ellipse cx=\"278.6\" cy=\"90.5\" rx=\"3.7\" ry=\"5.9\" class=\"atom-8\" style=\"fill:#A100247F;fill-rule:evenodd;stroke:#A100247F;stroke-width:1.0px;stroke-linecap:butt;stroke-linejoin:miter;stroke-opacity:1\"/>\n",
       "<path class=\"bond-0 atom-0 atom-1\" d=\"M 286.9,117.0 L 301.0,107.1\" style=\"fill:none;fill-rule:evenodd;stroke:#000000;stroke-width:2.0px;stroke-linecap:butt;stroke-linejoin:miter;stroke-opacity:1\"/>\n",
       "<path class=\"bond-0 atom-0 atom-1\" d=\"M 286.9,113.8 L 297.9,106.1\" style=\"fill:none;fill-rule:evenodd;stroke:#000000;stroke-width:2.0px;stroke-linecap:butt;stroke-linejoin:miter;stroke-opacity:1\"/>\n",
       "<path class=\"bond-1 atom-1 atom-2\" d=\"M 301.0,107.1 L 317.8,111.0\" style=\"fill:none;fill-rule:evenodd;stroke:#000000;stroke-width:2.0px;stroke-linecap:butt;stroke-linejoin:miter;stroke-opacity:1\"/>\n",
       "<path class=\"bond-2 atom-2 atom-3\" d=\"M 317.8,111.0 L 329.6,98.3\" style=\"fill:none;fill-rule:evenodd;stroke:#000000;stroke-width:2.0px;stroke-linecap:butt;stroke-linejoin:miter;stroke-opacity:1\"/>\n",
       "<path class=\"bond-3 atom-3 atom-4\" d=\"M 329.6,98.3 L 324.5,81.8\" style=\"fill:none;fill-rule:evenodd;stroke:#000000;stroke-width:2.0px;stroke-linecap:butt;stroke-linejoin:miter;stroke-opacity:1\"/>\n",
       "<path class=\"bond-4 atom-4 atom-5\" d=\"M 324.5,81.8 L 307.7,78.0\" style=\"fill:none;fill-rule:evenodd;stroke:#000000;stroke-width:2.0px;stroke-linecap:butt;stroke-linejoin:miter;stroke-opacity:1\"/>\n",
       "<path class=\"bond-5 atom-5 atom-6\" d=\"M 307.7,78.0 L 296.3,65.0\" style=\"fill:none;fill-rule:evenodd;stroke:#000000;stroke-width:2.0px;stroke-linecap:butt;stroke-linejoin:miter;stroke-opacity:1\"/>\n",
       "<path class=\"bond-5 atom-5 atom-6\" d=\"M 304.1,77.9 L 295.6,68.1\" style=\"fill:none;fill-rule:evenodd;stroke:#000000;stroke-width:2.0px;stroke-linecap:butt;stroke-linejoin:miter;stroke-opacity:1\"/>\n",
       "<path class=\"bond-6 atom-6 atom-7\" d=\"M 296.3,65.0 L 285.3,69.6\" style=\"fill:none;fill-rule:evenodd;stroke:#000000;stroke-width:2.0px;stroke-linecap:butt;stroke-linejoin:miter;stroke-opacity:1\"/>\n",
       "<path class=\"bond-7 atom-7 atom-8\" d=\"M 279.8,78.3 L 279.2,84.0\" style=\"fill:none;fill-rule:evenodd;stroke:#000000;stroke-width:2.0px;stroke-linecap:butt;stroke-linejoin:miter;stroke-opacity:1\"/>\n",
       "<path class=\"bond-8 atom-8 atom-9\" d=\"M 283.6,90.4 L 295.9,90.6\" style=\"fill:none;fill-rule:evenodd;stroke:#000000;stroke-width:2.0px;stroke-linecap:butt;stroke-linejoin:miter;stroke-opacity:1\"/>\n",
       "<path class=\"bond-8 atom-8 atom-9\" d=\"M 283.5,93.0 L 294.0,93.2\" style=\"fill:none;fill-rule:evenodd;stroke:#000000;stroke-width:2.0px;stroke-linecap:butt;stroke-linejoin:miter;stroke-opacity:1\"/>\n",
       "<path class=\"bond-9 atom-8 atom-10\" d=\"M 276.4,96.9 L 275.2,100.3\" style=\"fill:none;fill-rule:evenodd;stroke:#000000;stroke-width:2.0px;stroke-linecap:butt;stroke-linejoin:miter;stroke-opacity:1\"/>\n",
       "<path class=\"bond-10 atom-10 atom-0\" d=\"M 278.0,110.4 L 286.9,117.0\" style=\"fill:none;fill-rule:evenodd;stroke:#000000;stroke-width:2.0px;stroke-linecap:butt;stroke-linejoin:miter;stroke-opacity:1\"/>\n",
       "<path class=\"bond-11 atom-9 atom-1\" d=\"M 295.9,90.6 L 301.0,107.1\" style=\"fill:none;fill-rule:evenodd;stroke:#000000;stroke-width:2.0px;stroke-linecap:butt;stroke-linejoin:miter;stroke-opacity:1\"/>\n",
       "<path class=\"bond-12 atom-9 atom-5\" d=\"M 295.9,90.6 L 307.7,78.0\" style=\"fill:none;fill-rule:evenodd;stroke:#000000;stroke-width:2.0px;stroke-linecap:butt;stroke-linejoin:miter;stroke-opacity:1\"/>\n",
       "<path d=\"M 287.6,116.5 L 286.9,117.0 L 286.4,116.7\" style=\"fill:none;stroke:#000000;stroke-width:2.0px;stroke-linecap:butt;stroke-linejoin:miter;stroke-opacity:1;\"/>\n",
       "<path d=\"M 317.0,110.8 L 317.8,111.0 L 318.4,110.3\" style=\"fill:none;stroke:#000000;stroke-width:2.0px;stroke-linecap:butt;stroke-linejoin:miter;stroke-opacity:1;\"/>\n",
       "<path d=\"M 329.0,99.0 L 329.6,98.3 L 329.3,97.5\" style=\"fill:none;stroke:#000000;stroke-width:2.0px;stroke-linecap:butt;stroke-linejoin:miter;stroke-opacity:1;\"/>\n",
       "<path d=\"M 324.7,82.6 L 324.5,81.8 L 323.6,81.6\" style=\"fill:none;stroke:#000000;stroke-width:2.0px;stroke-linecap:butt;stroke-linejoin:miter;stroke-opacity:1;\"/>\n",
       "<path d=\"M 296.9,65.6 L 296.3,65.0 L 295.8,65.2\" style=\"fill:none;stroke:#000000;stroke-width:2.0px;stroke-linecap:butt;stroke-linejoin:miter;stroke-opacity:1;\"/>\n",
       "<path class=\"atom-7\" d=\"M 278.1 74.5 Q 278.2 74.6, 278.6 74.7 Q 279.0 74.9, 279.4 75.0 Q 279.8 75.1, 280.2 75.1 Q 281.0 75.1, 281.4 74.7 Q 281.9 74.3, 281.9 73.7 Q 281.9 73.2, 281.7 72.9 Q 281.4 72.7, 281.1 72.5 Q 280.8 72.4, 280.2 72.2 Q 279.5 72.0, 279.0 71.8 Q 278.6 71.6, 278.3 71.1 Q 278.0 70.7, 278.0 70.0 Q 278.0 68.9, 278.7 68.3 Q 279.4 67.7, 280.8 67.7 Q 281.7 67.7, 282.8 68.1 L 282.5 69.0 Q 281.5 68.6, 280.8 68.6 Q 280.0 68.6, 279.6 68.9 Q 279.1 69.3, 279.1 69.8 Q 279.1 70.3, 279.4 70.5 Q 279.6 70.8, 279.9 70.9 Q 280.2 71.1, 280.8 71.3 Q 281.5 71.5, 282.0 71.7 Q 282.4 71.9, 282.7 72.4 Q 283.0 72.9, 283.0 73.7 Q 283.0 74.8, 282.3 75.4 Q 281.5 76.0, 280.3 76.0 Q 279.5 76.0, 279.0 75.9 Q 278.5 75.7, 277.8 75.4 L 278.1 74.5 \" fill=\"#000000\"/>\n",
       "<path class=\"atom-8\" d=\"M 276.3 93.1 Q 276.4 93.2, 276.8 93.3 Q 277.2 93.5, 277.6 93.6 Q 278.0 93.7, 278.4 93.7 Q 279.2 93.7, 279.7 93.3 Q 280.1 92.9, 280.1 92.3 Q 280.1 91.8, 279.9 91.6 Q 279.7 91.3, 279.3 91.1 Q 279.0 91.0, 278.4 90.8 Q 277.7 90.6, 277.2 90.4 Q 276.8 90.2, 276.5 89.7 Q 276.2 89.3, 276.2 88.6 Q 276.2 87.5, 276.9 86.9 Q 277.6 86.3, 279.0 86.3 Q 279.9 86.3, 281.0 86.7 L 280.7 87.6 Q 279.7 87.2, 279.0 87.2 Q 278.2 87.2, 277.8 87.5 Q 277.3 87.9, 277.3 88.4 Q 277.3 88.9, 277.6 89.1 Q 277.8 89.4, 278.1 89.5 Q 278.5 89.7, 279.0 89.9 Q 279.7 90.1, 280.2 90.3 Q 280.6 90.6, 280.9 91.0 Q 281.3 91.5, 281.3 92.3 Q 281.3 93.4, 280.5 94.0 Q 279.7 94.6, 278.5 94.6 Q 277.8 94.6, 277.2 94.5 Q 276.7 94.3, 276.0 94.1 L 276.3 93.1 \" fill=\"#000000\"/>\n",
       "<path class=\"atom-10\" d=\"M 270.7 109.5 Q 270.8 109.5, 271.2 109.7 Q 271.6 109.8, 272.0 109.9 Q 272.4 110.0, 272.9 110.0 Q 273.6 110.0, 274.1 109.7 Q 274.5 109.3, 274.5 108.6 Q 274.5 108.2, 274.3 107.9 Q 274.1 107.6, 273.7 107.5 Q 273.4 107.3, 272.8 107.2 Q 272.1 106.9, 271.6 106.7 Q 271.2 106.5, 270.9 106.1 Q 270.6 105.6, 270.6 104.9 Q 270.6 103.9, 271.3 103.2 Q 272.0 102.6, 273.4 102.6 Q 274.3 102.6, 275.4 103.1 L 275.1 104.0 Q 274.2 103.5, 273.4 103.5 Q 272.6 103.5, 272.2 103.9 Q 271.7 104.2, 271.8 104.8 Q 271.8 105.2, 272.0 105.5 Q 272.2 105.7, 272.5 105.9 Q 272.9 106.0, 273.4 106.2 Q 274.2 106.4, 274.6 106.7 Q 275.0 106.9, 275.3 107.4 Q 275.7 107.8, 275.7 108.6 Q 275.7 109.8, 274.9 110.4 Q 274.2 111.0, 272.9 111.0 Q 272.2 111.0, 271.6 110.8 Q 271.1 110.7, 270.4 110.4 L 270.7 109.5 \" fill=\"#000000\"/>\n",
       "<path class=\"legend\" d=\"M 264.9 174.8 Q 267.4 174.8, 268.8 176.2 Q 270.1 177.7, 270.1 180.4 Q 270.1 183.1, 268.8 184.6 Q 267.4 186.1, 264.9 186.1 L 261.2 186.1 L 261.2 174.8 L 264.9 174.8 M 264.9 184.8 Q 266.6 184.8, 267.6 183.7 Q 268.5 182.6, 268.5 180.4 Q 268.5 178.2, 267.6 177.1 Q 266.6 176.0, 264.9 176.0 L 262.8 176.0 L 262.8 184.8 L 264.9 184.8 \" fill=\"#000000\"/>\n",
       "<path class=\"legend\" d=\"M 271.4 174.8 L 272.9 174.8 L 272.9 176.1 L 271.4 176.1 L 271.4 174.8 M 271.4 177.9 L 272.9 177.9 L 272.9 186.1 L 271.4 186.1 L 271.4 177.9 \" fill=\"#000000\"/>\n",
       "<path class=\"legend\" d=\"M 275.3 184.4 Q 276.0 184.7, 276.5 184.8 Q 277.0 185.0, 277.6 185.0 Q 278.3 185.0, 278.7 184.7 Q 279.1 184.4, 279.1 183.8 Q 279.1 183.4, 278.9 183.2 Q 278.7 182.9, 278.4 182.8 Q 278.1 182.7, 277.4 182.5 Q 277.3 182.4, 276.6 182.2 Q 275.8 181.9, 275.4 181.4 Q 275.1 180.8, 275.1 180.0 Q 275.1 179.1, 275.8 178.4 Q 276.6 177.7, 278.1 177.7 Q 278.7 177.7, 279.3 177.9 Q 279.8 178.0, 280.4 178.2 L 280.0 179.4 Q 279.5 179.2, 279.0 179.1 Q 278.6 179.0, 278.1 179.0 Q 277.3 179.0, 276.9 179.3 Q 276.6 179.6, 276.6 180.0 Q 276.6 180.5, 276.9 180.7 Q 277.2 180.9, 277.8 181.2 Q 278.0 181.2, 278.2 181.3 L 278.5 181.4 Q 279.2 181.6, 279.6 181.9 Q 280.0 182.1, 280.3 182.5 Q 280.6 183.0, 280.6 183.7 Q 280.6 184.9, 279.8 185.6 Q 278.9 186.2, 277.6 186.2 Q 276.8 186.2, 276.1 186.1 Q 275.5 185.9, 274.8 185.6 L 275.3 184.4 \" fill=\"#000000\"/>\n",
       "<path class=\"legend\" d=\"M 289.0 177.9 L 289.0 186.1 L 287.8 186.1 L 287.6 184.9 Q 286.5 186.2, 284.8 186.2 Q 283.4 186.2, 282.7 185.5 Q 282.0 184.7, 282.0 183.3 L 282.0 177.9 L 283.5 177.9 L 283.5 183.2 Q 283.5 184.2, 283.9 184.6 Q 284.3 185.0, 285.1 185.0 Q 285.9 185.0, 286.5 184.7 Q 287.1 184.4, 287.5 183.7 L 287.5 177.9 L 289.0 177.9 \" fill=\"#000000\"/>\n",
       "<path class=\"legend\" d=\"M 290.9 173.9 L 292.3 173.9 L 292.3 186.1 L 290.9 186.1 L 290.9 173.9 \" fill=\"#000000\"/>\n",
       "<path class=\"legend\" d=\"M 298.1 177.7 Q 299.8 177.7, 300.8 178.8 Q 301.7 179.8, 301.7 181.8 Q 301.7 183.9, 300.6 185.1 Q 299.5 186.2, 297.5 186.2 Q 296.6 186.2, 295.8 186.0 L 295.8 190.0 L 294.3 190.0 L 294.3 177.9 L 295.5 177.9 L 295.7 178.8 Q 296.1 178.3, 296.7 178.0 Q 297.4 177.7, 298.1 177.7 M 297.5 185.0 Q 298.7 185.0, 299.5 184.2 Q 300.2 183.3, 300.2 181.8 Q 300.2 180.4, 299.6 179.7 Q 299.0 178.9, 298.0 178.9 Q 297.2 178.9, 296.6 179.3 Q 296.0 179.8, 295.8 180.5 L 295.8 184.8 Q 296.6 185.0, 297.5 185.0 \" fill=\"#000000\"/>\n",
       "<path class=\"legend\" d=\"M 307.3 177.7 Q 308.6 177.7, 309.3 178.5 Q 310.0 179.2, 310.0 180.6 L 310.0 186.1 L 308.5 186.1 L 308.5 180.8 Q 308.5 179.8, 308.1 179.3 Q 307.7 178.9, 306.9 178.9 Q 306.1 178.9, 305.5 179.2 Q 304.9 179.6, 304.5 180.2 L 304.5 186.1 L 303.0 186.1 L 303.0 173.9 L 304.5 173.9 L 304.5 178.9 Q 305.6 177.7, 307.3 177.7 \" fill=\"#000000\"/>\n",
       "<path class=\"legend\" d=\"M 311.8 174.8 L 313.2 174.8 L 313.2 176.1 L 311.8 176.1 L 311.8 174.8 M 311.8 177.9 L 313.2 177.9 L 313.2 186.1 L 311.8 186.1 L 311.8 177.9 \" fill=\"#000000\"/>\n",
       "<path class=\"legend\" d=\"M 322.7 173.9 L 322.7 186.1 L 321.4 186.1 L 321.2 185.1 Q 320.3 186.2, 318.8 186.2 Q 317.1 186.2, 316.1 185.2 Q 315.2 184.1, 315.2 182.1 Q 315.2 180.0, 316.3 178.9 Q 317.4 177.7, 319.4 177.7 Q 320.3 177.7, 321.1 177.9 L 321.1 173.9 L 322.7 173.9 M 318.9 185.0 Q 319.7 185.0, 320.3 184.6 Q 320.9 184.1, 321.1 183.3 L 321.1 179.1 Q 320.3 178.9, 319.4 178.9 Q 318.2 178.9, 317.4 179.7 Q 316.7 180.6, 316.7 182.1 Q 316.7 183.5, 317.3 184.3 Q 317.9 185.0, 318.9 185.0 \" fill=\"#000000\"/>\n",
       "<path class=\"legend\" d=\"M 324.5 182.0 Q 324.5 179.9, 325.5 178.8 Q 326.5 177.7, 328.3 177.7 Q 330.1 177.7, 330.9 178.8 Q 331.8 179.9, 331.8 181.9 L 331.8 182.2 L 326.0 182.2 Q 326.1 183.6, 326.7 184.3 Q 327.3 185.0, 328.5 185.0 Q 329.1 185.0, 329.7 184.9 Q 330.3 184.7, 331.0 184.4 L 331.4 185.4 Q 330.6 185.8, 329.9 186.0 Q 329.2 186.2, 328.4 186.2 Q 326.5 186.2, 325.5 185.1 Q 324.5 184.0, 324.5 182.0 M 328.3 178.9 Q 327.4 178.9, 326.8 179.4 Q 326.3 180.0, 326.1 181.0 L 330.2 181.0 Q 330.1 179.9, 329.6 179.4 Q 329.2 178.9, 328.3 178.9 \" fill=\"#000000\"/>\n",
       "<path class=\"legend\" d=\"M 333.4 184.4 Q 334.1 184.7, 334.6 184.8 Q 335.2 185.0, 335.7 185.0 Q 336.4 185.0, 336.8 184.7 Q 337.2 184.4, 337.2 183.8 Q 337.2 183.4, 337.0 183.2 Q 336.8 182.9, 336.5 182.8 Q 336.3 182.7, 335.6 182.5 Q 335.5 182.4, 334.7 182.2 Q 334.0 181.9, 333.6 181.4 Q 333.2 180.8, 333.2 180.0 Q 333.2 179.1, 334.0 178.4 Q 334.7 177.7, 336.2 177.7 Q 336.8 177.7, 337.4 177.9 Q 338.0 178.0, 338.6 178.2 L 338.2 179.4 Q 337.6 179.2, 337.2 179.1 Q 336.7 179.0, 336.2 179.0 Q 335.5 179.0, 335.1 179.3 Q 334.7 179.6, 334.7 180.0 Q 334.7 180.5, 335.0 180.7 Q 335.3 180.9, 336.0 181.2 Q 336.2 181.2, 336.3 181.3 L 336.7 181.4 Q 337.4 181.6, 337.8 181.9 Q 338.2 182.1, 338.5 182.5 Q 338.8 183.0, 338.8 183.7 Q 338.8 184.9, 337.9 185.6 Q 337.1 186.2, 335.7 186.2 Q 334.9 186.2, 334.3 186.1 Q 333.6 185.9, 332.9 185.6 L 333.4 184.4 \" fill=\"#000000\"/>\n",
       "<path class=\"bond-2 atom-2 atom-3\" d=\"M 516.9,88.5 L 516.0,92.7 L 500.6,97.6 L 499.4,94.1 Z\" style=\"fill:#A100247F;fill-rule:evenodd;fill-opacity:0.5;stroke:#A100247F;stroke-width:0.0px;stroke-linecap:butt;stroke-linejoin:miter;stroke-opacity:0.5;\"/>\n",
       "<path class=\"bond-3 atom-3 atom-4\" d=\"M 516.9,88.5 L 531.3,101.6 L 527.2,102.9 L 516.0,92.7 Z\" style=\"fill:#A100247F;fill-rule:evenodd;fill-opacity:0.5;stroke:#A100247F;stroke-width:0.0px;stroke-linecap:butt;stroke-linejoin:miter;stroke-opacity:0.5;\"/>\n",
       "<path class=\"bond-4 atom-4 atom-5\" d=\"M 531.3,101.6 L 527.4,119.5 L 523.8,118.7 L 527.2,102.9 Z\" style=\"fill:#A100247F;fill-rule:evenodd;fill-opacity:0.5;stroke:#A100247F;stroke-width:0.0px;stroke-linecap:butt;stroke-linejoin:miter;stroke-opacity:0.5;\"/>\n",
       "<ellipse cx=\"500.0\" cy=\"95.9\" rx=\"4.4\" ry=\"5.8\" class=\"atom-2\" style=\"fill:#A100247F;fill-rule:evenodd;stroke:#A100247F;stroke-width:1.0px;stroke-linecap:butt;stroke-linejoin:miter;stroke-opacity:1\"/>\n",
       "<ellipse cx=\"516.4\" cy=\"86.1\" rx=\"4.5\" ry=\"12.1\" class=\"atom-3\" style=\"fill:#A100247F;fill-rule:evenodd;stroke:#A100247F;stroke-width:1.0px;stroke-linecap:butt;stroke-linejoin:miter;stroke-opacity:1\"/>\n",
       "<ellipse cx=\"529.2\" cy=\"102.2\" rx=\"3.5\" ry=\"3.5\" class=\"atom-4\" style=\"fill:#A100247F;fill-rule:evenodd;stroke:#A100247F;stroke-width:1.0px;stroke-linecap:butt;stroke-linejoin:miter;stroke-opacity:1\"/>\n",
       "<ellipse cx=\"525.6\" cy=\"119.1\" rx=\"5.3\" ry=\"5.9\" class=\"atom-5\" style=\"fill:#A100247F;fill-rule:evenodd;stroke:#A100247F;stroke-width:1.0px;stroke-linecap:butt;stroke-linejoin:miter;stroke-opacity:1\"/>\n",
       "<path class=\"bond-0 atom-0 atom-1\" d=\"M 490.9,67.4 L 487.2,84.3\" style=\"fill:none;fill-rule:evenodd;stroke:#000000;stroke-width:2.0px;stroke-linecap:butt;stroke-linejoin:miter;stroke-opacity:1\"/>\n",
       "<path class=\"bond-1 atom-1 atom-2\" d=\"M 487.2,84.3 L 494.6,91.0\" style=\"fill:none;fill-rule:evenodd;stroke:#000000;stroke-width:2.0px;stroke-linecap:butt;stroke-linejoin:miter;stroke-opacity:1\"/>\n",
       "<path class=\"bond-1 atom-1 atom-2\" d=\"M 490.1,83.4 L 496.4,89.1\" style=\"fill:none;fill-rule:evenodd;stroke:#000000;stroke-width:2.0px;stroke-linecap:butt;stroke-linejoin:miter;stroke-opacity:1\"/>\n",
       "<path class=\"bond-2 atom-2 atom-3\" d=\"M 505.4,94.1 L 511.1,92.3\" style=\"fill:none;fill-rule:evenodd;stroke:#000000;stroke-width:2.0px;stroke-linecap:butt;stroke-linejoin:miter;stroke-opacity:1\"/>\n",
       "<path class=\"bond-3 atom-3 atom-4\" d=\"M 521.8,95.5 L 529.2,102.2\" style=\"fill:none;fill-rule:evenodd;stroke:#000000;stroke-width:2.0px;stroke-linecap:butt;stroke-linejoin:miter;stroke-opacity:1\"/>\n",
       "<path class=\"bond-4 atom-4 atom-5\" d=\"M 528.1,101.2 L 525.7,112.4\" style=\"fill:none;fill-rule:evenodd;stroke:#000000;stroke-width:2.0px;stroke-linecap:butt;stroke-linejoin:miter;stroke-opacity:1\"/>\n",
       "<path class=\"bond-4 atom-4 atom-5\" d=\"M 530.7,101.8 L 528.2,112.9\" style=\"fill:none;fill-rule:evenodd;stroke:#000000;stroke-width:2.0px;stroke-linecap:butt;stroke-linejoin:miter;stroke-opacity:1\"/>\n",
       "<path class=\"bond-5 atom-4 atom-6\" d=\"M 529.2,102.2 L 545.7,96.9\" style=\"fill:none;fill-rule:evenodd;stroke:#000000;stroke-width:2.0px;stroke-linecap:butt;stroke-linejoin:miter;stroke-opacity:1\"/>\n",
       "<path class=\"bond-6 atom-6 atom-7\" d=\"M 545.7,96.9 L 558.5,108.5\" style=\"fill:none;fill-rule:evenodd;stroke:#000000;stroke-width:2.0px;stroke-linecap:butt;stroke-linejoin:miter;stroke-opacity:1\"/>\n",
       "<path class=\"bond-6 atom-6 atom-7\" d=\"M 548.5,96.0 L 559.1,105.6\" style=\"fill:none;fill-rule:evenodd;stroke:#000000;stroke-width:2.0px;stroke-linecap:butt;stroke-linejoin:miter;stroke-opacity:1\"/>\n",
       "<path class=\"bond-7 atom-7 atom-8\" d=\"M 558.5,108.5 L 574.9,103.3\" style=\"fill:none;fill-rule:evenodd;stroke:#000000;stroke-width:2.0px;stroke-linecap:butt;stroke-linejoin:miter;stroke-opacity:1\"/>\n",
       "<path class=\"bond-8 atom-8 atom-9\" d=\"M 574.9,103.3 L 578.6,86.4\" style=\"fill:none;fill-rule:evenodd;stroke:#000000;stroke-width:2.0px;stroke-linecap:butt;stroke-linejoin:miter;stroke-opacity:1\"/>\n",
       "<path class=\"bond-8 atom-8 atom-9\" d=\"M 572.7,101.3 L 575.7,87.3\" style=\"fill:none;fill-rule:evenodd;stroke:#000000;stroke-width:2.0px;stroke-linecap:butt;stroke-linejoin:miter;stroke-opacity:1\"/>\n",
       "<path class=\"bond-9 atom-9 atom-10\" d=\"M 578.6,86.4 L 571.2,79.7\" style=\"fill:none;fill-rule:evenodd;stroke:#000000;stroke-width:2.0px;stroke-linecap:butt;stroke-linejoin:miter;stroke-opacity:1\"/>\n",
       "<path class=\"bond-10 atom-10 atom-11\" d=\"M 560.4,76.5 L 549.3,80.1\" style=\"fill:none;fill-rule:evenodd;stroke:#000000;stroke-width:2.0px;stroke-linecap:butt;stroke-linejoin:miter;stroke-opacity:1\"/>\n",
       "<path class=\"bond-10 atom-10 atom-11\" d=\"M 561.2,79.0 L 551.5,82.1\" style=\"fill:none;fill-rule:evenodd;stroke:#000000;stroke-width:2.0px;stroke-linecap:butt;stroke-linejoin:miter;stroke-opacity:1\"/>\n",
       "<path class=\"bond-11 atom-1 atom-12\" d=\"M 487.2,84.3 L 470.8,89.5\" style=\"fill:none;fill-rule:evenodd;stroke:#000000;stroke-width:2.0px;stroke-linecap:butt;stroke-linejoin:miter;stroke-opacity:1\"/>\n",
       "<path class=\"bond-12 atom-12 atom-13\" d=\"M 470.8,89.5 L 458.0,77.9\" style=\"fill:none;fill-rule:evenodd;stroke:#000000;stroke-width:2.0px;stroke-linecap:butt;stroke-linejoin:miter;stroke-opacity:1\"/>\n",
       "<path class=\"bond-12 atom-12 atom-13\" d=\"M 467.9,90.4 L 457.4,80.9\" style=\"fill:none;fill-rule:evenodd;stroke:#000000;stroke-width:2.0px;stroke-linecap:butt;stroke-linejoin:miter;stroke-opacity:1\"/>\n",
       "<path class=\"bond-13 atom-13 atom-14\" d=\"M 458.0,77.9 L 460.2,67.6\" style=\"fill:none;fill-rule:evenodd;stroke:#000000;stroke-width:2.0px;stroke-linecap:butt;stroke-linejoin:miter;stroke-opacity:1\"/>\n",
       "<path class=\"bond-14 atom-13 atom-15\" d=\"M 458.0,77.9 L 441.5,83.2\" style=\"fill:none;fill-rule:evenodd;stroke:#000000;stroke-width:2.0px;stroke-linecap:butt;stroke-linejoin:miter;stroke-opacity:1\"/>\n",
       "<path class=\"bond-15 atom-15 atom-16\" d=\"M 441.5,83.2 L 437.9,100.1\" style=\"fill:none;fill-rule:evenodd;stroke:#000000;stroke-width:2.0px;stroke-linecap:butt;stroke-linejoin:miter;stroke-opacity:1\"/>\n",
       "<path class=\"bond-15 atom-15 atom-16\" d=\"M 443.8,85.2 L 440.7,99.2\" style=\"fill:none;fill-rule:evenodd;stroke:#000000;stroke-width:2.0px;stroke-linecap:butt;stroke-linejoin:miter;stroke-opacity:1\"/>\n",
       "<path class=\"bond-16 atom-16 atom-17\" d=\"M 437.9,100.1 L 421.4,105.3\" style=\"fill:none;fill-rule:evenodd;stroke:#000000;stroke-width:2.0px;stroke-linecap:butt;stroke-linejoin:miter;stroke-opacity:1\"/>\n",
       "<path class=\"bond-17 atom-16 atom-18\" d=\"M 437.9,100.1 L 444.6,106.2\" style=\"fill:none;fill-rule:evenodd;stroke:#000000;stroke-width:2.0px;stroke-linecap:butt;stroke-linejoin:miter;stroke-opacity:1\"/>\n",
       "<path class=\"bond-18 atom-18 atom-19\" d=\"M 456.7,109.7 L 467.1,106.4\" style=\"fill:none;fill-rule:evenodd;stroke:#000000;stroke-width:2.0px;stroke-linecap:butt;stroke-linejoin:miter;stroke-opacity:1\"/>\n",
       "<path class=\"bond-19 atom-19 atom-20\" d=\"M 465.7,106.9 L 473.0,113.5\" style=\"fill:none;fill-rule:evenodd;stroke:#000000;stroke-width:2.0px;stroke-linecap:butt;stroke-linejoin:miter;stroke-opacity:1\"/>\n",
       "<path class=\"bond-19 atom-19 atom-20\" d=\"M 467.4,104.9 L 474.7,111.6\" style=\"fill:none;fill-rule:evenodd;stroke:#000000;stroke-width:2.0px;stroke-linecap:butt;stroke-linejoin:miter;stroke-opacity:1\"/>\n",
       "<path class=\"bond-20 atom-11 atom-6\" d=\"M 549.3,80.1 L 545.7,96.9\" style=\"fill:none;fill-rule:evenodd;stroke:#000000;stroke-width:2.0px;stroke-linecap:butt;stroke-linejoin:miter;stroke-opacity:1\"/>\n",
       "<path class=\"bond-21 atom-19 atom-12\" d=\"M 467.1,106.4 L 470.8,89.5\" style=\"fill:none;fill-rule:evenodd;stroke:#000000;stroke-width:2.0px;stroke-linecap:butt;stroke-linejoin:miter;stroke-opacity:1\"/>\n",
       "<path d=\"M 528.9,101.9 L 529.2,102.2 L 530.0,101.9\" style=\"fill:none;stroke:#000000;stroke-width:2.0px;stroke-linecap:butt;stroke-linejoin:miter;stroke-opacity:1;\"/>\n",
       "<path d=\"M 557.8,108.0 L 558.5,108.5 L 559.3,108.3\" style=\"fill:none;stroke:#000000;stroke-width:2.0px;stroke-linecap:butt;stroke-linejoin:miter;stroke-opacity:1;\"/>\n",
       "<path d=\"M 574.1,103.5 L 574.9,103.3 L 575.1,102.4\" style=\"fill:none;stroke:#000000;stroke-width:2.0px;stroke-linecap:butt;stroke-linejoin:miter;stroke-opacity:1;\"/>\n",
       "<path d=\"M 578.4,87.2 L 578.6,86.4 L 578.2,86.1\" style=\"fill:none;stroke:#000000;stroke-width:2.0px;stroke-linecap:butt;stroke-linejoin:miter;stroke-opacity:1;\"/>\n",
       "<path d=\"M 549.9,79.9 L 549.3,80.1 L 549.1,80.9\" style=\"fill:none;stroke:#000000;stroke-width:2.0px;stroke-linecap:butt;stroke-linejoin:miter;stroke-opacity:1;\"/>\n",
       "<path d=\"M 442.4,82.9 L 441.5,83.2 L 441.4,84.0\" style=\"fill:none;stroke:#000000;stroke-width:2.0px;stroke-linecap:butt;stroke-linejoin:miter;stroke-opacity:1;\"/>\n",
       "<path d=\"M 466.6,106.6 L 467.1,106.4 L 467.3,105.6\" style=\"fill:none;stroke:#000000;stroke-width:2.0px;stroke-linecap:butt;stroke-linejoin:miter;stroke-opacity:1;\"/>\n",
       "<path class=\"atom-2\" d=\"M 498.2 91.8 L 500.9 96.1 Q 501.1 96.5, 501.6 97.3 Q 502.0 98.1, 502.0 98.1 L 502.0 91.8 L 503.1 91.8 L 503.1 99.9 L 502.0 99.9 L 499.1 95.2 Q 498.8 94.7, 498.4 94.0 Q 498.1 93.4, 498.0 93.2 L 498.0 99.9 L 496.9 99.9 L 496.9 91.8 L 498.2 91.8 \" fill=\"#000000\"/>\n",
       "<path class=\"atom-3\" d=\"M 514.6 86.5 L 517.3 90.8 Q 517.6 91.3, 518.0 92.0 Q 518.4 92.8, 518.5 92.9 L 518.5 86.5 L 519.5 86.5 L 519.5 94.7 L 518.4 94.7 L 515.6 90.0 Q 515.2 89.4, 514.9 88.8 Q 514.5 88.1, 514.4 87.9 L 514.4 94.7 L 513.4 94.7 L 513.4 86.5 L 514.6 86.5 \" fill=\"#000000\"/>\n",
       "<path class=\"atom-3\" d=\"M 513.3 77.6 L 514.4 77.6 L 514.4 81.0 L 518.5 81.0 L 518.5 77.6 L 519.6 77.6 L 519.6 85.7 L 518.5 85.7 L 518.5 81.9 L 514.4 81.9 L 514.4 85.7 L 513.3 85.7 L 513.3 77.6 \" fill=\"#000000\"/>\n",
       "<path class=\"atom-5\" d=\"M 521.8 119.1 Q 521.8 117.2, 522.8 116.1 Q 523.8 115.0, 525.6 115.0 Q 527.4 115.0, 528.3 116.1 Q 529.3 117.2, 529.3 119.1 Q 529.3 121.1, 528.3 122.2 Q 527.4 123.3, 525.6 123.3 Q 523.8 123.3, 522.8 122.2 Q 521.8 121.1, 521.8 119.1 M 525.6 122.4 Q 526.8 122.4, 527.5 121.6 Q 528.2 120.7, 528.2 119.1 Q 528.2 117.5, 527.5 116.7 Q 526.8 115.9, 525.6 115.9 Q 524.3 115.9, 523.6 116.7 Q 523.0 117.5, 523.0 119.1 Q 523.0 120.8, 523.6 121.6 Q 524.3 122.4, 525.6 122.4 \" fill=\"#000000\"/>\n",
       "<path class=\"atom-10\" d=\"M 564.0 70.7 L 566.6 75.0 Q 566.9 75.5, 567.3 76.2 Q 567.8 77.0, 567.8 77.1 L 567.8 70.7 L 568.9 70.7 L 568.9 78.9 L 567.7 78.9 L 564.9 74.2 Q 564.5 73.6, 564.2 73.0 Q 563.8 72.3, 563.7 72.1 L 563.7 78.9 L 562.7 78.9 L 562.7 70.7 L 564.0 70.7 \" fill=\"#000000\"/>\n",
       "<path class=\"atom-14\" d=\"M 457.9 61.1 Q 457.9 59.1, 458.9 58.0 Q 459.8 56.9, 461.6 56.9 Q 463.5 56.9, 464.4 58.0 Q 465.4 59.1, 465.4 61.1 Q 465.4 63.1, 464.4 64.2 Q 463.4 65.3, 461.6 65.3 Q 459.9 65.3, 458.9 64.2 Q 457.9 63.1, 457.9 61.1 M 461.6 64.4 Q 462.9 64.4, 463.6 63.6 Q 464.2 62.7, 464.2 61.1 Q 464.2 59.5, 463.6 58.7 Q 462.9 57.9, 461.6 57.9 Q 460.4 57.9, 459.7 58.7 Q 459.1 59.5, 459.1 61.1 Q 459.1 62.7, 459.7 63.6 Q 460.4 64.4, 461.6 64.4 \" fill=\"#000000\"/>\n",
       "<path class=\"atom-14\" d=\"M 466.7 57.0 L 467.8 57.0 L 467.8 60.5 L 471.9 60.5 L 471.9 57.0 L 473.0 57.0 L 473.0 65.2 L 471.9 65.2 L 471.9 61.4 L 467.8 61.4 L 467.8 65.2 L 466.7 65.2 L 466.7 57.0 \" fill=\"#000000\"/>\n",
       "<path class=\"atom-18\" d=\"M 446.9 111.7 Q 446.9 109.7, 447.9 108.7 Q 448.9 107.6, 450.7 107.6 Q 452.5 107.6, 453.4 108.7 Q 454.4 109.7, 454.4 111.7 Q 454.4 113.7, 453.4 114.8 Q 452.5 115.9, 450.7 115.9 Q 448.9 115.9, 447.9 114.8 Q 446.9 113.7, 446.9 111.7 M 450.7 115.0 Q 451.9 115.0, 452.6 114.2 Q 453.3 113.3, 453.3 111.7 Q 453.3 110.1, 452.6 109.3 Q 451.9 108.5, 450.7 108.5 Q 449.4 108.5, 448.7 109.3 Q 448.1 110.1, 448.1 111.7 Q 448.1 113.3, 448.7 114.2 Q 449.4 115.0, 450.7 115.0 \" fill=\"#000000\"/>\n",
       "<path class=\"atom-20\" d=\"M 476.2 118.0 Q 476.2 116.1, 477.1 115.0 Q 478.1 113.9, 479.9 113.9 Q 481.7 113.9, 482.7 115.0 Q 483.6 116.1, 483.6 118.0 Q 483.6 120.0, 482.7 121.1 Q 481.7 122.3, 479.9 122.3 Q 478.1 122.3, 477.1 121.1 Q 476.2 120.0, 476.2 118.0 M 479.9 121.3 Q 481.1 121.3, 481.8 120.5 Q 482.5 119.7, 482.5 118.0 Q 482.5 116.4, 481.8 115.6 Q 481.1 114.8, 479.9 114.8 Q 478.7 114.8, 478.0 115.6 Q 477.3 116.4, 477.3 118.0 Q 477.3 119.7, 478.0 120.5 Q 478.7 121.3, 479.9 121.3 \" fill=\"#000000\"/>\n",
       "<path class=\"legend\" d=\"M 451.5 183.8 Q 451.5 182.5, 452.6 181.8 Q 453.7 181.1, 455.6 181.1 L 456.8 181.1 L 456.8 180.8 Q 456.8 179.7, 456.4 179.3 Q 456.0 178.9, 454.9 178.9 Q 454.3 178.9, 453.8 179.0 Q 453.3 179.1, 452.5 179.5 L 452.0 178.4 Q 453.5 177.7, 455.0 177.7 Q 456.7 177.7, 457.5 178.4 Q 458.3 179.2, 458.3 180.8 L 458.3 186.1 L 457.1 186.1 Q 457.1 186.0, 457.1 185.8 Q 457.0 185.5, 456.9 185.1 Q 455.8 186.3, 454.2 186.3 Q 453.0 186.3, 452.3 185.6 Q 451.5 184.9, 451.5 183.8 M 453.0 183.8 Q 453.0 184.4, 453.4 184.8 Q 453.8 185.1, 454.5 185.1 Q 455.2 185.1, 455.8 184.8 Q 456.4 184.5, 456.8 184.0 L 456.8 182.2 L 455.7 182.2 Q 454.4 182.2, 453.7 182.6 Q 453.0 183.0, 453.0 183.8 \" fill=\"#000000\"/>\n",
       "<path class=\"legend\" d=\"M 460.1 181.9 Q 460.1 180.0, 461.1 178.8 Q 462.1 177.7, 464.1 177.7 Q 466.0 177.7, 466.9 179.1 L 465.9 179.8 Q 465.5 179.3, 465.1 179.1 Q 464.7 178.9, 464.1 178.9 Q 462.9 178.9, 462.3 179.7 Q 461.7 180.4, 461.7 181.9 Q 461.7 183.5, 462.3 184.2 Q 463.0 185.0, 464.2 185.0 Q 464.9 185.0, 465.3 184.9 Q 465.8 184.7, 466.4 184.4 L 466.8 185.5 Q 465.6 186.2, 464.1 186.2 Q 462.1 186.2, 461.1 185.0 Q 460.1 183.9, 460.1 181.9 \" fill=\"#000000\"/>\n",
       "<path class=\"legend\" d=\"M 474.3 177.8 L 475.7 177.8 L 471.5 190.0 L 470.1 190.0 L 471.5 186.1 L 470.8 186.1 L 467.9 177.8 L 469.5 177.8 L 471.9 184.8 L 474.3 177.8 \" fill=\"#000000\"/>\n",
       "<path class=\"legend\" d=\"M 476.5 173.9 L 478.0 173.9 L 478.0 186.1 L 476.5 186.1 L 476.5 173.9 \" fill=\"#000000\"/>\n",
       "<path class=\"legend\" d=\"M 484.2 177.7 Q 485.5 177.7, 486.2 178.4 Q 486.9 179.2, 486.9 180.6 L 486.9 186.1 L 485.4 186.1 L 485.4 180.7 Q 485.4 179.8, 485.0 179.3 Q 484.7 178.9, 483.8 178.9 Q 483.1 178.9, 482.5 179.2 Q 481.8 179.6, 481.4 180.2 L 481.4 186.1 L 479.9 186.1 L 479.9 173.9 L 481.4 173.9 L 481.4 178.9 Q 482.5 177.7, 484.2 177.7 \" fill=\"#000000\"/>\n",
       "<path class=\"legend\" d=\"M 495.1 177.8 L 496.6 177.8 L 492.3 190.0 L 491.0 190.0 L 492.3 186.1 L 491.7 186.1 L 488.8 177.8 L 490.3 177.8 L 492.7 184.8 L 495.1 177.8 \" fill=\"#000000\"/>\n",
       "<path class=\"legend\" d=\"M 504.8 173.9 L 504.8 186.0 L 503.6 186.0 L 503.4 185.0 Q 502.5 186.2, 501.0 186.2 Q 499.2 186.2, 498.3 185.1 Q 497.3 184.1, 497.3 182.1 Q 497.3 180.0, 498.5 178.9 Q 499.6 177.7, 501.6 177.7 Q 502.4 177.7, 503.3 177.9 L 503.3 173.9 L 504.8 173.9 M 501.0 185.0 Q 501.9 185.0, 502.5 184.6 Q 503.1 184.1, 503.3 183.3 L 503.3 179.1 Q 502.5 178.9, 501.6 178.9 Q 500.3 178.9, 499.6 179.7 Q 498.9 180.6, 498.9 182.1 Q 498.9 183.5, 499.4 184.3 Q 500.0 185.0, 501.0 185.0 \" fill=\"#000000\"/>\n",
       "<path class=\"legend\" d=\"M 507.9 177.8 L 508.1 179.0 Q 509.0 177.7, 510.4 177.7 Q 510.8 177.7, 511.4 177.9 L 511.2 179.2 Q 510.5 179.0, 510.1 179.0 Q 509.4 179.0, 509.0 179.3 Q 508.6 179.6, 508.2 180.2 L 508.2 186.1 L 506.7 186.1 L 506.7 177.8 L 507.9 177.8 \" fill=\"#000000\"/>\n",
       "<path class=\"legend\" d=\"M 512.3 183.8 Q 512.3 182.5, 513.3 181.8 Q 514.4 181.1, 516.3 181.1 L 517.5 181.1 L 517.5 180.8 Q 517.5 179.7, 517.1 179.3 Q 516.7 178.9, 515.7 178.9 Q 515.0 178.9, 514.5 179.0 Q 514.0 179.1, 513.2 179.5 L 512.7 178.4 Q 514.2 177.7, 515.7 177.7 Q 517.4 177.7, 518.2 178.4 Q 519.0 179.2, 519.0 180.8 L 519.0 186.1 L 517.9 186.1 Q 517.8 186.0, 517.8 185.8 Q 517.8 185.5, 517.7 185.1 Q 516.5 186.3, 515.0 186.3 Q 513.7 186.3, 513.0 185.6 Q 512.3 184.9, 512.3 183.8 M 513.8 183.8 Q 513.8 184.4, 514.2 184.8 Q 514.5 185.1, 515.3 185.1 Q 515.9 185.1, 516.5 184.8 Q 517.1 184.5, 517.5 184.0 L 517.5 182.2 L 516.4 182.2 Q 515.1 182.2, 514.4 182.6 Q 513.8 183.0, 513.8 183.8 \" fill=\"#000000\"/>\n",
       "<path class=\"legend\" d=\"M 522.7 184.9 L 527.2 184.9 L 527.2 186.1 L 520.9 186.1 L 520.9 185.1 L 525.2 179.0 L 521.1 179.0 L 521.1 177.8 L 527.0 177.8 L 527.0 178.8 L 522.7 184.9 \" fill=\"#000000\"/>\n",
       "<path class=\"legend\" d=\"M 528.4 174.7 L 529.8 174.7 L 529.8 176.1 L 528.4 176.1 L 528.4 174.7 M 528.4 177.8 L 529.8 177.8 L 529.8 186.1 L 528.4 186.1 L 528.4 177.8 \" fill=\"#000000\"/>\n",
       "<path class=\"legend\" d=\"M 539.3 173.9 L 539.3 186.0 L 538.1 186.0 L 537.9 185.0 Q 537.0 186.2, 535.4 186.2 Q 533.7 186.2, 532.8 185.1 Q 531.8 184.1, 531.8 182.1 Q 531.8 180.0, 532.9 178.9 Q 534.1 177.7, 536.0 177.7 Q 536.9 177.7, 537.8 177.9 L 537.8 173.9 L 539.3 173.9 M 535.5 185.0 Q 536.4 185.0, 537.0 184.6 Q 537.6 184.1, 537.8 183.3 L 537.8 179.1 Q 537.0 178.9, 536.1 178.9 Q 534.8 178.9, 534.1 179.7 Q 533.4 180.6, 533.4 182.1 Q 533.4 183.5, 533.9 184.3 Q 534.5 185.0, 535.5 185.0 \" fill=\"#000000\"/>\n",
       "<path class=\"legend\" d=\"M 541.2 181.9 Q 541.2 179.9, 542.2 178.8 Q 543.2 177.7, 545.0 177.7 Q 546.8 177.7, 547.6 178.8 Q 548.5 179.9, 548.5 181.9 L 548.5 182.1 L 542.7 182.1 Q 542.7 183.5, 543.4 184.3 Q 544.0 185.0, 545.2 185.0 Q 545.8 185.0, 546.4 184.9 Q 547.0 184.7, 547.7 184.4 L 548.1 185.4 Q 547.3 185.8, 546.6 186.0 Q 545.9 186.2, 545.1 186.2 Q 543.2 186.2, 542.2 185.1 Q 541.2 184.0, 541.2 181.9 M 545.0 178.9 Q 544.1 178.9, 543.5 179.4 Q 543.0 180.0, 542.8 181.0 L 546.9 181.0 Q 546.8 179.9, 546.3 179.4 Q 545.9 178.9, 545.0 178.9 \" fill=\"#000000\"/>\n",
       "<ellipse cx=\"149.9\" cy=\"263.6\" rx=\"9.0\" ry=\"5.9\" class=\"atom-15\" style=\"fill:#A100247F;fill-rule:evenodd;stroke:#A100247F;stroke-width:1.0px;stroke-linecap:butt;stroke-linejoin:miter;stroke-opacity:1\"/>\n",
       "<path class=\"bond-0 atom-0 atom-1\" d=\"M 78.1,263.9 L 70.4,279.4\" style=\"fill:none;fill-rule:evenodd;stroke:#000000;stroke-width:2.0px;stroke-linecap:butt;stroke-linejoin:miter;stroke-opacity:1\"/>\n",
       "<path class=\"bond-1 atom-1 atom-2\" d=\"M 70.4,279.4 L 53.4,282.3\" style=\"fill:none;fill-rule:evenodd;stroke:#000000;stroke-width:2.0px;stroke-linecap:butt;stroke-linejoin:miter;stroke-opacity:1\"/>\n",
       "<path class=\"bond-1 atom-1 atom-2\" d=\"M 69.0,282.3 L 55.7,284.5\" style=\"fill:none;fill-rule:evenodd;stroke:#000000;stroke-width:2.0px;stroke-linecap:butt;stroke-linejoin:miter;stroke-opacity:1\"/>\n",
       "<path class=\"bond-2 atom-2 atom-3\" d=\"M 53.4,282.3 L 50.9,299.4\" style=\"fill:none;fill-rule:evenodd;stroke:#000000;stroke-width:2.0px;stroke-linecap:butt;stroke-linejoin:miter;stroke-opacity:1\"/>\n",
       "<path class=\"bond-3 atom-3 atom-4\" d=\"M 50.9,299.4 L 35.6,307.4\" style=\"fill:none;fill-rule:evenodd;stroke:#000000;stroke-width:2.0px;stroke-linecap:butt;stroke-linejoin:miter;stroke-opacity:1\"/>\n",
       "<path class=\"bond-4 atom-4 atom-5\" d=\"M 35.6,307.4 L 25.0,312.9\" style=\"fill:none;fill-rule:evenodd;stroke:#000000;stroke-width:2.0px;stroke-linecap:butt;stroke-linejoin:miter;stroke-opacity:1\"/>\n",
       "<path class=\"bond-5 atom-4 atom-6\" d=\"M 35.6,307.4 L 30.9,298.4\" style=\"fill:none;fill-rule:evenodd;stroke:#000000;stroke-width:2.0px;stroke-linecap:butt;stroke-linejoin:miter;stroke-opacity:1\"/>\n",
       "<path class=\"bond-6 atom-4 atom-7\" d=\"M 35.6,307.4 L 40.3,316.3\" style=\"fill:none;fill-rule:evenodd;stroke:#000000;stroke-width:2.0px;stroke-linecap:butt;stroke-linejoin:miter;stroke-opacity:1\"/>\n",
       "<path class=\"bond-7 atom-3 atom-8\" d=\"M 50.9,299.4 L 61.0,304.4\" style=\"fill:none;fill-rule:evenodd;stroke:#000000;stroke-width:2.0px;stroke-linecap:butt;stroke-linejoin:miter;stroke-opacity:1\"/>\n",
       "<path class=\"bond-7 atom-3 atom-8\" d=\"M 53.7,297.9 L 62.1,302.0\" style=\"fill:none;fill-rule:evenodd;stroke:#000000;stroke-width:2.0px;stroke-linecap:butt;stroke-linejoin:miter;stroke-opacity:1\"/>\n",
       "<path class=\"bond-8 atom-8 atom-9\" d=\"M 71.8,301.5 L 73.1,300.2\" style=\"fill:none;fill-rule:evenodd;stroke:#000000;stroke-width:2.0px;stroke-linecap:butt;stroke-linejoin:miter;stroke-opacity:1\"/>\n",
       "<path class=\"bond-9 atom-9 atom-10\" d=\"M 83.8,295.5 L 95.5,297.2\" style=\"fill:none;fill-rule:evenodd;stroke:#000000;stroke-width:2.0px;stroke-linecap:butt;stroke-linejoin:miter;stroke-opacity:1\"/>\n",
       "<path class=\"bond-10 atom-10 atom-11\" d=\"M 95.5,297.2 L 106.2,283.7\" style=\"fill:none;fill-rule:evenodd;stroke:#000000;stroke-width:2.0px;stroke-linecap:butt;stroke-linejoin:miter;stroke-opacity:1\"/>\n",
       "<path class=\"bond-11 atom-11 atom-12\" d=\"M 106.2,283.7 L 103.4,273.4\" style=\"fill:none;fill-rule:evenodd;stroke:#000000;stroke-width:2.0px;stroke-linecap:butt;stroke-linejoin:miter;stroke-opacity:1\"/>\n",
       "<path class=\"bond-11 atom-11 atom-12\" d=\"M 108.2,281.2 L 105.9,272.7\" style=\"fill:none;fill-rule:evenodd;stroke:#000000;stroke-width:2.0px;stroke-linecap:butt;stroke-linejoin:miter;stroke-opacity:1\"/>\n",
       "<path class=\"bond-12 atom-12 atom-13\" d=\"M 107.0,263.5 L 110.6,261.1\" style=\"fill:none;fill-rule:evenodd;stroke:#000000;stroke-width:2.0px;stroke-linecap:butt;stroke-linejoin:miter;stroke-opacity:1\"/>\n",
       "<path class=\"bond-13 atom-13 atom-14\" d=\"M 121.4,261.7 L 129.5,268.2\" style=\"fill:none;fill-rule:evenodd;stroke:#000000;stroke-width:2.0px;stroke-linecap:butt;stroke-linejoin:miter;stroke-opacity:1\"/>\n",
       "<path class=\"bond-13 atom-13 atom-14\" d=\"M 119.8,263.8 L 126.4,269.1\" style=\"fill:none;fill-rule:evenodd;stroke:#000000;stroke-width:2.0px;stroke-linecap:butt;stroke-linejoin:miter;stroke-opacity:1\"/>\n",
       "<path class=\"bond-14 atom-14 atom-15\" d=\"M 129.5,268.2 L 141.2,264.9\" style=\"fill:none;fill-rule:evenodd;stroke:#000000;stroke-width:2.0px;stroke-linecap:butt;stroke-linejoin:miter;stroke-opacity:1\"/>\n",
       "<path class=\"bond-15 atom-14 atom-16\" d=\"M 129.5,268.2 L 125.9,278.0\" style=\"fill:none;fill-rule:evenodd;stroke:#000000;stroke-width:2.0px;stroke-linecap:butt;stroke-linejoin:miter;stroke-opacity:1\"/>\n",
       "<path class=\"bond-16 atom-16 atom-17\" d=\"M 127.7,290.7 L 133.1,298.8\" style=\"fill:none;fill-rule:evenodd;stroke:#000000;stroke-width:2.0px;stroke-linecap:butt;stroke-linejoin:miter;stroke-opacity:1\"/>\n",
       "<path class=\"bond-17 atom-17 atom-18\" d=\"M 133.1,298.8 L 125.4,314.2\" style=\"fill:none;fill-rule:evenodd;stroke:#000000;stroke-width:2.0px;stroke-linecap:butt;stroke-linejoin:miter;stroke-opacity:1\"/>\n",
       "<path class=\"bond-17 atom-17 atom-18\" d=\"M 134.7,301.2 L 128.4,314.0\" style=\"fill:none;fill-rule:evenodd;stroke:#000000;stroke-width:2.0px;stroke-linecap:butt;stroke-linejoin:miter;stroke-opacity:1\"/>\n",
       "<path class=\"bond-18 atom-18 atom-19\" d=\"M 125.4,314.2 L 135.0,328.6\" style=\"fill:none;fill-rule:evenodd;stroke:#000000;stroke-width:2.0px;stroke-linecap:butt;stroke-linejoin:miter;stroke-opacity:1\"/>\n",
       "<path class=\"bond-19 atom-19 atom-20\" d=\"M 135.0,328.6 L 152.2,327.5\" style=\"fill:none;fill-rule:evenodd;stroke:#000000;stroke-width:2.0px;stroke-linecap:butt;stroke-linejoin:miter;stroke-opacity:1\"/>\n",
       "<path class=\"bond-19 atom-19 atom-20\" d=\"M 136.3,325.9 L 150.5,325.0\" style=\"fill:none;fill-rule:evenodd;stroke:#000000;stroke-width:2.0px;stroke-linecap:butt;stroke-linejoin:miter;stroke-opacity:1\"/>\n",
       "<path class=\"bond-20 atom-20 atom-21\" d=\"M 152.2,327.5 L 159.9,312.0\" style=\"fill:none;fill-rule:evenodd;stroke:#000000;stroke-width:2.0px;stroke-linecap:butt;stroke-linejoin:miter;stroke-opacity:1\"/>\n",
       "<path class=\"bond-21 atom-21 atom-22\" d=\"M 159.9,312.0 L 171.6,311.3\" style=\"fill:none;fill-rule:evenodd;stroke:#000000;stroke-width:2.0px;stroke-linecap:butt;stroke-linejoin:miter;stroke-opacity:1\"/>\n",
       "<path class=\"bond-22 atom-21 atom-23\" d=\"M 159.9,312.0 L 150.3,297.7\" style=\"fill:none;fill-rule:evenodd;stroke:#000000;stroke-width:2.0px;stroke-linecap:butt;stroke-linejoin:miter;stroke-opacity:1\"/>\n",
       "<path class=\"bond-22 atom-21 atom-23\" d=\"M 156.9,312.2 L 149.0,300.3\" style=\"fill:none;fill-rule:evenodd;stroke:#000000;stroke-width:2.0px;stroke-linecap:butt;stroke-linejoin:miter;stroke-opacity:1\"/>\n",
       "<path class=\"bond-23 atom-9 atom-1\" d=\"M 75.1,288.3 L 70.4,279.4\" style=\"fill:none;fill-rule:evenodd;stroke:#000000;stroke-width:2.0px;stroke-linecap:butt;stroke-linejoin:miter;stroke-opacity:1\"/>\n",
       "<path class=\"bond-24 atom-16 atom-11\" d=\"M 118.1,284.2 L 106.2,283.7\" style=\"fill:none;fill-rule:evenodd;stroke:#000000;stroke-width:2.0px;stroke-linecap:butt;stroke-linejoin:miter;stroke-opacity:1\"/>\n",
       "<path class=\"bond-25 atom-23 atom-17\" d=\"M 150.3,297.7 L 133.1,298.8\" style=\"fill:none;fill-rule:evenodd;stroke:#000000;stroke-width:2.0px;stroke-linecap:butt;stroke-linejoin:miter;stroke-opacity:1\"/>\n",
       "<path d=\"M 54.3,282.1 L 53.4,282.3 L 53.3,283.1\" style=\"fill:none;stroke:#000000;stroke-width:2.0px;stroke-linecap:butt;stroke-linejoin:miter;stroke-opacity:1;\"/>\n",
       "<path d=\"M 94.9,297.1 L 95.5,297.2 L 96.1,296.5\" style=\"fill:none;stroke:#000000;stroke-width:2.0px;stroke-linecap:butt;stroke-linejoin:miter;stroke-opacity:1;\"/>\n",
       "<path d=\"M 125.8,313.5 L 125.4,314.2 L 125.9,314.9\" style=\"fill:none;stroke:#000000;stroke-width:2.0px;stroke-linecap:butt;stroke-linejoin:miter;stroke-opacity:1;\"/>\n",
       "<path d=\"M 134.5,327.9 L 135.0,328.6 L 135.8,328.5\" style=\"fill:none;stroke:#000000;stroke-width:2.0px;stroke-linecap:butt;stroke-linejoin:miter;stroke-opacity:1;\"/>\n",
       "<path d=\"M 151.3,327.6 L 152.2,327.5 L 152.6,326.7\" style=\"fill:none;stroke:#000000;stroke-width:2.0px;stroke-linecap:butt;stroke-linejoin:miter;stroke-opacity:1;\"/>\n",
       "<path d=\"M 150.8,298.4 L 150.3,297.7 L 149.4,297.7\" style=\"fill:none;stroke:#000000;stroke-width:2.0px;stroke-linecap:butt;stroke-linejoin:miter;stroke-opacity:1;\"/>\n",
       "<path class=\"atom-5\" d=\"M 17.9 311.3 L 22.7 311.3 L 22.7 312.2 L 19.0 312.2 L 19.0 314.7 L 22.3 314.7 L 22.3 315.6 L 19.0 315.6 L 19.0 319.4 L 17.9 319.4 L 17.9 311.3 \" fill=\"#000000\"/>\n",
       "<path class=\"atom-6\" d=\"M 25.2 288.0 L 30.0 288.0 L 30.0 288.9 L 26.3 288.9 L 26.3 291.4 L 29.6 291.4 L 29.6 292.3 L 26.3 292.3 L 26.3 296.1 L 25.2 296.1 L 25.2 288.0 \" fill=\"#000000\"/>\n",
       "<path class=\"atom-7\" d=\"M 41.2 318.6 L 46.0 318.6 L 46.0 319.5 L 42.3 319.5 L 42.3 322.0 L 45.6 322.0 L 45.6 322.9 L 42.3 322.9 L 42.3 326.7 L 41.2 326.7 L 41.2 318.6 \" fill=\"#000000\"/>\n",
       "<path class=\"atom-8\" d=\"M 64.6 303.0 L 67.2 307.3 Q 67.5 307.7, 67.9 308.5 Q 68.4 309.2, 68.4 309.3 L 68.4 303.0 L 69.5 303.0 L 69.5 311.1 L 68.3 311.1 L 65.5 306.4 Q 65.1 305.8, 64.8 305.2 Q 64.4 304.6, 64.3 304.4 L 64.3 311.1 L 63.3 311.1 L 63.3 303.0 L 64.6 303.0 \" fill=\"#000000\"/>\n",
       "<path class=\"atom-9\" d=\"M 76.6 290.6 L 79.3 294.9 Q 79.6 295.4, 80.0 296.1 Q 80.4 296.9, 80.5 296.9 L 80.5 290.6 L 81.5 290.6 L 81.5 298.8 L 80.4 298.8 L 77.6 294.0 Q 77.2 293.5, 76.9 292.9 Q 76.5 292.2, 76.4 292.0 L 76.4 298.8 L 75.4 298.8 L 75.4 290.6 L 76.6 290.6 \" fill=\"#000000\"/>\n",
       "<path class=\"atom-12\" d=\"M 99.8 263.0 L 102.5 267.3 Q 102.7 267.7, 103.2 268.5 Q 103.6 269.2, 103.6 269.3 L 103.6 263.0 L 104.7 263.0 L 104.7 271.1 L 103.6 271.1 L 100.7 266.4 Q 100.4 265.8, 100.0 265.2 Q 99.7 264.6, 99.6 264.4 L 99.6 271.1 L 98.5 271.1 L 98.5 263.0 L 99.8 263.0 \" fill=\"#000000\"/>\n",
       "<path class=\"atom-13\" d=\"M 114.2 253.4 L 116.8 257.7 Q 117.1 258.1, 117.5 258.9 Q 118.0 259.7, 118.0 259.7 L 118.0 253.4 L 119.1 253.4 L 119.1 261.5 L 117.9 261.5 L 115.1 256.8 Q 114.7 256.3, 114.4 255.6 Q 114.0 255.0, 113.9 254.8 L 113.9 261.5 L 112.9 261.5 L 112.9 253.4 L 114.2 253.4 \" fill=\"#000000\"/>\n",
       "<path class=\"atom-15\" d=\"M 143.8 266.3 Q 143.9 266.4, 144.3 266.5 Q 144.7 266.7, 145.1 266.8 Q 145.5 266.9, 145.9 266.9 Q 146.7 266.9, 147.2 266.5 Q 147.6 266.2, 147.6 265.5 Q 147.6 265.0, 147.4 264.8 Q 147.2 264.5, 146.8 264.3 Q 146.5 264.2, 145.9 264.0 Q 145.2 263.8, 144.7 263.6 Q 144.3 263.4, 144.0 263.0 Q 143.7 262.5, 143.7 261.8 Q 143.7 260.8, 144.4 260.1 Q 145.1 259.5, 146.5 259.5 Q 147.4 259.5, 148.5 259.9 L 148.2 260.8 Q 147.2 260.4, 146.5 260.4 Q 145.7 260.4, 145.3 260.8 Q 144.8 261.1, 144.8 261.6 Q 144.8 262.1, 145.1 262.3 Q 145.3 262.6, 145.6 262.8 Q 146.0 262.9, 146.5 263.1 Q 147.2 263.3, 147.7 263.5 Q 148.1 263.8, 148.4 264.2 Q 148.8 264.7, 148.8 265.5 Q 148.8 266.6, 148.0 267.2 Q 147.2 267.8, 146.0 267.8 Q 145.3 267.8, 144.7 267.7 Q 144.2 267.5, 143.5 267.3 L 143.8 266.3 \" fill=\"#000000\"/>\n",
       "<path class=\"atom-15\" d=\"M 149.9 259.5 L 151.0 259.5 L 151.0 262.9 L 155.1 262.9 L 155.1 259.5 L 156.2 259.5 L 156.2 267.6 L 155.1 267.6 L 155.1 263.9 L 151.0 263.9 L 151.0 267.6 L 149.9 267.6 L 149.9 259.5 \" fill=\"#000000\"/>\n",
       "<path class=\"atom-16\" d=\"M 121.7 280.3 L 124.4 284.6 Q 124.6 285.0, 125.1 285.8 Q 125.5 286.6, 125.5 286.6 L 125.5 280.3 L 126.6 280.3 L 126.6 288.5 L 125.5 288.5 L 122.6 283.7 Q 122.3 283.2, 121.9 282.5 Q 121.6 281.9, 121.5 281.7 L 121.5 288.5 L 120.4 288.5 L 120.4 280.3 L 121.7 280.3 \" fill=\"#000000\"/>\n",
       "<path class=\"atom-22\" d=\"M 173.9 311.2 Q 173.9 309.2, 174.9 308.1 Q 175.8 307.1, 177.7 307.1 Q 179.3 307.1, 180.2 308.3 L 179.5 308.9 Q 178.8 308.0, 177.7 308.0 Q 176.4 308.0, 175.8 308.8 Q 175.1 309.7, 175.1 311.2 Q 175.1 312.8, 175.8 313.7 Q 176.5 314.5, 177.8 314.5 Q 178.7 314.5, 179.7 314.0 L 180.0 314.8 Q 179.6 315.1, 179.0 315.3 Q 178.3 315.4, 177.6 315.4 Q 175.8 315.4, 174.9 314.3 Q 173.9 313.3, 173.9 311.2 \" fill=\"#000000\"/>\n",
       "<path class=\"atom-22\" d=\"M 181.1 306.6 L 182.1 306.6 L 182.1 315.3 L 181.1 315.3 L 181.1 306.6 \" fill=\"#000000\"/>\n",
       "<path class=\"legend\" d=\"M 83.9 379.8 L 80.3 379.8 L 80.3 378.5 L 88.7 378.5 L 88.7 379.8 L 85.4 379.8 L 85.4 389.9 L 83.9 389.9 L 83.9 379.8 \" fill=\"#000000\"/>\n",
       "<path class=\"legend\" d=\"M 93.5 381.5 Q 94.8 381.5, 95.5 382.2 Q 96.2 383.0, 96.2 384.4 L 96.2 389.9 L 94.7 389.9 L 94.7 384.5 Q 94.7 383.6, 94.3 383.1 Q 94.0 382.7, 93.1 382.7 Q 92.4 382.7, 91.8 383.0 Q 91.1 383.4, 90.7 384.0 L 90.7 389.9 L 89.2 389.9 L 89.2 377.7 L 90.7 377.7 L 90.7 382.7 Q 91.8 381.5, 93.5 381.5 \" fill=\"#000000\"/>\n",
       "<path class=\"legend\" d=\"M 98.0 378.5 L 99.5 378.5 L 99.5 379.9 L 98.0 379.9 L 98.0 378.5 M 98.0 381.6 L 99.5 381.6 L 99.5 389.9 L 98.0 389.9 L 98.0 381.6 \" fill=\"#000000\"/>\n",
       "<path class=\"legend\" d=\"M 101.4 385.7 Q 101.4 383.7, 102.4 382.6 Q 103.4 381.5, 105.3 381.5 Q 107.1 381.5, 108.2 382.6 Q 109.2 383.7, 109.2 385.7 Q 109.2 387.7, 108.2 388.9 Q 107.1 390.0, 105.3 390.0 Q 103.4 390.0, 102.4 388.9 Q 101.4 387.7, 101.4 385.7 M 102.9 385.7 Q 102.9 387.2, 103.5 388.0 Q 104.1 388.8, 105.3 388.8 Q 106.4 388.8, 107.0 388.0 Q 107.6 387.2, 107.6 385.7 Q 107.6 384.2, 107.0 383.5 Q 106.4 382.7, 105.3 382.7 Q 104.1 382.7, 103.5 383.5 Q 102.9 384.2, 102.9 385.7 \" fill=\"#000000\"/>\n",
       "<path class=\"legend\" d=\"M 110.4 377.7 L 111.9 377.7 L 111.9 389.9 L 110.4 389.9 L 110.4 377.7 \" fill=\"#000000\"/>\n",
       "<path class=\"legend\" d=\"M 114.3 388.2 Q 115.0 388.5, 115.5 388.6 Q 116.0 388.8, 116.6 388.8 Q 117.3 388.8, 117.7 388.4 Q 118.1 388.1, 118.1 387.6 Q 118.1 387.2, 117.9 387.0 Q 117.7 386.7, 117.4 386.6 Q 117.2 386.5, 116.5 386.3 Q 116.4 386.2, 115.6 386.0 Q 114.9 385.7, 114.5 385.2 Q 114.1 384.6, 114.1 383.8 Q 114.1 382.8, 114.9 382.2 Q 115.6 381.5, 117.1 381.5 Q 117.7 381.5, 118.3 381.6 Q 118.8 381.8, 119.5 382.0 L 119.1 383.2 Q 118.5 383.0, 118.1 382.9 Q 117.6 382.7, 117.1 382.7 Q 116.4 382.7, 116.0 383.0 Q 115.6 383.3, 115.6 383.8 Q 115.6 384.3, 115.9 384.5 Q 116.2 384.7, 116.9 384.9 Q 117.1 385.0, 117.2 385.0 L 117.6 385.2 Q 118.3 385.4, 118.7 385.6 Q 119.1 385.9, 119.4 386.3 Q 119.6 386.8, 119.6 387.5 Q 119.6 388.7, 118.8 389.4 Q 118.0 390.0, 116.6 390.0 Q 115.8 390.0, 115.2 389.8 Q 114.5 389.7, 113.8 389.4 L 114.3 388.2 \" fill=\"#000000\"/>\n",
       "<path class=\"bond-11 atom-11 atom-12\" d=\"M 360.3,233.0 L 363.0,235.5 L 351.9,247.4 L 347.7,246.4 Z\" style=\"fill:#A100247F;fill-rule:evenodd;fill-opacity:0.5;stroke:#A100247F;stroke-width:0.0px;stroke-linecap:butt;stroke-linejoin:miter;stroke-opacity:0.5;\"/>\n",
       "<path class=\"bond-12 atom-11 atom-13\" d=\"M 347.7,246.4 L 351.9,247.4 L 356.3,261.9 L 353.3,265.0 Z\" style=\"fill:#A100247F;fill-rule:evenodd;fill-opacity:0.5;stroke:#A100247F;stroke-width:0.0px;stroke-linecap:butt;stroke-linejoin:miter;stroke-opacity:0.5;\"/>\n",
       "<path class=\"bond-13 atom-13 atom-14\" d=\"M 356.3,261.9 L 372.0,265.6 L 371.2,269.1 L 353.3,265.0 Z\" style=\"fill:#A100247F;fill-rule:evenodd;fill-opacity:0.5;stroke:#A100247F;stroke-width:0.0px;stroke-linecap:butt;stroke-linejoin:miter;stroke-opacity:0.5;\"/>\n",
       "<ellipse cx=\"349.8\" cy=\"246.9\" rx=\"3.5\" ry=\"3.5\" class=\"atom-11\" style=\"fill:#A100247F;fill-rule:evenodd;stroke:#A100247F;stroke-width:1.0px;stroke-linecap:butt;stroke-linejoin:miter;stroke-opacity:1\"/>\n",
       "<ellipse cx=\"361.6\" cy=\"234.4\" rx=\"5.3\" ry=\"5.9\" class=\"atom-12\" style=\"fill:#A100247F;fill-rule:evenodd;stroke:#A100247F;stroke-width:1.0px;stroke-linecap:butt;stroke-linejoin:miter;stroke-opacity:1\"/>\n",
       "<ellipse cx=\"350.8\" cy=\"263.4\" rx=\"10.0\" ry=\"5.8\" class=\"atom-13\" style=\"fill:#A100247F;fill-rule:evenodd;stroke:#A100247F;stroke-width:1.0px;stroke-linecap:butt;stroke-linejoin:miter;stroke-opacity:1\"/>\n",
       "<ellipse cx=\"371.6\" cy=\"267.3\" rx=\"4.4\" ry=\"5.8\" class=\"atom-14\" style=\"fill:#A100247F;fill-rule:evenodd;stroke:#A100247F;stroke-width:1.0px;stroke-linecap:butt;stroke-linejoin:miter;stroke-opacity:1\"/>\n",
       "<path class=\"bond-0 atom-0 atom-1\" d=\"M 223.4,295.8 L 239.3,289.1\" style=\"fill:none;fill-rule:evenodd;stroke:#000000;stroke-width:2.0px;stroke-linecap:butt;stroke-linejoin:miter;stroke-opacity:1\"/>\n",
       "<path class=\"bond-1 atom-1 atom-2\" d=\"M 239.3,289.1 L 241.5,272.0\" style=\"fill:none;fill-rule:evenodd;stroke:#000000;stroke-width:2.0px;stroke-linecap:butt;stroke-linejoin:miter;stroke-opacity:1\"/>\n",
       "<path class=\"bond-1 atom-1 atom-2\" d=\"M 242.1,288.0 L 243.9,273.8\" style=\"fill:none;fill-rule:evenodd;stroke:#000000;stroke-width:2.0px;stroke-linecap:butt;stroke-linejoin:miter;stroke-opacity:1\"/>\n",
       "<path class=\"bond-2 atom-2 atom-3\" d=\"M 241.5,272.0 L 257.4,265.3\" style=\"fill:none;fill-rule:evenodd;stroke:#000000;stroke-width:2.0px;stroke-linecap:butt;stroke-linejoin:miter;stroke-opacity:1\"/>\n",
       "<path class=\"bond-3 atom-3 atom-4\" d=\"M 257.4,265.3 L 271.2,275.8\" style=\"fill:none;fill-rule:evenodd;stroke:#000000;stroke-width:2.0px;stroke-linecap:butt;stroke-linejoin:miter;stroke-opacity:1\"/>\n",
       "<path class=\"bond-3 atom-3 atom-4\" d=\"M 257.0,268.3 L 268.4,276.9\" style=\"fill:none;fill-rule:evenodd;stroke:#000000;stroke-width:2.0px;stroke-linecap:butt;stroke-linejoin:miter;stroke-opacity:1\"/>\n",
       "<path class=\"bond-4 atom-4 atom-5\" d=\"M 271.2,275.8 L 281.0,271.6\" style=\"fill:none;fill-rule:evenodd;stroke:#000000;stroke-width:2.0px;stroke-linecap:butt;stroke-linejoin:miter;stroke-opacity:1\"/>\n",
       "<path class=\"bond-5 atom-5 atom-6\" d=\"M 287.9,262.7 L 289.2,251.9\" style=\"fill:none;fill-rule:evenodd;stroke:#000000;stroke-width:2.0px;stroke-linecap:butt;stroke-linejoin:miter;stroke-opacity:1\"/>\n",
       "<path class=\"bond-6 atom-6 atom-7\" d=\"M 289.2,251.9 L 305.2,245.3\" style=\"fill:none;fill-rule:evenodd;stroke:#000000;stroke-width:2.0px;stroke-linecap:butt;stroke-linejoin:miter;stroke-opacity:1\"/>\n",
       "<path class=\"bond-7 atom-7 atom-8\" d=\"M 305.2,245.3 L 309.1,228.4\" style=\"fill:none;fill-rule:evenodd;stroke:#000000;stroke-width:2.0px;stroke-linecap:butt;stroke-linejoin:miter;stroke-opacity:1\"/>\n",
       "<path class=\"bond-7 atom-7 atom-8\" d=\"M 308.1,244.0 L 311.2,230.9\" style=\"fill:none;fill-rule:evenodd;stroke:#000000;stroke-width:2.0px;stroke-linecap:butt;stroke-linejoin:miter;stroke-opacity:1\"/>\n",
       "<path class=\"bond-8 atom-8 atom-9\" d=\"M 309.1,228.4 L 326.3,227.0\" style=\"fill:none;fill-rule:evenodd;stroke:#000000;stroke-width:2.0px;stroke-linecap:butt;stroke-linejoin:miter;stroke-opacity:1\"/>\n",
       "<path class=\"bond-9 atom-9 atom-10\" d=\"M 326.3,227.0 L 333.0,242.9\" style=\"fill:none;fill-rule:evenodd;stroke:#000000;stroke-width:2.0px;stroke-linecap:butt;stroke-linejoin:miter;stroke-opacity:1\"/>\n",
       "<path class=\"bond-9 atom-9 atom-10\" d=\"M 324.7,229.7 L 329.9,242.2\" style=\"fill:none;fill-rule:evenodd;stroke:#000000;stroke-width:2.0px;stroke-linecap:butt;stroke-linejoin:miter;stroke-opacity:1\"/>\n",
       "<path class=\"bond-10 atom-10 atom-11\" d=\"M 333.0,242.9 L 349.8,246.9\" style=\"fill:none;fill-rule:evenodd;stroke:#000000;stroke-width:2.0px;stroke-linecap:butt;stroke-linejoin:miter;stroke-opacity:1\"/>\n",
       "<path class=\"bond-11 atom-11 atom-12\" d=\"M 350.2,248.3 L 356.5,241.6\" style=\"fill:none;fill-rule:evenodd;stroke:#000000;stroke-width:2.0px;stroke-linecap:butt;stroke-linejoin:miter;stroke-opacity:1\"/>\n",
       "<path class=\"bond-11 atom-11 atom-12\" d=\"M 348.4,246.5 L 354.7,239.8\" style=\"fill:none;fill-rule:evenodd;stroke:#000000;stroke-width:2.0px;stroke-linecap:butt;stroke-linejoin:miter;stroke-opacity:1\"/>\n",
       "<path class=\"bond-12 atom-11 atom-13\" d=\"M 349.8,246.9 L 352.9,257.0\" style=\"fill:none;fill-rule:evenodd;stroke:#000000;stroke-width:2.0px;stroke-linecap:butt;stroke-linejoin:miter;stroke-opacity:1\"/>\n",
       "<path class=\"bond-13 atom-13 atom-14\" d=\"M 360.2,264.7 L 366.2,266.1\" style=\"fill:none;fill-rule:evenodd;stroke:#000000;stroke-width:2.0px;stroke-linecap:butt;stroke-linejoin:miter;stroke-opacity:1\"/>\n",
       "<path class=\"bond-14 atom-14 atom-15\" d=\"M 373.5,273.7 L 376.6,283.9\" style=\"fill:none;fill-rule:evenodd;stroke:#000000;stroke-width:2.0px;stroke-linecap:butt;stroke-linejoin:miter;stroke-opacity:1\"/>\n",
       "<path class=\"bond-14 atom-14 atom-15\" d=\"M 371.1,274.5 L 373.7,283.2\" style=\"fill:none;fill-rule:evenodd;stroke:#000000;stroke-width:2.0px;stroke-linecap:butt;stroke-linejoin:miter;stroke-opacity:1\"/>\n",
       "<path class=\"bond-15 atom-15 atom-16\" d=\"M 376.6,283.9 L 364.8,296.5\" style=\"fill:none;fill-rule:evenodd;stroke:#000000;stroke-width:2.0px;stroke-linecap:butt;stroke-linejoin:miter;stroke-opacity:1\"/>\n",
       "<path class=\"bond-16 atom-16 atom-17\" d=\"M 364.8,296.5 L 348.0,292.5\" style=\"fill:none;fill-rule:evenodd;stroke:#000000;stroke-width:2.0px;stroke-linecap:butt;stroke-linejoin:miter;stroke-opacity:1\"/>\n",
       "<path class=\"bond-16 atom-16 atom-17\" d=\"M 362.7,298.6 L 348.8,295.4\" style=\"fill:none;fill-rule:evenodd;stroke:#000000;stroke-width:2.0px;stroke-linecap:butt;stroke-linejoin:miter;stroke-opacity:1\"/>\n",
       "<path class=\"bond-17 atom-17 atom-18\" d=\"M 348.0,292.5 L 336.1,305.1\" style=\"fill:none;fill-rule:evenodd;stroke:#000000;stroke-width:2.0px;stroke-linecap:butt;stroke-linejoin:miter;stroke-opacity:1\"/>\n",
       "<path class=\"bond-18 atom-18 atom-19\" d=\"M 336.1,305.1 L 341.1,321.6\" style=\"fill:none;fill-rule:evenodd;stroke:#000000;stroke-width:2.0px;stroke-linecap:butt;stroke-linejoin:miter;stroke-opacity:1\"/>\n",
       "<path class=\"bond-18 atom-18 atom-19\" d=\"M 339.1,305.8 L 343.2,319.5\" style=\"fill:none;fill-rule:evenodd;stroke:#000000;stroke-width:2.0px;stroke-linecap:butt;stroke-linejoin:miter;stroke-opacity:1\"/>\n",
       "<path class=\"bond-19 atom-19 atom-20\" d=\"M 341.1,321.6 L 335.3,327.8\" style=\"fill:none;fill-rule:evenodd;stroke:#000000;stroke-width:2.0px;stroke-linecap:butt;stroke-linejoin:miter;stroke-opacity:1\"/>\n",
       "<path class=\"bond-20 atom-20 atom-21\" d=\"M 330.0,341.0 L 331.1,344.7\" style=\"fill:none;fill-rule:evenodd;stroke:#000000;stroke-width:2.0px;stroke-linecap:butt;stroke-linejoin:miter;stroke-opacity:1\"/>\n",
       "<path class=\"bond-20 atom-20 atom-21\" d=\"M 332.5,340.2 L 333.6,344.0\" style=\"fill:none;fill-rule:evenodd;stroke:#000000;stroke-width:2.0px;stroke-linecap:butt;stroke-linejoin:miter;stroke-opacity:1\"/>\n",
       "<path class=\"bond-21 atom-20 atom-22\" d=\"M 323.9,333.0 L 318.5,331.7\" style=\"fill:none;fill-rule:evenodd;stroke:#000000;stroke-width:2.0px;stroke-linecap:butt;stroke-linejoin:miter;stroke-opacity:1\"/>\n",
       "<path class=\"bond-22 atom-19 atom-23\" d=\"M 341.1,321.6 L 357.9,325.6\" style=\"fill:none;fill-rule:evenodd;stroke:#000000;stroke-width:2.0px;stroke-linecap:butt;stroke-linejoin:miter;stroke-opacity:1\"/>\n",
       "<path class=\"bond-23 atom-23 atom-24\" d=\"M 357.9,325.6 L 369.8,313.0\" style=\"fill:none;fill-rule:evenodd;stroke:#000000;stroke-width:2.0px;stroke-linecap:butt;stroke-linejoin:miter;stroke-opacity:1\"/>\n",
       "<path class=\"bond-23 atom-23 atom-24\" d=\"M 357.1,322.7 L 366.9,312.3\" style=\"fill:none;fill-rule:evenodd;stroke:#000000;stroke-width:2.0px;stroke-linecap:butt;stroke-linejoin:miter;stroke-opacity:1\"/>\n",
       "<path class=\"bond-24 atom-10 atom-25\" d=\"M 333.0,242.9 L 326.0,249.0\" style=\"fill:none;fill-rule:evenodd;stroke:#000000;stroke-width:2.0px;stroke-linecap:butt;stroke-linejoin:miter;stroke-opacity:1\"/>\n",
       "<path class=\"bond-25 atom-4 atom-26\" d=\"M 271.2,275.8 L 269.0,292.9\" style=\"fill:none;fill-rule:evenodd;stroke:#000000;stroke-width:2.0px;stroke-linecap:butt;stroke-linejoin:miter;stroke-opacity:1\"/>\n",
       "<path class=\"bond-26 atom-26 atom-27\" d=\"M 269.0,292.9 L 277.4,299.2\" style=\"fill:none;fill-rule:evenodd;stroke:#000000;stroke-width:2.0px;stroke-linecap:butt;stroke-linejoin:miter;stroke-opacity:1\"/>\n",
       "<path class=\"bond-27 atom-27 atom-28\" d=\"M 293.7,300.1 L 299.2,297.8\" style=\"fill:none;fill-rule:evenodd;stroke:#000000;stroke-width:2.0px;stroke-linecap:butt;stroke-linejoin:miter;stroke-opacity:1\"/>\n",
       "<path class=\"bond-27 atom-27 atom-28\" d=\"M 292.7,297.7 L 298.2,295.5\" style=\"fill:none;fill-rule:evenodd;stroke:#000000;stroke-width:2.0px;stroke-linecap:butt;stroke-linejoin:miter;stroke-opacity:1\"/>\n",
       "<path class=\"bond-28 atom-27 atom-29\" d=\"M 281.9,309.7 L 281.4,314.0\" style=\"fill:none;fill-rule:evenodd;stroke:#000000;stroke-width:2.0px;stroke-linecap:butt;stroke-linejoin:miter;stroke-opacity:1\"/>\n",
       "<path class=\"bond-29 atom-26 atom-30\" d=\"M 269.0,292.9 L 253.1,299.6\" style=\"fill:none;fill-rule:evenodd;stroke:#000000;stroke-width:2.0px;stroke-linecap:butt;stroke-linejoin:miter;stroke-opacity:1\"/>\n",
       "<path class=\"bond-29 atom-26 atom-30\" d=\"M 266.6,291.1 L 253.4,296.6\" style=\"fill:none;fill-rule:evenodd;stroke:#000000;stroke-width:2.0px;stroke-linecap:butt;stroke-linejoin:miter;stroke-opacity:1\"/>\n",
       "<path class=\"bond-30 atom-30 atom-1\" d=\"M 253.1,299.6 L 239.3,289.1\" style=\"fill:none;fill-rule:evenodd;stroke:#000000;stroke-width:2.0px;stroke-linecap:butt;stroke-linejoin:miter;stroke-opacity:1\"/>\n",
       "<path class=\"bond-31 atom-25 atom-7\" d=\"M 313.9,250.5 L 305.2,245.3\" style=\"fill:none;fill-rule:evenodd;stroke:#000000;stroke-width:2.0px;stroke-linecap:butt;stroke-linejoin:miter;stroke-opacity:1\"/>\n",
       "<path class=\"bond-32 atom-24 atom-16\" d=\"M 369.8,313.0 L 364.8,296.5\" style=\"fill:none;fill-rule:evenodd;stroke:#000000;stroke-width:2.0px;stroke-linecap:butt;stroke-linejoin:miter;stroke-opacity:1\"/>\n",
       "<path d=\"M 241.4,272.9 L 241.5,272.0 L 242.3,271.7\" style=\"fill:none;stroke:#000000;stroke-width:2.0px;stroke-linecap:butt;stroke-linejoin:miter;stroke-opacity:1;\"/>\n",
       "<path d=\"M 256.6,265.7 L 257.4,265.3 L 258.1,265.8\" style=\"fill:none;stroke:#000000;stroke-width:2.0px;stroke-linecap:butt;stroke-linejoin:miter;stroke-opacity:1;\"/>\n",
       "<path d=\"M 289.2,252.5 L 289.2,251.9 L 290.0,251.6\" style=\"fill:none;stroke:#000000;stroke-width:2.0px;stroke-linecap:butt;stroke-linejoin:miter;stroke-opacity:1;\"/>\n",
       "<path d=\"M 308.9,229.3 L 309.1,228.4 L 310.0,228.4\" style=\"fill:none;stroke:#000000;stroke-width:2.0px;stroke-linecap:butt;stroke-linejoin:miter;stroke-opacity:1;\"/>\n",
       "<path d=\"M 325.5,227.1 L 326.3,227.0 L 326.7,227.8\" style=\"fill:none;stroke:#000000;stroke-width:2.0px;stroke-linecap:butt;stroke-linejoin:miter;stroke-opacity:1;\"/>\n",
       "<path d=\"M 349.0,246.7 L 349.8,246.9 L 350.0,247.4\" style=\"fill:none;stroke:#000000;stroke-width:2.0px;stroke-linecap:butt;stroke-linejoin:miter;stroke-opacity:1;\"/>\n",
       "<path d=\"M 376.4,283.4 L 376.6,283.9 L 376.0,284.5\" style=\"fill:none;stroke:#000000;stroke-width:2.0px;stroke-linecap:butt;stroke-linejoin:miter;stroke-opacity:1;\"/>\n",
       "<path d=\"M 348.8,292.7 L 348.0,292.5 L 347.4,293.1\" style=\"fill:none;stroke:#000000;stroke-width:2.0px;stroke-linecap:butt;stroke-linejoin:miter;stroke-opacity:1;\"/>\n",
       "<path d=\"M 336.7,304.5 L 336.1,305.1 L 336.4,305.9\" style=\"fill:none;stroke:#000000;stroke-width:2.0px;stroke-linecap:butt;stroke-linejoin:miter;stroke-opacity:1;\"/>\n",
       "<path d=\"M 357.1,325.4 L 357.9,325.6 L 358.5,324.9\" style=\"fill:none;stroke:#000000;stroke-width:2.0px;stroke-linecap:butt;stroke-linejoin:miter;stroke-opacity:1;\"/>\n",
       "<path d=\"M 369.2,313.6 L 369.8,313.0 L 369.5,312.2\" style=\"fill:none;stroke:#000000;stroke-width:2.0px;stroke-linecap:butt;stroke-linejoin:miter;stroke-opacity:1;\"/>\n",
       "<path d=\"M 253.9,299.2 L 253.1,299.6 L 252.4,299.1\" style=\"fill:none;stroke:#000000;stroke-width:2.0px;stroke-linecap:butt;stroke-linejoin:miter;stroke-opacity:1;\"/>\n",
       "<path class=\"atom-5\" d=\"M 283.3 269.1 Q 283.3 267.1, 284.3 266.0 Q 285.3 265.0, 287.1 265.0 Q 288.9 265.0, 289.9 266.0 Q 290.8 267.1, 290.8 269.1 Q 290.8 271.1, 289.8 272.2 Q 288.9 273.3, 287.1 273.3 Q 285.3 273.3, 284.3 272.2 Q 283.3 271.1, 283.3 269.1 M 287.1 272.4 Q 288.3 272.4, 289.0 271.6 Q 289.7 270.7, 289.7 269.1 Q 289.7 267.5, 289.0 266.7 Q 288.3 265.9, 287.1 265.9 Q 285.8 265.9, 285.2 266.7 Q 284.5 267.5, 284.5 269.1 Q 284.5 270.7, 285.2 271.6 Q 285.8 272.4, 287.1 272.4 \" fill=\"#000000\"/>\n",
       "<path class=\"atom-12\" d=\"M 357.9 234.3 Q 357.9 232.4, 358.9 231.3 Q 359.8 230.2, 361.6 230.2 Q 363.4 230.2, 364.4 231.3 Q 365.4 232.4, 365.4 234.3 Q 365.4 236.3, 364.4 237.4 Q 363.4 238.5, 361.6 238.5 Q 359.8 238.5, 358.9 237.4 Q 357.9 236.3, 357.9 234.3 M 361.6 237.6 Q 362.9 237.6, 363.5 236.8 Q 364.2 235.9, 364.2 234.3 Q 364.2 232.7, 363.5 231.9 Q 362.9 231.1, 361.6 231.1 Q 360.4 231.1, 359.7 231.9 Q 359.0 232.7, 359.0 234.3 Q 359.0 236.0, 359.7 236.8 Q 360.4 237.6, 361.6 237.6 \" fill=\"#000000\"/>\n",
       "<path class=\"atom-13\" d=\"M 343.7 259.3 L 344.8 259.3 L 344.8 262.8 L 349.0 262.8 L 349.0 259.3 L 350.1 259.3 L 350.1 267.5 L 349.0 267.5 L 349.0 263.7 L 344.8 263.7 L 344.8 267.5 L 343.7 267.5 L 343.7 259.3 \" fill=\"#000000\"/>\n",
       "<path class=\"atom-13\" d=\"M 353.0 259.3 L 355.7 263.6 Q 355.9 264.1, 356.4 264.8 Q 356.8 265.6, 356.8 265.7 L 356.8 259.3 L 357.9 259.3 L 357.9 267.5 L 356.8 267.5 L 353.9 262.8 Q 353.6 262.2, 353.2 261.6 Q 352.9 260.9, 352.8 260.7 L 352.8 267.5 L 351.7 267.5 L 351.7 259.3 L 353.0 259.3 \" fill=\"#000000\"/>\n",
       "<path class=\"atom-14\" d=\"M 369.8 263.3 L 372.5 267.6 Q 372.7 268.0, 373.2 268.8 Q 373.6 269.6, 373.6 269.6 L 373.6 263.3 L 374.7 263.3 L 374.7 271.4 L 373.6 271.4 L 370.7 266.7 Q 370.4 266.2, 370.0 265.5 Q 369.7 264.9, 369.6 264.7 L 369.6 271.4 L 368.5 271.4 L 368.5 263.3 L 369.8 263.3 \" fill=\"#000000\"/>\n",
       "<path class=\"atom-20\" d=\"M 327.5 330.1 L 330.2 334.5 Q 330.4 334.9, 330.9 335.7 Q 331.3 336.4, 331.3 336.5 L 331.3 330.1 L 332.4 330.1 L 332.4 338.3 L 331.3 338.3 L 328.4 333.6 Q 328.1 333.0, 327.7 332.4 Q 327.4 331.8, 327.3 331.6 L 327.3 338.3 L 326.2 338.3 L 326.2 330.1 L 327.5 330.1 \" fill=\"#000000\"/>\n",
       "<path class=\"atom-20\" d=\"M 333.9 331.6 L 335.4 331.6 L 335.4 330.1 L 336.0 330.1 L 336.0 331.6 L 337.5 331.6 L 337.5 332.2 L 336.0 332.2 L 336.0 333.7 L 335.4 333.7 L 335.4 332.2 L 333.9 332.2 L 333.9 331.6 \" fill=\"#000000\"/>\n",
       "<path class=\"atom-21\" d=\"M 330.6 350.8 Q 330.6 348.8, 331.5 347.7 Q 332.5 346.6, 334.3 346.6 Q 336.1 346.6, 337.1 347.7 Q 338.0 348.8, 338.0 350.8 Q 338.0 352.7, 337.1 353.9 Q 336.1 355.0, 334.3 355.0 Q 332.5 355.0, 331.5 353.9 Q 330.6 352.8, 330.6 350.8 M 334.3 354.1 Q 335.5 354.1, 336.2 353.2 Q 336.9 352.4, 336.9 350.8 Q 336.9 349.2, 336.2 348.4 Q 335.5 347.5, 334.3 347.5 Q 333.1 347.5, 332.4 348.4 Q 331.7 349.2, 331.7 350.8 Q 331.7 352.4, 332.4 353.2 Q 333.1 354.1, 334.3 354.1 \" fill=\"#000000\"/>\n",
       "<path class=\"atom-22\" d=\"M 308.8 330.3 Q 308.8 328.3, 309.7 327.2 Q 310.7 326.1, 312.5 326.1 Q 314.3 326.1, 315.3 327.2 Q 316.2 328.3, 316.2 330.3 Q 316.2 332.3, 315.3 333.4 Q 314.3 334.5, 312.5 334.5 Q 310.7 334.5, 309.7 333.4 Q 308.8 332.3, 308.8 330.3 M 312.5 333.6 Q 313.7 333.6, 314.4 332.8 Q 315.1 331.9, 315.1 330.3 Q 315.1 328.7, 314.4 327.9 Q 313.7 327.1, 312.5 327.1 Q 311.3 327.1, 310.6 327.9 Q 309.9 328.7, 309.9 330.3 Q 309.9 331.9, 310.6 332.8 Q 311.3 333.6, 312.5 333.6 \" fill=\"#000000\"/>\n",
       "<path class=\"atom-22\" d=\"M 317.4 327.5 L 320.2 327.5 L 320.2 328.1 L 317.4 328.1 L 317.4 327.5 \" fill=\"#000000\"/>\n",
       "<path class=\"atom-25\" d=\"M 316.2 254.2 Q 316.2 252.3, 317.2 251.2 Q 318.1 250.1, 319.9 250.1 Q 321.7 250.1, 322.7 251.2 Q 323.7 252.3, 323.7 254.2 Q 323.7 256.2, 322.7 257.3 Q 321.7 258.5, 319.9 258.5 Q 318.1 258.5, 317.2 257.3 Q 316.2 256.2, 316.2 254.2 M 319.9 257.5 Q 321.2 257.5, 321.8 256.7 Q 322.5 255.9, 322.5 254.2 Q 322.5 252.6, 321.8 251.8 Q 321.2 251.0, 319.9 251.0 Q 318.7 251.0, 318.0 251.8 Q 317.3 252.6, 317.3 254.2 Q 317.3 255.9, 318.0 256.7 Q 318.7 257.5, 319.9 257.5 \" fill=\"#000000\"/>\n",
       "<path class=\"atom-27\" d=\"M 280.9 299.3 L 283.6 303.6 Q 283.9 304.0, 284.3 304.8 Q 284.7 305.5, 284.8 305.6 L 284.8 299.3 L 285.8 299.3 L 285.8 307.4 L 284.7 307.4 L 281.8 302.7 Q 281.5 302.1, 281.2 301.5 Q 280.8 300.9, 280.7 300.7 L 280.7 307.4 L 279.7 307.4 L 279.7 299.3 L 280.9 299.3 \" fill=\"#000000\"/>\n",
       "<path class=\"atom-27\" d=\"M 287.4 300.7 L 288.8 300.7 L 288.8 299.2 L 289.4 299.2 L 289.4 300.7 L 290.9 300.7 L 290.9 301.3 L 289.4 301.3 L 289.4 302.8 L 288.8 302.8 L 288.8 301.3 L 287.4 301.3 L 287.4 300.7 \" fill=\"#000000\"/>\n",
       "<path class=\"atom-28\" d=\"M 294.9 296.7 Q 294.9 294.7, 295.9 293.6 Q 296.9 292.5, 298.7 292.5 Q 300.5 292.5, 301.4 293.6 Q 302.4 294.7, 302.4 296.7 Q 302.4 298.6, 301.4 299.8 Q 300.4 300.9, 298.7 300.9 Q 296.9 300.9, 295.9 299.8 Q 294.9 298.7, 294.9 296.7 M 298.7 300.0 Q 299.9 300.0, 300.6 299.1 Q 301.3 298.3, 301.3 296.7 Q 301.3 295.1, 300.6 294.3 Q 299.9 293.4, 298.7 293.4 Q 297.4 293.4, 296.7 294.3 Q 296.1 295.1, 296.1 296.7 Q 296.1 298.3, 296.7 299.1 Q 297.4 300.0, 298.7 300.0 \" fill=\"#000000\"/>\n",
       "<path class=\"atom-29\" d=\"M 276.8 320.5 Q 276.8 318.5, 277.8 317.4 Q 278.8 316.3, 280.6 316.3 Q 282.4 316.3, 283.3 317.4 Q 284.3 318.5, 284.3 320.5 Q 284.3 322.5, 283.3 323.6 Q 282.4 324.7, 280.6 324.7 Q 278.8 324.7, 277.8 323.6 Q 276.8 322.5, 276.8 320.5 M 280.6 323.8 Q 281.8 323.8, 282.5 323.0 Q 283.2 322.1, 283.2 320.5 Q 283.2 318.9, 282.5 318.1 Q 281.8 317.3, 280.6 317.3 Q 279.3 317.3, 278.7 318.1 Q 278.0 318.9, 278.0 320.5 Q 278.0 322.1, 278.7 323.0 Q 279.3 323.8, 280.6 323.8 \" fill=\"#000000\"/>\n",
       "<path class=\"atom-29\" d=\"M 285.5 317.7 L 288.3 317.7 L 288.3 318.3 L 285.5 318.3 L 285.5 317.7 \" fill=\"#000000\"/>\n",
       "<path class=\"legend\" d=\"M 251.5 383.8 Q 251.5 382.5, 252.6 381.8 Q 253.7 381.1, 255.6 381.1 L 256.8 381.1 L 256.8 380.8 Q 256.8 379.7, 256.4 379.3 Q 256.0 378.9, 254.9 378.9 Q 254.3 378.9, 253.8 379.0 Q 253.3 379.1, 252.5 379.5 L 252.0 378.4 Q 253.5 377.7, 255.0 377.7 Q 256.7 377.7, 257.5 378.4 Q 258.3 379.2, 258.3 380.8 L 258.3 386.1 L 257.1 386.1 Q 257.1 386.0, 257.1 385.8 Q 257.0 385.5, 256.9 385.1 Q 255.8 386.3, 254.2 386.3 Q 253.0 386.3, 252.3 385.6 Q 251.5 384.9, 251.5 383.8 M 253.0 383.8 Q 253.0 384.4, 253.4 384.8 Q 253.8 385.1, 254.5 385.1 Q 255.2 385.1, 255.8 384.8 Q 256.4 384.5, 256.8 384.0 L 256.8 382.2 L 255.7 382.2 Q 254.4 382.2, 253.7 382.6 Q 253.0 383.0, 253.0 383.8 \" fill=\"#000000\"/>\n",
       "<path class=\"legend\" d=\"M 260.1 381.9 Q 260.1 380.0, 261.1 378.8 Q 262.1 377.7, 264.1 377.7 Q 266.0 377.7, 266.9 379.1 L 265.9 379.8 Q 265.5 379.3, 265.1 379.1 Q 264.7 378.9, 264.1 378.9 Q 262.9 378.9, 262.3 379.7 Q 261.7 380.4, 261.7 381.9 Q 261.7 383.5, 262.3 384.2 Q 263.0 385.0, 264.2 385.0 Q 264.9 385.0, 265.3 384.9 Q 265.8 384.7, 266.4 384.4 L 266.8 385.5 Q 265.6 386.2, 264.1 386.2 Q 262.1 386.2, 261.1 385.0 Q 260.1 383.9, 260.1 381.9 \" fill=\"#000000\"/>\n",
       "<path class=\"legend\" d=\"M 274.3 377.8 L 275.7 377.8 L 271.5 390.0 L 270.1 390.0 L 271.5 386.1 L 270.8 386.1 L 267.9 377.8 L 269.5 377.8 L 271.9 384.8 L 274.3 377.8 \" fill=\"#000000\"/>\n",
       "<path class=\"legend\" d=\"M 276.5 373.9 L 278.0 373.9 L 278.0 386.1 L 276.5 386.1 L 276.5 373.9 \" fill=\"#000000\"/>\n",
       "<path class=\"legend\" d=\"M 284.2 377.7 Q 285.5 377.7, 286.2 378.4 Q 286.9 379.2, 286.9 380.6 L 286.9 386.1 L 285.4 386.1 L 285.4 380.7 Q 285.4 379.8, 285.0 379.3 Q 284.7 378.9, 283.8 378.9 Q 283.1 378.9, 282.5 379.2 Q 281.8 379.6, 281.4 380.2 L 281.4 386.1 L 279.9 386.1 L 279.9 373.9 L 281.4 373.9 L 281.4 378.9 Q 282.5 377.7, 284.2 377.7 \" fill=\"#000000\"/>\n",
       "<path class=\"legend\" d=\"M 295.1 377.8 L 296.6 377.8 L 292.3 390.0 L 291.0 390.0 L 292.3 386.1 L 291.7 386.1 L 288.8 377.8 L 290.3 377.8 L 292.7 384.8 L 295.1 377.8 \" fill=\"#000000\"/>\n",
       "<path class=\"legend\" d=\"M 304.8 373.9 L 304.8 386.0 L 303.6 386.0 L 303.4 385.0 Q 302.5 386.2, 301.0 386.2 Q 299.2 386.2, 298.3 385.1 Q 297.3 384.1, 297.3 382.1 Q 297.3 380.0, 298.5 378.9 Q 299.6 377.7, 301.6 377.7 Q 302.4 377.7, 303.3 377.9 L 303.3 373.9 L 304.8 373.9 M 301.0 385.0 Q 301.9 385.0, 302.5 384.6 Q 303.1 384.1, 303.3 383.3 L 303.3 379.1 Q 302.5 378.9, 301.6 378.9 Q 300.3 378.9, 299.6 379.7 Q 298.9 380.6, 298.9 382.1 Q 298.9 383.5, 299.4 384.3 Q 300.0 385.0, 301.0 385.0 \" fill=\"#000000\"/>\n",
       "<path class=\"legend\" d=\"M 307.9 377.8 L 308.1 379.0 Q 309.0 377.7, 310.4 377.7 Q 310.8 377.7, 311.4 377.9 L 311.2 379.2 Q 310.5 379.0, 310.1 379.0 Q 309.4 379.0, 309.0 379.3 Q 308.6 379.6, 308.2 380.2 L 308.2 386.1 L 306.7 386.1 L 306.7 377.8 L 307.9 377.8 \" fill=\"#000000\"/>\n",
       "<path class=\"legend\" d=\"M 312.3 383.8 Q 312.3 382.5, 313.3 381.8 Q 314.4 381.1, 316.3 381.1 L 317.5 381.1 L 317.5 380.8 Q 317.5 379.7, 317.1 379.3 Q 316.7 378.9, 315.7 378.9 Q 315.0 378.9, 314.5 379.0 Q 314.0 379.1, 313.2 379.5 L 312.7 378.4 Q 314.2 377.7, 315.7 377.7 Q 317.4 377.7, 318.2 378.4 Q 319.0 379.2, 319.0 380.8 L 319.0 386.1 L 317.9 386.1 Q 317.8 386.0, 317.8 385.8 Q 317.8 385.5, 317.7 385.1 Q 316.5 386.3, 315.0 386.3 Q 313.7 386.3, 313.0 385.6 Q 312.3 384.9, 312.3 383.8 M 313.8 383.8 Q 313.8 384.4, 314.2 384.8 Q 314.5 385.1, 315.3 385.1 Q 315.9 385.1, 316.5 384.8 Q 317.1 384.5, 317.5 384.0 L 317.5 382.2 L 316.4 382.2 Q 315.1 382.2, 314.4 382.6 Q 313.8 383.0, 313.8 383.8 \" fill=\"#000000\"/>\n",
       "<path class=\"legend\" d=\"M 322.7 384.9 L 327.2 384.9 L 327.2 386.1 L 320.9 386.1 L 320.9 385.1 L 325.2 379.0 L 321.1 379.0 L 321.1 377.8 L 327.0 377.8 L 327.0 378.8 L 322.7 384.9 \" fill=\"#000000\"/>\n",
       "<path class=\"legend\" d=\"M 328.4 374.7 L 329.8 374.7 L 329.8 376.1 L 328.4 376.1 L 328.4 374.7 M 328.4 377.8 L 329.8 377.8 L 329.8 386.1 L 328.4 386.1 L 328.4 377.8 \" fill=\"#000000\"/>\n",
       "<path class=\"legend\" d=\"M 339.3 373.9 L 339.3 386.0 L 338.1 386.0 L 337.9 385.0 Q 337.0 386.2, 335.4 386.2 Q 333.7 386.2, 332.8 385.1 Q 331.8 384.1, 331.8 382.1 Q 331.8 380.0, 332.9 378.9 Q 334.1 377.7, 336.0 377.7 Q 336.9 377.7, 337.8 377.9 L 337.8 373.9 L 339.3 373.9 M 335.5 385.0 Q 336.4 385.0, 337.0 384.6 Q 337.6 384.1, 337.8 383.3 L 337.8 379.1 Q 337.0 378.9, 336.1 378.9 Q 334.8 378.9, 334.1 379.7 Q 333.4 380.6, 333.4 382.1 Q 333.4 383.5, 333.9 384.3 Q 334.5 385.0, 335.5 385.0 \" fill=\"#000000\"/>\n",
       "<path class=\"legend\" d=\"M 341.2 381.9 Q 341.2 379.9, 342.2 378.8 Q 343.2 377.7, 345.0 377.7 Q 346.8 377.7, 347.6 378.8 Q 348.5 379.9, 348.5 381.9 L 348.5 382.1 L 342.7 382.1 Q 342.7 383.5, 343.4 384.3 Q 344.0 385.0, 345.2 385.0 Q 345.8 385.0, 346.4 384.9 Q 347.0 384.7, 347.7 384.4 L 348.1 385.4 Q 347.3 385.8, 346.6 386.0 Q 345.9 386.2, 345.1 386.2 Q 343.2 386.2, 342.2 385.1 Q 341.2 384.0, 341.2 381.9 M 345.0 378.9 Q 344.1 378.9, 343.5 379.4 Q 343.0 380.0, 342.8 381.0 L 346.9 381.0 Q 346.8 379.9, 346.3 379.4 Q 345.9 378.9, 345.0 378.9 \" fill=\"#000000\"/>\n",
       "<path class=\"bond-15 atom-15 atom-16\" d=\"M 468.6,299.7 L 472.7,301.7 L 457.2,310.0 L 455.5,308.9 L 455.8,306.6 Z\" style=\"fill:#A100247F;fill-rule:evenodd;fill-opacity:0.5;stroke:#A100247F;stroke-width:0.0px;stroke-linecap:butt;stroke-linejoin:miter;stroke-opacity:0.5;\"/>\n",
       "<path class=\"bond-28 atom-15 atom-25\" d=\"M 469.2,282.1 L 472.7,301.7 L 468.6,299.7 L 466.1,285.4 Z\" style=\"fill:#A100247F;fill-rule:evenodd;fill-opacity:0.5;stroke:#A100247F;stroke-width:0.0px;stroke-linecap:butt;stroke-linejoin:miter;stroke-opacity:0.5;\"/>\n",
       "<path class=\"bond-16 atom-16 atom-17\" d=\"M 455.5,308.9 L 457.2,310.0 L 454.9,326.2 L 451.3,325.7 L 453.5,309.5 Z\" style=\"fill:#A100247F;fill-rule:evenodd;fill-opacity:0.5;stroke:#A100247F;stroke-width:0.0px;stroke-linecap:butt;stroke-linejoin:miter;stroke-opacity:0.5;\"/>\n",
       "<path class=\"bond-17 atom-16 atom-18\" d=\"M 445.3,296.5 L 455.8,306.6 L 455.5,308.9 L 453.5,309.5 L 442.2,298.6 L 443.0,296.9 Z\" style=\"fill:#A100247F;fill-rule:evenodd;fill-opacity:0.5;stroke:#A100247F;stroke-width:0.0px;stroke-linecap:butt;stroke-linejoin:miter;stroke-opacity:0.5;\"/>\n",
       "<path class=\"bond-18 atom-18 atom-19\" d=\"M 426.8,292.8 L 441.9,294.9 L 443.0,296.9 L 442.2,298.6 L 425.1,296.3 Z\" style=\"fill:#A100247F;fill-rule:evenodd;fill-opacity:0.5;stroke:#A100247F;stroke-width:0.0px;stroke-linecap:butt;stroke-linejoin:miter;stroke-opacity:0.5;\"/>\n",
       "<path class=\"bond-29 atom-18 atom-24\" d=\"M 450.5,281.4 L 451.6,283.4 L 445.3,296.5 L 443.0,296.9 L 441.9,294.9 L 448.3,281.8 Z\" style=\"fill:#A100247F;fill-rule:evenodd;fill-opacity:0.5;stroke:#A100247F;stroke-width:0.0px;stroke-linecap:butt;stroke-linejoin:miter;stroke-opacity:0.5;\"/>\n",
       "<path class=\"bond-19 atom-19 atom-20\" d=\"M 415.7,282.2 L 426.8,292.8 L 425.1,296.3 L 411.2,283.0 Z\" style=\"fill:#A100247F;fill-rule:evenodd;fill-opacity:0.5;stroke:#A100247F;stroke-width:0.0px;stroke-linecap:butt;stroke-linejoin:miter;stroke-opacity:0.5;\"/>\n",
       "<path class=\"bond-20 atom-20 atom-21\" d=\"M 419.9,265.0 L 422.1,269.0 L 415.7,282.2 L 411.2,283.0 Z\" style=\"fill:#A100247F;fill-rule:evenodd;fill-opacity:0.5;stroke:#A100247F;stroke-width:0.0px;stroke-linecap:butt;stroke-linejoin:miter;stroke-opacity:0.5;\"/>\n",
       "<path class=\"bond-21 atom-21 atom-22\" d=\"M 419.9,265.0 L 438.9,267.7 L 437.2,271.1 L 422.1,269.0 Z\" style=\"fill:#A100247F;fill-rule:evenodd;fill-opacity:0.5;stroke:#A100247F;stroke-width:0.0px;stroke-linecap:butt;stroke-linejoin:miter;stroke-opacity:0.5;\"/>\n",
       "<path class=\"bond-23 atom-22 atom-24\" d=\"M 438.9,267.7 L 451.4,279.6 L 450.5,281.4 L 448.3,281.8 L 437.2,271.1 Z\" style=\"fill:#A100247F;fill-rule:evenodd;fill-opacity:0.5;stroke:#A100247F;stroke-width:0.0px;stroke-linecap:butt;stroke-linejoin:miter;stroke-opacity:0.5;\"/>\n",
       "<path class=\"bond-24 atom-24 atom-25\" d=\"M 451.4,279.6 L 469.2,282.1 L 466.1,285.4 L 451.6,283.4 L 450.5,281.4 Z\" style=\"fill:#A100247F;fill-rule:evenodd;fill-opacity:0.5;stroke:#A100247F;stroke-width:0.0px;stroke-linecap:butt;stroke-linejoin:miter;stroke-opacity:0.5;\"/>\n",
       "<ellipse cx=\"470.7\" cy=\"300.7\" rx=\"4.4\" ry=\"5.8\" class=\"atom-15\" style=\"fill:#A100247F;fill-rule:evenodd;stroke:#A100247F;stroke-width:1.0px;stroke-linecap:butt;stroke-linejoin:miter;stroke-opacity:1\"/>\n",
       "<ellipse cx=\"455.5\" cy=\"308.9\" rx=\"3.5\" ry=\"3.5\" class=\"atom-16\" style=\"fill:#A100247F;fill-rule:evenodd;stroke:#A100247F;stroke-width:1.0px;stroke-linecap:butt;stroke-linejoin:miter;stroke-opacity:1\"/>\n",
       "<ellipse cx=\"453.1\" cy=\"326.0\" rx=\"5.3\" ry=\"5.9\" class=\"atom-17\" style=\"fill:#A100247F;fill-rule:evenodd;stroke:#A100247F;stroke-width:1.0px;stroke-linecap:butt;stroke-linejoin:miter;stroke-opacity:1\"/>\n",
       "<ellipse cx=\"443.0\" cy=\"296.9\" rx=\"3.5\" ry=\"3.5\" class=\"atom-18\" style=\"fill:#A100247F;fill-rule:evenodd;stroke:#A100247F;stroke-width:1.0px;stroke-linecap:butt;stroke-linejoin:miter;stroke-opacity:1\"/>\n",
       "<ellipse cx=\"425.9\" cy=\"294.5\" rx=\"3.5\" ry=\"3.5\" class=\"atom-19\" style=\"fill:#A100247F;fill-rule:evenodd;stroke:#A100247F;stroke-width:1.0px;stroke-linecap:butt;stroke-linejoin:miter;stroke-opacity:1\"/>\n",
       "<ellipse cx=\"413.5\" cy=\"282.6\" rx=\"3.5\" ry=\"3.5\" class=\"atom-20\" style=\"fill:#A100247F;fill-rule:evenodd;stroke:#A100247F;stroke-width:1.0px;stroke-linecap:butt;stroke-linejoin:miter;stroke-opacity:1\"/>\n",
       "<ellipse cx=\"421.0\" cy=\"267.0\" rx=\"3.5\" ry=\"3.5\" class=\"atom-21\" style=\"fill:#A100247F;fill-rule:evenodd;stroke:#A100247F;stroke-width:1.0px;stroke-linecap:butt;stroke-linejoin:miter;stroke-opacity:1\"/>\n",
       "<ellipse cx=\"438.1\" cy=\"269.4\" rx=\"3.5\" ry=\"3.5\" class=\"atom-22\" style=\"fill:#A100247F;fill-rule:evenodd;stroke:#A100247F;stroke-width:1.0px;stroke-linecap:butt;stroke-linejoin:miter;stroke-opacity:1\"/>\n",
       "<ellipse cx=\"450.5\" cy=\"281.4\" rx=\"3.5\" ry=\"3.5\" class=\"atom-24\" style=\"fill:#A100247F;fill-rule:evenodd;stroke:#A100247F;stroke-width:1.0px;stroke-linecap:butt;stroke-linejoin:miter;stroke-opacity:1\"/>\n",
       "<ellipse cx=\"467.6\" cy=\"283.7\" rx=\"3.5\" ry=\"3.5\" class=\"atom-25\" style=\"fill:#A100247F;fill-rule:evenodd;stroke:#A100247F;stroke-width:1.0px;stroke-linecap:butt;stroke-linejoin:miter;stroke-opacity:1\"/>\n",
       "<path class=\"bond-0 atom-0 atom-1\" d=\"M 572.0,250.1 L 573.2,267.3\" style=\"fill:none;fill-rule:evenodd;stroke:#000000;stroke-width:2.0px;stroke-linecap:butt;stroke-linejoin:miter;stroke-opacity:1\"/>\n",
       "<path class=\"bond-1 atom-1 atom-2\" d=\"M 573.2,267.3 L 588.7,274.8\" style=\"fill:none;fill-rule:evenodd;stroke:#000000;stroke-width:2.0px;stroke-linecap:butt;stroke-linejoin:miter;stroke-opacity:1\"/>\n",
       "<path class=\"bond-1 atom-1 atom-2\" d=\"M 573.4,270.3 L 586.3,276.5\" style=\"fill:none;fill-rule:evenodd;stroke:#000000;stroke-width:2.0px;stroke-linecap:butt;stroke-linejoin:miter;stroke-opacity:1\"/>\n",
       "<path class=\"bond-2 atom-2 atom-3\" d=\"M 588.7,274.8 L 590.0,292.0\" style=\"fill:none;fill-rule:evenodd;stroke:#000000;stroke-width:2.0px;stroke-linecap:butt;stroke-linejoin:miter;stroke-opacity:1\"/>\n",
       "<path class=\"bond-3 atom-3 atom-4\" d=\"M 590.0,292.0 L 575.7,301.7\" style=\"fill:none;fill-rule:evenodd;stroke:#000000;stroke-width:2.0px;stroke-linecap:butt;stroke-linejoin:miter;stroke-opacity:1\"/>\n",
       "<path class=\"bond-3 atom-3 atom-4\" d=\"M 587.3,290.7 L 575.5,298.7\" style=\"fill:none;fill-rule:evenodd;stroke:#000000;stroke-width:2.0px;stroke-linecap:butt;stroke-linejoin:miter;stroke-opacity:1\"/>\n",
       "<path class=\"bond-4 atom-4 atom-5\" d=\"M 575.7,301.7 L 577.0,318.9\" style=\"fill:none;fill-rule:evenodd;stroke:#000000;stroke-width:2.0px;stroke-linecap:butt;stroke-linejoin:miter;stroke-opacity:1\"/>\n",
       "<path class=\"bond-5 atom-4 atom-6\" d=\"M 575.7,301.7 L 560.2,294.2\" style=\"fill:none;fill-rule:evenodd;stroke:#000000;stroke-width:2.0px;stroke-linecap:butt;stroke-linejoin:miter;stroke-opacity:1\"/>\n",
       "<path class=\"bond-6 atom-6 atom-7\" d=\"M 560.2,294.2 L 545.9,303.9\" style=\"fill:none;fill-rule:evenodd;stroke:#000000;stroke-width:2.0px;stroke-linecap:butt;stroke-linejoin:miter;stroke-opacity:1\"/>\n",
       "<path class=\"bond-7 atom-7 atom-8\" d=\"M 544.5,303.2 L 545.4,314.8\" style=\"fill:none;fill-rule:evenodd;stroke:#000000;stroke-width:2.0px;stroke-linecap:butt;stroke-linejoin:miter;stroke-opacity:1\"/>\n",
       "<path class=\"bond-7 atom-7 atom-8\" d=\"M 547.1,303.1 L 548.0,314.6\" style=\"fill:none;fill-rule:evenodd;stroke:#000000;stroke-width:2.0px;stroke-linecap:butt;stroke-linejoin:miter;stroke-opacity:1\"/>\n",
       "<path class=\"bond-8 atom-7 atom-9\" d=\"M 545.9,303.9 L 530.3,296.4\" style=\"fill:none;fill-rule:evenodd;stroke:#000000;stroke-width:2.0px;stroke-linecap:butt;stroke-linejoin:miter;stroke-opacity:1\"/>\n",
       "<path class=\"bond-9 atom-9 atom-10\" d=\"M 530.3,296.4 L 522.1,302.0\" style=\"fill:none;fill-rule:evenodd;stroke:#000000;stroke-width:2.0px;stroke-linecap:butt;stroke-linejoin:miter;stroke-opacity:1\"/>\n",
       "<path class=\"bond-10 atom-10 atom-11\" d=\"M 510.0,303.1 L 500.5,298.5\" style=\"fill:none;fill-rule:evenodd;stroke:#000000;stroke-width:2.0px;stroke-linecap:butt;stroke-linejoin:miter;stroke-opacity:1\"/>\n",
       "<path class=\"bond-11 atom-11 atom-12\" d=\"M 501.9,299.2 L 501.0,287.8\" style=\"fill:none;fill-rule:evenodd;stroke:#000000;stroke-width:2.0px;stroke-linecap:butt;stroke-linejoin:miter;stroke-opacity:1\"/>\n",
       "<path class=\"bond-11 atom-11 atom-12\" d=\"M 499.3,299.4 L 498.4,288.0\" style=\"fill:none;fill-rule:evenodd;stroke:#000000;stroke-width:2.0px;stroke-linecap:butt;stroke-linejoin:miter;stroke-opacity:1\"/>\n",
       "<path class=\"bond-12 atom-11 atom-13\" d=\"M 500.5,298.5 L 486.2,308.2\" style=\"fill:none;fill-rule:evenodd;stroke:#000000;stroke-width:2.0px;stroke-linecap:butt;stroke-linejoin:miter;stroke-opacity:1\"/>\n",
       "<path class=\"bond-13 atom-13 atom-14\" d=\"M 486.2,308.2 L 487.5,325.5\" style=\"fill:none;fill-rule:evenodd;stroke:#000000;stroke-width:2.0px;stroke-linecap:butt;stroke-linejoin:miter;stroke-opacity:1\"/>\n",
       "<path class=\"bond-14 atom-13 atom-15\" d=\"M 486.2,308.2 L 476.1,303.3\" style=\"fill:none;fill-rule:evenodd;stroke:#000000;stroke-width:2.0px;stroke-linecap:butt;stroke-linejoin:miter;stroke-opacity:1\"/>\n",
       "<path class=\"bond-15 atom-15 atom-16\" d=\"M 465.3,303.6 L 455.5,308.9\" style=\"fill:none;fill-rule:evenodd;stroke:#000000;stroke-width:2.0px;stroke-linecap:butt;stroke-linejoin:miter;stroke-opacity:1\"/>\n",
       "<path class=\"bond-16 atom-16 atom-17\" d=\"M 454.3,307.7 L 452.7,319.4\" style=\"fill:none;fill-rule:evenodd;stroke:#000000;stroke-width:2.0px;stroke-linecap:butt;stroke-linejoin:miter;stroke-opacity:1\"/>\n",
       "<path class=\"bond-16 atom-16 atom-17\" d=\"M 456.9,308.1 L 455.3,319.7\" style=\"fill:none;fill-rule:evenodd;stroke:#000000;stroke-width:2.0px;stroke-linecap:butt;stroke-linejoin:miter;stroke-opacity:1\"/>\n",
       "<path class=\"bond-17 atom-16 atom-18\" d=\"M 455.5,308.9 L 443.0,296.9\" style=\"fill:none;fill-rule:evenodd;stroke:#000000;stroke-width:2.0px;stroke-linecap:butt;stroke-linejoin:miter;stroke-opacity:1\"/>\n",
       "<path class=\"bond-18 atom-18 atom-19\" d=\"M 443.0,296.9 L 425.9,294.5\" style=\"fill:none;fill-rule:evenodd;stroke:#000000;stroke-width:2.0px;stroke-linecap:butt;stroke-linejoin:miter;stroke-opacity:1\"/>\n",
       "<path class=\"bond-19 atom-19 atom-20\" d=\"M 425.9,294.5 L 413.5,282.6\" style=\"fill:none;fill-rule:evenodd;stroke:#000000;stroke-width:2.0px;stroke-linecap:butt;stroke-linejoin:miter;stroke-opacity:1\"/>\n",
       "<path class=\"bond-20 atom-20 atom-21\" d=\"M 413.5,282.6 L 421.0,267.0\" style=\"fill:none;fill-rule:evenodd;stroke:#000000;stroke-width:2.0px;stroke-linecap:butt;stroke-linejoin:miter;stroke-opacity:1\"/>\n",
       "<path class=\"bond-21 atom-21 atom-22\" d=\"M 421.0,267.0 L 438.1,269.4\" style=\"fill:none;fill-rule:evenodd;stroke:#000000;stroke-width:2.0px;stroke-linecap:butt;stroke-linejoin:miter;stroke-opacity:1\"/>\n",
       "<path class=\"bond-22 atom-22 atom-23\" d=\"M 438.1,269.4 L 441.1,286.4\" style=\"fill:none;fill-rule:evenodd;stroke:#000000;stroke-width:2.0px;stroke-linecap:butt;stroke-linejoin:miter;stroke-opacity:1\"/>\n",
       "<path class=\"bond-23 atom-22 atom-24\" d=\"M 438.1,269.4 L 450.5,281.4\" style=\"fill:none;fill-rule:evenodd;stroke:#000000;stroke-width:2.0px;stroke-linecap:butt;stroke-linejoin:miter;stroke-opacity:1\"/>\n",
       "<path class=\"bond-24 atom-24 atom-25\" d=\"M 450.5,281.4 L 467.6,283.7\" style=\"fill:none;fill-rule:evenodd;stroke:#000000;stroke-width:2.0px;stroke-linecap:butt;stroke-linejoin:miter;stroke-opacity:1\"/>\n",
       "<path class=\"bond-25 atom-25 atom-26\" d=\"M 467.9,285.3 L 474.5,278.4\" style=\"fill:none;fill-rule:evenodd;stroke:#000000;stroke-width:2.0px;stroke-linecap:butt;stroke-linejoin:miter;stroke-opacity:1\"/>\n",
       "<path class=\"bond-25 atom-25 atom-26\" d=\"M 466.1,283.5 L 472.6,276.6\" style=\"fill:none;fill-rule:evenodd;stroke:#000000;stroke-width:2.0px;stroke-linecap:butt;stroke-linejoin:miter;stroke-opacity:1\"/>\n",
       "<path class=\"bond-26 atom-6 atom-27\" d=\"M 560.2,294.2 L 558.9,277.0\" style=\"fill:none;fill-rule:evenodd;stroke:#000000;stroke-width:2.0px;stroke-linecap:butt;stroke-linejoin:miter;stroke-opacity:1\"/>\n",
       "<path class=\"bond-26 atom-6 atom-27\" d=\"M 562.6,292.5 L 561.6,278.3\" style=\"fill:none;fill-rule:evenodd;stroke:#000000;stroke-width:2.0px;stroke-linecap:butt;stroke-linejoin:miter;stroke-opacity:1\"/>\n",
       "<path class=\"bond-27 atom-27 atom-1\" d=\"M 558.9,277.0 L 573.2,267.3\" style=\"fill:none;fill-rule:evenodd;stroke:#000000;stroke-width:2.0px;stroke-linecap:butt;stroke-linejoin:miter;stroke-opacity:1\"/>\n",
       "<path class=\"bond-28 atom-25 atom-15\" d=\"M 467.6,283.7 L 469.5,294.3\" style=\"fill:none;fill-rule:evenodd;stroke:#000000;stroke-width:2.0px;stroke-linecap:butt;stroke-linejoin:miter;stroke-opacity:1\"/>\n",
       "<path class=\"bond-29 atom-24 atom-18\" d=\"M 450.5,281.4 L 443.0,296.9\" style=\"fill:none;fill-rule:evenodd;stroke:#000000;stroke-width:2.0px;stroke-linecap:butt;stroke-linejoin:miter;stroke-opacity:1\"/>\n",
       "<path class=\"bond-30 atom-23 atom-19\" d=\"M 441.1,286.4 L 425.9,294.5\" style=\"fill:none;fill-rule:evenodd;stroke:#000000;stroke-width:2.0px;stroke-linecap:butt;stroke-linejoin:miter;stroke-opacity:1\"/>\n",
       "<path d=\"M 588.0,274.4 L 588.7,274.8 L 588.8,275.7\" style=\"fill:none;stroke:#000000;stroke-width:2.0px;stroke-linecap:butt;stroke-linejoin:miter;stroke-opacity:1;\"/>\n",
       "<path d=\"M 589.9,291.2 L 590.0,292.0 L 589.3,292.5\" style=\"fill:none;stroke:#000000;stroke-width:2.0px;stroke-linecap:butt;stroke-linejoin:miter;stroke-opacity:1;\"/>\n",
       "<path d=\"M 546.6,303.4 L 545.9,303.9 L 545.1,303.5\" style=\"fill:none;stroke:#000000;stroke-width:2.0px;stroke-linecap:butt;stroke-linejoin:miter;stroke-opacity:1;\"/>\n",
       "<path d=\"M 531.1,296.7 L 530.3,296.4 L 529.9,296.6\" style=\"fill:none;stroke:#000000;stroke-width:2.0px;stroke-linecap:butt;stroke-linejoin:miter;stroke-opacity:1;\"/>\n",
       "<path d=\"M 501.0,298.8 L 500.5,298.5 L 499.8,299.0\" style=\"fill:none;stroke:#000000;stroke-width:2.0px;stroke-linecap:butt;stroke-linejoin:miter;stroke-opacity:1;\"/>\n",
       "<path d=\"M 456.0,308.6 L 455.5,308.9 L 454.8,308.3\" style=\"fill:none;stroke:#000000;stroke-width:2.0px;stroke-linecap:butt;stroke-linejoin:miter;stroke-opacity:1;\"/>\n",
       "<path d=\"M 414.1,283.2 L 413.5,282.6 L 413.8,281.8\" style=\"fill:none;stroke:#000000;stroke-width:2.0px;stroke-linecap:butt;stroke-linejoin:miter;stroke-opacity:1;\"/>\n",
       "<path d=\"M 420.6,267.8 L 421.0,267.0 L 421.8,267.2\" style=\"fill:none;stroke:#000000;stroke-width:2.0px;stroke-linecap:butt;stroke-linejoin:miter;stroke-opacity:1;\"/>\n",
       "<path d=\"M 441.0,285.5 L 441.1,286.4 L 440.4,286.8\" style=\"fill:none;stroke:#000000;stroke-width:2.0px;stroke-linecap:butt;stroke-linejoin:miter;stroke-opacity:1;\"/>\n",
       "<path d=\"M 466.8,283.6 L 467.6,283.7 L 467.7,284.2\" style=\"fill:none;stroke:#000000;stroke-width:2.0px;stroke-linecap:butt;stroke-linejoin:miter;stroke-opacity:1;\"/>\n",
       "<path d=\"M 559.0,277.8 L 558.9,277.0 L 559.6,276.5\" style=\"fill:none;stroke:#000000;stroke-width:2.0px;stroke-linecap:butt;stroke-linejoin:miter;stroke-opacity:1;\"/>\n",
       "<path class=\"atom-8\" d=\"M 543.4 321.1 Q 543.4 319.2, 544.4 318.1 Q 545.3 317.0, 547.1 317.0 Q 548.9 317.0, 549.9 318.1 Q 550.9 319.2, 550.9 321.1 Q 550.9 323.1, 549.9 324.2 Q 548.9 325.4, 547.1 325.4 Q 545.3 325.4, 544.4 324.2 Q 543.4 323.1, 543.4 321.1 M 547.1 324.4 Q 548.4 324.4, 549.0 323.6 Q 549.7 322.8, 549.7 321.1 Q 549.7 319.5, 549.0 318.7 Q 548.4 317.9, 547.1 317.9 Q 545.9 317.9, 545.2 318.7 Q 544.5 319.5, 544.5 321.1 Q 544.5 322.8, 545.2 323.6 Q 545.9 324.4, 547.1 324.4 \" fill=\"#000000\"/>\n",
       "<path class=\"atom-10\" d=\"M 512.3 306.1 Q 512.3 304.1, 513.3 303.0 Q 514.2 301.9, 516.1 301.9 Q 517.9 301.9, 518.8 303.0 Q 519.8 304.1, 519.8 306.1 Q 519.8 308.1, 518.8 309.2 Q 517.8 310.3, 516.1 310.3 Q 514.3 310.3, 513.3 309.2 Q 512.3 308.1, 512.3 306.1 M 516.1 309.4 Q 517.3 309.4, 518.0 308.6 Q 518.6 307.7, 518.6 306.1 Q 518.6 304.5, 518.0 303.7 Q 517.3 302.9, 516.1 302.9 Q 514.8 302.9, 514.1 303.7 Q 513.5 304.5, 513.5 306.1 Q 513.5 307.7, 514.1 308.6 Q 514.8 309.4, 516.1 309.4 \" fill=\"#000000\"/>\n",
       "<path class=\"atom-12\" d=\"M 495.5 281.3 Q 495.5 279.4, 496.5 278.3 Q 497.5 277.2, 499.3 277.2 Q 501.1 277.2, 502.0 278.3 Q 503.0 279.4, 503.0 281.3 Q 503.0 283.3, 502.0 284.4 Q 501.0 285.6, 499.3 285.6 Q 497.5 285.6, 496.5 284.4 Q 495.5 283.3, 495.5 281.3 M 499.3 284.6 Q 500.5 284.6, 501.2 283.8 Q 501.9 283.0, 501.9 281.3 Q 501.9 279.7, 501.2 278.9 Q 500.5 278.1, 499.3 278.1 Q 498.0 278.1, 497.3 278.9 Q 496.7 279.7, 496.7 281.3 Q 496.7 283.0, 497.3 283.8 Q 498.0 284.6, 499.3 284.6 \" fill=\"#000000\"/>\n",
       "<path class=\"atom-15\" d=\"M 468.9 296.6 L 471.6 300.9 Q 471.8 301.4, 472.2 302.1 Q 472.7 302.9, 472.7 303.0 L 472.7 296.6 L 473.8 296.6 L 473.8 304.8 L 472.7 304.8 L 469.8 300.1 Q 469.5 299.5, 469.1 298.9 Q 468.8 298.2, 468.7 298.0 L 468.7 304.8 L 467.6 304.8 L 467.6 296.6 L 468.9 296.6 \" fill=\"#000000\"/>\n",
       "<path class=\"atom-17\" d=\"M 449.4 326.0 Q 449.4 324.0, 450.3 322.9 Q 451.3 321.8, 453.1 321.8 Q 454.9 321.8, 455.9 322.9 Q 456.9 324.0, 456.9 326.0 Q 456.9 328.0, 455.9 329.1 Q 454.9 330.2, 453.1 330.2 Q 451.3 330.2, 450.3 329.1 Q 449.4 328.0, 449.4 326.0 M 453.1 329.3 Q 454.4 329.3, 455.0 328.5 Q 455.7 327.6, 455.7 326.0 Q 455.7 324.4, 455.0 323.6 Q 454.4 322.8, 453.1 322.8 Q 451.9 322.8, 451.2 323.6 Q 450.5 324.4, 450.5 326.0 Q 450.5 327.6, 451.2 328.5 Q 451.9 329.3, 453.1 329.3 \" fill=\"#000000\"/>\n",
       "<path class=\"atom-26\" d=\"M 475.9 271.3 Q 475.9 269.3, 476.8 268.2 Q 477.8 267.1, 479.6 267.1 Q 481.4 267.1, 482.4 268.2 Q 483.3 269.3, 483.3 271.3 Q 483.3 273.3, 482.4 274.4 Q 481.4 275.5, 479.6 275.5 Q 477.8 275.5, 476.8 274.4 Q 475.9 273.3, 475.9 271.3 M 479.6 274.6 Q 480.8 274.6, 481.5 273.8 Q 482.2 272.9, 482.2 271.3 Q 482.2 269.7, 481.5 268.9 Q 480.8 268.1, 479.6 268.1 Q 478.4 268.1, 477.7 268.9 Q 477.0 269.7, 477.0 271.3 Q 477.0 272.9, 477.7 273.8 Q 478.4 274.6, 479.6 274.6 \" fill=\"#000000\"/>\n",
       "<path class=\"legend\" d=\"M 413.5 380.4 Q 413.5 377.6, 414.8 376.1 Q 416.2 374.6, 418.7 374.6 Q 421.0 374.6, 422.3 376.3 L 421.2 377.1 Q 420.3 375.9, 418.7 375.9 Q 417.0 375.9, 416.1 377.1 Q 415.2 378.2, 415.2 380.4 Q 415.2 382.6, 416.1 383.8 Q 417.0 384.9, 418.9 384.9 Q 420.1 384.9, 421.6 384.2 L 422.0 385.4 Q 421.4 385.8, 420.5 386.0 Q 419.6 386.2, 418.6 386.2 Q 416.2 386.2, 414.8 384.7 Q 413.5 383.2, 413.5 380.4 \" fill=\"#000000\"/>\n",
       "<path class=\"legend\" d=\"M 429.8 377.8 L 431.3 377.8 L 427.0 390.0 L 425.7 390.0 L 427.0 386.1 L 426.4 386.1 L 423.5 377.8 L 425.0 377.8 L 427.4 384.8 L 429.8 377.8 \" fill=\"#000000\"/>\n",
       "<path class=\"legend\" d=\"M 432.0 379.0 L 432.0 377.8 L 433.6 377.8 L 433.8 375.4 L 434.9 375.4 L 434.9 377.8 L 437.5 377.8 L 437.5 379.0 L 434.9 379.0 L 434.9 383.5 Q 434.9 385.0, 436.1 385.0 Q 436.6 385.0, 437.3 384.7 L 437.6 385.8 Q 436.7 386.2, 435.9 386.2 Q 434.8 386.2, 434.1 385.5 Q 433.4 384.9, 433.4 383.6 L 433.4 379.0 L 432.0 379.0 \" fill=\"#000000\"/>\n",
       "<path class=\"legend\" d=\"M 438.5 381.9 Q 438.5 379.9, 439.6 378.8 Q 440.6 377.7, 442.5 377.7 Q 444.3 377.7, 445.3 378.8 Q 446.4 379.9, 446.4 381.9 Q 446.4 383.9, 445.3 385.1 Q 444.3 386.2, 442.5 386.2 Q 440.6 386.2, 439.6 385.1 Q 438.5 383.9, 438.5 381.9 M 440.1 381.9 Q 440.1 383.4, 440.7 384.2 Q 441.3 385.0, 442.5 385.0 Q 443.6 385.0, 444.2 384.2 Q 444.8 383.4, 444.8 381.9 Q 444.8 380.4, 444.2 379.7 Q 443.6 378.9, 442.5 378.9 Q 441.3 378.9, 440.7 379.7 Q 440.1 380.4, 440.1 381.9 \" fill=\"#000000\"/>\n",
       "<path class=\"legend\" d=\"M 447.7 381.9 Q 447.7 380.0, 448.7 378.8 Q 449.6 377.7, 451.6 377.7 Q 453.5 377.7, 454.4 379.1 L 453.4 379.8 Q 453.1 379.3, 452.6 379.1 Q 452.2 378.9, 451.6 378.9 Q 450.5 378.9, 449.8 379.7 Q 449.2 380.4, 449.2 381.9 Q 449.2 383.5, 449.8 384.2 Q 450.5 385.0, 451.7 385.0 Q 452.4 385.0, 452.8 384.9 Q 453.3 384.7, 453.9 384.4 L 454.3 385.5 Q 453.1 386.2, 451.6 386.2 Q 449.6 386.2, 448.7 385.0 Q 447.7 383.9, 447.7 381.9 \" fill=\"#000000\"/>\n",
       "<path class=\"legend\" d=\"M 459.7 377.7 Q 461.0 377.7, 461.7 378.4 Q 462.4 379.2, 462.4 380.6 L 462.4 386.1 L 460.9 386.1 L 460.9 380.7 Q 460.9 379.8, 460.5 379.3 Q 460.1 378.9, 459.3 378.9 Q 458.5 378.9, 457.9 379.2 Q 457.3 379.6, 456.9 380.2 L 456.9 386.1 L 455.4 386.1 L 455.4 373.9 L 456.9 373.9 L 456.9 378.9 Q 458.0 377.7, 459.7 377.7 \" fill=\"#000000\"/>\n",
       "<path class=\"legend\" d=\"M 464.2 383.8 Q 464.2 382.5, 465.2 381.8 Q 466.3 381.1, 468.2 381.1 L 469.5 381.1 L 469.5 380.8 Q 469.5 379.7, 469.0 379.3 Q 468.6 378.9, 467.6 378.9 Q 466.9 378.9, 466.4 379.0 Q 465.9 379.1, 465.1 379.5 L 464.7 378.4 Q 466.2 377.7, 467.6 377.7 Q 469.4 377.7, 470.2 378.4 Q 471.0 379.2, 471.0 380.8 L 471.0 386.1 L 469.8 386.1 Q 469.8 386.0, 469.7 385.8 Q 469.7 385.5, 469.6 385.1 Q 468.4 386.3, 466.9 386.3 Q 465.7 386.3, 464.9 385.6 Q 464.2 384.9, 464.2 383.8 M 465.7 383.8 Q 465.7 384.4, 466.1 384.8 Q 466.5 385.1, 467.2 385.1 Q 467.8 385.1, 468.4 384.8 Q 469.0 384.5, 469.5 384.0 L 469.5 382.2 L 468.3 382.2 Q 467.0 382.2, 466.3 382.6 Q 465.7 383.0, 465.7 383.8 \" fill=\"#000000\"/>\n",
       "<path class=\"legend\" d=\"M 472.8 373.9 L 474.2 373.9 L 474.2 386.1 L 472.8 386.1 L 472.8 373.9 \" fill=\"#000000\"/>\n",
       "<path class=\"legend\" d=\"M 476.2 383.8 Q 476.2 382.5, 477.2 381.8 Q 478.3 381.1, 480.2 381.1 L 481.4 381.1 L 481.4 380.8 Q 481.4 379.7, 481.0 379.3 Q 480.6 378.9, 479.6 378.9 Q 478.9 378.9, 478.4 379.0 Q 477.9 379.1, 477.1 379.5 L 476.6 378.4 Q 478.1 377.7, 479.6 377.7 Q 481.3 377.7, 482.1 378.4 Q 482.9 379.2, 482.9 380.8 L 482.9 386.1 L 481.8 386.1 Q 481.8 386.0, 481.7 385.8 Q 481.7 385.5, 481.6 385.1 Q 480.4 386.3, 478.9 386.3 Q 477.6 386.3, 476.9 385.6 Q 476.2 384.9, 476.2 383.8 M 477.7 383.8 Q 477.7 384.4, 478.1 384.8 Q 478.4 385.1, 479.2 385.1 Q 479.8 385.1, 480.4 384.8 Q 481.0 384.5, 481.4 384.0 L 481.4 382.2 L 480.3 382.2 Q 479.0 382.2, 478.3 382.6 Q 477.7 383.0, 477.7 383.8 \" fill=\"#000000\"/>\n",
       "<path class=\"legend\" d=\"M 485.2 384.4 Q 485.9 384.7, 486.4 384.8 Q 487.0 385.0, 487.5 385.0 Q 488.2 385.0, 488.6 384.7 Q 489.1 384.4, 489.1 383.8 Q 489.1 383.4, 488.8 383.2 Q 488.6 382.9, 488.4 382.8 Q 488.1 382.7, 487.4 382.5 Q 487.3 382.4, 486.5 382.2 Q 485.8 381.9, 485.4 381.4 Q 485.0 380.8, 485.0 380.0 Q 485.0 379.0, 485.8 378.4 Q 486.5 377.7, 488.0 377.7 Q 488.7 377.7, 489.2 377.8 Q 489.8 378.0, 490.4 378.2 L 490.0 379.4 Q 489.4 379.2, 489.0 379.1 Q 488.5 378.9, 488.0 378.9 Q 487.3 378.9, 486.9 379.2 Q 486.5 379.5, 486.5 380.0 Q 486.5 380.5, 486.8 380.7 Q 487.1 380.9, 487.8 381.1 Q 488.0 381.2, 488.1 381.2 L 488.5 381.4 Q 489.2 381.6, 489.6 381.8 Q 490.0 382.1, 490.3 382.5 Q 490.6 383.0, 490.6 383.7 Q 490.6 384.9, 489.7 385.6 Q 488.9 386.2, 487.5 386.2 Q 486.8 386.2, 486.1 386.0 Q 485.4 385.9, 484.7 385.6 L 485.2 384.4 \" fill=\"#000000\"/>\n",
       "<path class=\"legend\" d=\"M 492.0 374.7 L 493.4 374.7 L 493.4 376.1 L 492.0 376.1 L 492.0 374.7 M 492.0 377.8 L 493.4 377.8 L 493.4 386.1 L 492.0 386.1 L 492.0 377.8 \" fill=\"#000000\"/>\n",
       "<path class=\"legend\" d=\"M 499.7 377.7 Q 501.0 377.7, 501.7 378.4 Q 502.4 379.2, 502.4 380.6 L 502.4 386.1 L 500.9 386.1 L 500.9 380.7 Q 500.9 379.8, 500.5 379.3 Q 500.1 378.9, 499.3 378.9 Q 498.5 378.9, 497.9 379.2 Q 497.3 379.6, 496.9 380.2 L 496.9 386.1 L 495.4 386.1 L 495.4 377.8 L 496.6 377.8 L 496.8 379.0 Q 497.9 377.7, 499.7 377.7 \" fill=\"#000000\"/>\n",
       "<path class=\"legend\" d=\"\" fill=\"#000000\"/>\n",
       "<path class=\"legend\" d=\"M 517.6 373.9 L 517.6 386.0 L 516.3 386.0 L 516.1 385.0 Q 515.2 386.2, 513.7 386.2 Q 512.0 386.2, 511.0 385.1 Q 510.1 384.1, 510.1 382.1 Q 510.1 380.0, 511.2 378.9 Q 512.3 377.7, 514.3 377.7 Q 515.2 377.7, 516.1 377.9 L 516.1 373.9 L 517.6 373.9 M 513.8 385.0 Q 514.6 385.0, 515.2 384.6 Q 515.8 384.1, 516.1 383.3 L 516.1 379.1 Q 515.2 378.9, 514.3 378.9 Q 513.1 378.9, 512.3 379.7 Q 511.6 380.6, 511.6 382.1 Q 511.6 383.5, 512.2 384.3 Q 512.8 385.0, 513.8 385.0 \" fill=\"#000000\"/>\n",
       "<path class=\"legend\" d=\"M 519.4 381.9 Q 519.4 379.9, 520.4 378.8 Q 521.4 377.7, 523.3 377.7 Q 525.1 377.7, 525.9 378.8 Q 526.7 379.9, 526.7 381.9 L 526.7 382.1 L 520.9 382.1 Q 521.0 383.5, 521.6 384.3 Q 522.2 385.0, 523.4 385.0 Q 524.0 385.0, 524.6 384.9 Q 525.2 384.7, 525.9 384.4 L 526.4 385.4 Q 525.6 385.8, 524.8 386.0 Q 524.1 386.2, 523.3 386.2 Q 521.5 386.2, 520.4 385.1 Q 519.4 384.0, 519.4 381.9 M 523.3 378.9 Q 522.3 378.9, 521.7 379.4 Q 521.2 380.0, 521.0 381.0 L 525.1 381.0 Q 525.0 379.9, 524.5 379.4 Q 524.1 378.9, 523.3 378.9 \" fill=\"#000000\"/>\n",
       "<path class=\"legend\" d=\"M 529.1 377.8 L 529.3 379.0 Q 530.1 377.7, 531.5 377.7 Q 532.0 377.7, 532.6 377.9 L 532.3 379.2 Q 531.7 379.0, 531.3 379.0 Q 530.6 379.0, 530.1 379.3 Q 529.7 379.6, 529.4 380.2 L 529.4 386.1 L 527.9 386.1 L 527.9 377.8 L 529.1 377.8 \" fill=\"#000000\"/>\n",
       "<path class=\"legend\" d=\"M 533.4 374.7 L 534.9 374.7 L 534.9 376.1 L 533.4 376.1 L 533.4 374.7 M 533.4 377.8 L 534.9 377.8 L 534.9 386.1 L 533.4 386.1 L 533.4 377.8 \" fill=\"#000000\"/>\n",
       "<path class=\"legend\" d=\"M 543.0 377.8 L 544.5 377.8 L 541.6 386.1 L 539.7 386.1 L 536.8 377.8 L 538.4 377.8 L 540.7 384.7 L 543.0 377.8 \" fill=\"#000000\"/>\n",
       "<path class=\"legend\" d=\"M 545.2 383.8 Q 545.2 382.5, 546.3 381.8 Q 547.3 381.1, 549.3 381.1 L 550.5 381.1 L 550.5 380.8 Q 550.5 379.7, 550.1 379.3 Q 549.6 378.9, 548.6 378.9 Q 548.0 378.9, 547.5 379.0 Q 546.9 379.1, 546.1 379.5 L 545.7 378.4 Q 547.2 377.7, 548.7 377.7 Q 550.4 377.7, 551.2 378.4 Q 552.0 379.2, 552.0 380.8 L 552.0 386.1 L 550.8 386.1 Q 550.8 386.0, 550.8 385.8 Q 550.7 385.5, 550.6 385.1 Q 549.5 386.3, 547.9 386.3 Q 546.7 386.3, 546.0 385.6 Q 545.2 384.9, 545.2 383.8 M 546.7 383.8 Q 546.7 384.4, 547.1 384.8 Q 547.5 385.1, 548.2 385.1 Q 548.9 385.1, 549.5 384.8 Q 550.1 384.5, 550.5 384.0 L 550.5 382.2 L 549.4 382.2 Q 548.1 382.2, 547.4 382.6 Q 546.7 383.0, 546.7 383.8 \" fill=\"#000000\"/>\n",
       "<path class=\"legend\" d=\"M 553.8 379.0 L 553.8 377.8 L 555.4 377.8 L 555.6 375.4 L 556.7 375.4 L 556.7 377.8 L 559.3 377.8 L 559.3 379.0 L 556.7 379.0 L 556.7 383.5 Q 556.7 385.0, 557.9 385.0 Q 558.4 385.0, 559.1 384.7 L 559.4 385.8 Q 558.5 386.2, 557.7 386.2 Q 556.6 386.2, 555.9 385.5 Q 555.2 384.9, 555.2 383.6 L 555.2 379.0 L 553.8 379.0 \" fill=\"#000000\"/>\n",
       "<path class=\"legend\" d=\"M 560.3 374.7 L 561.8 374.7 L 561.8 376.1 L 560.3 376.1 L 560.3 374.7 M 560.3 377.8 L 561.8 377.8 L 561.8 386.1 L 560.3 386.1 L 560.3 377.8 \" fill=\"#000000\"/>\n",
       "<path class=\"legend\" d=\"M 570.0 377.8 L 571.5 377.8 L 568.6 386.1 L 566.7 386.1 L 563.8 377.8 L 565.3 377.8 L 567.7 384.7 L 570.0 377.8 \" fill=\"#000000\"/>\n",
       "<path class=\"legend\" d=\"M 572.2 381.9 Q 572.2 379.9, 573.2 378.8 Q 574.2 377.7, 576.0 377.7 Q 577.9 377.7, 578.7 378.8 Q 579.5 379.9, 579.5 381.9 L 579.5 382.1 L 573.7 382.1 Q 573.8 383.5, 574.4 384.3 Q 575.0 385.0, 576.2 385.0 Q 576.8 385.0, 577.4 384.9 Q 578.0 384.7, 578.7 384.4 L 579.1 385.4 Q 578.3 385.8, 577.6 386.0 Q 576.9 386.2, 576.1 386.2 Q 574.2 386.2, 573.2 385.1 Q 572.2 384.0, 572.2 381.9 M 576.0 378.9 Q 575.1 378.9, 574.5 379.4 Q 574.0 380.0, 573.8 381.0 L 577.9 381.0 Q 577.8 379.9, 577.3 379.4 Q 576.9 378.9, 576.0 378.9 \" fill=\"#000000\"/>\n",
       "<path class=\"legend\" d=\"M 581.1 384.4 Q 581.8 384.7, 582.3 384.8 Q 582.9 385.0, 583.4 385.0 Q 584.1 385.0, 584.5 384.7 Q 585.0 384.4, 585.0 383.8 Q 585.0 383.4, 584.7 383.2 Q 584.5 382.9, 584.3 382.8 Q 584.0 382.7, 583.3 382.5 Q 583.2 382.4, 582.4 382.2 Q 581.7 381.9, 581.3 381.4 Q 580.9 380.8, 580.9 380.0 Q 580.9 379.0, 581.7 378.4 Q 582.5 377.7, 583.9 377.7 Q 584.6 377.7, 585.1 377.8 Q 585.7 378.0, 586.3 378.2 L 585.9 379.4 Q 585.3 379.2, 584.9 379.1 Q 584.4 378.9, 583.9 378.9 Q 583.2 378.9, 582.8 379.2 Q 582.4 379.5, 582.4 380.0 Q 582.4 380.5, 582.7 380.7 Q 583.0 380.9, 583.7 381.1 Q 583.9 381.2, 584.0 381.2 L 584.4 381.4 Q 585.1 381.6, 585.5 381.8 Q 585.9 382.1, 586.2 382.5 Q 586.5 383.0, 586.5 383.7 Q 586.5 384.9, 585.6 385.6 Q 584.8 386.2, 583.4 386.2 Q 582.7 386.2, 582.0 386.0 Q 581.3 385.9, 580.6 385.6 L 581.1 384.4 \" fill=\"#000000\"/>\n",
       "</svg>"
      ],
      "text/plain": [
       "<IPython.core.display.SVG object>"
      ]
     },
     "execution_count": 33,
     "metadata": {},
     "output_type": "execute_result"
    }
   ],
   "source": [
    "img = Draw.MolsToGridImage(\n",
    "  glaxo_sa_matches.mol.iloc[2:8].tolist(),\n",
    "  highlightAtomLists=highlights[2:8],\n",
    "  molsPerRow=3,\n",
    "  legends=glaxo_sa_matches.description.iloc[2:8].tolist(),\n",
    "  drawOptions=dopts_hl,\n",
    "  useSVG=True\n",
    ")\n",
    "img"
   ]
  },
  {
   "cell_type": "markdown",
   "metadata": {},
   "source": [
    "With just a few simple filters, we’ve reduced our starting library to a third of its original size without losing any molecule’s worth further investigation. Remaining downstream processes will extract greater computational cost, so we’ve reduced noise and improved efficiency of the overall pipeline we are constructing. Let’s move on to the next step, which entails numerically representing our molecules as fingerprints, which we can use to conduct a similarity search and identify promising antimalarial candidates."
   ]
  },
  {
   "cell_type": "markdown",
   "metadata": {},
   "source": [
    "## Fingerprints: Representing Molecules as Numbers\n",
    "\n",
    "### Fingerprint our Library"
   ]
  },
  {
   "cell_type": "markdown",
   "metadata": {},
   "source": [
    "For our task, we’ll stick with Morgan (circular) fingerprints to generate fingerprint descriptors. Note that, <mark>in practice, it is common to try multiple types of fingerprints to assess performance for a given task. To aid in reproducibility, you should always state what fingerprints you used to featurize a molecule and the parameters.</mark> We will use a radius of 2 and a fingerprint of length 2048.\n",
    "\n",
    "Why do we fingerprint our library with a radius of 2 and not 4? We previously described one benefit of radius 4 fingerprints is their ability to capture a larger molecular context, providing a more global perspective on the molecular structure. Features involving atoms that are further apart from each other are more likely to be included. Inversely, a smaller radius of 2 highlights the immediate neighborhood of each atom and is more likely to capture specific functional groups, local arrangements of atoms, or other fine-grained details of molecular structure. Calculating Morgan fingerprints with a smaller radius is computationally cheaper, which is pedagogically beneficial since it is easier to modify the example code and produce new results. In practice, we might try and compare both."
   ]
  },
  {
   "cell_type": "code",
   "execution_count": 34,
   "metadata": {},
   "outputs": [
    {
     "name": "stderr",
     "output_type": "stream",
     "text": [
      "/var/folders/s8/ghqk1l4n7n9_w17t7hx21g2m0000gn/T/ipykernel_4189/1348028656.py:8: SettingWithCopyWarning: \n",
      "A value is trying to be set on a copy of a slice from a DataFrame.\n",
      "Try using .loc[row_indexer,col_indexer] = value instead\n",
      "\n",
      "See the caveats in the documentation: https://pandas.pydata.org/pandas-docs/stable/user_guide/indexing.html#returning-a-view-versus-a-copy\n",
      "  specs_filtered[\"morgan_fp_r2_b2048\"] = specs_filtered[\"mol\"].apply(compute_fingerprint, r=2, nBits=2048)\n"
     ]
    }
   ],
   "source": [
    "from rdkit import DataStructs\n",
    "from rdkit.Chem import AllChem\n",
    "\n",
    "def compute_fingerprint(mol, r, nBits):\n",
    "    fp = AllChem.GetMorganFingerprintAsBitVect(mol, r, nBits=nBits)\n",
    "    return fp\n",
    "\n",
    "specs_filtered[\"morgan_fp_r2_b2048\"] = specs_filtered[\"mol\"].apply(compute_fingerprint, r=2, nBits=2048)"
   ]
  },
  {
   "cell_type": "markdown",
   "metadata": {},
   "source": [
    "The following code blocks show how we can decompose a molecule and visualize the bits that are set for its corresponding fingerprint. In this example, we only show 5 bits, but the code is easily altered to show all bits for any molecule (this particular molecule has a total of 47 bits set). Notice how none of the fragments cover a path of more than 2-steps away from their central atom, which is highlighted by a blue circle. Yellow circles indicate aromatic atoms; grey circles indicate aliphatic ring atoms. Atoms or bonds that are light grey indicate structures that influence connectivity but are not directly part of the fingerprint. Asterisks indicate extensions beyond the fingerprint itself and can be interpreted as wildcards."
   ]
  },
  {
   "cell_type": "code",
   "execution_count": 35,
   "metadata": {},
   "outputs": [],
   "source": [
    "def draw_fragment_from_bit(mol, bit_number):\n",
    "  \"\"\" Given an rdkit mol, draws the local fragment that corresponds to the set bit of ecfp featurization.\n",
    "\n",
    "  If the bit is not set, will throw an error.\n",
    "  \"\"\"\n",
    "  bi = {}\n",
    "  fp = AllChem.GetMorganFingerprintAsBitVect(mol, radius=2, bitInfo=bi)\n",
    "  try:\n",
    "    svg = Draw.DrawMorganBit(mol, bit_number, bi, useSVG=True)\n",
    "  except:\n",
    "    raise ValueError(f\"Featurization of mol doesn't have bit {bit_number} set\")\n",
    "  return svg"
   ]
  },
  {
   "cell_type": "code",
   "execution_count": 36,
   "metadata": {},
   "outputs": [
    {
     "data": {
      "image/svg+xml": [
       "<svg xmlns=\"http://www.w3.org/2000/svg\" xmlns:rdkit=\"http://www.rdkit.org/xml\" xmlns:xlink=\"http://www.w3.org/1999/xlink\" version=\"1.1\" baseProfile=\"full\" xml:space=\"preserve\" width=\"200px\" height=\"200px\" viewBox=\"0 0 200 200\">\n",
       "<!-- END OF HEADER -->\n",
       "<rect style=\"opacity:1.0;fill:#FFFFFF;stroke:none\" width=\"200.0\" height=\"200.0\" x=\"0.0\" y=\"0.0\"> </rect>\n",
       "<path class=\"bond-0 atom-0 atom-1\" d=\"M 10.0,102.8 L 29.1,107.5\" style=\"fill:none;fill-rule:evenodd;stroke:#000000;stroke-width:2.0px;stroke-linecap:butt;stroke-linejoin:miter;stroke-opacity:1\"/>\n",
       "<path class=\"bond-1 atom-1 atom-2\" d=\"M 29.1,107.5 L 35.9,100.5\" style=\"fill:none;fill-rule:evenodd;stroke:#000000;stroke-width:2.0px;stroke-linecap:butt;stroke-linejoin:miter;stroke-opacity:1\"/>\n",
       "<path class=\"bond-2 atom-2 atom-3\" d=\"M 49.7,95.0 L 61.9,98.0\" style=\"fill:none;fill-rule:evenodd;stroke:#000000;stroke-width:2.0px;stroke-linecap:butt;stroke-linejoin:miter;stroke-opacity:1\"/>\n",
       "<path class=\"bond-3 atom-3 atom-4\" d=\"M 60.3,97.6 L 63.9,110.0\" style=\"fill:none;fill-rule:evenodd;stroke:#000000;stroke-width:2.0px;stroke-linecap:butt;stroke-linejoin:miter;stroke-opacity:1\"/>\n",
       "<path class=\"bond-3 atom-3 atom-4\" d=\"M 63.1,96.7 L 66.7,109.2\" style=\"fill:none;fill-rule:evenodd;stroke:#000000;stroke-width:2.0px;stroke-linecap:butt;stroke-linejoin:miter;stroke-opacity:1\"/>\n",
       "<path class=\"bond-4 atom-3 atom-5\" d=\"M 61.9,98.0 L 75.6,83.7\" style=\"fill:none;fill-rule:evenodd;stroke:#000000;stroke-width:2.0px;stroke-linecap:butt;stroke-linejoin:miter;stroke-opacity:1\"/>\n",
       "<path class=\"bond-5 atom-5 atom-6\" d=\"M 75.6,83.7 L 70.1,64.8\" style=\"fill:none;fill-rule:evenodd;stroke:#000000;stroke-width:2.0px;stroke-linecap:butt;stroke-linejoin:miter;stroke-opacity:1\"/>\n",
       "<path class=\"bond-5 atom-5 atom-6\" d=\"M 77.9,81.3 L 73.4,65.6\" style=\"fill:none;fill-rule:evenodd;stroke:#000000;stroke-width:2.0px;stroke-linecap:butt;stroke-linejoin:miter;stroke-opacity:1\"/>\n",
       "<path class=\"bond-6 atom-6 atom-7\" d=\"M 70.1,64.8 L 83.7,50.6\" style=\"fill:none;fill-rule:evenodd;stroke:#000000;stroke-width:2.0px;stroke-linecap:butt;stroke-linejoin:miter;stroke-opacity:1\"/>\n",
       "<path class=\"bond-7 atom-7 atom-8\" d=\"M 83.7,50.6 L 102.9,55.3\" style=\"fill:none;fill-rule:evenodd;stroke:#000000;stroke-width:2.0px;stroke-linecap:butt;stroke-linejoin:miter;stroke-opacity:1\"/>\n",
       "<path class=\"bond-7 atom-7 atom-8\" d=\"M 84.7,53.9 L 100.5,57.7\" style=\"fill:none;fill-rule:evenodd;stroke:#000000;stroke-width:2.0px;stroke-linecap:butt;stroke-linejoin:miter;stroke-opacity:1\"/>\n",
       "<path class=\"bond-8 atom-8 atom-9\" d=\"M 102.9,55.3 L 110.4,47.5\" style=\"fill:none;fill-rule:evenodd;stroke:#000000;stroke-width:2.0px;stroke-linecap:butt;stroke-linejoin:miter;stroke-opacity:1\"/>\n",
       "<path class=\"bond-9 atom-9 atom-10\" d=\"M 122.7,42.5 L 135.7,45.7\" style=\"fill:none;fill-rule:evenodd;stroke:#000000;stroke-width:2.0px;stroke-linecap:butt;stroke-linejoin:miter;stroke-opacity:1\"/>\n",
       "<path class=\"bond-10 atom-10 atom-11\" d=\"M 135.7,45.7 L 145.1,37.7\" style=\"fill:none;fill-rule:evenodd;stroke:#000000;stroke-width:2.0px;stroke-linecap:butt;stroke-linejoin:miter;stroke-opacity:1\"/>\n",
       "<path class=\"bond-11 atom-11 atom-12\" d=\"M 156.3,36.5 L 167.5,43.4\" style=\"fill:none;fill-rule:evenodd;stroke:#000000;stroke-width:2.0px;stroke-linecap:butt;stroke-linejoin:miter;stroke-opacity:1\"/>\n",
       "<path class=\"bond-12 atom-12 atom-13\" d=\"M 167.0,45.2 L 179.4,40.1\" style=\"fill:none;fill-rule:evenodd;stroke:#000000;stroke-width:2.0px;stroke-linecap:butt;stroke-linejoin:miter;stroke-opacity:1\"/>\n",
       "<path class=\"bond-12 atom-12 atom-13\" d=\"M 165.9,42.4 L 178.3,37.4\" style=\"fill:none;fill-rule:evenodd;stroke:#000000;stroke-width:2.0px;stroke-linecap:butt;stroke-linejoin:miter;stroke-opacity:1\"/>\n",
       "<path class=\"bond-13 atom-12 atom-14\" d=\"M 167.5,43.4 L 164.6,55.3\" style=\"fill:none;fill-rule:evenodd;stroke:#000000;stroke-width:2.0px;stroke-linecap:butt;stroke-linejoin:miter;stroke-opacity:1\"/>\n",
       "<path class=\"bond-14 atom-14 atom-15\" d=\"M 168.9,69.8 L 175.5,77.6\" style=\"fill:none;fill-rule:evenodd;stroke:#000000;stroke-width:2.0px;stroke-linecap:butt;stroke-linejoin:miter;stroke-opacity:1\"/>\n",
       "<path class=\"bond-15 atom-15 atom-16\" d=\"M 175.5,77.6 L 168.8,96.1\" style=\"fill:none;fill-rule:evenodd;stroke:#000000;stroke-width:2.0px;stroke-linecap:butt;stroke-linejoin:miter;stroke-opacity:1\"/>\n",
       "<path class=\"bond-16 atom-16 atom-17\" d=\"M 168.8,96.1 L 149.4,99.6\" style=\"fill:none;fill-rule:evenodd;stroke:#000000;stroke-width:2.0px;stroke-linecap:butt;stroke-linejoin:miter;stroke-opacity:1\"/>\n",
       "<path class=\"bond-16 atom-16 atom-17\" d=\"M 167.7,99.4 L 151.6,102.2\" style=\"fill:none;fill-rule:evenodd;stroke:#000000;stroke-width:2.0px;stroke-linecap:butt;stroke-linejoin:miter;stroke-opacity:1\"/>\n",
       "<path class=\"bond-17 atom-17 atom-18\" d=\"M 149.4,99.6 L 142.8,118.2\" style=\"fill:none;fill-rule:evenodd;stroke:#000000;stroke-width:2.0px;stroke-linecap:butt;stroke-linejoin:miter;stroke-opacity:1\"/>\n",
       "<path class=\"bond-18 atom-18 atom-19\" d=\"M 142.8,118.2 L 155.5,133.3\" style=\"fill:none;fill-rule:evenodd;stroke:#000000;stroke-width:2.0px;stroke-linecap:butt;stroke-linejoin:miter;stroke-opacity:1\"/>\n",
       "<path class=\"bond-18 atom-18 atom-19\" d=\"M 146.1,117.6 L 156.6,130.0\" style=\"fill:none;fill-rule:evenodd;stroke:#000000;stroke-width:2.0px;stroke-linecap:butt;stroke-linejoin:miter;stroke-opacity:1\"/>\n",
       "<path class=\"bond-19 atom-19 atom-20\" d=\"M 155.5,133.3 L 148.8,151.8\" style=\"fill:none;fill-rule:evenodd;stroke:#000000;stroke-width:2.0px;stroke-linecap:butt;stroke-linejoin:miter;stroke-opacity:1\"/>\n",
       "<path class=\"bond-20 atom-20 atom-21\" d=\"M 147.1,152.1 L 154.2,160.5\" style=\"fill:none;fill-rule:evenodd;stroke:#000000;stroke-width:2.0px;stroke-linecap:butt;stroke-linejoin:miter;stroke-opacity:1\"/>\n",
       "<path class=\"bond-20 atom-20 atom-21\" d=\"M 149.4,150.2 L 156.5,158.6\" style=\"fill:none;fill-rule:evenodd;stroke:#000000;stroke-width:2.0px;stroke-linecap:butt;stroke-linejoin:miter;stroke-opacity:1\"/>\n",
       "<path class=\"bond-21 atom-20 atom-22\" d=\"M 148.8,151.8 L 136.3,154.1\" style=\"fill:none;fill-rule:evenodd;stroke:#000000;stroke-width:2.0px;stroke-linecap:butt;stroke-linejoin:miter;stroke-opacity:1\"/>\n",
       "<path class=\"bond-22 atom-22 atom-23\" d=\"M 126.7,162.8 L 122.7,173.9\" style=\"fill:none;fill-rule:evenodd;stroke:#000000;stroke-width:2.0px;stroke-linecap:butt;stroke-linejoin:miter;stroke-opacity:1\"/>\n",
       "<path class=\"bond-23 atom-19 atom-24\" d=\"M 155.5,133.3 L 174.9,129.8\" style=\"fill:none;fill-rule:evenodd;stroke:#000000;stroke-width:2.0px;stroke-linecap:butt;stroke-linejoin:miter;stroke-opacity:1\"/>\n",
       "<path class=\"bond-24 atom-24 atom-25\" d=\"M 174.9,129.8 L 181.6,111.2\" style=\"fill:none;fill-rule:evenodd;stroke:#000000;stroke-width:2.0px;stroke-linecap:butt;stroke-linejoin:miter;stroke-opacity:1\"/>\n",
       "<path class=\"bond-24 atom-24 atom-25\" d=\"M 172.7,127.1 L 178.2,111.8\" style=\"fill:none;fill-rule:evenodd;stroke:#000000;stroke-width:2.0px;stroke-linecap:butt;stroke-linejoin:miter;stroke-opacity:1\"/>\n",
       "<path class=\"bond-25 atom-14 atom-26\" d=\"M 156.6,63.0 L 143.1,64.0\" style=\"fill:none;fill-rule:evenodd;stroke:#000000;stroke-width:2.0px;stroke-linecap:butt;stroke-linejoin:miter;stroke-opacity:1\"/>\n",
       "<path class=\"bond-26 atom-26 atom-27\" d=\"M 142.4,62.3 L 136.0,72.6\" style=\"fill:none;fill-rule:evenodd;stroke:#000000;stroke-width:2.0px;stroke-linecap:butt;stroke-linejoin:miter;stroke-opacity:1\"/>\n",
       "<path class=\"bond-26 atom-26 atom-27\" d=\"M 144.9,63.9 L 138.5,74.2\" style=\"fill:none;fill-rule:evenodd;stroke:#000000;stroke-width:2.0px;stroke-linecap:butt;stroke-linejoin:miter;stroke-opacity:1\"/>\n",
       "<path class=\"bond-27 atom-8 atom-28\" d=\"M 102.9,55.3 L 108.4,74.2\" style=\"fill:none;fill-rule:evenodd;stroke:#000000;stroke-width:2.0px;stroke-linecap:butt;stroke-linejoin:miter;stroke-opacity:1\"/>\n",
       "<path class=\"bond-28 atom-28 atom-29\" d=\"M 108.4,74.2 L 94.7,88.4\" style=\"fill:none;fill-rule:evenodd;stroke:#000000;stroke-width:2.0px;stroke-linecap:butt;stroke-linejoin:miter;stroke-opacity:1\"/>\n",
       "<path class=\"bond-28 atom-28 atom-29\" d=\"M 105.1,73.4 L 93.8,85.2\" style=\"fill:none;fill-rule:evenodd;stroke:#000000;stroke-width:2.0px;stroke-linecap:butt;stroke-linejoin:miter;stroke-opacity:1\"/>\n",
       "<path class=\"bond-29 atom-29 atom-5\" d=\"M 94.7,88.4 L 75.6,83.7\" style=\"fill:none;fill-rule:evenodd;stroke:#000000;stroke-width:2.0px;stroke-linecap:butt;stroke-linejoin:miter;stroke-opacity:1\"/>\n",
       "<path class=\"bond-30 atom-26 atom-10\" d=\"M 143.1,64.0 L 135.7,45.7\" style=\"fill:none;fill-rule:evenodd;stroke:#000000;stroke-width:2.0px;stroke-linecap:butt;stroke-linejoin:miter;stroke-opacity:1\"/>\n",
       "<path class=\"bond-31 atom-25 atom-16\" d=\"M 181.6,111.2 L 168.8,96.1\" style=\"fill:none;fill-rule:evenodd;stroke:#000000;stroke-width:2.0px;stroke-linecap:butt;stroke-linejoin:miter;stroke-opacity:1\"/>\n",
       "<path d=\"M 28.2,107.3 L 29.1,107.5 L 29.5,107.2\" style=\"fill:none;stroke:#000000;stroke-width:2.0px;stroke-linecap:butt;stroke-linejoin:miter;stroke-opacity:1;\"/>\n",
       "<path d=\"M 61.3,97.8 L 61.9,98.0 L 62.6,97.3\" style=\"fill:none;stroke:#000000;stroke-width:2.0px;stroke-linecap:butt;stroke-linejoin:miter;stroke-opacity:1;\"/>\n",
       "<path d=\"M 70.4,65.8 L 70.1,64.8 L 70.8,64.1\" style=\"fill:none;stroke:#000000;stroke-width:2.0px;stroke-linecap:butt;stroke-linejoin:miter;stroke-opacity:1;\"/>\n",
       "<path d=\"M 83.0,51.3 L 83.7,50.6 L 84.7,50.8\" style=\"fill:none;stroke:#000000;stroke-width:2.0px;stroke-linecap:butt;stroke-linejoin:miter;stroke-opacity:1;\"/>\n",
       "<path d=\"M 166.9,43.0 L 167.5,43.4 L 167.3,44.0\" style=\"fill:none;stroke:#000000;stroke-width:2.0px;stroke-linecap:butt;stroke-linejoin:miter;stroke-opacity:1;\"/>\n",
       "<path d=\"M 175.2,77.2 L 175.5,77.6 L 175.2,78.5\" style=\"fill:none;stroke:#000000;stroke-width:2.0px;stroke-linecap:butt;stroke-linejoin:miter;stroke-opacity:1;\"/>\n",
       "<path d=\"M 150.4,99.5 L 149.4,99.6 L 149.1,100.6\" style=\"fill:none;stroke:#000000;stroke-width:2.0px;stroke-linecap:butt;stroke-linejoin:miter;stroke-opacity:1;\"/>\n",
       "<path d=\"M 143.1,117.3 L 142.8,118.2 L 143.4,118.9\" style=\"fill:none;stroke:#000000;stroke-width:2.0px;stroke-linecap:butt;stroke-linejoin:miter;stroke-opacity:1;\"/>\n",
       "<path d=\"M 149.2,150.9 L 148.8,151.8 L 148.2,151.9\" style=\"fill:none;stroke:#000000;stroke-width:2.0px;stroke-linecap:butt;stroke-linejoin:miter;stroke-opacity:1;\"/>\n",
       "<path d=\"M 173.9,129.9 L 174.9,129.8 L 175.2,128.8\" style=\"fill:none;stroke:#000000;stroke-width:2.0px;stroke-linecap:butt;stroke-linejoin:miter;stroke-opacity:1;\"/>\n",
       "<path d=\"M 181.2,112.1 L 181.6,111.2 L 180.9,110.4\" style=\"fill:none;stroke:#000000;stroke-width:2.0px;stroke-linecap:butt;stroke-linejoin:miter;stroke-opacity:1;\"/>\n",
       "<path d=\"M 143.8,63.9 L 143.1,64.0 L 142.7,63.1\" style=\"fill:none;stroke:#000000;stroke-width:2.0px;stroke-linecap:butt;stroke-linejoin:miter;stroke-opacity:1;\"/>\n",
       "<path d=\"M 108.1,73.3 L 108.4,74.2 L 107.7,74.9\" style=\"fill:none;stroke:#000000;stroke-width:2.0px;stroke-linecap:butt;stroke-linejoin:miter;stroke-opacity:1;\"/>\n",
       "<path d=\"M 95.4,87.7 L 94.7,88.4 L 93.8,88.2\" style=\"fill:none;stroke:#000000;stroke-width:2.0px;stroke-linecap:butt;stroke-linejoin:miter;stroke-opacity:1;\"/>\n",
       "<path class=\"atom-2\" d=\"M 38.5 93.3 Q 38.5 91.1, 39.6 89.8 Q 40.7 88.6, 42.8 88.6 Q 44.9 88.6, 46.0 89.8 Q 47.1 91.1, 47.1 93.3 Q 47.1 95.6, 45.9 96.9 Q 44.8 98.1, 42.8 98.1 Q 40.7 98.1, 39.6 96.9 Q 38.5 95.6, 38.5 93.3 M 42.8 97.1 Q 44.2 97.1, 45.0 96.1 Q 45.7 95.2, 45.7 93.3 Q 45.7 91.5, 45.0 90.6 Q 44.2 89.6, 42.8 89.6 Q 41.4 89.6, 40.6 90.5 Q 39.8 91.5, 39.8 93.3 Q 39.8 95.2, 40.6 96.1 Q 41.4 97.1, 42.8 97.1 \" fill=\"#000000\"/>\n",
       "<path class=\"atom-4\" d=\"M 63.2 116.9 Q 63.2 114.7, 64.3 113.5 Q 65.4 112.2, 67.4 112.2 Q 69.5 112.2, 70.6 113.5 Q 71.7 114.7, 71.7 116.9 Q 71.7 119.2, 70.6 120.5 Q 69.5 121.8, 67.4 121.8 Q 65.4 121.8, 64.3 120.5 Q 63.2 119.2, 63.2 116.9 M 67.4 120.7 Q 68.9 120.7, 69.6 119.8 Q 70.4 118.8, 70.4 116.9 Q 70.4 115.1, 69.6 114.2 Q 68.9 113.3, 67.4 113.3 Q 66.0 113.3, 65.3 114.2 Q 64.5 115.1, 64.5 116.9 Q 64.5 118.8, 65.3 119.8 Q 66.0 120.7, 67.4 120.7 \" fill=\"#000000\"/>\n",
       "<path class=\"atom-9\" d=\"M 114.5 36.4 L 117.5 41.3 Q 117.8 41.8, 118.3 42.7 Q 118.8 43.6, 118.8 43.6 L 118.8 36.4 L 120.0 36.4 L 120.0 45.7 L 118.8 45.7 L 115.5 40.3 Q 115.1 39.7, 114.7 38.9 Q 114.3 38.2, 114.2 38.0 L 114.2 45.7 L 113.0 45.7 L 113.0 36.4 L 114.5 36.4 \" fill=\"#000000\"/>\n",
       "<path class=\"atom-9\" d=\"M 112.9 26.1 L 114.1 26.1 L 114.1 30.1 L 118.9 30.1 L 118.9 26.1 L 120.2 26.1 L 120.2 35.5 L 118.9 35.5 L 118.9 31.2 L 114.1 31.2 L 114.1 35.5 L 112.9 35.5 L 112.9 26.1 \" fill=\"#000000\"/>\n",
       "<path class=\"atom-11\" d=\"M 148.1 36.2 Q 148.2 36.2, 148.6 36.4 Q 149.1 36.6, 149.5 36.7 Q 150.0 36.8, 150.5 36.8 Q 151.4 36.8, 151.9 36.4 Q 152.4 36.0, 152.4 35.2 Q 152.4 34.7, 152.1 34.4 Q 151.9 34.1, 151.5 33.9 Q 151.1 33.7, 150.4 33.5 Q 149.6 33.3, 149.1 33.1 Q 148.6 32.8, 148.3 32.3 Q 147.9 31.8, 147.9 31.0 Q 147.9 29.8, 148.7 29.1 Q 149.5 28.4, 151.1 28.4 Q 152.2 28.4, 153.4 28.9 L 153.1 29.9 Q 152.0 29.4, 151.1 29.4 Q 150.2 29.4, 149.7 29.8 Q 149.2 30.2, 149.2 30.8 Q 149.2 31.3, 149.5 31.6 Q 149.8 31.9, 150.1 32.1 Q 150.5 32.3, 151.1 32.5 Q 152.0 32.7, 152.5 33.0 Q 153.0 33.3, 153.3 33.8 Q 153.7 34.3, 153.7 35.2 Q 153.7 36.5, 152.8 37.2 Q 152.0 37.9, 150.5 37.9 Q 149.7 37.9, 149.1 37.7 Q 148.5 37.5, 147.7 37.2 L 148.1 36.2 \" fill=\"#000000\"/>\n",
       "<path class=\"atom-13\" d=\"M 181.5 36.0 Q 181.5 33.7, 182.6 32.5 Q 183.7 31.2, 185.7 31.2 Q 187.8 31.2, 188.9 32.5 Q 190.0 33.7, 190.0 36.0 Q 190.0 38.2, 188.9 39.5 Q 187.8 40.8, 185.7 40.8 Q 183.7 40.8, 182.6 39.5 Q 181.5 38.2, 181.5 36.0 M 185.7 39.7 Q 187.1 39.7, 187.9 38.8 Q 188.7 37.8, 188.7 36.0 Q 188.7 34.1, 187.9 33.2 Q 187.1 32.3, 185.7 32.3 Q 184.3 32.3, 183.5 33.2 Q 182.8 34.1, 182.8 36.0 Q 182.8 37.8, 183.5 38.8 Q 184.3 39.7, 185.7 39.7 \" fill=\"#000000\"/>\n",
       "<path class=\"atom-14\" d=\"M 160.7 57.9 L 163.8 62.8 Q 164.1 63.3, 164.6 64.2 Q 165.0 65.1, 165.1 65.1 L 165.1 57.9 L 166.3 57.9 L 166.3 67.2 L 165.0 67.2 L 161.8 61.8 Q 161.4 61.2, 161.0 60.4 Q 160.6 59.7, 160.5 59.5 L 160.5 67.2 L 159.2 67.2 L 159.2 57.9 L 160.7 57.9 \" fill=\"#000000\"/>\n",
       "<path class=\"atom-21\" d=\"M 157.3 166.9 Q 157.3 164.7, 158.4 163.4 Q 159.5 162.2, 161.5 162.2 Q 163.6 162.2, 164.7 163.4 Q 165.8 164.7, 165.8 166.9 Q 165.8 169.1, 164.7 170.4 Q 163.6 171.7, 161.5 171.7 Q 159.5 171.7, 158.4 170.4 Q 157.3 169.2, 157.3 166.9 M 161.5 170.7 Q 163.0 170.7, 163.7 169.7 Q 164.5 168.8, 164.5 166.9 Q 164.5 165.1, 163.7 164.1 Q 163.0 163.2, 161.5 163.2 Q 160.1 163.2, 159.4 164.1 Q 158.6 165.0, 158.6 166.9 Q 158.6 168.8, 159.4 169.7 Q 160.1 170.7, 161.5 170.7 \" fill=\"#000000\"/>\n",
       "<path class=\"atom-22\" d=\"M 125.1 155.3 Q 125.1 153.1, 126.2 151.8 Q 127.3 150.6, 129.4 150.6 Q 131.5 150.6, 132.6 151.8 Q 133.7 153.1, 133.7 155.3 Q 133.7 157.6, 132.6 158.9 Q 131.5 160.2, 129.4 160.2 Q 127.4 160.2, 126.2 158.9 Q 125.1 157.6, 125.1 155.3 M 129.4 159.1 Q 130.8 159.1, 131.6 158.2 Q 132.4 157.2, 132.4 155.3 Q 132.4 153.5, 131.6 152.6 Q 130.8 151.6, 129.4 151.6 Q 128.0 151.6, 127.2 152.6 Q 126.5 153.5, 126.5 155.3 Q 126.5 157.2, 127.2 158.2 Q 128.0 159.1, 129.4 159.1 \" fill=\"#000000\"/>\n",
       "<path class=\"atom-27\" d=\"M 128.5 80.8 Q 128.5 78.5, 129.6 77.3 Q 130.7 76.0, 132.7 76.0 Q 134.8 76.0, 135.9 77.3 Q 137.0 78.5, 137.0 80.8 Q 137.0 83.0, 135.9 84.3 Q 134.8 85.6, 132.7 85.6 Q 130.7 85.6, 129.6 84.3 Q 128.5 83.0, 128.5 80.8 M 132.7 84.5 Q 134.1 84.5, 134.9 83.6 Q 135.7 82.6, 135.7 80.8 Q 135.7 78.9, 134.9 78.0 Q 134.1 77.1, 132.7 77.1 Q 131.3 77.1, 130.5 78.0 Q 129.8 78.9, 129.8 80.8 Q 129.8 82.7, 130.5 83.6 Q 131.3 84.5, 132.7 84.5 \" fill=\"#000000\"/>\n",
       "</svg>"
      ],
      "text/plain": [
       "<IPython.core.display.SVG object>"
      ]
     },
     "execution_count": 36,
     "metadata": {},
     "output_type": "execute_result"
    }
   ],
   "source": [
    "example_mol = specs_filtered.mol.iloc[0]\n",
    "img = Draw.MolsToGridImage(\n",
    "  mols=[example_mol], molsPerRow=1, useSVG=True, drawOptions=dopts,\n",
    ")\n",
    "img"
   ]
  },
  {
   "cell_type": "code",
   "execution_count": 37,
   "metadata": {},
   "outputs": [],
   "source": [
    "example_fp = specs_filtered.morgan_fp_r2_b2048.iloc[0]\n",
    "fp_hit_indices = [idx for idx, bit in enumerate(example_fp) if bit][:5]\n",
    "example_bits = [draw_fragment_from_bit(example_mol, hit_idx) for hit_idx in fp_hit_indices]"
   ]
  },
  {
   "cell_type": "code",
   "execution_count": 38,
   "metadata": {},
   "outputs": [
    {
     "data": {
      "image/svg+xml": [
       "<svg xmlns=\"http://www.w3.org/2000/svg\" xmlns:rdkit=\"http://www.rdkit.org/xml\" xmlns:xlink=\"http://www.w3.org/1999/xlink\" version=\"1.1\" baseProfile=\"full\" xml:space=\"preserve\" width=\"150px\" height=\"150px\" viewBox=\"0 0 150 150\">\n",
       "<!-- END OF HEADER -->\n",
       "<rect style=\"opacity:1.0;fill:#FFFFFF;stroke:none\" width=\"150.0\" height=\"150.0\" x=\"0.0\" y=\"0.0\"> </rect>\n",
       "<ellipse cx=\"52.3\" cy=\"50.5\" rx=\"8.6\" ry=\"8.6\" class=\"atom-1\" style=\"fill:#CCCCCC;fill-rule:evenodd;stroke:#CCCCCC;stroke-width:1.0px;stroke-linecap:butt;stroke-linejoin:miter;stroke-opacity:1\"/>\n",
       "<ellipse cx=\"111.7\" cy=\"87.3\" rx=\"8.6\" ry=\"8.6\" class=\"atom-4\" style=\"fill:#CCCCCC;fill-rule:evenodd;stroke:#CCCCCC;stroke-width:1.0px;stroke-linecap:butt;stroke-linejoin:miter;stroke-opacity:1\"/>\n",
       "<ellipse cx=\"68.7\" cy=\"90.5\" rx=\"8.6\" ry=\"8.6\" class=\"atom-6\" style=\"fill:#9999E5;fill-rule:evenodd;stroke:#9999E5;stroke-width:1.0px;stroke-linecap:butt;stroke-linejoin:miter;stroke-opacity:1\"/>\n",
       "<path class=\"bond-0 atom-0 atom-1\" d=\"M 13.7,41.0 L 52.3,50.5\" style=\"fill:none;fill-rule:evenodd;stroke:#E5E5E5;stroke-width:2.3px;stroke-linecap:butt;stroke-linejoin:miter;stroke-opacity:1\"/>\n",
       "<path class=\"bond-1 atom-1 atom-2\" d=\"M 52.3,50.5 L 84.4,23.4\" style=\"fill:none;fill-rule:evenodd;stroke:#E5E5E5;stroke-width:2.3px;stroke-linecap:butt;stroke-linejoin:miter;stroke-opacity:1\"/>\n",
       "<path class=\"bond-2 atom-3 atom-4\" d=\"M 121.8,46.2 L 113.6,79.8\" style=\"fill:none;fill-rule:evenodd;stroke:#E5E5E5;stroke-width:2.3px;stroke-linecap:butt;stroke-linejoin:miter;stroke-opacity:1\"/>\n",
       "<path class=\"bond-3 atom-4 atom-5\" d=\"M 117.8,94.5 L 135.3,115.2\" style=\"fill:none;fill-rule:evenodd;stroke:#E5E5E5;stroke-width:2.3px;stroke-linecap:butt;stroke-linejoin:miter;stroke-opacity:1\"/>\n",
       "<path class=\"bond-4 atom-4 atom-6\" d=\"M 105.7,87.8 L 87.2,89.1\" style=\"fill:none;fill-rule:evenodd;stroke:#0000FF;stroke-width:2.0px;stroke-linecap:butt;stroke-linejoin:miter;stroke-opacity:1\"/>\n",
       "<path class=\"bond-4 atom-4 atom-6\" d=\"M 87.2,89.1 L 68.7,90.5\" style=\"fill:none;fill-rule:evenodd;stroke:#000000;stroke-width:2.0px;stroke-linecap:butt;stroke-linejoin:miter;stroke-opacity:1\"/>\n",
       "<path class=\"bond-5 atom-6 atom-7\" d=\"M 67.1,86.8 L 57.5,102.3\" style=\"fill:none;fill-rule:evenodd;stroke:#000000;stroke-width:2.0px;stroke-linecap:butt;stroke-linejoin:miter;stroke-opacity:1\"/>\n",
       "<path class=\"bond-5 atom-6 atom-7\" d=\"M 57.5,102.3 L 47.9,117.9\" style=\"fill:none;fill-rule:evenodd;stroke:#FF0000;stroke-width:2.0px;stroke-linecap:butt;stroke-linejoin:miter;stroke-opacity:1\"/>\n",
       "<path class=\"bond-5 atom-6 atom-7\" d=\"M 72.7,90.2 L 63.0,105.8\" style=\"fill:none;fill-rule:evenodd;stroke:#000000;stroke-width:2.0px;stroke-linecap:butt;stroke-linejoin:miter;stroke-opacity:1\"/>\n",
       "<path class=\"bond-5 atom-6 atom-7\" d=\"M 63.0,105.8 L 53.4,121.3\" style=\"fill:none;fill-rule:evenodd;stroke:#FF0000;stroke-width:2.0px;stroke-linecap:butt;stroke-linejoin:miter;stroke-opacity:1\"/>\n",
       "<path class=\"bond-6 atom-6 atom-1\" d=\"M 68.7,90.5 L 52.3,50.5\" style=\"fill:none;fill-rule:evenodd;stroke:#000000;stroke-width:2.0px;stroke-linecap:butt;stroke-linejoin:miter;stroke-opacity:1\"/>\n",
       "<path d=\"M 69.6,90.4 L 68.7,90.5 L 67.8,88.5\" style=\"fill:none;stroke:#000000;stroke-width:2.0px;stroke-linecap:butt;stroke-linejoin:miter;stroke-opacity:1;\"/>\n",
       "<path class=\"atom-0\" d=\"M 8.1 38.9 L 9.9 37.0 L 7.5 36.6 L 7.9 35.3 L 10.1 36.4 L 9.7 34.0 L 11.0 34.0 L 10.7 36.4 L 12.9 35.4 L 13.3 36.6 L 10.9 37.0 L 12.6 38.9 L 11.5 39.6 L 10.3 37.3 L 9.1 39.6 L 8.1 38.9 \" fill=\"#191919\"/>\n",
       "<path class=\"atom-2\" d=\"M 83.0 21.3 L 84.8 19.4 L 82.4 19.0 L 82.8 17.7 L 85.0 18.8 L 84.7 16.4 L 86.0 16.4 L 85.6 18.8 L 87.8 17.8 L 88.2 19.0 L 85.8 19.4 L 87.5 21.3 L 86.5 22.0 L 85.3 19.7 L 84.1 22.0 L 83.0 21.3 \" fill=\"#191919\"/>\n",
       "<path class=\"atom-3\" d=\"M 119.7 44.0 L 121.5 42.2 L 119.1 41.7 L 119.5 40.5 L 121.7 41.6 L 121.4 39.2 L 122.7 39.2 L 122.3 41.6 L 124.5 40.5 L 124.9 41.7 L 122.5 42.2 L 124.2 44.0 L 123.2 44.8 L 122.0 42.5 L 120.8 44.8 L 119.7 44.0 \" fill=\"#191919\"/>\n",
       "<path class=\"atom-4\" d=\"M 109.0 81.2 L 113.0 87.7 Q 113.4 88.3, 114.1 89.5 Q 114.7 90.6, 114.7 90.7 L 114.7 81.2 L 116.4 81.2 L 116.4 93.4 L 114.7 93.4 L 110.4 86.4 Q 109.9 85.5, 109.3 84.6 Q 108.8 83.6, 108.7 83.3 L 108.7 93.4 L 107.1 93.4 L 107.1 81.2 L 109.0 81.2 \" fill=\"#0000FF\"/>\n",
       "<path class=\"atom-5\" d=\"M 137.3 118.9 L 139.1 117.1 L 136.7 116.6 L 137.1 115.4 L 139.3 116.5 L 139.0 114.1 L 140.3 114.1 L 139.9 116.5 L 142.1 115.4 L 142.5 116.6 L 140.1 117.1 L 141.8 118.9 L 140.8 119.7 L 139.6 117.4 L 138.4 119.7 L 137.3 118.9 \" fill=\"#191919\"/>\n",
       "<path class=\"atom-7\" d=\"M 40.3 127.2 Q 40.3 124.3, 41.8 122.7 Q 43.2 121.0, 45.9 121.0 Q 48.6 121.0, 50.1 122.7 Q 51.5 124.3, 51.5 127.2 Q 51.5 130.2, 50.1 131.9 Q 48.6 133.6, 45.9 133.6 Q 43.2 133.6, 41.8 131.9 Q 40.3 130.2, 40.3 127.2 M 45.9 132.2 Q 47.8 132.2, 48.8 131.0 Q 49.8 129.7, 49.8 127.2 Q 49.8 124.8, 48.8 123.6 Q 47.8 122.4, 45.9 122.4 Q 44.1 122.4, 43.0 123.6 Q 42.0 124.8, 42.0 127.2 Q 42.0 129.7, 43.0 131.0 Q 44.1 132.2, 45.9 132.2 \" fill=\"#FF0000\"/>\n",
       "</svg>"
      ],
      "text/plain": [
       "<IPython.core.display.SVG object>"
      ]
     },
     "metadata": {},
     "output_type": "display_data"
    },
    {
     "data": {
      "image/svg+xml": [
       "<svg xmlns=\"http://www.w3.org/2000/svg\" xmlns:rdkit=\"http://www.rdkit.org/xml\" xmlns:xlink=\"http://www.w3.org/1999/xlink\" version=\"1.1\" baseProfile=\"full\" xml:space=\"preserve\" width=\"150px\" height=\"150px\" viewBox=\"0 0 150 150\">\n",
       "<!-- END OF HEADER -->\n",
       "<rect style=\"opacity:1.0;fill:#FFFFFF;stroke:none\" width=\"150.0\" height=\"150.0\" x=\"0.0\" y=\"0.0\"> </rect>\n",
       "<ellipse cx=\"48.5\" cy=\"35.0\" rx=\"6.5\" ry=\"6.5\" class=\"atom-1\" style=\"fill:#CCCCCC;fill-rule:evenodd;stroke:#CCCCCC;stroke-width:1.0px;stroke-linecap:butt;stroke-linejoin:miter;stroke-opacity:1\"/>\n",
       "<ellipse cx=\"73.3\" cy=\"14.0\" rx=\"6.5\" ry=\"6.5\" class=\"atom-2\" style=\"fill:#CCCCCC;fill-rule:evenodd;stroke:#CCCCCC;stroke-width:1.0px;stroke-linecap:butt;stroke-linejoin:miter;stroke-opacity:1\"/>\n",
       "<ellipse cx=\"101.0\" cy=\"31.1\" rx=\"6.5\" ry=\"6.5\" class=\"atom-3\" style=\"fill:#CCCCCC;fill-rule:evenodd;stroke:#CCCCCC;stroke-width:1.0px;stroke-linecap:butt;stroke-linejoin:miter;stroke-opacity:1\"/>\n",
       "<ellipse cx=\"93.2\" cy=\"62.7\" rx=\"6.5\" ry=\"6.5\" class=\"atom-5\" style=\"fill:#9999E5;fill-rule:evenodd;stroke:#9999E5;stroke-width:1.0px;stroke-linecap:butt;stroke-linejoin:miter;stroke-opacity:1\"/>\n",
       "<ellipse cx=\"103.2\" cy=\"118.1\" rx=\"6.5\" ry=\"6.5\" class=\"atom-7\" style=\"fill:#E5E533;fill-rule:evenodd;stroke:#E5E533;stroke-width:1.0px;stroke-linecap:butt;stroke-linejoin:miter;stroke-opacity:1\"/>\n",
       "<ellipse cx=\"60.8\" cy=\"65.1\" rx=\"6.5\" ry=\"6.5\" class=\"atom-9\" style=\"fill:#CCCCCC;fill-rule:evenodd;stroke:#CCCCCC;stroke-width:1.0px;stroke-linecap:butt;stroke-linejoin:miter;stroke-opacity:1\"/>\n",
       "<path class=\"bond-0 atom-0 atom-1\" d=\"M 19.4,27.9 L 48.5,35.0\" style=\"fill:none;fill-rule:evenodd;stroke:#E5E5E5;stroke-width:1.7px;stroke-linecap:butt;stroke-linejoin:miter;stroke-opacity:1\"/>\n",
       "<path class=\"bond-1 atom-1 atom-2\" d=\"M 48.5,35.0 L 69.3,17.4\" style=\"fill:none;fill-rule:evenodd;stroke:#E5E5E5;stroke-width:1.7px;stroke-linecap:butt;stroke-linejoin:miter;stroke-opacity:1\"/>\n",
       "<path class=\"bond-2 atom-2 atom-3\" d=\"M 77.3,16.5 L 89.1,23.8\" style=\"fill:none;fill-rule:evenodd;stroke:#CCCC00;stroke-width:2.0px;stroke-linecap:butt;stroke-linejoin:miter;stroke-opacity:1\"/>\n",
       "<path class=\"bond-2 atom-2 atom-3\" d=\"M 89.1,23.8 L 101.0,31.1\" style=\"fill:none;fill-rule:evenodd;stroke:#000000;stroke-width:2.0px;stroke-linecap:butt;stroke-linejoin:miter;stroke-opacity:1\"/>\n",
       "<path class=\"bond-3 atom-3 atom-4\" d=\"M 100.2,34.1 L 113.5,28.7\" style=\"fill:none;fill-rule:evenodd;stroke:#000000;stroke-width:2.0px;stroke-linecap:butt;stroke-linejoin:miter;stroke-opacity:1\"/>\n",
       "<path class=\"bond-3 atom-3 atom-4\" d=\"M 113.5,28.7 L 126.7,23.3\" style=\"fill:none;fill-rule:evenodd;stroke:#FF0000;stroke-width:2.0px;stroke-linecap:butt;stroke-linejoin:miter;stroke-opacity:1\"/>\n",
       "<path class=\"bond-3 atom-3 atom-4\" d=\"M 98.4,29.5 L 111.6,24.1\" style=\"fill:none;fill-rule:evenodd;stroke:#000000;stroke-width:2.0px;stroke-linecap:butt;stroke-linejoin:miter;stroke-opacity:1\"/>\n",
       "<path class=\"bond-3 atom-3 atom-4\" d=\"M 111.6,24.1 L 124.8,18.7\" style=\"fill:none;fill-rule:evenodd;stroke:#FF0000;stroke-width:2.0px;stroke-linecap:butt;stroke-linejoin:miter;stroke-opacity:1\"/>\n",
       "<path class=\"bond-4 atom-3 atom-5\" d=\"M 101.0,31.1 L 97.8,44.1\" style=\"fill:none;fill-rule:evenodd;stroke:#000000;stroke-width:2.0px;stroke-linecap:butt;stroke-linejoin:miter;stroke-opacity:1\"/>\n",
       "<path class=\"bond-4 atom-3 atom-5\" d=\"M 97.8,44.1 L 94.6,57.0\" style=\"fill:none;fill-rule:evenodd;stroke:#0000FF;stroke-width:2.0px;stroke-linecap:butt;stroke-linejoin:miter;stroke-opacity:1\"/>\n",
       "<path class=\"bond-5 atom-5 atom-6\" d=\"M 97.8,68.1 L 106.0,77.8\" style=\"fill:none;fill-rule:evenodd;stroke:#0000FF;stroke-width:2.0px;stroke-linecap:butt;stroke-linejoin:miter;stroke-opacity:1\"/>\n",
       "<path class=\"bond-5 atom-5 atom-6\" d=\"M 106.0,77.8 L 114.2,87.5\" style=\"fill:none;fill-rule:evenodd;stroke:#000000;stroke-width:2.0px;stroke-linecap:butt;stroke-linejoin:miter;stroke-opacity:1\"/>\n",
       "<path class=\"bond-6 atom-6 atom-7\" d=\"M 114.2,87.5 L 103.2,118.1\" style=\"fill:none;fill-rule:evenodd;stroke:#000000;stroke-width:2.0px;stroke-linecap:butt;stroke-linejoin:miter;stroke-opacity:1\"/>\n",
       "<path class=\"bond-7 atom-7 atom-8\" d=\"M 104.1,115.5 L 74.0,120.9\" style=\"fill:none;fill-rule:evenodd;stroke:#E5E5E5;stroke-width:1.7px;stroke-linecap:butt;stroke-linejoin:miter;stroke-opacity:1\"/>\n",
       "<path class=\"bond-7 atom-7 atom-8\" d=\"M 105.0,120.3 L 74.9,125.7\" style=\"fill:none;fill-rule:evenodd;stroke:#E5E5E5;stroke-width:1.7px;stroke-linecap:butt;stroke-linejoin:miter;stroke-opacity:1;stroke-dasharray:6,4\"/>\n",
       "<path class=\"bond-8 atom-5 atom-9\" d=\"M 88.6,63.0 L 74.7,64.1\" style=\"fill:none;fill-rule:evenodd;stroke:#0000FF;stroke-width:2.0px;stroke-linecap:butt;stroke-linejoin:miter;stroke-opacity:1\"/>\n",
       "<path class=\"bond-8 atom-5 atom-9\" d=\"M 74.7,64.1 L 60.8,65.1\" style=\"fill:none;fill-rule:evenodd;stroke:#000000;stroke-width:2.0px;stroke-linecap:butt;stroke-linejoin:miter;stroke-opacity:1\"/>\n",
       "<path class=\"bond-9 atom-9 atom-10\" d=\"M 59.6,62.3 L 52.4,74.0\" style=\"fill:none;fill-rule:evenodd;stroke:#000000;stroke-width:2.0px;stroke-linecap:butt;stroke-linejoin:miter;stroke-opacity:1\"/>\n",
       "<path class=\"bond-9 atom-9 atom-10\" d=\"M 52.4,74.0 L 45.1,85.7\" style=\"fill:none;fill-rule:evenodd;stroke:#FF0000;stroke-width:2.0px;stroke-linecap:butt;stroke-linejoin:miter;stroke-opacity:1\"/>\n",
       "<path class=\"bond-9 atom-9 atom-10\" d=\"M 63.8,64.9 L 56.5,76.6\" style=\"fill:none;fill-rule:evenodd;stroke:#000000;stroke-width:2.0px;stroke-linecap:butt;stroke-linejoin:miter;stroke-opacity:1\"/>\n",
       "<path class=\"bond-9 atom-9 atom-10\" d=\"M 56.5,76.6 L 49.3,88.3\" style=\"fill:none;fill-rule:evenodd;stroke:#FF0000;stroke-width:2.0px;stroke-linecap:butt;stroke-linejoin:miter;stroke-opacity:1\"/>\n",
       "<path class=\"bond-10 atom-9 atom-1\" d=\"M 60.8,65.1 L 48.5,35.0\" style=\"fill:none;fill-rule:evenodd;stroke:#000000;stroke-width:2.0px;stroke-linecap:butt;stroke-linejoin:miter;stroke-opacity:1\"/>\n",
       "<path class=\"bond-11 atom-11 atom-7\" d=\"M 119.1,140.7 L 100.4,118.6\" style=\"fill:none;fill-rule:evenodd;stroke:#E5E5E5;stroke-width:1.7px;stroke-linecap:butt;stroke-linejoin:miter;stroke-opacity:1\"/>\n",
       "<path class=\"bond-11 atom-11 atom-7\" d=\"M 122.8,137.5 L 104.1,115.5\" style=\"fill:none;fill-rule:evenodd;stroke:#E5E5E5;stroke-width:1.7px;stroke-linecap:butt;stroke-linejoin:miter;stroke-opacity:1;stroke-dasharray:6,4\"/>\n",
       "<path d=\"M 100.4,30.8 L 101.0,31.1 L 100.8,31.8\" style=\"fill:none;stroke:#000000;stroke-width:2.0px;stroke-linecap:butt;stroke-linejoin:miter;stroke-opacity:1;\"/>\n",
       "<path d=\"M 113.8,87.1 L 114.2,87.5 L 113.7,89.1\" style=\"fill:none;stroke:#000000;stroke-width:2.0px;stroke-linecap:butt;stroke-linejoin:miter;stroke-opacity:1;\"/>\n",
       "<path d=\"M 61.5,65.1 L 60.8,65.1 L 60.2,63.6\" style=\"fill:none;stroke:#000000;stroke-width:2.0px;stroke-linecap:butt;stroke-linejoin:miter;stroke-opacity:1;\"/>\n",
       "<path class=\"atom-0\" d=\"M 15.2 26.2 L 16.5 24.8 L 14.7 24.5 L 15.0 23.6 L 16.6 24.4 L 16.4 22.6 L 17.4 22.6 L 17.1 24.4 L 18.8 23.6 L 19.1 24.5 L 17.3 24.8 L 18.6 26.2 L 17.8 26.8 L 16.9 25.1 L 16.0 26.8 L 15.2 26.2 \" fill=\"#191919\"/>\n",
       "<path class=\"atom-2\" d=\"M 70.7 17.2 Q 70.8 17.2, 71.2 17.4 Q 71.7 17.6, 72.1 17.7 Q 72.6 17.8, 73.1 17.8 Q 74.0 17.8, 74.5 17.4 Q 75.0 16.9, 75.0 16.2 Q 75.0 15.7, 74.7 15.4 Q 74.5 15.1, 74.1 14.9 Q 73.7 14.7, 73.0 14.5 Q 72.2 14.3, 71.7 14.1 Q 71.2 13.8, 70.9 13.3 Q 70.6 12.8, 70.6 12.0 Q 70.6 10.8, 71.3 10.1 Q 72.1 9.4, 73.7 9.4 Q 74.8 9.4, 76.0 9.9 L 75.7 10.9 Q 74.6 10.5, 73.7 10.5 Q 72.8 10.5, 72.3 10.8 Q 71.8 11.2, 71.9 11.8 Q 71.9 12.3, 72.1 12.6 Q 72.4 12.9, 72.7 13.1 Q 73.1 13.3, 73.7 13.5 Q 74.6 13.7, 75.1 14.0 Q 75.5 14.3, 75.9 14.8 Q 76.3 15.3, 76.3 16.2 Q 76.3 17.5, 75.4 18.2 Q 74.6 18.8, 73.1 18.8 Q 72.3 18.8, 71.7 18.7 Q 71.1 18.5, 70.4 18.2 L 70.7 17.2 \" fill=\"#CCCC00\"/>\n",
       "<path class=\"atom-4\" d=\"M 126.8 18.9 Q 126.8 16.6, 127.9 15.4 Q 129.0 14.2, 131.1 14.2 Q 133.1 14.2, 134.2 15.4 Q 135.3 16.6, 135.3 18.9 Q 135.3 21.1, 134.2 22.4 Q 133.1 23.6, 131.1 23.6 Q 129.0 23.6, 127.9 22.4 Q 126.8 21.1, 126.8 18.9 M 131.1 22.6 Q 132.5 22.6, 133.2 21.7 Q 134.0 20.7, 134.0 18.9 Q 134.0 17.1, 133.2 16.1 Q 132.5 15.2, 131.1 15.2 Q 129.6 15.2, 128.9 16.1 Q 128.1 17.0, 128.1 18.9 Q 128.1 20.7, 128.9 21.7 Q 129.6 22.6, 131.1 22.6 \" fill=\"#FF0000\"/>\n",
       "<path class=\"atom-5\" d=\"M 91.2 58.1 L 94.2 63.0 Q 94.5 63.5, 95.0 64.3 Q 95.4 65.2, 95.5 65.3 L 95.5 58.1 L 96.7 58.1 L 96.7 67.3 L 95.4 67.3 L 92.2 62.0 Q 91.8 61.4, 91.4 60.6 Q 91.0 59.9, 90.9 59.7 L 90.9 67.3 L 89.7 67.3 L 89.7 58.1 L 91.2 58.1 \" fill=\"#0000FF\"/>\n",
       "<path class=\"atom-8\" d=\"M 69.5 122.9 L 70.8 121.5 L 69.0 121.1 L 69.3 120.2 L 70.9 121.0 L 70.7 119.2 L 71.7 119.2 L 71.4 121.0 L 73.1 120.3 L 73.4 121.1 L 71.6 121.5 L 72.9 122.9 L 72.1 123.4 L 71.2 121.7 L 70.3 123.4 L 69.5 122.9 \" fill=\"#191919\"/>\n",
       "<path class=\"atom-10\" d=\"M 39.4 92.8 Q 39.4 90.6, 40.5 89.3 Q 41.6 88.1, 43.6 88.1 Q 45.7 88.1, 46.8 89.3 Q 47.9 90.6, 47.9 92.8 Q 47.9 95.0, 46.8 96.3 Q 45.7 97.5, 43.6 97.5 Q 41.6 97.5, 40.5 96.3 Q 39.4 95.0, 39.4 92.8 M 43.6 96.5 Q 45.1 96.5, 45.8 95.6 Q 46.6 94.6, 46.6 92.8 Q 46.6 91.0, 45.8 90.1 Q 45.1 89.1, 43.6 89.1 Q 42.2 89.1, 41.5 90.0 Q 40.7 90.9, 40.7 92.8 Q 40.7 94.6, 41.5 95.6 Q 42.2 96.5, 43.6 96.5 \" fill=\"#FF0000\"/>\n",
       "<path class=\"atom-11\" d=\"M 122.5 141.9 L 123.8 140.6 L 122.0 140.2 L 122.3 139.3 L 123.9 140.1 L 123.7 138.3 L 124.7 138.3 L 124.4 140.1 L 126.1 139.3 L 126.4 140.2 L 124.5 140.5 L 125.9 141.9 L 125.1 142.5 L 124.2 140.8 L 123.2 142.5 L 122.5 141.9 \" fill=\"#191919\"/>\n",
       "</svg>"
      ],
      "text/plain": [
       "<IPython.core.display.SVG object>"
      ]
     },
     "metadata": {},
     "output_type": "display_data"
    },
    {
     "data": {
      "image/svg+xml": [
       "<svg xmlns=\"http://www.w3.org/2000/svg\" xmlns:rdkit=\"http://www.rdkit.org/xml\" xmlns:xlink=\"http://www.w3.org/1999/xlink\" version=\"1.1\" baseProfile=\"full\" xml:space=\"preserve\" width=\"150px\" height=\"150px\" viewBox=\"0 0 150 150\">\n",
       "<!-- END OF HEADER -->\n",
       "<rect style=\"opacity:1.0;fill:#FFFFFF;stroke:none\" width=\"150.0\" height=\"150.0\" x=\"0.0\" y=\"0.0\"> </rect>\n",
       "<ellipse cx=\"13.7\" cy=\"80.6\" rx=\"6.2\" ry=\"6.2\" class=\"atom-1\" style=\"fill:#E5E533;fill-rule:evenodd;stroke:#E5E533;stroke-width:1.0px;stroke-linecap:butt;stroke-linejoin:miter;stroke-opacity:1\"/>\n",
       "<ellipse cx=\"35.1\" cy=\"58.2\" rx=\"6.2\" ry=\"6.2\" class=\"atom-2\" style=\"fill:#E5E533;fill-rule:evenodd;stroke:#E5E533;stroke-width:1.0px;stroke-linecap:butt;stroke-linejoin:miter;stroke-opacity:1\"/>\n",
       "<ellipse cx=\"65.2\" cy=\"65.6\" rx=\"6.2\" ry=\"6.2\" class=\"atom-3\" style=\"fill:#9999E5;fill-rule:evenodd;stroke:#9999E5;stroke-width:1.0px;stroke-linecap:butt;stroke-linejoin:miter;stroke-opacity:1\"/>\n",
       "<ellipse cx=\"116.8\" cy=\"50.6\" rx=\"6.2\" ry=\"6.2\" class=\"atom-5\" style=\"fill:#CCCCCC;fill-rule:evenodd;stroke:#CCCCCC;stroke-width:1.0px;stroke-linecap:butt;stroke-linejoin:miter;stroke-opacity:1\"/>\n",
       "<ellipse cx=\"73.9\" cy=\"95.3\" rx=\"6.2\" ry=\"6.2\" class=\"atom-7\" style=\"fill:#E5E533;fill-rule:evenodd;stroke:#E5E533;stroke-width:1.0px;stroke-linecap:butt;stroke-linejoin:miter;stroke-opacity:1\"/>\n",
       "<ellipse cx=\"52.4\" cy=\"117.7\" rx=\"6.2\" ry=\"6.2\" class=\"atom-8\" style=\"fill:#E5E533;fill-rule:evenodd;stroke:#E5E533;stroke-width:1.0px;stroke-linecap:butt;stroke-linejoin:miter;stroke-opacity:1\"/>\n",
       "<path class=\"bond-0 atom-0 atom-1\" d=\"M 20.8,104.8 L 13.7,80.6\" style=\"fill:none;fill-rule:evenodd;stroke:#E5E5E5;stroke-width:1.7px;stroke-linecap:butt;stroke-linejoin:miter;stroke-opacity:1\"/>\n",
       "<path class=\"bond-0 atom-0 atom-1\" d=\"M 25.2,103.5 L 18.9,81.8\" style=\"fill:none;fill-rule:evenodd;stroke:#E5E5E5;stroke-width:1.7px;stroke-linecap:butt;stroke-linejoin:miter;stroke-opacity:1\"/>\n",
       "<path class=\"bond-1 atom-1 atom-2\" d=\"M 13.7,80.6 L 35.1,58.2\" style=\"fill:none;fill-rule:evenodd;stroke:#000000;stroke-width:2.0px;stroke-linecap:butt;stroke-linejoin:miter;stroke-opacity:1\"/>\n",
       "<path class=\"bond-2 atom-2 atom-3\" d=\"M 35.1,58.2 L 65.2,65.6\" style=\"fill:none;fill-rule:evenodd;stroke:#000000;stroke-width:2.0px;stroke-linecap:butt;stroke-linejoin:miter;stroke-opacity:1\"/>\n",
       "<path class=\"bond-2 atom-2 atom-3\" d=\"M 36.6,63.3 L 61.5,69.4\" style=\"fill:none;fill-rule:evenodd;stroke:#000000;stroke-width:2.0px;stroke-linecap:butt;stroke-linejoin:miter;stroke-opacity:1\"/>\n",
       "<path class=\"bond-3 atom-3 atom-4\" d=\"M 65.2,65.6 L 73.8,56.7\" style=\"fill:none;fill-rule:evenodd;stroke:#000000;stroke-width:2.0px;stroke-linecap:butt;stroke-linejoin:miter;stroke-opacity:1\"/>\n",
       "<path class=\"bond-3 atom-3 atom-4\" d=\"M 73.8,56.7 L 82.3,47.7\" style=\"fill:none;fill-rule:evenodd;stroke:#0000FF;stroke-width:2.0px;stroke-linecap:butt;stroke-linejoin:miter;stroke-opacity:1\"/>\n",
       "<path class=\"bond-4 atom-4 atom-5\" d=\"M 91.0,44.3 L 103.9,47.4\" style=\"fill:none;fill-rule:evenodd;stroke:#0000FF;stroke-width:2.0px;stroke-linecap:butt;stroke-linejoin:miter;stroke-opacity:1\"/>\n",
       "<path class=\"bond-4 atom-4 atom-5\" d=\"M 103.9,47.4 L 116.8,50.6\" style=\"fill:none;fill-rule:evenodd;stroke:#000000;stroke-width:2.0px;stroke-linecap:butt;stroke-linejoin:miter;stroke-opacity:1\"/>\n",
       "<path class=\"bond-5 atom-5 atom-6\" d=\"M 116.8,50.6 L 139.7,31.1\" style=\"fill:none;fill-rule:evenodd;stroke:#E5E5E5;stroke-width:1.7px;stroke-linecap:butt;stroke-linejoin:miter;stroke-opacity:1\"/>\n",
       "<path class=\"bond-6 atom-3 atom-7\" d=\"M 65.2,65.6 L 73.9,95.3\" style=\"fill:none;fill-rule:evenodd;stroke:#000000;stroke-width:2.0px;stroke-linecap:butt;stroke-linejoin:miter;stroke-opacity:1\"/>\n",
       "<path class=\"bond-7 atom-7 atom-8\" d=\"M 73.9,95.3 L 52.4,117.7\" style=\"fill:none;fill-rule:evenodd;stroke:#000000;stroke-width:2.0px;stroke-linecap:butt;stroke-linejoin:miter;stroke-opacity:1\"/>\n",
       "<path class=\"bond-7 atom-7 atom-8\" d=\"M 68.7,94.0 L 50.9,112.5\" style=\"fill:none;fill-rule:evenodd;stroke:#000000;stroke-width:2.0px;stroke-linecap:butt;stroke-linejoin:miter;stroke-opacity:1\"/>\n",
       "<path class=\"bond-8 atom-8 atom-0\" d=\"M 52.4,117.7 L 24.7,110.9\" style=\"fill:none;fill-rule:evenodd;stroke:#E5E5E5;stroke-width:1.7px;stroke-linecap:butt;stroke-linejoin:miter;stroke-opacity:1\"/>\n",
       "<path class=\"bond-9 atom-9 atom-5\" d=\"M 126.2,73.8 L 116.8,50.6\" style=\"fill:none;fill-rule:evenodd;stroke:#E5E5E5;stroke-width:1.7px;stroke-linecap:butt;stroke-linejoin:miter;stroke-opacity:1\"/>\n",
       "<path d=\"M 13.9,81.2 L 13.7,80.6 L 14.2,80.0\" style=\"fill:none;stroke:#E5E5E5;stroke-width:1.7px;stroke-linecap:butt;stroke-linejoin:miter;stroke-opacity:1;\"/>\n",
       "<path d=\"M 34.1,59.3 L 35.1,58.2 L 36.6,58.6\" style=\"fill:none;stroke:#000000;stroke-width:2.0px;stroke-linecap:butt;stroke-linejoin:miter;stroke-opacity:1;\"/>\n",
       "<path d=\"M 73.5,93.8 L 73.9,95.3 L 72.8,96.4\" style=\"fill:none;stroke:#000000;stroke-width:2.0px;stroke-linecap:butt;stroke-linejoin:miter;stroke-opacity:1;\"/>\n",
       "<path d=\"M 53.0,117.1 L 52.4,117.7 L 51.8,117.5\" style=\"fill:none;stroke:#000000;stroke-width:2.0px;stroke-linecap:butt;stroke-linejoin:miter;stroke-opacity:1;\"/>\n",
       "<path class=\"atom-0\" d=\"M 20.7 109.3 L 22.0 108.0 L 20.3 107.7 L 20.5 106.8 L 22.1 107.6 L 21.9 105.9 L 22.8 105.8 L 22.6 107.6 L 24.2 106.8 L 24.4 107.7 L 22.7 108.0 L 23.9 109.3 L 23.2 109.9 L 22.3 108.2 L 21.5 109.9 L 20.7 109.3 \" fill=\"#191919\"/>\n",
       "<path class=\"atom-4\" d=\"M 84.7 38.8 L 87.6 43.5 Q 87.9 43.9, 88.3 44.7 Q 88.8 45.6, 88.8 45.6 L 88.8 38.8 L 90.0 38.8 L 90.0 47.6 L 88.8 47.6 L 85.7 42.5 Q 85.3 41.9, 85.0 41.2 Q 84.6 40.5, 84.5 40.3 L 84.5 47.6 L 83.3 47.6 L 83.3 38.8 L 84.7 38.8 \" fill=\"#0000FF\"/>\n",
       "<path class=\"atom-4\" d=\"M 83.2 29.2 L 84.4 29.2 L 84.4 32.9 L 88.9 32.9 L 88.9 29.2 L 90.1 29.2 L 90.1 37.9 L 88.9 37.9 L 88.9 33.9 L 84.4 33.9 L 84.4 37.9 L 83.2 37.9 L 83.2 29.2 \" fill=\"#0000FF\"/>\n",
       "<path class=\"atom-6\" d=\"M 138.8 29.6 L 140.1 28.3 L 138.3 27.9 L 138.6 27.1 L 140.2 27.8 L 140.0 26.1 L 140.9 26.1 L 140.6 27.8 L 142.2 27.1 L 142.5 27.9 L 140.8 28.3 L 142.0 29.6 L 141.2 30.1 L 140.4 28.5 L 139.5 30.1 L 138.8 29.6 \" fill=\"#191919\"/>\n",
       "<path class=\"atom-9\" d=\"M 126.8 78.3 L 128.1 77.0 L 126.4 76.6 L 126.7 75.7 L 128.2 76.5 L 128.0 74.8 L 128.9 74.8 L 128.7 76.5 L 130.3 75.8 L 130.6 76.6 L 128.8 76.9 L 130.1 78.3 L 129.3 78.8 L 128.4 77.2 L 127.6 78.8 L 126.8 78.3 \" fill=\"#191919\"/>\n",
       "</svg>"
      ],
      "text/plain": [
       "<IPython.core.display.SVG object>"
      ]
     },
     "metadata": {},
     "output_type": "display_data"
    },
    {
     "data": {
      "image/svg+xml": [
       "<svg xmlns=\"http://www.w3.org/2000/svg\" xmlns:rdkit=\"http://www.rdkit.org/xml\" xmlns:xlink=\"http://www.w3.org/1999/xlink\" version=\"1.1\" baseProfile=\"full\" xml:space=\"preserve\" width=\"150px\" height=\"150px\" viewBox=\"0 0 150 150\">\n",
       "<!-- END OF HEADER -->\n",
       "<rect style=\"opacity:1.0;fill:#FFFFFF;stroke:none\" width=\"150.0\" height=\"150.0\" x=\"0.0\" y=\"0.0\"> </rect>\n",
       "<ellipse cx=\"85.5\" cy=\"100.0\" rx=\"15.0\" ry=\"15.0\" class=\"atom-1\" style=\"fill:#9999E5;fill-rule:evenodd;stroke:#9999E5;stroke-width:1.0px;stroke-linecap:butt;stroke-linejoin:miter;stroke-opacity:1\"/>\n",
       "<path class=\"bond-0 atom-0 atom-1\" d=\"M 18.2,83.5 L 85.5,100.0\" style=\"fill:none;fill-rule:evenodd;stroke:#E5E5E5;stroke-width:4.0px;stroke-linecap:butt;stroke-linejoin:miter;stroke-opacity:1\"/>\n",
       "<path class=\"bond-1 atom-1 atom-2\" d=\"M 85.5,100.0 L 136.1,47.2\" style=\"fill:none;fill-rule:evenodd;stroke:#E5E5E5;stroke-width:4.0px;stroke-linecap:butt;stroke-linejoin:miter;stroke-opacity:1\"/>\n",
       "<path d=\"M 82.1,99.2 L 85.5,100.0 L 88.0,97.4\" style=\"fill:none;stroke:#E5E5E5;stroke-width:4.0px;stroke-linecap:butt;stroke-linejoin:miter;stroke-opacity:1;\"/>\n",
       "<path class=\"atom-0\" d=\"M 8.5 79.7 L 11.6 76.6 L 7.5 75.7 L 8.1 73.6 L 11.9 75.5 L 11.4 71.3 L 13.7 71.3 L 13.0 75.5 L 16.9 73.7 L 17.6 75.7 L 13.4 76.5 L 16.4 79.7 L 14.5 81.0 L 12.5 77.1 L 10.4 81.0 L 8.5 79.7 \" fill=\"#191919\"/>\n",
       "<path class=\"atom-2\" d=\"M 133.5 43.4 L 136.6 40.2 L 132.4 39.4 L 133.1 37.2 L 136.9 39.2 L 136.3 35.0 L 138.6 35.0 L 138.0 39.1 L 141.8 37.3 L 142.5 39.4 L 138.3 40.2 L 141.3 43.4 L 139.5 44.7 L 137.4 40.7 L 135.3 44.7 L 133.5 43.4 \" fill=\"#191919\"/>\n",
       "</svg>"
      ],
      "text/plain": [
       "<IPython.core.display.SVG object>"
      ]
     },
     "metadata": {},
     "output_type": "display_data"
    },
    {
     "data": {
      "image/svg+xml": [
       "<svg xmlns=\"http://www.w3.org/2000/svg\" xmlns:rdkit=\"http://www.rdkit.org/xml\" xmlns:xlink=\"http://www.w3.org/1999/xlink\" version=\"1.1\" baseProfile=\"full\" xml:space=\"preserve\" width=\"150px\" height=\"150px\" viewBox=\"0 0 150 150\">\n",
       "<!-- END OF HEADER -->\n",
       "<rect style=\"opacity:1.0;fill:#FFFFFF;stroke:none\" width=\"150.0\" height=\"150.0\" x=\"0.0\" y=\"0.0\"> </rect>\n",
       "<ellipse cx=\"75.0\" cy=\"89.0\" rx=\"7.8\" ry=\"7.8\" class=\"atom-2\" style=\"fill:#9999E5;fill-rule:evenodd;stroke:#9999E5;stroke-width:1.0px;stroke-linecap:butt;stroke-linejoin:miter;stroke-opacity:1\"/>\n",
       "<ellipse cx=\"102.0\" cy=\"60.8\" rx=\"7.8\" ry=\"7.8\" class=\"atom-4\" style=\"fill:#E5E533;fill-rule:evenodd;stroke:#E5E533;stroke-width:1.0px;stroke-linecap:butt;stroke-linejoin:miter;stroke-opacity:1\"/>\n",
       "<path class=\"bond-0 atom-0 atom-1\" d=\"M 14.0,103.8 L 30.7,86.4\" style=\"fill:none;fill-rule:evenodd;stroke:#E5E5E5;stroke-width:2.1px;stroke-linecap:butt;stroke-linejoin:miter;stroke-opacity:1\"/>\n",
       "<path class=\"bond-1 atom-1 atom-2\" d=\"M 43.5,81.3 L 59.2,85.1\" style=\"fill:none;fill-rule:evenodd;stroke:#FF0000;stroke-width:2.0px;stroke-linecap:butt;stroke-linejoin:miter;stroke-opacity:1\"/>\n",
       "<path class=\"bond-1 atom-1 atom-2\" d=\"M 59.2,85.1 L 75.0,89.0\" style=\"fill:none;fill-rule:evenodd;stroke:#000000;stroke-width:2.0px;stroke-linecap:butt;stroke-linejoin:miter;stroke-opacity:1\"/>\n",
       "<path class=\"bond-2 atom-2 atom-3\" d=\"M 71.7,88.2 L 76.4,104.3\" style=\"fill:none;fill-rule:evenodd;stroke:#000000;stroke-width:2.0px;stroke-linecap:butt;stroke-linejoin:miter;stroke-opacity:1\"/>\n",
       "<path class=\"bond-2 atom-2 atom-3\" d=\"M 76.4,104.3 L 81.1,120.4\" style=\"fill:none;fill-rule:evenodd;stroke:#FF0000;stroke-width:2.0px;stroke-linecap:butt;stroke-linejoin:miter;stroke-opacity:1\"/>\n",
       "<path class=\"bond-2 atom-2 atom-3\" d=\"M 77.3,86.6 L 82.0,102.7\" style=\"fill:none;fill-rule:evenodd;stroke:#000000;stroke-width:2.0px;stroke-linecap:butt;stroke-linejoin:miter;stroke-opacity:1\"/>\n",
       "<path class=\"bond-2 atom-2 atom-3\" d=\"M 82.0,102.7 L 86.7,118.8\" style=\"fill:none;fill-rule:evenodd;stroke:#FF0000;stroke-width:2.0px;stroke-linecap:butt;stroke-linejoin:miter;stroke-opacity:1\"/>\n",
       "<path class=\"bond-3 atom-2 atom-4\" d=\"M 75.0,89.0 L 102.0,60.8\" style=\"fill:none;fill-rule:evenodd;stroke:#000000;stroke-width:2.0px;stroke-linecap:butt;stroke-linejoin:miter;stroke-opacity:1\"/>\n",
       "<path class=\"bond-4 atom-4 atom-5\" d=\"M 105.3,61.7 L 94.1,23.3\" style=\"fill:none;fill-rule:evenodd;stroke:#E5E5E5;stroke-width:2.1px;stroke-linecap:butt;stroke-linejoin:miter;stroke-opacity:1\"/>\n",
       "<path class=\"bond-4 atom-4 atom-5\" d=\"M 99.7,63.3 L 88.5,24.9\" style=\"fill:none;fill-rule:evenodd;stroke:#E5E5E5;stroke-width:2.1px;stroke-linecap:butt;stroke-linejoin:miter;stroke-opacity:1;stroke-dasharray:6,4\"/>\n",
       "<path class=\"bond-5 atom-6 atom-4\" d=\"M 135.3,72.0 L 99.7,63.3\" style=\"fill:none;fill-rule:evenodd;stroke:#E5E5E5;stroke-width:2.1px;stroke-linecap:butt;stroke-linejoin:miter;stroke-opacity:1\"/>\n",
       "<path class=\"bond-5 atom-6 atom-4\" d=\"M 136.7,66.3 L 101.1,57.6\" style=\"fill:none;fill-rule:evenodd;stroke:#E5E5E5;stroke-width:2.1px;stroke-linecap:butt;stroke-linejoin:miter;stroke-opacity:1;stroke-dasharray:6,4\"/>\n",
       "<path d=\"M 74.2,88.8 L 75.0,89.0 L 76.3,87.6\" style=\"fill:none;stroke:#000000;stroke-width:2.0px;stroke-linecap:butt;stroke-linejoin:miter;stroke-opacity:1;\"/>\n",
       "<path class=\"atom-0\" d=\"M 8.0 106.7 L 9.7 105.0 L 7.5 104.6 L 7.8 103.5 L 9.8 104.5 L 9.5 102.3 L 10.7 102.3 L 10.4 104.4 L 12.4 103.5 L 12.7 104.6 L 10.5 105.0 L 12.1 106.6 L 11.2 107.3 L 10.1 105.3 L 9.0 107.3 L 8.0 106.7 \" fill=\"#191919\"/>\n",
       "<path class=\"atom-1\" d=\"M 32.0 79.8 Q 32.0 77.1, 33.3 75.6 Q 34.7 74.1, 37.1 74.1 Q 39.6 74.1, 40.9 75.6 Q 42.2 77.1, 42.2 79.8 Q 42.2 82.4, 40.9 84.0 Q 39.5 85.5, 37.1 85.5 Q 34.7 85.5, 33.3 84.0 Q 32.0 82.5, 32.0 79.8 M 37.1 84.2 Q 38.8 84.2, 39.7 83.1 Q 40.6 82.0, 40.6 79.8 Q 40.6 77.6, 39.7 76.5 Q 38.8 75.4, 37.1 75.4 Q 35.4 75.4, 34.5 76.5 Q 33.6 77.6, 33.6 79.8 Q 33.6 82.0, 34.5 83.1 Q 35.4 84.2, 37.1 84.2 \" fill=\"#FF0000\"/>\n",
       "<path class=\"atom-3\" d=\"M 80.8 126.5 Q 80.8 123.9, 82.1 122.4 Q 83.4 120.9, 85.9 120.9 Q 88.3 120.9, 89.7 122.4 Q 91.0 123.9, 91.0 126.5 Q 91.0 129.2, 89.6 130.7 Q 88.3 132.2, 85.9 132.2 Q 83.5 132.2, 82.1 130.7 Q 80.8 129.2, 80.8 126.5 M 85.9 131.0 Q 87.6 131.0, 88.5 129.9 Q 89.4 128.7, 89.4 126.5 Q 89.4 124.3, 88.5 123.2 Q 87.6 122.1, 85.9 122.1 Q 84.2 122.1, 83.3 123.2 Q 82.4 124.3, 82.4 126.5 Q 82.4 128.7, 83.3 129.9 Q 84.2 131.0, 85.9 131.0 \" fill=\"#FF0000\"/>\n",
       "<path class=\"atom-5\" d=\"M 89.0 22.2 L 90.6 20.5 L 88.5 20.1 L 88.8 19.0 L 90.8 20.0 L 90.5 17.8 L 91.7 17.8 L 91.4 19.9 L 93.4 19.0 L 93.7 20.1 L 91.5 20.5 L 93.1 22.1 L 92.1 22.8 L 91.1 20.8 L 90.0 22.8 L 89.0 22.2 \" fill=\"#191919\"/>\n",
       "<path class=\"atom-6\" d=\"M 137.8 68.9 L 139.4 67.3 L 137.3 66.8 L 137.6 65.7 L 139.6 66.7 L 139.3 64.5 L 140.5 64.5 L 140.1 66.7 L 142.2 65.8 L 142.5 66.8 L 140.3 67.2 L 141.9 68.9 L 140.9 69.6 L 139.8 67.5 L 138.8 69.6 L 137.8 68.9 \" fill=\"#191919\"/>\n",
       "</svg>"
      ],
      "text/plain": [
       "<IPython.core.display.SVG object>"
      ]
     },
     "metadata": {},
     "output_type": "display_data"
    }
   ],
   "source": [
    "display(*example_bits)"
   ]
  },
  {
   "cell_type": "markdown",
   "metadata": {},
   "source": [
    "We package this into a nice figure for ease of viewing."
   ]
  },
  {
   "cell_type": "markdown",
   "metadata": {},
   "source": [
    "![UN08](./figures/L01_UN08_Flynn.svg)"
   ]
  },
  {
   "cell_type": "markdown",
   "metadata": {},
   "source": [
    "## Similarity Searching\n",
    "\n",
    "### Defining \"Similarity\"\n",
    "\n",
    "If we take two molecules, we can think of their fingerprints as representing the coordinates of two different data points in a fingerprint feature space. Tanimoto similarity and Dice similarity are two similarity coefficients commonly used to quantify the similarity between sets or binary data, e.g., fingerprints.\n",
    "\n",
    "<mark>Tanimoto similarity (also known as Jaccard similarity) is a measure of similarity between two sets, A and B, and is calculated as the ratio of the size of their intersection to the size of their union. In the context of binary vectors, Tanimoto similarity is calculated as the number of common non-zero elements divided by the total number of non-zero elements in both vectors.\n",
    "\n",
    "<mark>Dice similarity is another measure of similarity between two sets, A and B. It's calculated as twice the size of their intersection divided by the sum of the sizes of the individual sets. For binary vectors, Dice similarity measures the proportion of common non-zero elements relative to the total number of non-zero elements summed across both vectors. \n",
    "\n",
    "Mathematically, Tanimoto similarity (T) and Dice similarity (D) are illustrated in the figure below.\n",
    "\n",
    "Both Tanimoto similarity and Dice similarity range from 0 to 1, where 0 indicates no similarity and 1 indicates complete similarity between the sets or vectors being compared. Note that a similarity of 1 does not indicate that the two molecules are the same. The Daylight manual provides a quick reference to other common similarity measures.\n",
    "\n",
    "![UN09](./figures/L01_UN09_Flynn.svg)"
   ]
  },
  {
   "cell_type": "markdown",
   "metadata": {},
   "source": [
    "Before we commence a similarity search across all 400 Malaria Box compounds, we familiarize ourselves with the behavior of Tanimoto and Dice similarities computed between our remaining compound library and a single Malaria Box compound as a query. The following figure shows the extremes – the 3 most similar molecules to the query and the 3 least similar molecules. We can clearly notice a difference in the structures for the 3 most similar molecules and the 3 least similar molecules, where the latter look nothing like the query. In this case, Tanimoto and Dice similarity metrics result in the same molecules at the extremes, though the magnitude of similarity differs. From these few examples, it seems that the Dice coefficient results in higher similarity scores."
   ]
  },
  {
   "cell_type": "code",
   "execution_count": 60,
   "metadata": {},
   "outputs": [],
   "source": [
    "malaria_box = pd.read_excel(\"data/MalariaBox400compoundsDec2014.xls\", usecols=[\"HEOS_COMPOUND_ID\", \"Smiles\"])\n",
    "PandasTools.AddMoleculeColumnToFrame(malaria_box, 'Smiles', 'mol')\n",
    "malaria_box[\"morgan_fp_r2_b2048\"] = malaria_box[\"mol\"].apply(compute_fingerprint, r=2, nBits=2048)\n",
    "\n",
    "query = malaria_box.morgan_fp_r2_b2048.iloc[236]\n",
    "mols = specs_filtered.morgan_fp_r2_b2048.tolist()\n",
    "\n",
    "specs_filtered[\"tanimoto_sim\"] = DataStructs.BulkTanimotoSimilarity(query, mols)\n",
    "specs_filtered[\"dice_sim\"] = DataStructs.BulkDiceSimilarity(query, mols)"
   ]
  },
  {
   "cell_type": "markdown",
   "metadata": {},
   "source": [
    "![UN10](./figures/L01_UN10_Flynn.svg)"
   ]
  },
  {
   "cell_type": "markdown",
   "metadata": {},
   "source": [
    "### Exercise 2: Fingerprint Similarity Metrics\n",
    "\n",
    "We computed Tanimoto and Dice similarity coefficients. Pick another similarity coefficient mentioned in the referenced article from the Daylight manual: https://www.daylight.com/dayhtml/doc/theory/theory.finger.html (see section 6.3).\n",
    "\n",
    "How does your chosen similarity coefficient differ from Tanimoto and Dice similarity? Does it result in similarity scores that tend to be greater or smaller than Tanimoto similarity? You can modify the plotting code below to visualize the relative difference w.r.t. Tanimoto similarity."
   ]
  },
  {
   "cell_type": "markdown",
   "metadata": {},
   "source": [
    "### Student Solution to Exercise 2\n",
    "\n",
    "The tanimoto vs. dice similiarity and tanimoto vs. cosine similiarity seem to follow the same trend when comparing their dot plots. \n",
    "Therefore, the cosine similiarity results in slightly higher scores than Tanimoto. "
   ]
  },
  {
   "cell_type": "code",
   "execution_count": 61,
   "metadata": {},
   "outputs": [
    {
     "data": {
      "text/plain": [
       "<Figure size 640x480 with 0 Axes>"
      ]
     },
     "metadata": {},
     "output_type": "display_data"
    },
    {
     "data": {
      "image/png": "[encoded data removed]",
      "text/plain": [
       "<Figure size 500x500 with 6 Axes>"
      ]
     },
     "metadata": {},
     "output_type": "display_data"
    }
   ],
   "source": [
    "# TODO: Student to provide solution below\n",
    "specs_filtered[\"cos_sim\"] = DataStructs.BulkCosineSimilarity(query, mols)\n",
    "\n",
    "malaria_box = pd.read_excel(\"data/MalariaBox400compoundsDec2014.xls\", usecols=[\"HEOS_COMPOUND_ID\", \"Smiles\"])\n",
    "PandasTools.AddMoleculeColumnToFrame(malaria_box, 'Smiles', 'mol')\n",
    "malaria_box[\"morgan_fp_r2_b2048\"] = malaria_box[\"mol\"].apply(compute_fingerprint, r=2, nBits=2048)\n",
    "\n",
    "#The tanimoto vs. dice similiarity and tanimoto vs. cosine similiarity seem to follow the same trend when comparing their dot plots. \n",
    "#Therefore, the cosine similiarity results in slightly higher scores than Tanimoto. \n",
    "\n",
    "# Plotting code you can modify and re-use (swap out \"dice_sim\" for your chosen similarity metric)\n",
    "plt.figure()\n",
    "sns.pairplot(specs_filtered[[\"tanimoto_sim\", \"cos_sim\"]])\n",
    "plt.tight_layout()"
   ]
  },
  {
   "cell_type": "markdown",
   "metadata": {},
   "source": [
    "### Influence of similarity metric on scoring\n",
    "\n",
    "Choice of a similarity score threshold is dependent on the similarity measure. We can plot the distribution of both Tanimoto and Dice similarity scores against each other to check if this trend generalizes. The below figure shows the relationship is nearly linear and confirms that the Dice similarity score is greater than or equal to Tanimoto similarity score for each molecule in our library. If we were to choose a similarity threshold, e.g., 0.65, we may expect that more molecules will register as hits in our similarity search if we use the Dice similarity metric instead of the Tanimoto similarity metric. "
   ]
  },
  {
   "cell_type": "markdown",
   "metadata": {},
   "source": [
    "![UN11](./figures/L01_UN11_Flynn.png)"
   ]
  },
  {
   "cell_type": "markdown",
   "metadata": {},
   "source": [
    "Beyond dependence on the similarity metric used, <mark>similarity search results are also highly dependent on the chosen descriptors or features used to represent each molecule.</mark> These factors can cause the search to be too conservative, only returning compounds that are too similar to the reference compound, or too loose such that too many false positive hits are retained. Regarding the former, hits that are so similar that they share common substructures with our reference compounds may not be patentability.\n",
    "\n",
    "One rule-of-thumb is that a <mark>Tanimoto similarity of 0.85</mark> corresponds to equivalent biological activity for drug-like molecules. Depending on context of the overall drug discovery project or the specific biological process being modeled, <mark>acceptable thresholds can be lower (e.g., 0.65) or higher (e.g., 0.9) and we recommend consulting related literature</mark> for a given problem domain to understand precedence set by prior work. In our case, we’ll count a hit as a molecule in our library that has at least one match against a query with a Dice similarity score of at least 0.65. "
   ]
  },
  {
   "cell_type": "markdown",
   "metadata": {},
   "source": [
    "Our similarity search (below) discovered 1,892 suitable molecules based on our similarity criteria. Commonly, we may be limited further by a pre-defined budget of how many molecules we can afford to screen in downstream processes. Let’s suppose we our limited by a budget of 1000 molecules and conduct a brute-force search to retain the top 1000 molecules by similarity score."
   ]
  },
  {
   "cell_type": "code",
   "execution_count": 62,
   "metadata": {},
   "outputs": [
    {
     "name": "stdout",
     "output_type": "stream",
     "text": [
      "Total hits: 1892\n",
      "Hits per query: 4.73\n"
     ]
    }
   ],
   "source": [
    "from collections import defaultdict\n",
    "specs_filtered = specs_filtered.reset_index(drop=True)\n",
    "mols = specs_filtered.morgan_fp_r2_b2048.tolist()\n",
    "matches = defaultdict(int)\n",
    "\n",
    "for query in malaria_box.morgan_fp_r2_b2048:\n",
    " dice_sim = DataStructs.BulkDiceSimilarity(query, mols)\n",
    " matches.update({\n",
    "    idx : max(sim, matches[idx]) for idx, sim in enumerate(dice_sim) if sim >= 0.65\n",
    " })\n",
    "\n",
    "print(f\"Total hits: {len(matches)}\")\n",
    "print(f\"Hits per query: {len(matches) / malaria_box.shape[0]}\")"
   ]
  },
  {
   "cell_type": "code",
   "execution_count": 63,
   "metadata": {},
   "outputs": [],
   "source": [
    "import time\n",
    "start = time.time()\n",
    "\n",
    "brute_force_matches = []\n",
    "budget = 1000\n",
    "for idx, sim in matches.items():\n",
    "    if len(brute_force_matches) <= budget:\n",
    "        brute_force_matches.append((sim, idx))\n",
    "    else:\n",
    "        min_tm_idx = len(brute_force_matches)\n",
    "        min_sim = sim\n",
    "        for tm_idx, (sim2, idx2) in enumerate(brute_force_matches):\n",
    "            if sim2 < min_sim:\n",
    "                min_sim = sim2\n",
    "                min_tm_idx = tm_idx\n",
    "        if min_tm_idx < len(brute_force_matches):\n",
    "            brute_force_matches[min_tm_idx] = (sim, idx)"
   ]
  },
  {
   "cell_type": "code",
   "execution_count": 64,
   "metadata": {},
   "outputs": [
    {
     "name": "stdout",
     "output_type": "stream",
     "text": [
      "time elapsed of brute force: 8.065440893173218.\n"
     ]
    }
   ],
   "source": [
    "top_matches = [idx for sim, idx in brute_force_matches]\n",
    "top_matches\n",
    "\n",
    "end = time.time()\n",
    "\n",
    "elapsed_time = end - start\n",
    "print(f\"time elapsed of brute force: {elapsed_time}.\")"
   ]
  },
  {
   "cell_type": "markdown",
   "metadata": {},
   "source": [
    "To save our top hits, we can run the following code blocks."
   ]
  },
  {
   "cell_type": "code",
   "execution_count": 65,
   "metadata": {},
   "outputs": [],
   "source": [
    "specs_hits_to_malaria_box = specs_filtered.filter(items=top_matches, axis=0)"
   ]
  },
  {
   "cell_type": "code",
   "execution_count": 66,
   "metadata": {},
   "outputs": [],
   "source": [
    "specs_hits_to_malaria_box.to_csv(\"specs_hits_to_malaria_box.csv\", columns=[\"PUBCHEM_SUBSTANCE_ID\", \"smiles\"], index=False)"
   ]
  },
  {
   "cell_type": "markdown",
   "metadata": {},
   "source": [
    "### Exercise 3: Being an Intrepid Programmer!\n",
    "\n",
    "The brute-force implementation is really slow when the number of entries in `matches` greatly exceeds the `budget`. It is also prohibitively memory-intensive if our `budget` is large.\n",
    "\n",
    "Many programmers have had to deal with similar problems, and have developed methods or libraries to deal with their problems. We can take advantage of this be exploring well-known libraries available in our programming language's ecosystem. To improve our implementation, we can use the `heapq` library: https://docs.python.org/3/library/heapq.html\n",
    "\n",
    "1. Summarize what the heapq library accomplishes. What are 3 methods available in the library? What are the performance considerations (e.g., Big Oh) of these methods? Take an example code segment from the documentation page and explain what it is doing. \n",
    "2. Use `heapq` as an alternative method to sample the top 1000 hits.\n",
    "3. Compare runtime complexity and memory complexity of the brute-force implementation and your `heapq` implementation.\n",
    "4. Are the top 1000 compounds of your implementation the same as the top 1000 compounds from the brute-force implementation?"
   ]
  },
  {
   "cell_type": "markdown",
   "metadata": {},
   "source": [
    "### Student Solution to Exercise 3\n",
    "\n",
    "Heapq allows us to easily implement the heapsort algorithm. 3 methods in this library are heappush, heappop, and heapify. Heapsort has O(nlogn) time complexity in the worst case and O(1) space complexity as an in-place sorting algorithm. This is much more efficient than the brute force method used in virtual screening. \n",
    "\n",
    "\n",
    "In this example code from the documentation page: a function called heaptsort() is created with one iterable paraeter (such as a list). A heap is initialized as an empty list, and the function iterates through the passed in argument to push each value into the heap. It will then pop the last item in the list, and return this as a min heap (where the root node holds the smallest value). The code then implements a test case:\n",
    "\n",
    "def heapsort(iterable):<br>\n",
    "    <br>&emsp;   h = []\n",
    "    <br>&emsp;&emsp;    for value in iterable:\n",
    "    <br>&emsp;&emsp;&emsp;            heappush(h, value)\n",
    "    <br>&emsp;    return [heappop(h) for i in range(len(h))]\n",
    "\n",
    "heapsort([1, 3, 5, 7, 9, 2, 4, 6, 8, 0])<br>\n",
    "[0, 1, 2, 3, 4, 5, 6, 7, 8, 9]\n"
   ]
  },
  {
   "cell_type": "code",
   "execution_count": 67,
   "metadata": {},
   "outputs": [
    {
     "name": "stdout",
     "output_type": "stream",
     "text": [
      "time elapsed of brute force: 8.065440893173218.\n",
      "time elapsed of heapsort: 0.004621982574462891.\n"
     ]
    },
    {
     "data": {
      "text/plain": [
       "False"
      ]
     },
     "execution_count": 67,
     "metadata": {},
     "output_type": "execute_result"
    }
   ],
   "source": [
    "import heapq #heapsort = O(nlogn) \n",
    "budget = 1000\n",
    "# TODO: Student to implement solution\n",
    "\n",
    "start2 = time.time()\n",
    "heap = [] #Heap property: Top of heap = max similiarity we want, but python implements min heap. We want max heap.\n",
    "for idx, sim in matches.items(): #This is O(n).\n",
    "    heapq.heappush(heap, (-1 * sim, idx)) #-1 converts the min heap to max heap. This line is O(logn). \n",
    "\n",
    "top_matches_heap =  []\n",
    "for i in range(budget):\n",
    "    top_matches_heap.append(heapq.heappop(heap)[1]) #this line is O(1). \n",
    "\n",
    "#Relevant interview question. Heapsort library is typically more accepted in technical interview rather than quick/mergesort. \n",
    "#However, expectations are a little higher now a days...\"Do heapsort that takes least amount of memory. Optimize heapsort in any way. Hint: Use QuickSelect\".\n",
    "\n",
    "end2 = time.time()\n",
    "\n",
    "elapsed_time2 = end2 - start2\n",
    "print(f\"time elapsed of brute force: {elapsed_time}.\")\n",
    "print(f\"time elapsed of heapsort: {elapsed_time2}.\")\n",
    "top_matches_heap[:1000] == top_matches[:1000]"
   ]
  },
  {
   "cell_type": "markdown",
   "metadata": {},
   "source": [
    "### Bonus Exercise: Quickselect\n",
    "\n",
    "There is an algorithm, Quickselect, that we can modify to achieve the optimal runtime complexity and space complexity. Explain the Quickselect algorithm, what runtime and space Big Oh complexity we can achieve, and then implement a function that uses Quickselect to sample the top 1000 hits."
   ]
  },
  {
   "cell_type": "markdown",
   "metadata": {},
   "source": [
    "### Student Solution to Bonus Exercise\n",
    "\n",
    "Provide your solution to the above exercise in this cell and/or immediately following cells."
   ]
  },
  {
   "cell_type": "markdown",
   "metadata": {},
   "source": [
    "## Retrospective\n",
    "\n",
    "We only needed at least one known active molecule for antimalarial activity to enable ultra-fast screening via similarity search. However, even with a liberal similarity threshold, we only retained 1892 molecules as hits against the Malaria Box compounds. A starting library of over 212K small molecules seems much smaller once we realize how few hits might result after application of property, substructure, and similarity filters.\n",
    "\n",
    "Lastly, chemical similarity searching alone is not sufficient – it does not guarantee equivalent biological effect. In particular, activity cliffs refer to minor changes between two molecular structures that are associated with large differences in function. We'll revisit this point later in the course. \n",
    "\n",
    "Note: The numbers in the figure below represent a ballpark approximation of the actual amount of remaining compounds from running this lab.\n",
    "\n",
    "![UN12](./figures/L01_UN12_Flynn.svg)"
   ]
  },
  {
   "cell_type": "markdown",
   "metadata": {},
   "source": [
    "### Exercise 4: How could we improve?\n",
    "\n",
    "As we saw in lecture, many problems have overlapping solution sets. Consulting external resources gives us ideas on how to improve. Pick one of the following papers to read and provide a half-page summary on what lessons from the paper could be applicable to our problem.\n",
    "\n",
    "- Roy, K.K. (2017). Targeting the active sites of malarial proteases for antimalarial drug discovery: approaches, progress and challenges. International Journal of Antimicrobial Agents, 50 (3): 287-302\n",
    "- Shibeshi, M.A., Kifle, Z.D., & Atnafie, S.A. (2020). Antimalarial Drug Resistance and Novel Targets for Antimalarial Drug Discovery. Infection and drug resistance, 13, 4047–4060. https://doi.org/10.2147/IDR.S279433\n",
    "- Brenk, R., Schipani, A., James, D., Krasowski, A., Gilbert, I.H., Frearson, J., & Wyatt, P.G. (2008). Lessons learnt from assembling screening libraries for drug discovery for neglected diseases. Chem. Med. Chem., 3 (3): 435–444. https://doi.org/10.1002/cmdc.200700139\n",
    "- Walters, W.P., Stahl, M.T., Murcko, M.A. (1998). Virtual Screening -- An Overview. Drug Discov. Today. 3: 160–178"
   ]
  },
  {
   "cell_type": "markdown",
   "metadata": {},
   "source": [
    "### Student Solution to Exercise 4\n",
    "\n",
    "The paper I have picked to read is the 2020 paper from Shibeshi et al. This paper is a review of different antimalarial drugs, the drugs’ targets, and different factors contributing towards anti-drug resistance (i.e. motivations behind developing better methods for drug discovery). \n",
    "\n",
    "A few factors contributing towards anti-drug resistance are the poor pharmacokinetic properties and poor-quality of antimalarial drugs that are currently on the market or had been used in the past for Malaria. Identifying these drugs and their pharmacokinetic properties may help us in filtering out highly similar matches to these less effective drugs in the virtual screening process. \n",
    "The paper then talks about drugs that had worked, but are either no longer effective or impose toxicity concerns in humans. Finding similar drugs to Primaquine, but with reduced toxicity, to combine with Chloroquine can aid us in finding new therapies against malaria. \n",
    "\n",
    "Along the lines of combining different compounds to yield more effective therapies, creating different features at the end of the virtual screening process (such as grouping drugs based on slow vs. medium vs. fast clearance rates) can result in creating new, but similar effective drug combination similar to different ACT's (Artemisinin combination therapies). The combination of these different drugs would match closely to different ACT’s. The different properties and therapeutic effects these ACT’s have can potentially be quantified and fed into a machine learning algorithm that would recommend different combinations of newly characterized compounds.\n",
    "\n",
    "We can also create different features based on whether or not a novel drug inhibits malaria at the pre-erthrocytic stage, blood-stage, or transmission-blocking stage; and via what mechanisms or targets at each stage (i.e. glucose transporters, protein kinases, protease enzymes in food vacuoles, ETCs, apicoplasts, proteins involved in transcription/translation. etc.). Finally, the discussion on different protein targets would help aid us in modeling the target and potential drugs in docking simulations. Drugs that are best to model at this time can be from the “Recent Achievement” sections of the paper where they list different drug candidates that are currently undergoing clinical trials. \n"
   ]
  },
  {
   "cell_type": "markdown",
   "metadata": {},
   "source": [
    "### Exercise 5: Exploration\n",
    "\n",
    "Find another compound data set different from the Malaria Box compounds. If you conduct a similarity search of the Specs compound library (post compound filtering) against your new data set, do you get any hits? Do you get more or less hits (total and per query) compared to our reference against the Malaria Box compounds? Describe the data set you chose and its potential applications in two sentences or less."
   ]
  },
  {
   "cell_type": "markdown",
   "metadata": {},
   "source": [
    "### Student Solution to Exercise 5\n",
    "\n",
    "My chosen anti-chicken-pox compound box comprises of 8 well defined molecules (a much smaller set than the 400 found in the anti-Malaria box), and results in a smaller hit rate than using the anti-malaria compound box as expected. My chosen anti-chicken pox dataset from https://www.ncbi.nlm.nih.gov/books/NBK47401/ is well defined with different string representations of each molecule and their chemical properties; and although the dataset is small, it makes the search for new anti-chicken-pox drugs much easier to identify as there is still no cure for it and its related diseases such as herpes simplex virus type 1 and 2. "
   ]
  },
  {
   "cell_type": "code",
   "execution_count": 58,
   "metadata": {},
   "outputs": [
    {
     "name": "stdout",
     "output_type": "stream",
     "text": [
      "Total hits: 24\n",
      "Hits per query: 3.0\n"
     ]
    }
   ],
   "source": [
    "#Source of dataset found here: https://www.ncbi.nlm.nih.gov/books/NBK47401/ \n",
    "ChickenPox_box = pd.read_csv(\"data/ChickenPoxBox8compounds.csv\", usecols=[\"cmpdname\", \"canonicalsmiles\"])\n",
    "PandasTools.AddMoleculeColumnToFrame(ChickenPox_box, 'canonicalsmiles', 'mol')\n",
    "ChickenPox_box[\"morgan_fp_r2_b2048\"] = ChickenPox_box[\"mol\"].apply(compute_fingerprint, r=2, nBits=2048)\n",
    "ChickenPox_box\n",
    "\n",
    "from collections import defaultdict\n",
    "specs_filtered = specs_filtered.reset_index(drop=True)\n",
    "mols = specs_filtered.morgan_fp_r2_b2048.tolist()\n",
    "matches = defaultdict(int)\n",
    "\n",
    "for query in ChickenPox_box.morgan_fp_r2_b2048:\n",
    " dice_sim = DataStructs.BulkDiceSimilarity(query, mols)\n",
    " matches.update({\n",
    "    idx : max(sim, matches[idx]) for idx, sim in enumerate(dice_sim) if sim >= 0.50 \n",
    "      #Previously sim >=0.65 gave 0 hits, 0.55 gave 1 hit per query, and 0.5 gives 3 hits per query. Have to be more liberal with smaller compound box.\n",
    "      #The smaller hit rate makes sense given that if there are less known molecules for our Specs to be compared to, there will be less chances/comparisons of finding similarities.\n",
    " })\n",
    "\n",
    "print(f\"Total hits: {len(matches)}\")\n",
    "print(f\"Hits per query: {len(matches) / ChickenPox_box.shape[0]}\")"
   ]
  }
 ],
 "metadata": {
  "kernelspec": {
   "display_name": "Python 3 (ipykernel)",
   "language": "python",
   "name": "python3"
  },
  "language_info": {
   "codemirror_mode": {
    "name": "ipython",
    "version": 3
   },
   "file_extension": ".py",
   "mimetype": "text/x-python",
   "name": "python",
   "nbconvert_exporter": "python",
   "pygments_lexer": "ipython3",
   "version": "3.12.2"
  }
 },
 "nbformat": 4,
 "nbformat_minor": 4
}
